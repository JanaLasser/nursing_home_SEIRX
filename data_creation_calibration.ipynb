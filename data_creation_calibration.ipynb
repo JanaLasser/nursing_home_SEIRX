{
 "cells": [
  {
   "cell_type": "markdown",
   "metadata": {},
   "source": [
    "# SEIRX model runs for contact weight calibration"
   ]
  },
  {
   "cell_type": "code",
   "execution_count": 1,
   "metadata": {},
   "outputs": [],
   "source": [
    "import networkx as nx\n",
    "import pandas as pd\n",
    "import numpy as np\n",
    "import matplotlib.pyplot as plt\n",
    "from os.path import join\n",
    "import json\n",
    "\n",
    "# parallelisation functionality\n",
    "from multiprocess import Pool\n",
    "import psutil\n",
    "from tqdm import tqdm\n",
    "\n",
    "# custom functionality\n",
    "from scseirx.model_nursing_home import SEIRX_nursing_home # agent-based simulation\n",
    "from scseirx import analysis_functions as af # custom analysis functions\n",
    "import calibration_functions as cf\n",
    "import analysis_functions as af"
   ]
  },
  {
   "cell_type": "markdown",
   "metadata": {},
   "source": [
    "Contacts of type intermediate and far have a reduced transmission risk as compared to household contacts. In this scenario, the weights that reduce the transmission risk for intermediate and far (in the publication called \"loose\") contacts are the only two free parameters. Here, we find the values for the intermediate and far contact weights that best fit the empirically observed outbreak data to calibrate the simulation.  \n",
    "\n",
    "**Note**: Over the course of the calibration it turned out that while the value for the far contact weight does converge, the value for the intermediate contact weight does not show any clear optimum, even for very large ensemble sizes (10000). This is most likely due to the fact that the contacts of type \"far\" by far outnumber contacts of type \"intermediate\". Therefore the weight of \"intermediate\" contacts does not significantly influence the outbreak dynamics in the homes. For the sake of simplicity, we therefore chose to set the intermediate contact weight to equal the far contact weight and calibrate only the far contact weight, wich we simply call \"contact weight\" in the following script."
   ]
  },
  {
   "cell_type": "markdown",
   "metadata": {},
   "source": [
    "## Parameters"
   ]
  },
  {
   "cell_type": "markdown",
   "metadata": {},
   "source": [
    "Parameters for the calibration simulation are split into \"simulation parameters\" and \"measures\", stored in separate JSON files.  \n",
    "\n",
    "\"Simulation parameters\" hold information related to the epidemiological characteristics of the virus (SARS-CoV-2), which are not changed in this study. This also includes the household transmission risk $\\beta$, that has been calibrated separately in the script ```calibrate_household_transmissions.ipynb```.  \n",
    "\n",
    "\"Measures\" hold information about the measures implemented in the homes at the point in time at which the empirical data, that is used for the calibration, was collected. These measures include\n",
    "* The mode of testing (diagnostic)\n",
    "* The test technology used for diagnostic testing (PCR)\n",
    "* The result turnover time of the test technology (2 days)\n",
    "* If there was follow-up testing after a positive result (no)\n",
    "* It there was \"liberating  testing\", i.e. if a quarantined person that returned a negative test result was released from quarantine (no).\n",
    "* The types of contacts that were considered to be of \"type 1\" and that would be quarantined if a positive case with a type 1 contact was detected (\"close\" and \"intermediate\")\n",
    "* The duration of quarantine (10 days)\n",
    "* Whether or not employees and residents wore masks (they didn't)\n",
    "* The assumed mask filter efficiency (not relevant here because nobody is wearing masks in these simulations)\n",
    "* If there was regular room ventilation (there wasn't)"
   ]
  },
  {
   "cell_type": "code",
   "execution_count": 2,
   "metadata": {},
   "outputs": [],
   "source": [
    "with open('params/calibration_simulation_parameters.json') as json_file:\n",
    "    simulation_params = json.load(json_file)\n",
    "    \n",
    "with open('params/calibration_measures.json') as json_file:\n",
    "    measures = json.load(json_file)\n"
   ]
  },
  {
   "cell_type": "code",
   "execution_count": 3,
   "metadata": {},
   "outputs": [
    {
     "data": {
      "text/plain": [
       "{'verbosity': 0,\n",
       " 'base_transmission_risk': 0.073033,\n",
       " 'subclinical_modifier': 0.6,\n",
       " 'exposure_duration': [5.0, 1.9],\n",
       " 'time_until_symptoms': [6.4, 0.8],\n",
       " 'infection_duration': [10.91, 3.95],\n",
       " 'employee_index_probability': 0,\n",
       " 'resident_index_probability': 0,\n",
       " 'age_transmission_discount': {'slope': 0, 'intercept': 1},\n",
       " 'age_symptom_modification': {'slope': 0.009515, 'intercept': -0.116}}"
      ]
     },
     "execution_count": 3,
     "metadata": {},
     "output_type": "execute_result"
    }
   ],
   "source": [
    "simulation_params"
   ]
  },
  {
   "cell_type": "code",
   "execution_count": 4,
   "metadata": {},
   "outputs": [
    {
     "data": {
      "text/plain": [
       "{'testing': 'diagnostic',\n",
       " 'preventive_screening_test_type': None,\n",
       " 'diagnostic_test_type': 'two_day_PCR',\n",
       " 'K1_contact_types': ['close', 'intermediate'],\n",
       " 'quarantine_duration': 10,\n",
       " 'employee_mask': False,\n",
       " 'resident_mask': False,\n",
       " 'employee_screening_interval': None,\n",
       " 'resident_screening_interval': None,\n",
       " 'follow_up_testing_interval': None,\n",
       " 'liberating_testing': False,\n",
       " 'transmission_risk_ventilation_modifier': 1,\n",
       " 'mask_filter_efficiency': {'exhale': 0.5, 'inhale': 0.7}}"
      ]
     },
     "execution_count": 4,
     "metadata": {},
     "output_type": "execute_result"
    }
   ],
   "source": [
    "measures"
   ]
  },
  {
   "cell_type": "code",
   "execution_count": 5,
   "metadata": {},
   "outputs": [],
   "source": [
    "# paths for data I/O\n",
    "contact_network_src = '../data/contact_networks'\n",
    "emp_data_src = '../data/outbreaks'\n",
    "ensmbl_dst = '../data/calibration_results/ensembles'\n",
    "\n",
    "# number of days used to compare the simulated and empirical data and\n",
    "# calculate the error metric. This value is chosen to be the duration\n",
    "# (in days) of the longest of the observed outbreaks.\n",
    "comp_period = 27"
   ]
  },
  {
   "cell_type": "markdown",
   "metadata": {},
   "source": [
    "## Simulation function"
   ]
  },
  {
   "cell_type": "code",
   "execution_count": 6,
   "metadata": {},
   "outputs": [],
   "source": [
    "def run(param_list):\n",
    "    '''\n",
    "    Runs an ensemble of simulations and collects observable statistics. To be \n",
    "    run in parallel on many workers. Note: I/O paths hare hard coded here, \n",
    "    because I only want to pass the parameter values that are being screened in \n",
    "    the simulation run to the function via the parallel processing interface and\n",
    "    nothing else.\n",
    "    \n",
    "    Parameters:\n",
    "    -----------\n",
    "    param_list : iterable\n",
    "        Iterable that contains the values for the parameters \n",
    "        intermediate_contact_weight and far_contact_weight as well as the \n",
    "        number of runs that are passed to the simulation.\n",
    "\n",
    "    Returns:\n",
    "    --------\n",
    "    row : dictionary\n",
    "        Dictionary of the ensemble statistics of the observables.\n",
    "    '''\n",
    "\n",
    "    # extract the simulation parameters from the parameter list: the contact\n",
    "    # weight is calubrated, N_runs is chosen such that the statistics of the\n",
    "    # ensembles converge\n",
    "    contact_weight, N_runs = param_list\n",
    "\n",
    "    # run the ensemble with the given simulation parameters \n",
    "    ensemble_results = cf.run_ensemble(N_runs, contact_weight, measures,\n",
    "                        simulation_params, contact_network_src, emp_data_src, \n",
    "                        comp_period, ensmbl_dst)\n",
    "\n",
    "    # calculate the ensemble statistics\n",
    "    row = cf.evaluate_ensemble(ensemble_results, contact_weight)\n",
    "\n",
    "    return row"
   ]
  },
  {
   "cell_type": "markdown",
   "metadata": {},
   "source": [
    "## Coarse parameter space screen"
   ]
  },
  {
   "cell_type": "markdown",
   "metadata": {},
   "source": [
    "First, we do a coarse screen of the full parameter range that makes sense, i.e. contact weights that are zero or above and satisfy contact weight < household contact weight.\n",
    "\n",
    "The household contact weight is 1 by default. If the contact weight is 0, that means that there are no transmissions possible through a contact of that type (intermediate or far). We screen the weight in increments of 0.1.  \n",
    "\n",
    "**Note:** Initially, we calibrated the weights for intermediate and far contacts separately, but contact weights for intermediate contacts did not converge. We therefore decided to combine the two contact category into a single one that is then calibrated."
   ]
  },
  {
   "cell_type": "markdown",
   "metadata": {},
   "source": [
    "### Screening parameters"
   ]
  },
  {
   "cell_type": "markdown",
   "metadata": {},
   "source": [
    "Coarse grid of parameter values that will be screened:"
   ]
  },
  {
   "cell_type": "code",
   "execution_count": 7,
   "metadata": {},
   "outputs": [
    {
     "name": "stdout",
     "output_type": "stream",
     "text": [
      "there are 11 parameter combinations\n"
     ]
    }
   ],
   "source": [
    "# the contact weight is the modifier by which the base transmission risk (for\n",
    "# household transmissions) is multiplied for contacts of type \"intermediate\" \n",
    "# and of type \"far\"\n",
    "contact_weights = [0.0, 0.1, 0.2, 0.3, 0.4, 0.5, 0.6, 0.7, 0.8, 0.9, 1.0]\n",
    "# number of runs per ensemble\n",
    "N_runs_coarse = 1000\n",
    "screening_params = [(i, N_runs_coarse) for i in contact_weights]\n",
    "\n",
    "print('there are {} parameter combinations'.format(len(screening_params)))"
   ]
  },
  {
   "cell_type": "markdown",
   "metadata": {},
   "source": [
    "Each parameter value is simulated for an ensemble of ```N_runs_coarse``` simulation runs. Ensemble statistics are independent of other ensembles, therefore ensembles can be simulated in parallel to save time and use all available CPU cores."
   ]
  },
  {
   "cell_type": "markdown",
   "metadata": {},
   "source": [
    "### Run simulations"
   ]
  },
  {
   "cell_type": "code",
   "execution_count": 8,
   "metadata": {},
   "outputs": [
    {
     "name": "stderr",
     "output_type": "stream",
     "text": [
      "100%|██████████| 11/11 [05:31<00:00, 30.17s/it]"
     ]
    },
    {
     "name": "stdout",
     "output_type": "stream",
     "text": [
      "CPU times: user 152 ms, sys: 70.4 ms, total: 223 ms\n",
      "Wall time: 5min 31s\n"
     ]
    },
    {
     "name": "stderr",
     "output_type": "stream",
     "text": [
      "\n"
     ]
    }
   ],
   "source": [
    "%%time\n",
    "# leave 2 cores to do other stuff\n",
    "number_of_cores = psutil.cpu_count(logical=True) - 2 \n",
    "pool = Pool(number_of_cores)\n",
    "\n",
    "rows = []\n",
    "for row in tqdm(pool.imap_unordered(func=run, iterable=screening_params),\n",
    "                total=len(screening_params)):\n",
    "        rows.append(row)\n",
    "pool.close()\n",
    "\n",
    "# format and dump the results to disk\n",
    "dst = '../data/calibration_results'\n",
    "results = pd.DataFrame()\n",
    "for row in rows:\n",
    "    results = results.append(row, ignore_index=True)\n",
    "    \n",
    "results.reset_index()\n",
    "index_cols = ['contact_weight']\n",
    "other_cols = [c for c in results.columns if c not in index_cols]\n",
    "results = results[index_cols + other_cols]\n",
    "\n",
    "results.to_csv(join(dst,'calibration_results_coarse_N{}.csv'.format(N_runs_coarse)),\n",
    "               index=False)"
   ]
  },
  {
   "cell_type": "markdown",
   "metadata": {},
   "source": [
    "### Assess results"
   ]
  },
  {
   "cell_type": "markdown",
   "metadata": {},
   "source": [
    "Find the contact weight that minimizes the distance to the empirically observed outbreak characteristics."
   ]
  },
  {
   "cell_type": "code",
   "execution_count": 9,
   "metadata": {},
   "outputs": [
    {
     "name": "stdout",
     "output_type": "stream",
     "text": [
      "best contact weight: 0.1\n"
     ]
    }
   ],
   "source": [
    "results = pd.read_csv(join(dst,'calibration_results_coarse_N{}.csv'.format(N_runs_coarse)))\n",
    "results['infected_employee_distance_total_mean'] = \\\n",
    "    results[['infected_employee_distance_outbreak_{}_mean'.format(i) for i in range(1, 5)]].mean(axis=1)\n",
    "results['infected_employee_distance_total_std'] = \\\n",
    "    results[['infected_employee_distance_outbreak_{}_mean'.format(i) for i in range(1, 5)]].std(axis=1)\n",
    "\n",
    "results['infected_resident_distance_total_mean'] = \\\n",
    "    results[['infected_resident_distance_outbreak_{}_mean'.format(i) for i in range(1, 5)]].mean(axis=1)\n",
    "results['infected_resident_distance_total_std'] = \\\n",
    "    results[['infected_resident_distance_outbreak_{}_mean'.format(i) for i in range(1, 5)]].std(axis=1)\n",
    "\n",
    "results['distance_total'] = results['infected_employee_distance_total_mean'] +\\\n",
    "                            results['infected_resident_distance_total_mean']\n",
    "results['distance_total_std'] = np.sqrt(results['infected_employee_distance_total_std']**2 + \\\n",
    "                                        results['infected_resident_distance_total_std'] **2)\n",
    "\n",
    "best_weight = results.loc[\\\n",
    "    results['distance_total'].idxmin()]['contact_weight']\n",
    "\n",
    "print('best contact weight: {}'.format(best_weight))"
   ]
  },
  {
   "cell_type": "markdown",
   "metadata": {},
   "source": [
    "### Visualize error terms"
   ]
  },
  {
   "cell_type": "markdown",
   "metadata": {},
   "source": [
    "To get a better understanding of the error term landscape, we visualize the different contributions (employee, resident) to the total error term:"
   ]
  },
  {
   "cell_type": "code",
   "execution_count": 10,
   "metadata": {},
   "outputs": [],
   "source": [
    "results = results.set_index(['contact_weight'])"
   ]
  },
  {
   "cell_type": "code",
   "execution_count": 11,
   "metadata": {},
   "outputs": [
    {
     "data": {
      "image/png": "[encoded data removed]",
      "text/plain": [
       "<Figure size 576x360 with 1 Axes>"
      ]
     },
     "metadata": {
      "needs_background": "light"
     },
     "output_type": "display_data"
    }
   ],
   "source": [
    "fig, ax = plt.subplots(figsize=(8, 5))\n",
    "af.plot_errors(ax, results, best_weight, xmin=0.05)"
   ]
  },
  {
   "cell_type": "markdown",
   "metadata": {},
   "source": [
    "## Fine parameter space screen"
   ]
  },
  {
   "cell_type": "markdown",
   "metadata": {},
   "source": [
    "### Screening parameters"
   ]
  },
  {
   "cell_type": "markdown",
   "metadata": {},
   "source": [
    "Starting from the best parameter value found in the coarse sampling, we sample a finer grid of parameter values in the neighbourhood of the optimal value determined in the coarse scan. Here, we sample parameter values in increments of 0.01."
   ]
  },
  {
   "cell_type": "code",
   "execution_count": 12,
   "metadata": {},
   "outputs": [
    {
     "name": "stdout",
     "output_type": "stream",
     "text": [
      "there are 14 parameter combinations\n"
     ]
    }
   ],
   "source": [
    "contact_weights = [0.11, 0.12, 0.13, 0.14, 0.15, 0.16, 0.17,\n",
    "                    0.18, 0.19, 0.21, 0.22, 0.23, 0.24, 0.25]\n",
    "\n",
    "# the ensemble size is increased to reduce variance around the ensemble error\n",
    "# metric means\n",
    "N_runs_fine = 5000\n",
    "\n",
    "screening_params = [(i, N_runs_fine) for i in contact_weights]\n",
    "\n",
    "print('there are {} parameter combinations'.format(len(screening_params)))"
   ]
  },
  {
   "cell_type": "markdown",
   "metadata": {},
   "source": [
    "### Run simulations"
   ]
  },
  {
   "cell_type": "code",
   "execution_count": 13,
   "metadata": {},
   "outputs": [
    {
     "name": "stderr",
     "output_type": "stream",
     "text": [
      "100%|██████████| 14/14 [31:09<00:00, 133.51s/it]  "
     ]
    },
    {
     "name": "stdout",
     "output_type": "stream",
     "text": [
      "CPU times: user 226 ms, sys: 178 ms, total: 404 ms\n",
      "Wall time: 31min 9s\n"
     ]
    },
    {
     "name": "stderr",
     "output_type": "stream",
     "text": [
      "\n"
     ]
    }
   ],
   "source": [
    "%%time\n",
    "number_of_cores = psutil.cpu_count(logical=True) - 2 \n",
    "pool = Pool(number_of_cores)\n",
    "\n",
    "rows = []\n",
    "for row in tqdm(pool.imap_unordered(func=run, iterable=screening_params),\n",
    "                total=len(screening_params)):\n",
    "        rows.append(row)\n",
    "pool.close()\n",
    "\n",
    "dst = '../data/calibration_results'\n",
    "results = pd.DataFrame()\n",
    "for row in rows:\n",
    "    results = results.append(row, ignore_index=True)\n",
    "    \n",
    "results.reset_index()\n",
    "index_cols = ['contact_weight']\n",
    "other_cols = [c for c in results.columns if c not in index_cols]\n",
    "results = results[index_cols + other_cols]\n",
    "\n",
    "results.to_csv(join(dst,'calibration_results_fine_N{}.csv'.format(N_runs_fine)),\n",
    "               index=False)"
   ]
  },
  {
   "cell_type": "markdown",
   "metadata": {},
   "source": [
    "### Assess results"
   ]
  },
  {
   "cell_type": "code",
   "execution_count": 14,
   "metadata": {},
   "outputs": [
    {
     "name": "stdout",
     "output_type": "stream",
     "text": [
      "best contact weight: 0.13\n"
     ]
    }
   ],
   "source": [
    "dst = '../data/calibration_results'\n",
    "\n",
    "results1 = pd.read_csv(join(dst,'calibration_results_fine_N{}.csv'.format(N_runs_fine)))\n",
    "results2 = pd.read_csv(join(dst,'calibration_results_coarse_N{}.csv'.format(N_runs_coarse)))\n",
    "results = pd.concat([results1, results2])\n",
    "results = results.sort_values(by='contact_weight')\n",
    "results = results.reset_index(drop=True)\n",
    "\n",
    "results['infected_employee_distance_total_mean'] = \\\n",
    "    results[['infected_employee_distance_outbreak_{}_mean'.format(i) for i in range(1, 5)]].mean(axis=1)\n",
    "results['infected_employee_distance_total_std'] = \\\n",
    "    results[['infected_employee_distance_outbreak_{}_mean'.format(i) for i in range(1, 5)]].std(axis=1)\n",
    "\n",
    "results['infected_resident_distance_total_mean'] = \\\n",
    "    results[['infected_resident_distance_outbreak_{}_mean'.format(i) for i in range(1, 5)]].mean(axis=1)\n",
    "results['infected_resident_distance_total_std'] = \\\n",
    "    results[['infected_resident_distance_outbreak_{}_mean'.format(i) for i in range(1, 5)]].std(axis=1)\n",
    "\n",
    "results['distance_total'] = results['infected_employee_distance_total_mean'] +\\\n",
    "                            results['infected_resident_distance_total_mean']\n",
    "results['distance_total_std'] = np.sqrt(results['infected_employee_distance_total_std']**2 + \\\n",
    "                                        results['infected_resident_distance_total_std'] **2)\n",
    "\n",
    "best_weight = results.loc[\\\n",
    "    results['distance_total'].idxmin()]['contact_weight']\n",
    "\n",
    "print('best contact weight: {}'.format(best_weight))"
   ]
  },
  {
   "cell_type": "markdown",
   "metadata": {},
   "source": [
    "### Visualize error terms"
   ]
  },
  {
   "cell_type": "code",
   "execution_count": 15,
   "metadata": {},
   "outputs": [],
   "source": [
    "results = results.set_index(['contact_weight'])"
   ]
  },
  {
   "cell_type": "code",
   "execution_count": 16,
   "metadata": {},
   "outputs": [
    {
     "data": {
      "image/png": "[encoded data removed]",
      "text/plain": [
       "<Figure size 576x360 with 1 Axes>"
      ]
     },
     "metadata": {
      "needs_background": "light"
     },
     "output_type": "display_data"
    }
   ],
   "source": [
    "fig, ax = plt.subplots(figsize=(8, 5))\n",
    "af.plot_errors(ax, results, best_weight)"
   ]
  }
 ],
 "metadata": {
  "kernelspec": {
   "display_name": "Python 3",
   "language": "python",
   "name": "python3"
  },
  "language_info": {
   "codemirror_mode": {
    "name": "ipython",
    "version": 3
   },
   "file_extension": ".py",
   "mimetype": "text/x-python",
   "name": "python",
   "nbconvert_exporter": "python",
   "pygments_lexer": "ipython3",
   "version": "3.8.8"
  }
 },
 "nbformat": 4,
 "nbformat_minor": 4
}
