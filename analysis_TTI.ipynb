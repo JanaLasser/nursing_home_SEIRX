{
 "cells": [
  {
   "cell_type": "markdown",
   "id": "processed-orleans",
   "metadata": {},
   "source": [
    "# Analysis of SEIRX model runs for a TTI-only scenario"
   ]
  },
  {
   "cell_type": "code",
   "execution_count": 1,
   "id": "secondary-blackberry",
   "metadata": {},
   "outputs": [],
   "source": [
    "import pandas as pd\n",
    "import matplotlib.pyplot as plt\n",
    "import numpy as np\n",
    "from os.path import join\n",
    "import matplotlib.gridspec as gridspec\n",
    "import matplotlib as mpl"
   ]
  },
  {
   "cell_type": "code",
   "execution_count": 2,
   "id": "bright-basic",
   "metadata": {},
   "outputs": [],
   "source": [
    "res_path = '../data/simulation_results'\n",
    "dst_path = '../plots/'\n",
    "sim_name = 'simulations_TTI'"
   ]
  },
  {
   "cell_type": "markdown",
   "id": "close-pavilion",
   "metadata": {},
   "source": [
    "## B.1.1.7"
   ]
  },
  {
   "cell_type": "code",
   "execution_count": 3,
   "id": "allied-madagascar",
   "metadata": {},
   "outputs": [],
   "source": [
    "N_runs = 5000\n",
    "data = pd.read_csv(join(res_path,'{}_UK_variant_{}.csv'.format(sim_name, N_runs)))\n",
    "data.index = data['index_case']"
   ]
  },
  {
   "cell_type": "markdown",
   "id": "adult-davis",
   "metadata": {},
   "source": [
    "### Transmissions from the index case"
   ]
  },
  {
   "cell_type": "code",
   "execution_count": 4,
   "id": "laden-colony",
   "metadata": {},
   "outputs": [
    {
     "data": {
      "text/plain": [
       "index_case\n",
       "resident    1.9480\n",
       "employee    1.9744\n",
       "Name: R0_mean, dtype: float64"
      ]
     },
     "execution_count": 4,
     "metadata": {},
     "output_type": "execute_result"
    }
   ],
   "source": [
    "data['R0_mean']"
   ]
  },
  {
   "cell_type": "code",
   "execution_count": 5,
   "id": "central-southwest",
   "metadata": {},
   "outputs": [
    {
     "data": {
      "text/plain": [
       "index_case\n",
       "resident    1.786934\n",
       "employee    1.705147\n",
       "Name: R0_std, dtype: float64"
      ]
     },
     "execution_count": 5,
     "metadata": {},
     "output_type": "execute_result"
    }
   ],
   "source": [
    "data['R0_std']"
   ]
  },
  {
   "cell_type": "markdown",
   "id": "republican-insert",
   "metadata": {},
   "source": [
    "### Outbreak sizes"
   ]
  },
  {
   "cell_type": "markdown",
   "id": "great-canada",
   "metadata": {},
   "source": [
    "**Note**: for resident index cases, one needs to be subtracted to correct for the index case"
   ]
  },
  {
   "cell_type": "code",
   "execution_count": 6,
   "id": "neutral-american",
   "metadata": {},
   "outputs": [
    {
     "data": {
      "text/plain": [
       "index_case\n",
       "resident    14.8500\n",
       "employee    15.1078\n",
       "Name: infected_residents_mean, dtype: float64"
      ]
     },
     "execution_count": 6,
     "metadata": {},
     "output_type": "execute_result"
    }
   ],
   "source": [
    "data['infected_residents_mean']"
   ]
  },
  {
   "cell_type": "code",
   "execution_count": 7,
   "id": "fourth-decline",
   "metadata": {},
   "outputs": [
    {
     "data": {
      "text/plain": [
       "index_case\n",
       "resident    11.974748\n",
       "employee    12.091444\n",
       "Name: infected_residents_std, dtype: float64"
      ]
     },
     "execution_count": 7,
     "metadata": {},
     "output_type": "execute_result"
    }
   ],
   "source": [
    "data['infected_residents_std']"
   ]
  },
  {
   "cell_type": "code",
   "execution_count": 8,
   "id": "matched-audio",
   "metadata": {},
   "outputs": [
    {
     "data": {
      "text/plain": [
       "index_case\n",
       "resident    1.0\n",
       "employee    0.0\n",
       "Name: infected_residents_0.10, dtype: float64"
      ]
     },
     "execution_count": 8,
     "metadata": {},
     "output_type": "execute_result"
    }
   ],
   "source": [
    "data['infected_residents_0.10']"
   ]
  },
  {
   "cell_type": "code",
   "execution_count": 9,
   "id": "fatty-tulsa",
   "metadata": {},
   "outputs": [
    {
     "data": {
      "text/plain": [
       "index_case\n",
       "resident    18.0\n",
       "employee    20.0\n",
       "Name: infected_residents_median, dtype: float64"
      ]
     },
     "execution_count": 9,
     "metadata": {},
     "output_type": "execute_result"
    }
   ],
   "source": [
    "data['infected_residents_median']"
   ]
  },
  {
   "cell_type": "code",
   "execution_count": 10,
   "id": "confirmed-visibility",
   "metadata": {},
   "outputs": [
    {
     "data": {
      "text/plain": [
       "index_case\n",
       "resident    29.0\n",
       "employee    29.0\n",
       "Name: infected_residents_0.90, dtype: float64"
      ]
     },
     "execution_count": 10,
     "metadata": {},
     "output_type": "execute_result"
    }
   ],
   "source": [
    "data['infected_residents_0.90']"
   ]
  },
  {
   "cell_type": "markdown",
   "id": "measured-eugene",
   "metadata": {},
   "source": [
    "## Wild type"
   ]
  },
  {
   "cell_type": "code",
   "execution_count": 11,
   "id": "determined-boundary",
   "metadata": {},
   "outputs": [],
   "source": [
    "N_runs = 5000\n",
    "data = pd.read_csv(join(res_path,'{}_{}.csv'.format(sim_name, N_runs)))\n",
    "data.index = data['index_case']"
   ]
  },
  {
   "cell_type": "markdown",
   "id": "sound-hamilton",
   "metadata": {},
   "source": [
    "### Transmissions from the index case"
   ]
  },
  {
   "cell_type": "code",
   "execution_count": 12,
   "id": "flying-basis",
   "metadata": {},
   "outputs": [
    {
     "data": {
      "text/plain": [
       "index_case\n",
       "resident    1.2700\n",
       "employee    1.3262\n",
       "Name: R0_mean, dtype: float64"
      ]
     },
     "execution_count": 12,
     "metadata": {},
     "output_type": "execute_result"
    }
   ],
   "source": [
    "data['R0_mean']"
   ]
  },
  {
   "cell_type": "code",
   "execution_count": 13,
   "id": "handy-taxation",
   "metadata": {},
   "outputs": [
    {
     "data": {
      "text/plain": [
       "index_case\n",
       "resident    1.358333\n",
       "employee    1.342294\n",
       "Name: R0_std, dtype: float64"
      ]
     },
     "execution_count": 13,
     "metadata": {},
     "output_type": "execute_result"
    }
   ],
   "source": [
    "data['R0_std']"
   ]
  },
  {
   "cell_type": "markdown",
   "id": "pressing-stock",
   "metadata": {},
   "source": [
    "### Outbreak sizes"
   ]
  },
  {
   "cell_type": "markdown",
   "id": "bulgarian-sheriff",
   "metadata": {},
   "source": [
    "**Note**: for resident index cases, one needs to be subtracted to correct for the index case"
   ]
  },
  {
   "cell_type": "code",
   "execution_count": 14,
   "id": "reflected-hopkins",
   "metadata": {},
   "outputs": [
    {
     "data": {
      "text/plain": [
       "index_case\n",
       "resident    6.4754\n",
       "employee    5.9364\n",
       "Name: infected_residents_mean, dtype: float64"
      ]
     },
     "execution_count": 14,
     "metadata": {},
     "output_type": "execute_result"
    }
   ],
   "source": [
    "data['infected_residents_mean']"
   ]
  },
  {
   "cell_type": "code",
   "execution_count": 15,
   "id": "thrown-istanbul",
   "metadata": {},
   "outputs": [
    {
     "data": {
      "text/plain": [
       "index_case\n",
       "resident    7.38151\n",
       "employee    7.70949\n",
       "Name: infected_residents_std, dtype: float64"
      ]
     },
     "execution_count": 15,
     "metadata": {},
     "output_type": "execute_result"
    }
   ],
   "source": [
    "data['infected_residents_std']"
   ]
  },
  {
   "cell_type": "code",
   "execution_count": 16,
   "id": "arranged-printer",
   "metadata": {},
   "outputs": [
    {
     "data": {
      "text/plain": [
       "index_case\n",
       "resident    1.0\n",
       "employee    0.0\n",
       "Name: infected_residents_0.10, dtype: float64"
      ]
     },
     "execution_count": 16,
     "metadata": {},
     "output_type": "execute_result"
    }
   ],
   "source": [
    "data['infected_residents_0.10']"
   ]
  },
  {
   "cell_type": "code",
   "execution_count": 17,
   "id": "descending-poland",
   "metadata": {},
   "outputs": [
    {
     "data": {
      "text/plain": [
       "index_case\n",
       "resident    2.0\n",
       "employee    2.0\n",
       "Name: infected_residents_median, dtype: float64"
      ]
     },
     "execution_count": 17,
     "metadata": {},
     "output_type": "execute_result"
    }
   ],
   "source": [
    "data['infected_residents_median']"
   ]
  },
  {
   "cell_type": "code",
   "execution_count": 18,
   "id": "boring-following",
   "metadata": {},
   "outputs": [
    {
     "data": {
      "text/plain": [
       "index_case\n",
       "resident    19.0\n",
       "employee    19.0\n",
       "Name: infected_residents_0.90, dtype: float64"
      ]
     },
     "execution_count": 18,
     "metadata": {},
     "output_type": "execute_result"
    }
   ],
   "source": [
    "data['infected_residents_0.90']"
   ]
  },
  {
   "cell_type": "markdown",
   "id": "accomplished-arrest",
   "metadata": {},
   "source": [
    "## B.1.1.7 & employee masks"
   ]
  },
  {
   "cell_type": "code",
   "execution_count": 19,
   "id": "familiar-executive",
   "metadata": {},
   "outputs": [],
   "source": [
    "N_runs = 5000\n",
    "data = pd.read_csv(join(res_path,'{}_masks_{}.csv'.format(sim_name, N_runs)))\n",
    "data.index = data['index_case']"
   ]
  },
  {
   "cell_type": "markdown",
   "id": "willing-trinidad",
   "metadata": {},
   "source": [
    "### Transmissions from the index case"
   ]
  },
  {
   "cell_type": "code",
   "execution_count": 20,
   "id": "minute-living",
   "metadata": {},
   "outputs": [
    {
     "data": {
      "text/plain": [
       "index_case\n",
       "employee    0.9088\n",
       "resident    1.7242\n",
       "Name: R0_mean, dtype: float64"
      ]
     },
     "execution_count": 20,
     "metadata": {},
     "output_type": "execute_result"
    }
   ],
   "source": [
    "data['R0_mean']"
   ]
  },
  {
   "cell_type": "code",
   "execution_count": 21,
   "id": "overall-failure",
   "metadata": {},
   "outputs": [
    {
     "data": {
      "text/plain": [
       "index_case\n",
       "employee    1.055796\n",
       "resident    1.665139\n",
       "Name: R0_std, dtype: float64"
      ]
     },
     "execution_count": 21,
     "metadata": {},
     "output_type": "execute_result"
    }
   ],
   "source": [
    "data['R0_std']"
   ]
  },
  {
   "cell_type": "markdown",
   "id": "latter-reliance",
   "metadata": {},
   "source": [
    "### Outbreak sizes"
   ]
  },
  {
   "cell_type": "markdown",
   "id": "built-length",
   "metadata": {},
   "source": [
    "**Note**: for resident index cases, one needs to be subtracted to correct for the index case"
   ]
  },
  {
   "cell_type": "code",
   "execution_count": 22,
   "id": "characteristic-signature",
   "metadata": {},
   "outputs": [
    {
     "data": {
      "text/plain": [
       "index_case\n",
       "employee    5.9354\n",
       "resident    9.4718\n",
       "Name: infected_residents_mean, dtype: float64"
      ]
     },
     "execution_count": 22,
     "metadata": {},
     "output_type": "execute_result"
    }
   ],
   "source": [
    "data['infected_residents_mean']"
   ]
  },
  {
   "cell_type": "code",
   "execution_count": 23,
   "id": "detected-community",
   "metadata": {},
   "outputs": [
    {
     "data": {
      "text/plain": [
       "index_case\n",
       "employee    8.788098\n",
       "resident    9.368584\n",
       "Name: infected_residents_std, dtype: float64"
      ]
     },
     "execution_count": 23,
     "metadata": {},
     "output_type": "execute_result"
    }
   ],
   "source": [
    "data['infected_residents_std']"
   ]
  },
  {
   "cell_type": "code",
   "execution_count": 24,
   "id": "pursuant-lodge",
   "metadata": {},
   "outputs": [
    {
     "data": {
      "text/plain": [
       "index_case\n",
       "employee    0.0\n",
       "resident    1.0\n",
       "Name: infected_residents_0.10, dtype: float64"
      ]
     },
     "execution_count": 24,
     "metadata": {},
     "output_type": "execute_result"
    }
   ],
   "source": [
    "data['infected_residents_0.10']"
   ]
  },
  {
   "cell_type": "code",
   "execution_count": 25,
   "id": "expired-census",
   "metadata": {},
   "outputs": [
    {
     "data": {
      "text/plain": [
       "index_case\n",
       "employee    1.0\n",
       "resident    5.0\n",
       "Name: infected_residents_median, dtype: float64"
      ]
     },
     "execution_count": 25,
     "metadata": {},
     "output_type": "execute_result"
    }
   ],
   "source": [
    "data['infected_residents_median']"
   ]
  },
  {
   "cell_type": "code",
   "execution_count": 26,
   "id": "ultimate-naples",
   "metadata": {},
   "outputs": [
    {
     "data": {
      "text/plain": [
       "index_case\n",
       "employee    21.0\n",
       "resident    24.0\n",
       "Name: infected_residents_0.90, dtype: float64"
      ]
     },
     "execution_count": 26,
     "metadata": {},
     "output_type": "execute_result"
    }
   ],
   "source": [
    "data['infected_residents_0.90']"
   ]
  }
 ],
 "metadata": {
  "kernelspec": {
   "display_name": "Python 3",
   "language": "python",
   "name": "python3"
  },
  "language_info": {
   "codemirror_mode": {
    "name": "ipython",
    "version": 3
   },
   "file_extension": ".py",
   "mimetype": "text/x-python",
   "name": "python",
   "nbconvert_exporter": "python",
   "pygments_lexer": "ipython3",
   "version": "3.8.8"
  }
 },
 "nbformat": 4,
 "nbformat_minor": 5
}
