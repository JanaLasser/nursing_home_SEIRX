{
 "cells": [
  {
   "cell_type": "markdown",
   "id": "balanced-extreme",
   "metadata": {},
   "source": [
    "# Visualize epidemiological parameters"
   ]
  },
  {
   "cell_type": "code",
   "execution_count": 1,
   "id": "colored-conservation",
   "metadata": {},
   "outputs": [],
   "source": [
    "import numpy as np\n",
    "import matplotlib.pyplot as plt\n",
    "import networkx as nx\n",
    "import pandas as pd\n",
    "from os.path import join\n",
    "from itertools import product\n",
    "\n",
    "from scseirx.model_nursing_home import SEIRX_nursing_home # agent-based simulation\n",
    "from scseirx import analysis_functions as af # custom analysis functions"
   ]
  },
  {
   "cell_type": "code",
   "execution_count": 2,
   "id": "lined-nursery",
   "metadata": {},
   "outputs": [],
   "source": [
    "contact_network_src = '../data/contact_networks'"
   ]
  },
  {
   "cell_type": "code",
   "execution_count": 3,
   "id": "optimum-monday",
   "metadata": {},
   "outputs": [],
   "source": [
    "N_steps = 100\n",
    "verbosity = 0\n",
    "seed = 11\n",
    "\n",
    "G = nx.readwrite.gpickle.read_gpickle(\\\n",
    "            join(contact_network_src, 'interactions_single_quarter.bz2'))\n",
    "\n",
    "model = SEIRX_nursing_home(G)"
   ]
  },
  {
   "cell_type": "code",
   "execution_count": 4,
   "id": "seeing-provincial",
   "metadata": {},
   "outputs": [],
   "source": [
    "def weibull_two_param(shape, scale):\n",
    "    '''\n",
    "    A two-parameter Weibull distribution, based on numpy ramdon's single \n",
    "    parameter distribution. We use this distribution in the simulation to draw\n",
    "    random epidemiological parameters for agents from the given distribution\n",
    "    See https://numpy.org/doc/stable/reference/random/generated/numpy.random.weibull.html\n",
    "    '''\n",
    "    return scale * np.random.weibull(shape)"
   ]
  },
  {
   "cell_type": "code",
   "execution_count": 5,
   "id": "textile-receipt",
   "metadata": {},
   "outputs": [],
   "source": [
    "exposure_duration = []\n",
    "time_until_symptoms = []\n",
    "infection_duration = []\n",
    "\n",
    "for i in range(10000):\n",
    "    tmp_epi_params = {}\n",
    "    # for each of the three epidemiological parameters, check if\n",
    "    # the parameter is an integer (if yes, pass it directly to the\n",
    "    # agent constructor), or if it is specified by the shape and \n",
    "    # scale parameters of a Weibull distribution. In the latter \n",
    "    # case, draw a new number for every agent from the distribution\n",
    "    # NOTE: parameters drawn from the distribution are rounded to\n",
    "    # the nearest integer\n",
    "    while True:\n",
    "        for param_name, param in model.epi_params.items():\n",
    "            if isinstance(param, int):\n",
    "                tmp_epi_params[param_name] = param\n",
    "\n",
    "            else:\n",
    "                tmp_epi_params[param_name] = \\\n",
    "                    round(weibull_two_param(param[0], param[1]))\n",
    "\n",
    "        if tmp_epi_params['exposure_duration'] > 0 and \\\n",
    "           tmp_epi_params['time_until_symptoms'] >= \\\n",
    "           tmp_epi_params['exposure_duration'] and\\\n",
    "           tmp_epi_params['infection_duration'] > \\\n",
    "           tmp_epi_params['exposure_duration']:\n",
    "           break\n",
    "        else:\n",
    "            model.param_rerolls += 1\n",
    "            if verbosity > 1:\n",
    "                print('pathological epi-param case found!')\n",
    "                print(tmp_epi_params)\n",
    "                \n",
    "    exposure_duration.append(tmp_epi_params['exposure_duration'])\n",
    "    time_until_symptoms.append(tmp_epi_params['time_until_symptoms'])\n",
    "    infection_duration.append(tmp_epi_params['infection_duration'])"
   ]
  },
  {
   "cell_type": "code",
   "execution_count": 54,
   "id": "broken-range",
   "metadata": {},
   "outputs": [],
   "source": [
    "symptomatic_employees = []\n",
    "symptomatic_residents = []\n",
    "for i in range(10000):\n",
    "    model = SEIRX_nursing_home(G)\n",
    "    agents = model.schedule.agents\n",
    "    se = [a for a in agents if a.symptomatic_course and a.type == 'employee']\n",
    "    sr = [a for a in agents if a.symptomatic_course and a.type == 'resident']\n",
    "    \n",
    "    symptomatic_employees.append(len(se))\n",
    "    symptomatic_residents.append(len(sr))\n",
    "    \n",
    "symptomatic_residents = np.asarray(symptomatic_residents) / 35 * 100\n",
    "symptomatic_employees = np.asarray(symptomatic_employees) / 18 * 100"
   ]
  },
  {
   "cell_type": "code",
   "execution_count": 56,
   "id": "third-concert",
   "metadata": {},
   "outputs": [
    {
     "data": {
      "image/png": "[encoded data removed]",
      "text/plain": [
       "<Figure size 576x360 with 4 Axes>"
      ]
     },
     "metadata": {
      "needs_background": "light"
     },
     "output_type": "display_data"
    }
   ],
   "source": [
    "fig, axes = plt.subplots(2, 2, figsize=(8, 5))\n",
    "fig.subplots_adjust(wspace=0.3)\n",
    "max_bins = [11, 11, 26]\n",
    "steps = [1, 1, 2]\n",
    "colors = ['#2471A3', '#C0392B', '#909497']\n",
    "xticks = [range(0, 11, 2), range(0, 11, 2), range(0, 26, 5)]\n",
    "labels = ['exposure duration\\n', 'incubation time\\n', 'infection duration\\n']\n",
    "ymaxes = [0.25, 0.5, 0.125]\n",
    "statistics = [exposure_duration, time_until_symptoms, infection_duration]\n",
    "\n",
    "for ax, max_bin, step, color, xtick, label, ymax, param in zip(axes.flatten(), \n",
    "    max_bins, steps, colors, xticks, labels, ymaxes, statistics):\n",
    "    ax.hist(param, bins=range(0, max_bin, step), rwidth=0.8, color=color,\n",
    "            density=True, align='left')\n",
    "    ax.set_xticks(xtick)\n",
    "    ax.set_title(label)\n",
    "    ax.set_xlabel('days')\n",
    "    ax.set_ylim(0, ymax)\n",
    "\n",
    "# ratio of symptomatic cases\n",
    "ax = axes[1, 1]\n",
    "ax.hist([symptomatic_residents, symptomatic_employees],\n",
    "            bins=range(0, 101, 5), density=True, color=['#2471A3', '#C0392B'],\n",
    "            label=['residents', 'employees'], align='left')\n",
    "ax.set_ylim(0, 0.06)\n",
    "ax.set_title('symptomatic agents\\n')\n",
    "ax.set_xlabel('%')\n",
    "ax.legend(fontsize=8, frameon=False)\n",
    "\n",
    "\n",
    "for ax in axes.flatten():\n",
    "    ax.spines['right'].set_visible(False)\n",
    "    ax.spines['top'].set_visible(False)\n",
    "    ax.set_ylabel('pdf')\n",
    "\n",
    "fig.tight_layout()\n",
    "fig.text(0.062, 0.93, 'A', fontsize=12, fontweight='bold')\n",
    "fig.text(0.553, 0.93, 'B', fontsize=12, fontweight='bold')\n",
    "fig.text(0.062, 0.445, 'C', fontsize=12, fontweight='bold')\n",
    "fig.text(0.553, 0.445, 'D', fontsize=12, fontweight='bold')\n",
    "plt.savefig('../plots/epi_param_distributions.pdf')\n",
    "plt.savefig('../plots/epi_param_distributions.png', dpi=300)"
   ]
  }
 ],
 "metadata": {
  "kernelspec": {
   "display_name": "Python 3",
   "language": "python",
   "name": "python3"
  },
  "language_info": {
   "codemirror_mode": {
    "name": "ipython",
    "version": 3
   },
   "file_extension": ".py",
   "mimetype": "text/x-python",
   "name": "python",
   "nbconvert_exporter": "python",
   "pygments_lexer": "ipython3",
   "version": "3.8.8"
  }
 },
 "nbformat": 4,
 "nbformat_minor": 5
}
