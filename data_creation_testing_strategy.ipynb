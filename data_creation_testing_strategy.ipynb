{
 "cells": [
  {
   "cell_type": "markdown",
   "metadata": {},
   "source": [
    "# SEIRX model runs for test technology and screening frequency investigation"
   ]
  },
  {
   "cell_type": "code",
   "execution_count": 1,
   "metadata": {},
   "outputs": [],
   "source": [
    "import networkx as nx\n",
    "import pandas as pd\n",
    "from os.path import join\n",
    "import json\n",
    "\n",
    "# parallelisation functionality\n",
    "from multiprocess import Pool\n",
    "import psutil\n",
    "from tqdm import tqdm\n",
    "\n",
    "# custom functionality\n",
    "import os\n",
    "from os.path import expanduser\n",
    "home = expanduser(\"~\")\n",
    "os.chdir(home+'/agent_based_COVID_SEIRX/src/')\n",
    "os.getcwd()\n",
    "from scseirx.model_nursing_home import SEIRX_nursing_home # agent-based simulation\n",
    "from scseirx import analysis_functions as af # custom analysis functions\n",
    "import data_creation_functions as dcf\n",
    "\n",
    "from importlib import reload"
   ]
  },
  {
   "cell_type": "markdown",
   "metadata": {},
   "source": [
    "## Parameters"
   ]
  },
  {
   "cell_type": "markdown",
   "metadata": {},
   "source": [
    "### Simulation parameters and measures in place"
   ]
  },
  {
   "cell_type": "code",
   "execution_count": 2,
   "metadata": {},
   "outputs": [
    {
     "data": {
      "text/plain": [
       "'/Users/ledebur/agent_based_COVID_SEIRX/src'"
      ]
     },
     "execution_count": 2,
     "metadata": {},
     "output_type": "execute_result"
    }
   ],
   "source": [
    "\n",
    "os.getcwd()"
   ]
  },
  {
   "cell_type": "code",
   "execution_count": 3,
   "metadata": {},
   "outputs": [],
   "source": [
    "with open(home+'/nursing_home_SEIRX/params/screening_frequency_simulation_parameters.json') as json_file:\n",
    "    simulation_params = json.load(json_file)\n",
    "    \n",
    "with open(home+'/nursing_home_SEIRX/params/screening_frequency_measures.json') as json_file:\n",
    "    measures = json.load(json_file)\n"
   ]
  },
  {
   "cell_type": "code",
   "execution_count": 4,
   "metadata": {
    "scrolled": true
   },
   "outputs": [
    {
     "data": {
      "text/plain": [
       "{'testing': 'preventive',\n",
       " 'preventive_screening_test_type': 'same_day_antigen',\n",
       " 'diagnostic_test_type': 'one_day_PCR',\n",
       " 'K1_contact_types': ['close', 'intermediate'],\n",
       " 'quarantine_duration': 10,\n",
       " 'employee_mask': False,\n",
       " 'resident_mask': False,\n",
       " 'employee_vaccination': 0.5,\n",
       " 'resident_vaccination': 0.8,\n",
       " 'follow_up_testing_interval': None,\n",
       " 'liberating_testing': False,\n",
       " 'transmission_risk_ventilation_modifier': 1,\n",
       " 'transmission_risk_vaccination_modifier': {'reception': 0.6,\n",
       "  'transmission': 0.3},\n",
       " 'mask_filter_efficiency': {'exhale': 0.5, 'inhale': 0.7}}"
      ]
     },
     "execution_count": 4,
     "metadata": {},
     "output_type": "execute_result"
    }
   ],
   "source": [
    "measures"
   ]
  },
  {
   "cell_type": "markdown",
   "metadata": {},
   "source": [
    "### Screening parameters"
   ]
  },
  {
   "cell_type": "code",
   "execution_count": 5,
   "metadata": {},
   "outputs": [
    {
     "name": "stdout",
     "output_type": "stream",
     "text": [
      "there are 64 parameter combinations\n"
     ]
    }
   ],
   "source": [
    "# test technologies (and test result turnover times) used in the\n",
    "# different scenarios\n",
    "test_types = ['same_day_antigen', 'same_day_LAMP']# 'same_day_PCR','one_day_PCR', 'two_day_PCR']\n",
    "\n",
    "# specifies, whether the index case will be introduced via an\n",
    "# employee or a resident\n",
    "index_cases = ['employee', 'resident']\n",
    "\n",
    "# resident and employee streening intervals (in days)\n",
    "e_screen_range = [2, 3, 7, None]\n",
    "r_screen_range = [2, 3, 7, None]\n",
    "\n",
    "screening_params = [(i, j, k, l)\\\n",
    "              for i in test_types \\\n",
    "              for j in index_cases \\\n",
    "              for k in e_screen_range \\\n",
    "              for l in r_screen_range]\n",
    "\n",
    "print('there are {} parameter combinations'.format(len(screening_params)))"
   ]
  },
  {
   "cell_type": "code",
   "execution_count": 45,
   "metadata": {},
   "outputs": [],
   "source": [
    "e_vaccination_probability = 0.9\n",
    "r_vaccination_probability = 0.5"
   ]
  },
  {
   "cell_type": "code",
   "execution_count": 46,
   "metadata": {},
   "outputs": [],
   "source": [
    "def run(param_list, N_runs=1000):\n",
    "    '''\n",
    "    Runs an ensemble of simulations and collects observable statistics. To be \n",
    "    run in parallel on many workers. Note: I/O paths and the number of runs per \n",
    "    ensemble hare hard coded here, because I only want to pass the parameter \n",
    "    values that are being screened in the simulation run to the function via the\n",
    "    parallel processing interface.\n",
    "    \n",
    "    Parameters:\n",
    "    -----------\n",
    "    param_list : iterable\n",
    "        Iterable that contains the values for the parameters test_type, \n",
    "        index_case, e_screen_range and r_screen_range that are passed to the\n",
    "        simulation.\n",
    "    N_runs : integer\n",
    "        Number of runs per ensemble.\n",
    "        \n",
    "    Returns:\n",
    "    --------\n",
    "    row : dictionary\n",
    "        Dictionary of the ensemble statistics of the observables.\n",
    "    '''\n",
    "\n",
    "    # paths for data I/O\n",
    "    contact_network_src = home+'/nursing_home_SEIRX/data/contact_networks'\n",
    "\n",
    "    # extract the simulation parameters from the parameter list\n",
    "    test_type, index_case, e_screen_range, r_screen_range = param_list\n",
    "\n",
    "    # run the ensemble with the given simulation parameters \n",
    "    ensemble_results = dcf.run_ensemble(N_runs, test_type, index_case, \n",
    "                e_screen_range, r_screen_range, e_vaccination_probability, r_vaccination_probability, measures,\n",
    "                simulation_params, contact_network_src)\n",
    "\n",
    "    # calculate the ensemble statistics\n",
    "    row = dcf.evaluate_ensemble(ensemble_results, test_type, index_case, \n",
    "                                e_screen_range, r_screen_range, e_vaccination_probability, r_vaccination_probability)\n",
    "\n",
    "    return row"
   ]
  },
  {
   "cell_type": "code",
   "execution_count": 47,
   "metadata": {},
   "outputs": [
    {
     "name": "stderr",
     "output_type": "stream",
     "text": [
      "100%|██████████| 64/64 [05:54<00:00,  5.55s/it]\n"
     ]
    },
    {
     "name": "stdout",
     "output_type": "stream",
     "text": [
      "CPU times: user 789 ms, sys: 97.8 ms, total: 887 ms\n",
      "Wall time: 5min 55s\n"
     ]
    },
    {
     "data": {
      "text/html": [
       "<div>\n",
       "<style scoped>\n",
       "    .dataframe tbody tr th:only-of-type {\n",
       "        vertical-align: middle;\n",
       "    }\n",
       "\n",
       "    .dataframe tbody tr th {\n",
       "        vertical-align: top;\n",
       "    }\n",
       "\n",
       "    .dataframe thead th {\n",
       "        text-align: right;\n",
       "    }\n",
       "</style>\n",
       "<table border=\"1\" class=\"dataframe\">\n",
       "  <thead>\n",
       "    <tr style=\"text-align: right;\">\n",
       "      <th></th>\n",
       "      <th>test_type</th>\n",
       "      <th>index_case</th>\n",
       "      <th>resident_screen_interval</th>\n",
       "      <th>employee_screen_interval</th>\n",
       "      <th>N_diagnostic_tests_0.025</th>\n",
       "      <th>N_diagnostic_tests_0.10</th>\n",
       "      <th>N_diagnostic_tests_0.25</th>\n",
       "      <th>N_diagnostic_tests_0.75</th>\n",
       "      <th>N_diagnostic_tests_0.90</th>\n",
       "      <th>N_diagnostic_tests_0.975</th>\n",
       "      <th>...</th>\n",
       "      <th>transmissions_std</th>\n",
       "      <th>undetected_infections_0.025</th>\n",
       "      <th>undetected_infections_0.10</th>\n",
       "      <th>undetected_infections_0.25</th>\n",
       "      <th>undetected_infections_0.75</th>\n",
       "      <th>undetected_infections_0.90</th>\n",
       "      <th>undetected_infections_0.975</th>\n",
       "      <th>undetected_infections_mean</th>\n",
       "      <th>undetected_infections_median</th>\n",
       "      <th>undetected_infections_std</th>\n",
       "    </tr>\n",
       "  </thead>\n",
       "  <tbody>\n",
       "    <tr>\n",
       "      <th>0</th>\n",
       "      <td>same_day_antigen</td>\n",
       "      <td>employee</td>\n",
       "      <td>None</td>\n",
       "      <td>2</td>\n",
       "      <td>0.0</td>\n",
       "      <td>1.0</td>\n",
       "      <td>52.0</td>\n",
       "      <td>104.00</td>\n",
       "      <td>156.0</td>\n",
       "      <td>293.05</td>\n",
       "      <td>...</td>\n",
       "      <td>1.885452</td>\n",
       "      <td>0.0</td>\n",
       "      <td>0.0</td>\n",
       "      <td>0.0</td>\n",
       "      <td>1.0</td>\n",
       "      <td>2.0</td>\n",
       "      <td>4.0</td>\n",
       "      <td>0.984</td>\n",
       "      <td>1.0</td>\n",
       "      <td>1.263860</td>\n",
       "    </tr>\n",
       "    <tr>\n",
       "      <th>1</th>\n",
       "      <td>same_day_antigen</td>\n",
       "      <td>employee</td>\n",
       "      <td>2</td>\n",
       "      <td>3</td>\n",
       "      <td>0.0</td>\n",
       "      <td>52.0</td>\n",
       "      <td>53.0</td>\n",
       "      <td>104.25</td>\n",
       "      <td>156.0</td>\n",
       "      <td>254.00</td>\n",
       "      <td>...</td>\n",
       "      <td>1.737849</td>\n",
       "      <td>0.0</td>\n",
       "      <td>0.0</td>\n",
       "      <td>0.0</td>\n",
       "      <td>1.0</td>\n",
       "      <td>3.0</td>\n",
       "      <td>6.0</td>\n",
       "      <td>1.147</td>\n",
       "      <td>1.0</td>\n",
       "      <td>1.697136</td>\n",
       "    </tr>\n",
       "    <tr>\n",
       "      <th>2</th>\n",
       "      <td>same_day_antigen</td>\n",
       "      <td>employee</td>\n",
       "      <td>7</td>\n",
       "      <td>2</td>\n",
       "      <td>0.0</td>\n",
       "      <td>1.0</td>\n",
       "      <td>53.0</td>\n",
       "      <td>104.00</td>\n",
       "      <td>200.1</td>\n",
       "      <td>283.10</td>\n",
       "      <td>...</td>\n",
       "      <td>1.998995</td>\n",
       "      <td>0.0</td>\n",
       "      <td>0.0</td>\n",
       "      <td>0.0</td>\n",
       "      <td>2.0</td>\n",
       "      <td>3.0</td>\n",
       "      <td>5.0</td>\n",
       "      <td>1.179</td>\n",
       "      <td>1.0</td>\n",
       "      <td>1.434928</td>\n",
       "    </tr>\n",
       "  </tbody>\n",
       "</table>\n",
       "<p>3 rows × 130 columns</p>\n",
       "</div>"
      ],
      "text/plain": [
       "          test_type index_case resident_screen_interval  \\\n",
       "0  same_day_antigen   employee                     None   \n",
       "1  same_day_antigen   employee                        2   \n",
       "2  same_day_antigen   employee                        7   \n",
       "\n",
       "  employee_screen_interval  N_diagnostic_tests_0.025  N_diagnostic_tests_0.10  \\\n",
       "0                        2                       0.0                      1.0   \n",
       "1                        3                       0.0                     52.0   \n",
       "2                        2                       0.0                      1.0   \n",
       "\n",
       "   N_diagnostic_tests_0.25  N_diagnostic_tests_0.75  N_diagnostic_tests_0.90  \\\n",
       "0                     52.0                   104.00                    156.0   \n",
       "1                     53.0                   104.25                    156.0   \n",
       "2                     53.0                   104.00                    200.1   \n",
       "\n",
       "   N_diagnostic_tests_0.975  ...  transmissions_std  \\\n",
       "0                    293.05  ...           1.885452   \n",
       "1                    254.00  ...           1.737849   \n",
       "2                    283.10  ...           1.998995   \n",
       "\n",
       "   undetected_infections_0.025  undetected_infections_0.10  \\\n",
       "0                          0.0                         0.0   \n",
       "1                          0.0                         0.0   \n",
       "2                          0.0                         0.0   \n",
       "\n",
       "   undetected_infections_0.25  undetected_infections_0.75  \\\n",
       "0                         0.0                         1.0   \n",
       "1                         0.0                         1.0   \n",
       "2                         0.0                         2.0   \n",
       "\n",
       "   undetected_infections_0.90  undetected_infections_0.975  \\\n",
       "0                         2.0                          4.0   \n",
       "1                         3.0                          6.0   \n",
       "2                         3.0                          5.0   \n",
       "\n",
       "   undetected_infections_mean  undetected_infections_median  \\\n",
       "0                       0.984                           1.0   \n",
       "1                       1.147                           1.0   \n",
       "2                       1.179                           1.0   \n",
       "\n",
       "   undetected_infections_std  \n",
       "0                   1.263860  \n",
       "1                   1.697136  \n",
       "2                   1.434928  \n",
       "\n",
       "[3 rows x 130 columns]"
      ]
     },
     "execution_count": 47,
     "metadata": {},
     "output_type": "execute_result"
    }
   ],
   "source": [
    "%%time\n",
    "number_of_cores = psutil.cpu_count(logical=True) - 2 \n",
    "pool = Pool(number_of_cores)\n",
    "\n",
    "#rows = pool.imap_unordered(run, screening_params)\n",
    "rows = []\n",
    "for row in tqdm(pool.imap_unordered(func=run, iterable=screening_params),\n",
    "                total=len(screening_params)):\n",
    "        rows.append(row)\n",
    "\n",
    "# turn off your parallel workers \n",
    "pool.close()\n",
    "\n",
    "# format and dump the results to disk\n",
    "dst = home+'/nursing_home_SEIRX/data/simulation_results'\n",
    "results = pd.DataFrame()\n",
    "for row in rows:\n",
    "    results = results.append(row, ignore_index=True)\n",
    "    \n",
    "results.reset_index()\n",
    "index_cols = ['test_type', 'index_case',\n",
    "              'resident_screen_interval', 'employee_screen_interval']\n",
    "other_cols = [c for c in results.columns if c not in index_cols]\n",
    "results = results[index_cols + other_cols]\n",
    "\n",
    "#results.to_csv(join(dst,'simulations_test_technology_screening_interval.csv'),\n",
    "               #index=False)\n",
    "results.head(3)"
   ]
  },
  {
   "cell_type": "code",
   "execution_count": 48,
   "metadata": {},
   "outputs": [],
   "source": [
    "dst = home+'/nursing_home_SEIRX/data/simulation_results'"
   ]
  },
  {
   "cell_type": "code",
   "execution_count": 49,
   "metadata": {
    "scrolled": true
   },
   "outputs": [],
   "source": [
    "results.to_csv(join(dst,'simulations_test_technology_screening_interval.csv'),\n",
    "               index=False)"
   ]
  },
  {
   "cell_type": "code",
   "execution_count": null,
   "metadata": {},
   "outputs": [],
   "source": []
  }
 ],
 "metadata": {
  "kernelspec": {
   "display_name": "Python 3",
   "language": "python",
   "name": "python3"
  },
  "language_info": {
   "codemirror_mode": {
    "name": "ipython",
    "version": 3
   },
   "file_extension": ".py",
   "mimetype": "text/x-python",
   "name": "python",
   "nbconvert_exporter": "python",
   "pygments_lexer": "ipython3",
   "version": "3.8.5"
  }
 },
 "nbformat": 4,
 "nbformat_minor": 4
}
