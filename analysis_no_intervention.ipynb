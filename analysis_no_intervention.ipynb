{
 "cells": [
  {
   "cell_type": "markdown",
   "id": "illegal-belief",
   "metadata": {},
   "source": [
    "# Analysis of SEIRX model runs for a no-measure scenario"
   ]
  },
  {
   "cell_type": "code",
   "execution_count": 19,
   "id": "straight-forward",
   "metadata": {},
   "outputs": [],
   "source": [
    "import pandas as pd\n",
    "import matplotlib.pyplot as plt\n",
    "import numpy as np\n",
    "from os.path import join\n",
    "import matplotlib.gridspec as gridspec\n",
    "import matplotlib as mpl"
   ]
  },
  {
   "cell_type": "code",
   "execution_count": 20,
   "id": "earlier-location",
   "metadata": {},
   "outputs": [],
   "source": [
    "res_path = '../data/simulation_results'\n",
    "dst_path = '../plots/'\n",
    "sim_name = 'simulations_no_measures'"
   ]
  },
  {
   "cell_type": "markdown",
   "id": "successful-modern",
   "metadata": {},
   "source": [
    "## B.1.1.7"
   ]
  },
  {
   "cell_type": "code",
   "execution_count": 22,
   "id": "extended-crash",
   "metadata": {},
   "outputs": [],
   "source": [
    "N_runs = 5000\n",
    "data = pd.read_csv(join(res_path,'{}_UK_variant_{}.csv'.format(sim_name, N_runs)))\n",
    "data.index = data['index_case']"
   ]
  },
  {
   "cell_type": "markdown",
   "id": "applicable-drain",
   "metadata": {},
   "source": [
    "### Transmissions from the index case"
   ]
  },
  {
   "cell_type": "code",
   "execution_count": 23,
   "id": "interstate-cooperative",
   "metadata": {},
   "outputs": [
    {
     "data": {
      "text/plain": [
       "index_case\n",
       "employee    3.9438\n",
       "resident    4.0972\n",
       "Name: R0_mean, dtype: float64"
      ]
     },
     "execution_count": 23,
     "metadata": {},
     "output_type": "execute_result"
    }
   ],
   "source": [
    "data['R0_mean']"
   ]
  },
  {
   "cell_type": "code",
   "execution_count": 24,
   "id": "criminal-identifier",
   "metadata": {},
   "outputs": [
    {
     "data": {
      "text/plain": [
       "index_case\n",
       "employee    2.551067\n",
       "resident    2.565437\n",
       "Name: R0_std, dtype: float64"
      ]
     },
     "execution_count": 24,
     "metadata": {},
     "output_type": "execute_result"
    }
   ],
   "source": [
    "data['R0_std']"
   ]
  },
  {
   "cell_type": "markdown",
   "id": "becoming-gibraltar",
   "metadata": {},
   "source": [
    "### Outbreak sizes"
   ]
  },
  {
   "cell_type": "markdown",
   "id": "activated-vertex",
   "metadata": {},
   "source": [
    "**Note**: for resident index cases, one needs to be subtracted to correct for the index case"
   ]
  },
  {
   "cell_type": "code",
   "execution_count": 25,
   "id": "tracked-moldova",
   "metadata": {},
   "outputs": [
    {
     "data": {
      "text/plain": [
       "index_case\n",
       "employee    31.9506\n",
       "resident    32.3878\n",
       "Name: infected_residents_mean, dtype: float64"
      ]
     },
     "execution_count": 25,
     "metadata": {},
     "output_type": "execute_result"
    }
   ],
   "source": [
    "data['infected_residents_mean']"
   ]
  },
  {
   "cell_type": "code",
   "execution_count": 26,
   "id": "potential-needle",
   "metadata": {},
   "outputs": [
    {
     "data": {
      "text/plain": [
       "index_case\n",
       "employee    9.179293\n",
       "resident    8.322576\n",
       "Name: infected_residents_std, dtype: float64"
      ]
     },
     "execution_count": 26,
     "metadata": {},
     "output_type": "execute_result"
    }
   ],
   "source": [
    "data['infected_residents_std']"
   ]
  },
  {
   "cell_type": "code",
   "execution_count": 27,
   "id": "informative-newton",
   "metadata": {},
   "outputs": [
    {
     "data": {
      "text/plain": [
       "index_case\n",
       "employee    33.0\n",
       "resident    33.0\n",
       "Name: infected_residents_0.10, dtype: float64"
      ]
     },
     "execution_count": 27,
     "metadata": {},
     "output_type": "execute_result"
    }
   ],
   "source": [
    "data['infected_residents_0.10']"
   ]
  },
  {
   "cell_type": "code",
   "execution_count": 28,
   "id": "talented-tackle",
   "metadata": {},
   "outputs": [
    {
     "data": {
      "text/plain": [
       "index_case\n",
       "employee    35.0\n",
       "resident    35.0\n",
       "Name: infected_residents_median, dtype: float64"
      ]
     },
     "execution_count": 28,
     "metadata": {},
     "output_type": "execute_result"
    }
   ],
   "source": [
    "data['infected_residents_median']"
   ]
  },
  {
   "cell_type": "code",
   "execution_count": 29,
   "id": "understanding-friendship",
   "metadata": {},
   "outputs": [
    {
     "data": {
      "text/plain": [
       "index_case\n",
       "employee    35.0\n",
       "resident    35.0\n",
       "Name: infected_residents_0.90, dtype: float64"
      ]
     },
     "execution_count": 29,
     "metadata": {},
     "output_type": "execute_result"
    }
   ],
   "source": [
    "data['infected_residents_0.90']"
   ]
  },
  {
   "cell_type": "markdown",
   "id": "velvet-geology",
   "metadata": {},
   "source": [
    "## Wild type"
   ]
  },
  {
   "cell_type": "code",
   "execution_count": 30,
   "id": "certain-incentive",
   "metadata": {},
   "outputs": [],
   "source": [
    "N_runs = 5000\n",
    "data = pd.read_csv(join(res_path,'{}_{}.csv'.format(sim_name, N_runs)))\n",
    "data.index = data['index_case']"
   ]
  },
  {
   "cell_type": "markdown",
   "id": "seasonal-ensemble",
   "metadata": {},
   "source": [
    "### Transmissions from the index case"
   ]
  },
  {
   "cell_type": "code",
   "execution_count": 31,
   "id": "selective-polls",
   "metadata": {},
   "outputs": [
    {
     "data": {
      "text/plain": [
       "index_case\n",
       "employee    2.7292\n",
       "resident    2.9214\n",
       "Name: R0_mean, dtype: float64"
      ]
     },
     "execution_count": 31,
     "metadata": {},
     "output_type": "execute_result"
    }
   ],
   "source": [
    "data['R0_mean']"
   ]
  },
  {
   "cell_type": "code",
   "execution_count": 32,
   "id": "polyphonic-westminster",
   "metadata": {},
   "outputs": [
    {
     "data": {
      "text/plain": [
       "index_case\n",
       "employee    2.020862\n",
       "resident    2.092199\n",
       "Name: R0_std, dtype: float64"
      ]
     },
     "execution_count": 32,
     "metadata": {},
     "output_type": "execute_result"
    }
   ],
   "source": [
    "data['R0_std']"
   ]
  },
  {
   "cell_type": "markdown",
   "id": "automotive-humanitarian",
   "metadata": {},
   "source": [
    "### Outbreak sizes"
   ]
  },
  {
   "cell_type": "markdown",
   "id": "amended-internship",
   "metadata": {},
   "source": [
    "**Note**: for resident index cases, one needs to be subtracted to correct for the index case"
   ]
  },
  {
   "cell_type": "code",
   "execution_count": 33,
   "id": "medical-cyprus",
   "metadata": {},
   "outputs": [
    {
     "data": {
      "text/plain": [
       "index_case\n",
       "employee    27.5638\n",
       "resident    28.3508\n",
       "Name: infected_residents_mean, dtype: float64"
      ]
     },
     "execution_count": 33,
     "metadata": {},
     "output_type": "execute_result"
    }
   ],
   "source": [
    "data['infected_residents_mean']"
   ]
  },
  {
   "cell_type": "code",
   "execution_count": 34,
   "id": "reasonable-telephone",
   "metadata": {},
   "outputs": [
    {
     "data": {
      "text/plain": [
       "index_case\n",
       "employee    12.191655\n",
       "resident    11.277516\n",
       "Name: infected_residents_std, dtype: float64"
      ]
     },
     "execution_count": 34,
     "metadata": {},
     "output_type": "execute_result"
    }
   ],
   "source": [
    "data['infected_residents_std']"
   ]
  },
  {
   "cell_type": "code",
   "execution_count": 35,
   "id": "ruled-lender",
   "metadata": {},
   "outputs": [
    {
     "data": {
      "text/plain": [
       "index_case\n",
       "employee    0.0\n",
       "resident    1.0\n",
       "Name: infected_residents_0.10, dtype: float64"
      ]
     },
     "execution_count": 35,
     "metadata": {},
     "output_type": "execute_result"
    }
   ],
   "source": [
    "data['infected_residents_0.10']"
   ]
  },
  {
   "cell_type": "code",
   "execution_count": 36,
   "id": "foreign-apache",
   "metadata": {},
   "outputs": [
    {
     "data": {
      "text/plain": [
       "index_case\n",
       "employee    33.0\n",
       "resident    33.0\n",
       "Name: infected_residents_median, dtype: float64"
      ]
     },
     "execution_count": 36,
     "metadata": {},
     "output_type": "execute_result"
    }
   ],
   "source": [
    "data['infected_residents_median']"
   ]
  },
  {
   "cell_type": "code",
   "execution_count": 37,
   "id": "continental-louis",
   "metadata": {},
   "outputs": [
    {
     "data": {
      "text/plain": [
       "index_case\n",
       "employee    35.0\n",
       "resident    35.0\n",
       "Name: infected_residents_0.90, dtype: float64"
      ]
     },
     "execution_count": 37,
     "metadata": {},
     "output_type": "execute_result"
    }
   ],
   "source": [
    "data['infected_residents_0.90']"
   ]
  }
 ],
 "metadata": {
  "kernelspec": {
   "display_name": "Python 3",
   "language": "python",
   "name": "python3"
  },
  "language_info": {
   "codemirror_mode": {
    "name": "ipython",
    "version": 3
   },
   "file_extension": ".py",
   "mimetype": "text/x-python",
   "name": "python",
   "nbconvert_exporter": "python",
   "pygments_lexer": "ipython3",
   "version": "3.8.8"
  }
 },
 "nbformat": 4,
 "nbformat_minor": 5
}
