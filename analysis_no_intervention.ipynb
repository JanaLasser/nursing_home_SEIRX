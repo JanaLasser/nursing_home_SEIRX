{
 "cells": [
  {
   "cell_type": "markdown",
   "id": "unique-place",
   "metadata": {},
   "source": [
    "# Analysis of SEIRX model runs for a no-measure scenario"
   ]
  },
  {
   "cell_type": "code",
   "execution_count": 1,
   "id": "discrete-survivor",
   "metadata": {},
   "outputs": [],
   "source": [
    "import pandas as pd\n",
    "import matplotlib.pyplot as plt\n",
    "import numpy as np\n",
    "from os.path import join\n",
    "import matplotlib.gridspec as gridspec\n",
    "import matplotlib as mpl"
   ]
  },
  {
   "cell_type": "code",
   "execution_count": 2,
   "id": "laughing-preference",
   "metadata": {},
   "outputs": [],
   "source": [
    "res_path = '../data/simulation_results'\n",
    "dst_path = '../plots/'\n",
    "sim_name = 'simulations_no_measures'"
   ]
  },
  {
   "cell_type": "markdown",
   "id": "quiet-arcade",
   "metadata": {},
   "source": [
    "## B.1.1.7"
   ]
  },
  {
   "cell_type": "code",
   "execution_count": 3,
   "id": "bored-criterion",
   "metadata": {},
   "outputs": [],
   "source": [
    "N_runs = 5000\n",
    "data = pd.read_csv(join(res_path,'{}_UK_variant_{}.csv'.format(sim_name, N_runs)))\n",
    "data.index = data['index_case']"
   ]
  },
  {
   "cell_type": "markdown",
   "id": "funny-framing",
   "metadata": {},
   "source": [
    "### Transmissions from the index case"
   ]
  },
  {
   "cell_type": "code",
   "execution_count": 4,
   "id": "wireless-catalyst",
   "metadata": {},
   "outputs": [
    {
     "data": {
      "text/plain": [
       "index_case\n",
       "employee    2.2452\n",
       "resident    2.9746\n",
       "Name: R0_mean, dtype: float64"
      ]
     },
     "execution_count": 4,
     "metadata": {},
     "output_type": "execute_result"
    }
   ],
   "source": [
    "data['R0_mean']"
   ]
  },
  {
   "cell_type": "code",
   "execution_count": 5,
   "id": "ranging-roots",
   "metadata": {},
   "outputs": [
    {
     "data": {
      "text/plain": [
       "index_case\n",
       "employee    1.857786\n",
       "resident    2.225971\n",
       "Name: R0_std, dtype: float64"
      ]
     },
     "execution_count": 5,
     "metadata": {},
     "output_type": "execute_result"
    }
   ],
   "source": [
    "data['R0_std']"
   ]
  },
  {
   "cell_type": "markdown",
   "id": "applied-divorce",
   "metadata": {},
   "source": [
    "### Outbreak sizes"
   ]
  },
  {
   "cell_type": "markdown",
   "id": "inside-prophet",
   "metadata": {},
   "source": [
    "**Note**: for resident index cases, one needs to be subtracted to correct for the index case"
   ]
  },
  {
   "cell_type": "code",
   "execution_count": 6,
   "id": "muslim-geneva",
   "metadata": {},
   "outputs": [
    {
     "data": {
      "text/plain": [
       "index_case\n",
       "employee    25.2176\n",
       "resident    27.8054\n",
       "Name: infected_residents_mean, dtype: float64"
      ]
     },
     "execution_count": 6,
     "metadata": {},
     "output_type": "execute_result"
    }
   ],
   "source": [
    "data['infected_residents_mean']"
   ]
  },
  {
   "cell_type": "code",
   "execution_count": 7,
   "id": "conscious-crisis",
   "metadata": {},
   "outputs": [
    {
     "data": {
      "text/plain": [
       "index_case\n",
       "employee    13.871595\n",
       "resident    11.674142\n",
       "Name: infected_residents_std, dtype: float64"
      ]
     },
     "execution_count": 7,
     "metadata": {},
     "output_type": "execute_result"
    }
   ],
   "source": [
    "data['infected_residents_std']"
   ]
  },
  {
   "cell_type": "code",
   "execution_count": 8,
   "id": "fourth-passport",
   "metadata": {},
   "outputs": [
    {
     "data": {
      "text/plain": [
       "index_case\n",
       "employee    0.0\n",
       "resident    1.0\n",
       "Name: infected_residents_0.10, dtype: float64"
      ]
     },
     "execution_count": 8,
     "metadata": {},
     "output_type": "execute_result"
    }
   ],
   "source": [
    "data['infected_residents_0.10']"
   ]
  },
  {
   "cell_type": "code",
   "execution_count": 9,
   "id": "judicial-pledge",
   "metadata": {},
   "outputs": [
    {
     "data": {
      "text/plain": [
       "index_case\n",
       "employee    32.0\n",
       "resident    33.0\n",
       "Name: infected_residents_median, dtype: float64"
      ]
     },
     "execution_count": 9,
     "metadata": {},
     "output_type": "execute_result"
    }
   ],
   "source": [
    "data['infected_residents_median']"
   ]
  },
  {
   "cell_type": "code",
   "execution_count": 10,
   "id": "portable-messenger",
   "metadata": {},
   "outputs": [
    {
     "data": {
      "text/plain": [
       "index_case\n",
       "employee    35.0\n",
       "resident    35.0\n",
       "Name: infected_residents_0.90, dtype: float64"
      ]
     },
     "execution_count": 10,
     "metadata": {},
     "output_type": "execute_result"
    }
   ],
   "source": [
    "data['infected_residents_0.90']"
   ]
  },
  {
   "cell_type": "markdown",
   "id": "worthy-frank",
   "metadata": {},
   "source": [
    "## Wild type"
   ]
  },
  {
   "cell_type": "code",
   "execution_count": 11,
   "id": "horizontal-principal",
   "metadata": {},
   "outputs": [],
   "source": [
    "N_runs = 5000\n",
    "data = pd.read_csv(join(res_path,'{}_{}.csv'.format(sim_name, N_runs)))\n",
    "data.index = data['index_case']"
   ]
  },
  {
   "cell_type": "markdown",
   "id": "saving-thanksgiving",
   "metadata": {},
   "source": [
    "### Transmissions from the index case"
   ]
  },
  {
   "cell_type": "code",
   "execution_count": 12,
   "id": "unnecessary-advertiser",
   "metadata": {},
   "outputs": [
    {
     "data": {
      "text/plain": [
       "index_case\n",
       "employee    1.5956\n",
       "resident    2.0420\n",
       "Name: R0_mean, dtype: float64"
      ]
     },
     "execution_count": 12,
     "metadata": {},
     "output_type": "execute_result"
    }
   ],
   "source": [
    "data['R0_mean']"
   ]
  },
  {
   "cell_type": "code",
   "execution_count": 13,
   "id": "guided-manhattan",
   "metadata": {},
   "outputs": [
    {
     "data": {
      "text/plain": [
       "index_case\n",
       "employee    1.516351\n",
       "resident    1.738977\n",
       "Name: R0_std, dtype: float64"
      ]
     },
     "execution_count": 13,
     "metadata": {},
     "output_type": "execute_result"
    }
   ],
   "source": [
    "data['R0_std']"
   ]
  },
  {
   "cell_type": "markdown",
   "id": "equivalent-there",
   "metadata": {},
   "source": [
    "### Outbreak sizes"
   ]
  },
  {
   "cell_type": "markdown",
   "id": "dangerous-worship",
   "metadata": {},
   "source": [
    "**Note**: for resident index cases, one needs to be subtracted to correct for the index case"
   ]
  },
  {
   "cell_type": "code",
   "execution_count": 14,
   "id": "intense-astrology",
   "metadata": {},
   "outputs": [
    {
     "data": {
      "text/plain": [
       "index_case\n",
       "employee    15.9156\n",
       "resident    18.7740\n",
       "Name: infected_residents_mean, dtype: float64"
      ]
     },
     "execution_count": 14,
     "metadata": {},
     "output_type": "execute_result"
    }
   ],
   "source": [
    "data['infected_residents_mean']"
   ]
  },
  {
   "cell_type": "code",
   "execution_count": 15,
   "id": "accepted-battle",
   "metadata": {},
   "outputs": [
    {
     "data": {
      "text/plain": [
       "index_case\n",
       "employee    13.600937\n",
       "resident    12.782488\n",
       "Name: infected_residents_std, dtype: float64"
      ]
     },
     "execution_count": 15,
     "metadata": {},
     "output_type": "execute_result"
    }
   ],
   "source": [
    "data['infected_residents_std']"
   ]
  },
  {
   "cell_type": "code",
   "execution_count": 16,
   "id": "norman-serial",
   "metadata": {},
   "outputs": [
    {
     "data": {
      "text/plain": [
       "index_case\n",
       "employee    0.0\n",
       "resident    1.0\n",
       "Name: infected_residents_0.10, dtype: float64"
      ]
     },
     "execution_count": 16,
     "metadata": {},
     "output_type": "execute_result"
    }
   ],
   "source": [
    "data['infected_residents_0.10']"
   ]
  },
  {
   "cell_type": "code",
   "execution_count": 17,
   "id": "continuing-error",
   "metadata": {},
   "outputs": [
    {
     "data": {
      "text/plain": [
       "index_case\n",
       "employee    22.0\n",
       "resident    25.0\n",
       "Name: infected_residents_median, dtype: float64"
      ]
     },
     "execution_count": 17,
     "metadata": {},
     "output_type": "execute_result"
    }
   ],
   "source": [
    "data['infected_residents_median']"
   ]
  },
  {
   "cell_type": "code",
   "execution_count": 18,
   "id": "seeing-correlation",
   "metadata": {},
   "outputs": [
    {
     "data": {
      "text/plain": [
       "index_case\n",
       "employee    31.0\n",
       "resident    32.0\n",
       "Name: infected_residents_0.90, dtype: float64"
      ]
     },
     "execution_count": 18,
     "metadata": {},
     "output_type": "execute_result"
    }
   ],
   "source": [
    "data['infected_residents_0.90']"
   ]
  }
 ],
 "metadata": {
  "kernelspec": {
   "display_name": "Python 3",
   "language": "python",
   "name": "python3"
  },
  "language_info": {
   "codemirror_mode": {
    "name": "ipython",
    "version": 3
   },
   "file_extension": ".py",
   "mimetype": "text/x-python",
   "name": "python",
   "nbconvert_exporter": "python",
   "pygments_lexer": "ipython3",
   "version": "3.8.8"
  }
 },
 "nbformat": 4,
 "nbformat_minor": 5
}
