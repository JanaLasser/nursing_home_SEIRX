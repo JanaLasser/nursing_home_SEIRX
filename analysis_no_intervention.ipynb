{
 "cells": [
  {
   "cell_type": "markdown",
   "id": "headed-result",
   "metadata": {},
   "source": [
    "# Analysis of SEIRX model runs for a no-measure scenario"
   ]
  },
  {
   "cell_type": "code",
   "execution_count": 2,
   "id": "cross-hours",
   "metadata": {},
   "outputs": [],
   "source": [
    "import pandas as pd\n",
    "import matplotlib.pyplot as plt\n",
    "import numpy as np\n",
    "from os.path import join\n",
    "import matplotlib.gridspec as gridspec\n",
    "import matplotlib as mpl"
   ]
  },
  {
   "cell_type": "code",
   "execution_count": 3,
   "id": "furnished-james",
   "metadata": {},
   "outputs": [],
   "source": [
    "res_path = '../data/simulation_results'\n",
    "dst_path = '../plots/'\n",
    "sim_name = 'simulations_no_measures'"
   ]
  },
  {
   "cell_type": "markdown",
   "id": "handy-harbor",
   "metadata": {},
   "source": [
    "## B.1.1.7"
   ]
  },
  {
   "cell_type": "code",
   "execution_count": 4,
   "id": "normal-berlin",
   "metadata": {},
   "outputs": [],
   "source": [
    "N_runs = 1000\n",
    "data = pd.read_csv(join(res_path,'{}_UK_variant_{}.csv'.format(sim_name, N_runs)))\n",
    "data.index = data['index_case']"
   ]
  },
  {
   "cell_type": "markdown",
   "id": "supposed-empty",
   "metadata": {},
   "source": [
    "### Transmissions from the index case"
   ]
  },
  {
   "cell_type": "code",
   "execution_count": 5,
   "id": "fabulous-elevation",
   "metadata": {},
   "outputs": [
    {
     "data": {
      "text/plain": [
       "index_case\n",
       "employee    3.916\n",
       "resident    4.360\n",
       "Name: R0_mean, dtype: float64"
      ]
     },
     "execution_count": 5,
     "metadata": {},
     "output_type": "execute_result"
    }
   ],
   "source": [
    "data['R0_mean']"
   ]
  },
  {
   "cell_type": "code",
   "execution_count": 6,
   "id": "lovely-edwards",
   "metadata": {},
   "outputs": [
    {
     "data": {
      "text/plain": [
       "index_case\n",
       "employee    2.443546\n",
       "resident    2.667868\n",
       "Name: R0_std, dtype: float64"
      ]
     },
     "execution_count": 6,
     "metadata": {},
     "output_type": "execute_result"
    }
   ],
   "source": [
    "data['R0_std']"
   ]
  },
  {
   "cell_type": "markdown",
   "id": "compatible-baking",
   "metadata": {},
   "source": [
    "### Outbreak sizes"
   ]
  },
  {
   "cell_type": "markdown",
   "id": "assisted-filter",
   "metadata": {},
   "source": [
    "**Note**: for resident index cases, one needs to be subtracted to correct for the index case"
   ]
  },
  {
   "cell_type": "code",
   "execution_count": 7,
   "id": "developed-basic",
   "metadata": {},
   "outputs": [
    {
     "data": {
      "text/plain": [
       "index_case\n",
       "employee    31.958\n",
       "resident    32.555\n",
       "Name: infected_residents_mean, dtype: float64"
      ]
     },
     "execution_count": 7,
     "metadata": {},
     "output_type": "execute_result"
    }
   ],
   "source": [
    "data['infected_residents_mean']"
   ]
  },
  {
   "cell_type": "code",
   "execution_count": 8,
   "id": "working-dancing",
   "metadata": {},
   "outputs": [
    {
     "data": {
      "text/plain": [
       "index_case\n",
       "employee    9.172042\n",
       "resident    8.042242\n",
       "Name: infected_residents_std, dtype: float64"
      ]
     },
     "execution_count": 8,
     "metadata": {},
     "output_type": "execute_result"
    }
   ],
   "source": [
    "data['infected_residents_std']"
   ]
  },
  {
   "cell_type": "code",
   "execution_count": 9,
   "id": "fifty-victorian",
   "metadata": {},
   "outputs": [
    {
     "data": {
      "text/plain": [
       "index_case\n",
       "employee    33.0\n",
       "resident    33.0\n",
       "Name: infected_residents_0.10, dtype: float64"
      ]
     },
     "execution_count": 9,
     "metadata": {},
     "output_type": "execute_result"
    }
   ],
   "source": [
    "data['infected_residents_0.10']"
   ]
  },
  {
   "cell_type": "code",
   "execution_count": 10,
   "id": "naughty-export",
   "metadata": {},
   "outputs": [
    {
     "data": {
      "text/plain": [
       "index_case\n",
       "employee    35.0\n",
       "resident    35.0\n",
       "Name: infected_residents_median, dtype: float64"
      ]
     },
     "execution_count": 10,
     "metadata": {},
     "output_type": "execute_result"
    }
   ],
   "source": [
    "data['infected_residents_median']"
   ]
  },
  {
   "cell_type": "code",
   "execution_count": 11,
   "id": "enhanced-prayer",
   "metadata": {},
   "outputs": [
    {
     "data": {
      "text/plain": [
       "index_case\n",
       "employee    35.0\n",
       "resident    35.0\n",
       "Name: infected_residents_0.90, dtype: float64"
      ]
     },
     "execution_count": 11,
     "metadata": {},
     "output_type": "execute_result"
    }
   ],
   "source": [
    "data['infected_residents_0.90']"
   ]
  },
  {
   "cell_type": "markdown",
   "id": "structured-dancing",
   "metadata": {},
   "source": [
    "## Wild type"
   ]
  },
  {
   "cell_type": "code",
   "execution_count": 12,
   "id": "strong-expense",
   "metadata": {},
   "outputs": [],
   "source": [
    "N_runs = 10000\n",
    "data = pd.read_csv(join(res_path,'{}_{}.csv'.format(sim_name, N_runs)))\n",
    "data.index = data['index_case']"
   ]
  },
  {
   "cell_type": "markdown",
   "id": "pregnant-camel",
   "metadata": {},
   "source": [
    "### Transmissions from the index case"
   ]
  },
  {
   "cell_type": "code",
   "execution_count": 13,
   "id": "listed-madrid",
   "metadata": {},
   "outputs": [
    {
     "data": {
      "text/plain": [
       "index_case\n",
       "employee    2.7195\n",
       "resident    2.8616\n",
       "Name: R0_mean, dtype: float64"
      ]
     },
     "execution_count": 13,
     "metadata": {},
     "output_type": "execute_result"
    }
   ],
   "source": [
    "data['R0_mean']"
   ]
  },
  {
   "cell_type": "code",
   "execution_count": 14,
   "id": "abandoned-eight",
   "metadata": {},
   "outputs": [
    {
     "data": {
      "text/plain": [
       "index_case\n",
       "employee    2.007143\n",
       "resident    2.077806\n",
       "Name: R0_std, dtype: float64"
      ]
     },
     "execution_count": 14,
     "metadata": {},
     "output_type": "execute_result"
    }
   ],
   "source": [
    "data['R0_std']"
   ]
  },
  {
   "cell_type": "markdown",
   "id": "political-victim",
   "metadata": {},
   "source": [
    "### Outbreak sizes"
   ]
  },
  {
   "cell_type": "markdown",
   "id": "informal-march",
   "metadata": {},
   "source": [
    "**Note**: for resident index cases, one needs to be subtracted to correct for the index case"
   ]
  },
  {
   "cell_type": "code",
   "execution_count": 15,
   "id": "static-skating",
   "metadata": {},
   "outputs": [
    {
     "data": {
      "text/plain": [
       "index_case\n",
       "employee    27.6431\n",
       "resident    28.1367\n",
       "Name: infected_residents_mean, dtype: float64"
      ]
     },
     "execution_count": 15,
     "metadata": {},
     "output_type": "execute_result"
    }
   ],
   "source": [
    "data['infected_residents_mean']"
   ]
  },
  {
   "cell_type": "code",
   "execution_count": 16,
   "id": "digital-model",
   "metadata": {},
   "outputs": [
    {
     "data": {
      "text/plain": [
       "index_case\n",
       "employee    12.063137\n",
       "resident    11.485522\n",
       "Name: infected_residents_std, dtype: float64"
      ]
     },
     "execution_count": 16,
     "metadata": {},
     "output_type": "execute_result"
    }
   ],
   "source": [
    "data['infected_residents_std']"
   ]
  },
  {
   "cell_type": "code",
   "execution_count": 17,
   "id": "norwegian-correlation",
   "metadata": {},
   "outputs": [
    {
     "data": {
      "text/plain": [
       "index_case\n",
       "employee    0.0\n",
       "resident    1.0\n",
       "Name: infected_residents_0.10, dtype: float64"
      ]
     },
     "execution_count": 17,
     "metadata": {},
     "output_type": "execute_result"
    }
   ],
   "source": [
    "data['infected_residents_0.10']"
   ]
  },
  {
   "cell_type": "code",
   "execution_count": 18,
   "id": "incident-adolescent",
   "metadata": {},
   "outputs": [
    {
     "data": {
      "text/plain": [
       "index_case\n",
       "employee    33.0\n",
       "resident    33.0\n",
       "Name: infected_residents_median, dtype: float64"
      ]
     },
     "execution_count": 18,
     "metadata": {},
     "output_type": "execute_result"
    }
   ],
   "source": [
    "data['infected_residents_median']"
   ]
  },
  {
   "cell_type": "code",
   "execution_count": 19,
   "id": "flying-crawford",
   "metadata": {},
   "outputs": [
    {
     "data": {
      "text/plain": [
       "index_case\n",
       "employee    35.0\n",
       "resident    35.0\n",
       "Name: infected_residents_0.90, dtype: float64"
      ]
     },
     "execution_count": 19,
     "metadata": {},
     "output_type": "execute_result"
    }
   ],
   "source": [
    "data['infected_residents_0.90']"
   ]
  }
 ],
 "metadata": {
  "kernelspec": {
   "display_name": "Python 3",
   "language": "python",
   "name": "python3"
  },
  "language_info": {
   "codemirror_mode": {
    "name": "ipython",
    "version": 3
   },
   "file_extension": ".py",
   "mimetype": "text/x-python",
   "name": "python",
   "nbconvert_exporter": "python",
   "pygments_lexer": "ipython3",
   "version": "3.8.8"
  }
 },
 "nbformat": 4,
 "nbformat_minor": 5
}
