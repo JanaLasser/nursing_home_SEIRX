{
 "cells": [
  {
   "cell_type": "markdown",
   "id": "laughing-transport",
   "metadata": {},
   "source": [
    "# Analysis of SEIRX model runs for a no-measure scenario"
   ]
  },
  {
   "cell_type": "code",
   "execution_count": 1,
   "id": "offshore-disposition",
   "metadata": {},
   "outputs": [],
   "source": [
    "import pandas as pd\n",
    "import matplotlib.pyplot as plt\n",
    "import numpy as np\n",
    "from os.path import join\n",
    "import matplotlib.gridspec as gridspec\n",
    "import matplotlib as mpl"
   ]
  },
  {
   "cell_type": "code",
   "execution_count": 2,
   "id": "representative-university",
   "metadata": {},
   "outputs": [],
   "source": [
    "res_path = '../data/simulation_results'\n",
    "dst_path = '../plots/'\n",
    "sim_name = 'simulations_no_measures'"
   ]
  },
  {
   "cell_type": "markdown",
   "id": "relevant-grace",
   "metadata": {},
   "source": [
    "## B.1.1.7"
   ]
  },
  {
   "cell_type": "code",
   "execution_count": 3,
   "id": "detected-investment",
   "metadata": {},
   "outputs": [],
   "source": [
    "N_runs = 5000\n",
    "data = pd.read_csv(join(res_path,'{}_UK_variant_{}.csv'.format(sim_name, N_runs)))\n",
    "data.index = data['index_case']"
   ]
  },
  {
   "cell_type": "markdown",
   "id": "endless-tomato",
   "metadata": {},
   "source": [
    "### Transmissions from the index case"
   ]
  },
  {
   "cell_type": "code",
   "execution_count": 4,
   "id": "competent-penalty",
   "metadata": {},
   "outputs": [
    {
     "data": {
      "text/plain": [
       "index_case\n",
       "employee    2.4588\n",
       "resident    3.1678\n",
       "Name: R0_mean, dtype: float64"
      ]
     },
     "execution_count": 4,
     "metadata": {},
     "output_type": "execute_result"
    }
   ],
   "source": [
    "data['R0_mean']"
   ]
  },
  {
   "cell_type": "code",
   "execution_count": 5,
   "id": "protective-genesis",
   "metadata": {},
   "outputs": [
    {
     "data": {
      "text/plain": [
       "index_case\n",
       "employee    1.990049\n",
       "resident    2.317567\n",
       "Name: R0_std, dtype: float64"
      ]
     },
     "execution_count": 5,
     "metadata": {},
     "output_type": "execute_result"
    }
   ],
   "source": [
    "data['R0_std']"
   ]
  },
  {
   "cell_type": "markdown",
   "id": "opponent-finnish",
   "metadata": {},
   "source": [
    "### Outbreak sizes"
   ]
  },
  {
   "cell_type": "markdown",
   "id": "seven-steering",
   "metadata": {},
   "source": [
    "**Note**: for resident index cases, one needs to be subtracted to correct for the index case"
   ]
  },
  {
   "cell_type": "code",
   "execution_count": 6,
   "id": "exact-patient",
   "metadata": {},
   "outputs": [
    {
     "data": {
      "text/plain": [
       "index_case\n",
       "employee    26.7682\n",
       "resident    28.6284\n",
       "Name: infected_residents_mean, dtype: float64"
      ]
     },
     "execution_count": 6,
     "metadata": {},
     "output_type": "execute_result"
    }
   ],
   "source": [
    "data['infected_residents_mean']"
   ]
  },
  {
   "cell_type": "code",
   "execution_count": 7,
   "id": "painful-newport",
   "metadata": {},
   "outputs": [
    {
     "data": {
      "text/plain": [
       "index_case\n",
       "employee    13.054308\n",
       "resident    11.247525\n",
       "Name: infected_residents_std, dtype: float64"
      ]
     },
     "execution_count": 7,
     "metadata": {},
     "output_type": "execute_result"
    }
   ],
   "source": [
    "data['infected_residents_std']"
   ]
  },
  {
   "cell_type": "code",
   "execution_count": 8,
   "id": "theoretical-stand",
   "metadata": {},
   "outputs": [
    {
     "data": {
      "text/plain": [
       "index_case\n",
       "employee    0.0\n",
       "resident    1.0\n",
       "Name: infected_residents_0.10, dtype: float64"
      ]
     },
     "execution_count": 8,
     "metadata": {},
     "output_type": "execute_result"
    }
   ],
   "source": [
    "data['infected_residents_0.10']"
   ]
  },
  {
   "cell_type": "code",
   "execution_count": 9,
   "id": "major-outdoors",
   "metadata": {},
   "outputs": [
    {
     "data": {
      "text/plain": [
       "index_case\n",
       "employee    33.0\n",
       "resident    33.0\n",
       "Name: infected_residents_median, dtype: float64"
      ]
     },
     "execution_count": 9,
     "metadata": {},
     "output_type": "execute_result"
    }
   ],
   "source": [
    "data['infected_residents_median']"
   ]
  },
  {
   "cell_type": "code",
   "execution_count": 10,
   "id": "impaired-catalog",
   "metadata": {},
   "outputs": [
    {
     "data": {
      "text/plain": [
       "index_case\n",
       "employee    35.0\n",
       "resident    35.0\n",
       "Name: infected_residents_0.90, dtype: float64"
      ]
     },
     "execution_count": 10,
     "metadata": {},
     "output_type": "execute_result"
    }
   ],
   "source": [
    "data['infected_residents_0.90']"
   ]
  },
  {
   "cell_type": "markdown",
   "id": "legitimate-pointer",
   "metadata": {},
   "source": [
    "## Wild type"
   ]
  },
  {
   "cell_type": "code",
   "execution_count": 11,
   "id": "engaging-memorial",
   "metadata": {},
   "outputs": [],
   "source": [
    "N_runs = 5000\n",
    "data = pd.read_csv(join(res_path,'{}_{}.csv'.format(sim_name, N_runs)))\n",
    "data.index = data['index_case']"
   ]
  },
  {
   "cell_type": "markdown",
   "id": "english-graph",
   "metadata": {},
   "source": [
    "### Transmissions from the index case"
   ]
  },
  {
   "cell_type": "code",
   "execution_count": 12,
   "id": "emerging-volunteer",
   "metadata": {},
   "outputs": [
    {
     "data": {
      "text/plain": [
       "index_case\n",
       "employee    1.6464\n",
       "resident    2.1406\n",
       "Name: R0_mean, dtype: float64"
      ]
     },
     "execution_count": 12,
     "metadata": {},
     "output_type": "execute_result"
    }
   ],
   "source": [
    "data['R0_mean']"
   ]
  },
  {
   "cell_type": "code",
   "execution_count": 13,
   "id": "pretty-night",
   "metadata": {},
   "outputs": [
    {
     "data": {
      "text/plain": [
       "index_case\n",
       "employee    1.540468\n",
       "resident    1.788147\n",
       "Name: R0_std, dtype: float64"
      ]
     },
     "execution_count": 13,
     "metadata": {},
     "output_type": "execute_result"
    }
   ],
   "source": [
    "data['R0_std']"
   ]
  },
  {
   "cell_type": "markdown",
   "id": "protective-provision",
   "metadata": {},
   "source": [
    "### Outbreak sizes"
   ]
  },
  {
   "cell_type": "markdown",
   "id": "built-truck",
   "metadata": {},
   "source": [
    "**Note**: for resident index cases, one needs to be subtracted to correct for the index case"
   ]
  },
  {
   "cell_type": "code",
   "execution_count": 14,
   "id": "inappropriate-bearing",
   "metadata": {},
   "outputs": [
    {
     "data": {
      "text/plain": [
       "index_case\n",
       "employee    17.3748\n",
       "resident    20.1048\n",
       "Name: infected_residents_mean, dtype: float64"
      ]
     },
     "execution_count": 14,
     "metadata": {},
     "output_type": "execute_result"
    }
   ],
   "source": [
    "data['infected_residents_mean']"
   ]
  },
  {
   "cell_type": "code",
   "execution_count": 15,
   "id": "aware-league",
   "metadata": {},
   "outputs": [
    {
     "data": {
      "text/plain": [
       "index_case\n",
       "employee    13.94439\n",
       "resident    12.86910\n",
       "Name: infected_residents_std, dtype: float64"
      ]
     },
     "execution_count": 15,
     "metadata": {},
     "output_type": "execute_result"
    }
   ],
   "source": [
    "data['infected_residents_std']"
   ]
  },
  {
   "cell_type": "code",
   "execution_count": 16,
   "id": "ambient-cleaner",
   "metadata": {},
   "outputs": [
    {
     "data": {
      "text/plain": [
       "index_case\n",
       "employee    0.0\n",
       "resident    1.0\n",
       "Name: infected_residents_0.10, dtype: float64"
      ]
     },
     "execution_count": 16,
     "metadata": {},
     "output_type": "execute_result"
    }
   ],
   "source": [
    "data['infected_residents_0.10']"
   ]
  },
  {
   "cell_type": "code",
   "execution_count": 17,
   "id": "broken-estate",
   "metadata": {},
   "outputs": [
    {
     "data": {
      "text/plain": [
       "index_case\n",
       "employee    25.0\n",
       "resident    27.0\n",
       "Name: infected_residents_median, dtype: float64"
      ]
     },
     "execution_count": 17,
     "metadata": {},
     "output_type": "execute_result"
    }
   ],
   "source": [
    "data['infected_residents_median']"
   ]
  },
  {
   "cell_type": "code",
   "execution_count": 18,
   "id": "intimate-million",
   "metadata": {},
   "outputs": [
    {
     "data": {
      "text/plain": [
       "index_case\n",
       "employee    32.0\n",
       "resident    32.0\n",
       "Name: infected_residents_0.90, dtype: float64"
      ]
     },
     "execution_count": 18,
     "metadata": {},
     "output_type": "execute_result"
    }
   ],
   "source": [
    "data['infected_residents_0.90']"
   ]
  }
 ],
 "metadata": {
  "kernelspec": {
   "display_name": "Python 3",
   "language": "python",
   "name": "python3"
  },
  "language_info": {
   "codemirror_mode": {
    "name": "ipython",
    "version": 3
   },
   "file_extension": ".py",
   "mimetype": "text/x-python",
   "name": "python",
   "nbconvert_exporter": "python",
   "pygments_lexer": "ipython3",
   "version": "3.8.8"
  }
 },
 "nbformat": 4,
 "nbformat_minor": 5
}
