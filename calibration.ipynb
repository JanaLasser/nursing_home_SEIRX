{
 "cells": [
  {
   "cell_type": "markdown",
   "metadata": {},
   "source": [
    "# Calibration of transmission risk parameters"
   ]
  },
  {
   "cell_type": "code",
   "execution_count": 1,
   "metadata": {},
   "outputs": [],
   "source": [
    "import numpy as np\n",
    "import matplotlib.pyplot as plt\n",
    "import networkx as nx\n",
    "import pandas as pd\n",
    "from os.path import join\n",
    "from itertools import product\n",
    "\n",
    "from model_nursing_home import SEIRX_nursing_home\n",
    "from analysis_functions import *\n",
    "import importlib\n",
    "import viz\n",
    "# for progress bars\n",
    "from ipywidgets import IntProgress\n",
    "from IPython.display import display\n",
    "import time"
   ]
  },
  {
   "cell_type": "code",
   "execution_count": 2,
   "metadata": {},
   "outputs": [],
   "source": [
    "from matplotlib import rc\n",
    "rc('font',**{'family':'sans-serif','sans-serif':['Helvetica']})\n",
    "rc('text', usetex=True)"
   ]
  },
  {
   "cell_type": "markdown",
   "metadata": {},
   "source": [
    "### Calibration of basic reproduction number (no interventions)"
   ]
  },
  {
   "cell_type": "code",
   "execution_count": 3,
   "metadata": {},
   "outputs": [],
   "source": [
    "res_path = '../../../results/nursing_homes'"
   ]
  },
  {
   "cell_type": "code",
   "execution_count": 6,
   "metadata": {},
   "outputs": [
    {
     "data": {
      "application/vnd.jupyter.widget-view+json": {
       "model_id": "5d5bcba2ccb148e489797f7b490f0b14",
       "version_major": 2,
       "version_minor": 0
      },
      "text/plain": [
       "IntProgress(value=0, max=1000)"
      ]
     },
     "metadata": {},
     "output_type": "display_data"
    }
   ],
   "source": [
    "sim_name = 'basic_reproduction_calibration'\n",
    "N_steps = 300\n",
    "verbosity = 0\n",
    "runs = 1000\n",
    "testing = False\n",
    "index_case_group = 'employee'\n",
    "G = nx.readwrite.gpickle.read_gpickle('../data/interactions_single_quarter.gpickle')\n",
    "agent_types = \\\n",
    "    {\n",
    "    'employee':{'screening_interval': None,\n",
    "                'index_probability': 0,\n",
    "                'transmission_risk': 0.0275,\n",
    "                'reception_risk': 1,\n",
    "                'symptom_probability': 0.6},\n",
    "    \n",
    "    'resident':{'screening_interval': None,\n",
    "                'index_probability': 0,\n",
    "                'transmission_risk': 0.0275,\n",
    "                'reception_risk': 1,\n",
    "                'symptom_probability': 0.6}\n",
    "    }\n",
    "\n",
    "\n",
    "# progress bar\n",
    "f = IntProgress(min=0, max=runs)\n",
    "display(f)\n",
    "\n",
    "results = pd.DataFrame()\n",
    "for r in range(runs):\n",
    "    f.value = r\n",
    "    \n",
    "    # instantiate model (testing turned off for calibration and related \n",
    "    # parameters not needed)\n",
    "    model = SEIRX_nursing_home(G, verbosity, testing=testing,\n",
    "              diagnostic_test_type = 'one_day_PCR',\n",
    "              preventive_screening_test_type = 'same_day_LAMP',\n",
    "              index_case = index_case_group,\n",
    "              follow_up_testing_interval = None,\n",
    "              agent_types = agent_types)\n",
    "    \n",
    "    for i in range(N_steps):\n",
    "        model.step()\n",
    "        \n",
    "        # break if first outbreak is over\n",
    "        if len([a for a in model.schedule.agents if \\\n",
    "            (a.exposed == True or a.infectious == True)]) == 0:\n",
    "            break\n",
    "        \n",
    "    R0, _ = calculate_finite_size_R0(model)\n",
    "    infected_employees, infected_patients = count_infected(model)\n",
    "    transmissions = sum([a.transmissions for a in model.schedule.agents])\n",
    "    data = model.datacollector.get_model_vars_dataframe()\n",
    "    \n",
    "    results = results.append({'run':r, \n",
    "                              'R0':R0,\n",
    "                              'infected_employees':infected_employees,\n",
    "                              'infected_patients':infected_patients,\n",
    "                              'transmissions':transmissions,\n",
    "                              'duration':len(data)},\n",
    "                            ignore_index=True)\n",
    "    \n",
    "results.to_csv(join(res_path, 'simulation_results/{}_index_case_{}.csv'\\\n",
    "                    .format(sim_name, index_case_group)),\n",
    "               index=False)"
   ]
  },
  {
   "cell_type": "code",
   "execution_count": 7,
   "metadata": {},
   "outputs": [
    {
     "name": "stdout",
     "output_type": "stream",
     "text": [
      "R0 = 2.606 +- 1.329\n"
     ]
    }
   ],
   "source": [
    "print('R0 = {:1.3f} +- {:1.3f}'\\\n",
    "      .format(results['R0'].mean(), results['R0'].std()))"
   ]
  },
  {
   "cell_type": "markdown",
   "metadata": {},
   "source": [
    "**v1.1**  \n",
    "Statistics for 1000 runs (18 employees, 34 residents). The following transmission settings lead to a reproduction number of $R_0 = 4.822\\pm 2.008$ (resident as index case) and $R_0 = 2.606 \\pm 1.329$ (employee as index case):\n",
    "* transmission risk employee = 0.022\n",
    "* transmission risk resident = 0.022\n",
    "* reception risk employee = 1.0\n",
    "* reception risk resident = 1.0\n",
    "* transmission area multiplier for patients: close = 2, intermediate = 1, far = 0.25\n",
    "* symptom probability = 0.6, subclinical multiplier = 1"
   ]
  },
  {
   "cell_type": "markdown",
   "metadata": {},
   "source": [
    "**v1.0**  \n",
    "Statistics for 1000 runs (18 employees, 34 residents). The following transmission settings lead to a reproduction number of $R_0 = 3.784\\pm 1.828$ (resident as index case) and $R_0 = 2.962 \\pm 1.525$ (employee as index case):\n",
    "* transmission risk resident $\\rightarrow$ resident = 0.01\n",
    "* transmission risk resident $\\rightarrow$ employee = 0.01\n",
    "* transmission risk employee $\\rightarrow$ resident = 0.01\n",
    "* transmission risk employee $\\rightarrow$ employee = 0.01\n",
    "* transmission area multiplier for patients: room = 4, table = 2, quarters = 1\n",
    "* symptom probability = 0.6, subclinical multiplier = 1"
   ]
  },
  {
   "cell_type": "code",
   "execution_count": 22,
   "metadata": {},
   "outputs": [
    {
     "name": "stderr",
     "output_type": "stream",
     "text": [
      "findfont: Font family ['sans-serif'] not found. Falling back to DejaVu Sans.\n"
     ]
    },
    {
     "data": {
      "image/png": "[encoded data removed]",
      "text/plain": [
       "<Figure size 720x432 with 1 Axes>"
      ]
     },
     "metadata": {
      "needs_background": "light"
     },
     "output_type": "display_data"
    }
   ],
   "source": [
    "results_resident = pd.read_csv(join(res_path, 'simulation_results/basic_reproduction_calibration_index_case_resident.csv'))\n",
    "results_employee = pd.read_csv(join(res_path, 'simulation_results/basic_reproduction_calibration_index_case_employee.csv'))\n",
    "\n",
    "sim_name = 'basic_reproduction_calibration_R0'\n",
    "fig, ax = plt.subplots(figsize=(10,6))\n",
    "R0_employee = results_employee['R0'].mean()\n",
    "R0_employee_std = results_employee['R0'].std()\n",
    "R0_resident = results_resident['R0'].mean()\n",
    "R0_resident_std = results_resident['R0'].std()\n",
    "\n",
    "xmax = 9\n",
    "ymax = 1\n",
    "\n",
    "ax.hist([results_resident['R0'], results_employee['R0']], \\\n",
    "         label=['$R_{{0, \\\\mathrm{{resident}}}}={:1.2f}\\\\pm{:1.2f}$'\\\n",
    "                    .format(R0_resident, R0_resident_std),\\\n",
    "                 '$R_{{0, \\\\mathrm{{employee}}}}={:1.2f}\\\\pm{:1.2f}$'\\\n",
    "                    .format(R0_employee, R0_employee_std)],\n",
    "          bins=np.arange(0, xmax, 0.5), density=True,\n",
    "          color=['FireBrick', 'GoldenRod'], align='left')\n",
    "\n",
    "ax.plot([R0_resident, R0_resident], [0, ymax], '--', color='FireBrick')\n",
    "ax.plot([R0_employee, R0_employee], [0, ymax], '--', color='GoldenRod')\n",
    "\n",
    "ax.legend(fontsize=14)\n",
    "ax.set_xticks(range(0, xmax))\n",
    "ax.set_xticklabels(range(0, xmax), fontsize=14)\n",
    "ax.set_yticks([0.0, 0.2, 0.4, 0.6, 0.8, 1.0])\n",
    "ax.set_yticklabels([0.0, 0.2, 0.4, 0.6, 0.8, 1.0], fontsize=14)\n",
    "ax.set_xlabel('finite size R0', fontsize=14)\n",
    "ax.set_ylabel('pdf', fontsize=14)\n",
    "ax.set_ylim(0, ymax)\n",
    "ax.set_xlim(-0.5, xmax)\n",
    "\n",
    "plt.savefig(join(res_path, 'plots/{}.pdf'.format(sim_name)),\n",
    "                 transparent=True)"
   ]
  },
  {
   "cell_type": "code",
   "execution_count": 23,
   "metadata": {},
   "outputs": [
    {
     "name": "stderr",
     "output_type": "stream",
     "text": [
      "findfont: Font family ['sans-serif'] not found. Falling back to DejaVu Sans.\n"
     ]
    },
    {
     "data": {
      "image/png": "[encoded data removed]",
      "text/plain": [
       "<Figure size 1296x432 with 2 Axes>"
      ]
     },
     "metadata": {
      "needs_background": "light"
     },
     "output_type": "display_data"
    }
   ],
   "source": [
    "sim_name = 'basic_reproduction_calibration_Ninfected'\n",
    "fig, axes = plt.subplots(1, 2, figsize=(18, 6))\n",
    "\n",
    "results_resident = pd.read_csv(join(res_path, 'simulation_results/basic_reproduction_calibration_index_case_resident.csv'))\n",
    "results_employee = pd.read_csv(join(res_path, 'simulation_results/basic_reproduction_calibration_index_case_employee.csv'))\n",
    "\n",
    "for ax, results, title in zip(axes, [results_resident, results_employee],\\\n",
    "                    ['index case resident', 'index case employee']):\n",
    "    infected_patients = results['infected_patients'].mean()\n",
    "    infected_employees = results['infected_employees'].mean()\n",
    "\n",
    "    ax.hist([results['infected_patients'], results['infected_employees']], \\\n",
    "                      label=['residents: {:1.2f}'.format(infected_patients),\n",
    "                             'employees: {:1.2f}'.format(infected_employees)],\n",
    "                      density=True, bins=range(0, 36, 3), rwidth=0.5,\n",
    "                      color=['FireBrick', 'GoldenRod'], align='left')\n",
    "    \n",
    "    ax.set_title(title, fontsize=12)\n",
    "    ax.legend(loc=9)\n",
    "\n",
    "plt.savefig(join(res_path, 'plots/{}.pdf'.format(sim_name)),\n",
    "                 transparent=True)"
   ]
  }
 ],
 "metadata": {
  "kernelspec": {
   "display_name": "Python 3",
   "language": "python",
   "name": "python3"
  },
  "language_info": {
   "codemirror_mode": {
    "name": "ipython",
    "version": 3
   },
   "file_extension": ".py",
   "mimetype": "text/x-python",
   "name": "python",
   "nbconvert_exporter": "python",
   "pygments_lexer": "ipython3",
   "version": "3.8.2"
  }
 },
 "nbformat": 4,
 "nbformat_minor": 4
}
