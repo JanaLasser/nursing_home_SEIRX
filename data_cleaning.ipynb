{
 "cells": [
  {
   "cell_type": "markdown",
   "metadata": {},
   "source": [
    "# Data cleaning"
   ]
  },
  {
   "cell_type": "markdown",
   "metadata": {},
   "source": [
    "## Clarifications\n",
    "* ```Isolierbereich``` signifies if inhabitant was in the isolation station or not?\n",
    "* ```Checkpoint```?\n",
    "* difference between ```Besucherzone/Garten``` and ```Garten_Aufenthalt```?\n",
    "* ```WB_übergreifender_BW_Kontakt_```? \n",
    "* employees no longer have infection information\n",
    "* ```Tischnummer=0``` should be NaN?"
   ]
  },
  {
   "cell_type": "markdown",
   "metadata": {},
   "source": [
    "## Contact defining columns\n",
    "Direct (strong)\n",
    "* ```Zimmernummer```\n",
    "* ```vis-a-vis_Tischnachbar```\n",
    "* ```Tischnummer```\n",
    "* ```Isolierbereich```\n",
    "* ```Kontakt_interne_MA``` && ```MA_ohne_Maske```\n",
    "\n",
    "Indirect (medium)\n",
    "* ```Wohnzimmer Aufenthalt```\n",
    "* ```Aula_Aufenthalt```\n",
    "* ```Kaffeehaus_ohne_Plexiglas_Aufenthalt```\n",
    "* ```Plexiglas_vis-a-vis_Tischnachbar```\n",
    "* ```Hl_Messe_Aufenthalt```\n",
    "* ```Speisesaal```\n",
    "* ```Kontakt_interne_MA``` && (```MA_mit_MNS``` | ```MA_mit_FFP2_ohne_Ventil``` | ```MA_mit_FFP2_mit_Ventil```)\n",
    "\n",
    "Indirect (weak)\n",
    "* ```Garten_Aufenthalt```\n",
    "* ```Kaffeehaus_mit_Plexiglas_Aufenthalt```\n",
    "* ```Wohnbereich```\n",
    "\n",
    "External contacts\n",
    "* ```Arzt_Ordination_Kontakt```\n",
    "* ```KH_ambulant```\n",
    "* ```KH_stationär```\n",
    "* ```Anzahl_Besucher``` $\\rightarrow$ linear scaling of risk with number of visitors\n",
    "* ```externe_Aktivität```\n",
    "* ```Kontakt_externe_MA``` && (```MA_mit_MNS``` | ```MA_mit_FFP2_ohne_Ventil``` | ```MA_mit_FFP2_mit_Ventil```)\n",
    "* ```Kontakt_externe_MA``` && ```MA_ohne_Maske```\n",
    "\n",
    "Mobility $\\rightarrow$ treat as levels [0, 1, 2, 3]\n",
    "* ```mobil_hypermobil```\n",
    "* ```mobil_ohne_Einschräkung```\n",
    "* ```mobil_Rollstuhl```\n",
    "* ```mobil_inmobil```"
   ]
  },
  {
   "cell_type": "markdown",
   "metadata": {},
   "source": [
    "## Analysis ideas\n",
    "Do the following for every ```Haus```\n",
    "\n",
    "1. measure link strengths from data:\n",
    "    * identify index cases\n",
    "    * for every week: logistic regression person_infected ~ shared_room + shared_table + ...\n",
    "2. construct contact network between all inhabitants and employees:\n",
    "    * there is a contact/link if at least one of the direct or indirect contact possibilities are shared\n",
    "    * at first: uniform link strength"
   ]
  },
  {
   "cell_type": "markdown",
   "metadata": {},
   "source": [
    "Kontakte:\n",
    "* gemeinsamer Wohnbereich\n",
    "* gemeinsamer Tisch\n",
    "* gemeinsames Zimmer"
   ]
  },
  {
   "cell_type": "markdown",
   "metadata": {},
   "source": [
    "* S(E)IR Modell\n",
    "* Poissonprozesse mit Konstanter Rate\n",
    "* Andere Parameter in Regression screenen\n",
    "* Freie parameter: \n",
    "    - Hintergrundwahrscheinlichkeit / Ansteckung von Extern\n",
    "    - effektive Infektiösitätsdauer"
   ]
  },
  {
   "cell_type": "code",
   "execution_count": 183,
   "metadata": {},
   "outputs": [],
   "source": [
    "import pandas as pd\n",
    "import numpy as np"
   ]
  },
  {
   "cell_type": "code",
   "execution_count": 184,
   "metadata": {},
   "outputs": [],
   "source": [
    "def ParseDate(date, week_type='start'):\n",
    "    '''\n",
    "    date strings have the format DD.MM. - DD.MM., where the first DD.MM. is the\n",
    "    start of the time period (week) and the second DD.MM. is the end of the time\n",
    "    period\n",
    "    '''\n",
    "    if week_type == 'start':\n",
    "        date = date.split('_')[0]\n",
    "    else:\n",
    "        date = date.split('_')[1]\n",
    "        \n",
    "    month = int(date.split('.')[1])\n",
    "    day = int(date.split('.')[0])\n",
    "    return pd.to_datetime('2020-{}-{}'.format(month, day))"
   ]
  },
  {
   "cell_type": "code",
   "execution_count": 185,
   "metadata": {},
   "outputs": [
    {
     "data": {
      "text/plain": [
       "\"\\n# zip PW: ca612b280809422fa1b8ff689cdf97b8\\nimport uuid\\nfor WB in [2, 4]:\\n    f = pd.ExcelFile('../../data/nursing_homes/WB{}.xlsx'.format(WB))\\n    names = f.sheet_names \\n    name_table = pd.DataFrame()\\n    name_table['name'] = names\\n    name_table['ID'] = [uuid.uuid4().hex for i in range(len(name_table))]\\n    name_table.to_csv('../../data/nursing_homes/name_table_WB{}.csv'.format(WB),\\n                      index=False)\\n\""
      ]
     },
     "execution_count": 185,
     "metadata": {},
     "output_type": "execute_result"
    }
   ],
   "source": [
    "'''\n",
    "# zip PW: ca612b280809422fa1b8ff689cdf97b8\n",
    "import uuid\n",
    "for WB in [2, 4]:\n",
    "    f = pd.ExcelFile('../../data/nursing_homes/WB{}.xlsx'.format(WB))\n",
    "    names = f.sheet_names \n",
    "    name_table = pd.DataFrame()\n",
    "    name_table['name'] = names\n",
    "    name_table['ID'] = [uuid.uuid4().hex for i in range(len(name_table))]\n",
    "    name_table.to_csv('../../data/nursing_homes/name_table_WB{}.csv'.format(WB),\n",
    "                      index=False)\n",
    "'''"
   ]
  },
  {
   "cell_type": "code",
   "execution_count": 111,
   "metadata": {},
   "outputs": [
    {
     "name": "stdout",
     "output_type": "stream",
     "text": [
      "WB: 2\n",
      "WB: 4\n"
     ]
    }
   ],
   "source": [
    "# parse sheets into a single data file\n",
    "for WB in [2, 4]:\n",
    "    print('WB: {}'.format(WB))\n",
    "    data = pd.DataFrame()\n",
    "    name_table = pd.read_csv('../../data/nursing_homes/name_table_WB{}.csv'\\\n",
    "                             .format(WB))\n",
    "    for i, row in name_table.iterrows():\n",
    "        if row['name'] != 'Eckdaten':\n",
    "            #print(i)\n",
    "            tmp = pd.read_excel('../../data/nursing_homes/WB{}.xlsx'.format(WB),\n",
    "                          sheet_name=row['name'])\n",
    "            if '16.03.2020 - 26.07.2020 ' in tmp.columns:\n",
    "                print(row['name'])\n",
    "            tmp['ID'] = row['ID']\n",
    "            data = pd.concat([data, tmp])\n",
    "        \n",
    "    data.to_csv('../../data/nursing_homes/WB{}_combined_raw.csv'.format(WB),\n",
    "               index=False)"
   ]
  },
  {
   "cell_type": "code",
   "execution_count": 188,
   "metadata": {},
   "outputs": [],
   "source": [
    "for WB in [2, 4]:\n",
    "    data = pd.read_csv('../../data/nursing_homes/WB{}_combined_raw.csv'.format(WB))\n",
    "    data = data.rename(columns={'Kontakt_ interne_MA':'Kontakt_interne_MA',\n",
    "                                'WB_übergreifender_BW_Kontakt_':'WB_übergreifender_BW_Kontakt',\n",
    "                                'MA_ohne Maske':'MA_ohne_Maske',\n",
    "                                'Zimmer-Nr.':'Zimmernummer',\n",
    "                                'MA_mit_MNS ':'MA_mit_MNS',\n",
    "                                'mobil_ohne_Einschränkung':'mobil_ohne_Einschränkung'})\n",
    "    data = data.dropna(subset=['Datum'])\n",
    "    data['week'] = data['Datum'].apply(ParseDate)\n",
    "    data = data.drop(columns=['Datum'])\n",
    "    # drops second column for \"WB_übergreifender_BW_Kontakt\", which contains next\n",
    "    # to no data (6 \"0\" entries)\n",
    "    data = data.loc[:,~data.columns.duplicated()]\n",
    "\n",
    "    data['Geschlecht'] = data['Geschlecht'].replace({' w':'w'})\n",
    "    data['Zimmernummer'] = data['Zimmernummer'].replace({'0':np.nan, '999':np.nan})\n",
    "    data['Tischnummer'] = data['Tischnummer'].replace({0:np.nan})\n",
    "\n",
    "    for c in ['Wohnbereich', 'Isolierbereich', 'Alter', 'Verstorben', \n",
    "     'mobil_hypermobil', 'mobil_ohne_Einschränkung', 'mobil_Rollstuhl',\n",
    "     'mobil_inmobil', 'Pflegestufe', 'Covid19_pos',\n",
    "     'Wohnzimmer_Aufenthalt', 'Speisesaal', 'Tischnummer', 'vis-a-vis_Tischnachbar',\n",
    "     'Plexiglas_vis-a-vis_Tischnachbar', 'Kontakt_externe_MA', 'Kontakt_interne_MA',\n",
    "     'Arzt_Ordination_Kontakt', 'KH_ambulant', 'KH_stationär', 'Checkpoint',\n",
    "     'Anzahl_Besucher', 'Hl_Messe_Aufenthalt', 'Aula_Aufenthalt', 'externe_Aktivität',\n",
    "     'Garten_Aufenthalt', 'Kaffeehaus_ohne_Plexiglas_Aufenthalt',\n",
    "     'Kaffeehaus_mit_Plexiglas_Aufenthalt', 'MA_ohne_Maske', 'MA_mit_MNS',\n",
    "     'MA_mit_FFP2', 'PCR_Test', 'Besucherzone/Garten', 'WB_übergreifender_BW_Kontakt']:\n",
    "        data[c] = data[c].replace({999:np.nan})\n",
    "        \n",
    "    # remove/replace symbols from column-names that confuse the patsy\n",
    "    # formula api from statsmodels\n",
    "    for c in data.columns:\n",
    "        new_c = c.replace('.','')\n",
    "        new_c = new_c.replace('(','')\n",
    "        new_c = new_c.replace(')','')\n",
    "        new_c = new_c.replace(' ','_')\n",
    "        new_c = new_c.replace('+','_plus_')\n",
    "        new_c = new_c.replace('-','_')\n",
    "        new_c = new_c.replace('/','_und_')\n",
    "        new_c = new_c.replace(',','')\n",
    "        new_c = new_c.replace('ü','ue')\n",
    "        new_c = new_c.replace('ö','oe')\n",
    "        new_c = new_c.replace('ä','ae')\n",
    "        data = data.rename(columns={c:new_c})\n",
    "        \n",
    "    data.to_csv('../../data/nursing_homes/WB{}_combined_clean.csv'.format(WB), index=False)"
   ]
  },
  {
   "cell_type": "code",
   "execution_count": null,
   "metadata": {},
   "outputs": [],
   "source": []
  }
 ],
 "metadata": {
  "kernelspec": {
   "display_name": "Python 3",
   "language": "python",
   "name": "python3"
  },
  "language_info": {
   "codemirror_mode": {
    "name": "ipython",
    "version": 3
   },
   "file_extension": ".py",
   "mimetype": "text/x-python",
   "name": "python",
   "nbconvert_exporter": "python",
   "pygments_lexer": "ipython3",
   "version": "3.8.2"
  }
 },
 "nbformat": 4,
 "nbformat_minor": 4
}
