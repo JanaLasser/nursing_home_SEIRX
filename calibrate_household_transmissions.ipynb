{
 "cells": [
  {
   "cell_type": "markdown",
   "metadata": {},
   "source": [
    "# Calibration of household transmissions"
   ]
  },
  {
   "cell_type": "code",
   "execution_count": 1,
   "metadata": {},
   "outputs": [],
   "source": [
    "import numpy as np\n",
    "import matplotlib.pyplot as plt\n",
    "import pandas as pd\n",
    "import scipy as sp\n",
    "from scipy.special import gamma\n",
    "from os.path import join\n",
    "from tqdm import tqdm_notebook as tqdm\n",
    "from scipy.stats import linregress"
   ]
  },
  {
   "cell_type": "markdown",
   "metadata": {},
   "source": [
    "According to a recent meta study [Madwell et al. 2020](https://jamanetwork.com/journals/jamanetworkopen/fullarticle/2774102), household secondary attack rate to adult contacts is $\\text{SAR}_\\text{literature}=28.3$ % (average of symptomatic and asymptomatic index cases). To calibrate the base transmission risk $\\beta$ between two agents in a household, we simulate household transmissions for our setting in which the transmission risk is declining with infection duration and agents have a given probability to develop a symptomatic course (asymptomatic courses also reduce transmissibility)."
   ]
  },
  {
   "cell_type": "code",
   "execution_count": 2,
   "metadata": {},
   "outputs": [],
   "source": [
    "target_attack_rate = 0.283"
   ]
  },
  {
   "cell_type": "markdown",
   "metadata": {},
   "source": [
    "## Transmission risk modification due to infection progression"
   ]
  },
  {
   "cell_type": "markdown",
   "metadata": {},
   "source": [
    "In our simulation, the base transmission risk is multiplied with a modifier $m(\\text{day})$, which is 1 until symptom onset and then linearly decreases until it reaches zero at the time that corresponds to the infection duration (as depicted below)."
   ]
  },
  {
   "cell_type": "code",
   "execution_count": 3,
   "metadata": {},
   "outputs": [],
   "source": [
    "def get_transmission_risk_time_modifier(exposure_duration, time_until_symptoms,\n",
    "                                       infection_duration, days_since_exposure):\n",
    "    '''\n",
    "    Given an agents exposure duration, time until symptom onset and infection\n",
    "    duration, returns the modifier to the transmission risk, based on the \n",
    "    progression of the infection (days since exposure).\n",
    "    '''\n",
    "    asymptomatic_infectious = time_until_symptoms - exposure_duration\n",
    "    \n",
    "    try:\n",
    "        modifier = 1 - max(0, days_since_exposure - asymptomatic_infectious) / \\\n",
    "                    (infection_duration - asymptomatic_infectious)\n",
    "    except ZeroDivisionError:\n",
    "        return 1\n",
    "    return modifier"
   ]
  },
  {
   "cell_type": "code",
   "execution_count": 4,
   "metadata": {},
   "outputs": [
    {
     "data": {
      "image/png": "[encoded data removed]",
      "text/plain": [
       "<Figure size 576x288 with 1 Axes>"
      ]
     },
     "metadata": {
      "needs_background": "light"
     },
     "output_type": "display_data"
    }
   ],
   "source": [
    "# illustration of the decline of transmission risk with infection progression\n",
    "infection_duration = 10\n",
    "exposure_duration = 5\n",
    "time_until_symptoms = 6\n",
    "asymptomatic_infectious = time_until_symptoms - exposure_duration\n",
    "\n",
    "x = np.arange(0, infection_duration + 1)\n",
    "y = [get_transmission_risk_time_modifier(exposure_duration, time_until_symptoms,\n",
    "                                         infection_duration, i) for i in x]\n",
    "\n",
    "fig, ax = plt.subplots(figsize=(8, 4))\n",
    "ax.plot(x, y)\n",
    "ax.plot([asymptomatic_infectious, asymptomatic_infectious], [0, 1],\n",
    "        '--', color='grey')\n",
    "ax.text(asymptomatic_infectious + 0.2, 0.1, 'symptom onset')\n",
    "ax.set_xticks(x)\n",
    "ax.set_yticks(np.arange(0, 1.1, 0.2))\n",
    "ax.set_ylabel('transmission risk modifier $m$')\n",
    "ax.set_xlabel('days since becoming infectious')\n",
    "ax.set_ylim(0, 1.1);"
   ]
  },
  {
   "cell_type": "markdown",
   "metadata": {},
   "source": [
    "## Age dependent secondary attack rate"
   ]
  },
  {
   "cell_type": "markdown",
   "metadata": {},
   "source": [
    "According to a cohort study from Italy [Poletti et al. 2020](https://jamanetwork.com/journals/jamanetworkopen/fullarticle/2777314) (table 1), the probability to have a symptomatic course strongly depends on age. The probabilities reported for the different age brackets are:\n",
    "* 0-19 years old: 18.09%\n",
    "* 20-39 years old: 22.41%\n",
    "* 40-59 years old: 30.51%\n",
    "* 60-79 years old: 35.46%\n",
    "* older than 80 years: 64.56%"
   ]
  },
  {
   "cell_type": "markdown",
   "metadata": {},
   "source": [
    "### Study index case contributions"
   ]
  },
  {
   "cell_type": "markdown",
   "metadata": {},
   "source": [
    "Since the household secondary attack rates reported by Madwell et al. are averaged for index cases over all age brackets, we need to make an assumption about the underlying age distribution of the population and match the age-distribution of the agents in our calibration simulations to it. The studies incorporated in the Madwell et al. meta-study are predominantly from populations in Europe (17327 index cases), China (6194 index cases) and South Korea (6125 index cases), as these were the regions primarily affected by the spread of SARS-CoV-2 at the time the study was published. Studies in other countries amount to a total of 2627 index cases:"
   ]
  },
  {
   "cell_type": "code",
   "execution_count": 5,
   "metadata": {},
   "outputs": [
    {
     "name": "stdout",
     "output_type": "stream",
     "text": [
      "europe:  17327\n",
      "china:  6194\n",
      "south korea:  6125\n",
      "other:  2627\n"
     ]
    }
   ],
   "source": [
    "# number of index cases per study\n",
    "studies_europe = 13309 + 347 + 179 + 1489 + 365 + 990 + 453 + 141 + 54\n",
    "studies_china = 391 + 157 + 100 +135 + 1178 + 314 + 349 + 105 + 1158 + 148 + 85 + 585 \\\n",
    "         + 41 + 25 + 35 + 144 + 31 + 560 + 359 + 11 + 283\n",
    "studies_south_korea = 57 + 10 + 107 + 30 + 10 + 5706 + 97 + 108\n",
    "studies_other = 10 + 19 + 637 + 26 + 18 + 28 + 181 + 998 + 58 + \\\n",
    "         69 + 25 + 229 + 74 + 32 + 223\n",
    "\n",
    "print('europe: ', studies_europe)\n",
    "print('china: ', studies_china)\n",
    "print('south korea: ', studies_south_korea)\n",
    "print('other: ', studies_other)"
   ]
  },
  {
   "cell_type": "markdown",
   "metadata": {},
   "source": [
    "We therefore use a weighted average (weighted by number of contributed index cases to the meta-study) of the age distributions in these three countries to construct the distribution of age brackets in the overall study population."
   ]
  },
  {
   "cell_type": "markdown",
   "metadata": {},
   "source": [
    "### Population proportion calculation"
   ]
  },
  {
   "cell_type": "markdown",
   "metadata": {},
   "source": [
    "Data for the population age distributions from 2020 for Europe, China and South Korea are accesible [at the UN data hub](https://population.un.org/wpp/Download/Standard/Population/):. "
   ]
  },
  {
   "cell_type": "code",
   "execution_count": 6,
   "metadata": {},
   "outputs": [],
   "source": [
    "pop = pd.read_csv('../data/WPP2019_POP_F07_1_POPULATION_BY_AGE_BOTH_SEXES.csv',\n",
    "                  decimal=',')\n",
    "\n",
    "# age brackets reported in the UN data\n",
    "age_cols = ['0-4', '5-9', '10-14', '15-19', '20-24', '25-29', '30-34', '35-39',\n",
    "       '40-44', '45-49', '50-54', '55-59', '60-64', '65-69', '70-74', '75-79',\n",
    "       '80-84', '85-89', '90-94', '95-99', '100+']\n",
    "\n",
    "for col in age_cols:\n",
    "    pop[col] = pop[col].apply(lambda x: x.replace(' ', ''))\n",
    "    pop[col] = pop[col].replace({'...':np.nan})\n",
    "    pop[col] = pop[col].astype(float)\n",
    "\n",
    "age_0_to_19 = ['0-4', '5-9', '10-14', '15-19']\n",
    "age_20_to_39 = ['20-24', '25-29', '30-34', '35-39']\n",
    "age_40_to_59 = ['40-44', '45-49', '50-54', '55-59']\n",
    "age_60_to_79 = ['60-64', '65-69', '70-74', '75-79']\n",
    "age_80_plus = ['80-84', '85-89', '90-94', '95-99', '100+']"
   ]
  },
  {
   "cell_type": "code",
   "execution_count": 7,
   "metadata": {},
   "outputs": [],
   "source": [
    "# extract population distribution in Europe from the year 2020 (most recent)\n",
    "europe_pop = pop[(pop['Region, subregion, country or area *'] == 'EUROPE') &\\\n",
    "                 (pop['Reference date (as of 1 July)'] == 2020)].copy()\n",
    "europe_N = europe_pop[age_cols].sum(axis=1).values[0]\n",
    "europe_pop = europe_pop[age_cols] / europe_N"
   ]
  },
  {
   "cell_type": "code",
   "execution_count": 8,
   "metadata": {},
   "outputs": [
    {
     "name": "stdout",
     "output_type": "stream",
     "text": [
      "0 to 19: 21.128625599390077\n",
      "20 to 39: 25.323854554695806\n",
      "40 to 59: 27.892621399479694\n",
      "60 to 79: 20.356323607107747\n",
      "80+: 5.298574839326676\n"
     ]
    }
   ],
   "source": [
    "print('0 to 19:', europe_pop[age_0_to_19].sum(axis=1).values[0] * 100)\n",
    "print('20 to 39:', europe_pop[age_20_to_39].sum(axis=1).values[0] * 100)\n",
    "print('40 to 59:', europe_pop[age_40_to_59].sum(axis=1).values[0] * 100)\n",
    "print('60 to 79:', europe_pop[age_60_to_79].sum(axis=1).values[0] * 100)\n",
    "print('80+:', europe_pop[age_80_plus].sum(axis=1).values[0] * 100)"
   ]
  },
  {
   "cell_type": "code",
   "execution_count": 9,
   "metadata": {},
   "outputs": [],
   "source": [
    "# extract population distribution in China from the year 2020 (most recent)\n",
    "china_pop = pop[(pop['Region, subregion, country or area *'] == 'China') &\\\n",
    "                 (pop['Reference date (as of 1 July)'] == 2020)].copy()\n",
    "china_N = china_pop[age_cols].sum(axis=1).values[0]\n",
    "china_pop = china_pop[age_cols] / china_N"
   ]
  },
  {
   "cell_type": "code",
   "execution_count": 10,
   "metadata": {},
   "outputs": [
    {
     "name": "stdout",
     "output_type": "stream",
     "text": [
      "0 to 19: 23.432683282348716\n",
      "20 to 39: 28.761924877181844\n",
      "40 to 59: 30.451608151888077\n",
      "60 to 79: 15.504442018921393\n",
      "80+: 1.849341669659972\n"
     ]
    }
   ],
   "source": [
    "print('0 to 19:', china_pop[age_0_to_19].sum(axis=1).values[0] * 100)\n",
    "print('20 to 39:', china_pop[age_20_to_39].sum(axis=1).values[0] * 100)\n",
    "print('40 to 59:', china_pop[age_40_to_59].sum(axis=1).values[0] * 100)\n",
    "print('60 to 79:', china_pop[age_60_to_79].sum(axis=1).values[0] * 100)\n",
    "print('80+:', china_pop[age_80_plus].sum(axis=1).values[0] * 100)"
   ]
  },
  {
   "cell_type": "code",
   "execution_count": 11,
   "metadata": {},
   "outputs": [],
   "source": [
    "# extract population distribution in Korea from the year 2020 (most recent)\n",
    "korea_pop = pop[(pop['Region, subregion, country or area *'] == 'Republic of Korea') &\\\n",
    "    (pop['Reference date (as of 1 July)'] == 2020)].copy()\n",
    "korea_N = korea_pop[age_cols].sum(axis=1).values[0]\n",
    "korea_pop = korea_pop[age_cols] / korea_N"
   ]
  },
  {
   "cell_type": "code",
   "execution_count": 12,
   "metadata": {},
   "outputs": [
    {
     "name": "stdout",
     "output_type": "stream",
     "text": [
      "0 to 19: 17.37307144668318\n",
      "20 to 39: 26.907097856404455\n",
      "40 to 59: 32.56548791667479\n",
      "60 to 79: 19.534221459361405\n",
      "80+: 3.620121320876163\n"
     ]
    }
   ],
   "source": [
    "print('0 to 19:', korea_pop[age_0_to_19].sum(axis=1).values[0] * 100)\n",
    "print('20 to 39:', korea_pop[age_20_to_39].sum(axis=1).values[0] * 100)\n",
    "print('40 to 59:', korea_pop[age_40_to_59].sum(axis=1).values[0] * 100)\n",
    "print('60 to 79:', korea_pop[age_60_to_79].sum(axis=1).values[0] * 100)\n",
    "print('80+:', korea_pop[age_80_plus].sum(axis=1).values[0] * 100)"
   ]
  },
  {
   "cell_type": "markdown",
   "metadata": {},
   "source": [
    "| region | age group | proportion |\n",
    "| ------ | --------- | -----------|\n",
    "| Europe | 0-19 | 21.1% |\n",
    "| Europe | 20-39 | 25.3% |\n",
    "| Europe | 40-59 | 27.9% |\n",
    "| Europe | 60-79 | 20.4% |\n",
    "| Europe | 80+ | 5.3% |\n",
    "| ------ | --------- | -----------|\n",
    "| China | 0-19 | 23.4% |\n",
    "| China | 20-39 | 28.8% |\n",
    "| China | 40-59 | 30.5% |\n",
    "| China | 60-79 | 15.5% |\n",
    "| China | 80+ | 1.8% |\n",
    "| ------ | --------- | -----------|\n",
    "| South Korea | 0-19 | 17.4% |\n",
    "| South Korea | 20-39 | 26.9% |\n",
    "| South Korea | 40-59 | 32.6% |\n",
    "| South Korea | 60-79 | 19.5% |\n",
    "| South Korea | 80+ | 3.6% |"
   ]
  },
  {
   "cell_type": "markdown",
   "metadata": {},
   "source": [
    "### Weight adjusted population age group ratios"
   ]
  },
  {
   "cell_type": "markdown",
   "metadata": {},
   "source": [
    "If we weight the population age group ratios of the individual regions (adjusted ratios) by the number of index cases they contributed to the meta-study, we can approximate the underlying population distribution for the secondary attack rates reported in Madwell et al. This is only a coarse approximation, because we do not consider other factors such as possible bias or uncertainties when calculating the adjusted population ratios."
   ]
  },
  {
   "cell_type": "code",
   "execution_count": 23,
   "metadata": {},
   "outputs": [
    {
     "name": "stdout",
     "output_type": "stream",
     "text": [
      "0 to 19: 20.82%\n",
      "20 to 39: 26.36%\n",
      "40 to 59: 29.41%\n",
      "60 to 79: 19.19%\n",
      "80+: 4.22%\n"
     ]
    }
   ],
   "source": [
    "# population distributions weighted by number of index cases contributed to\n",
    "# the meta-study\n",
    "europe_w = 17327 / (17327 + 6194 + 6125)\n",
    "china_w = 6194 / (17327 + 6194 + 6125)\n",
    "south_korea_w = 6125 / (17327 + 6194 + 6125)\n",
    "\n",
    "prob_0_to_19 = 0.211 * europe_w + 0.234 * china_w + 0.174 * south_korea_w\n",
    "prob_20_to_39 = 0.253 * europe_w + 0.288 * china_w + 0.269 * south_korea_w\n",
    "prob_40_to_59 = 0.279 * europe_w + 0.305 * china_w + 0.326 * south_korea_w\n",
    "prob_60_to_79 = 0.204 * europe_w + 0.155 * china_w + 0.195 * south_korea_w\n",
    "prob_80_plus = 0.053 * europe_w + 0.018 * china_w + 0.036 * south_korea_w\n",
    "\n",
    "age_group_distribution = [prob_0_to_19, prob_20_to_39, prob_40_to_59,\n",
    "                          prob_60_to_79, prob_80_plus]\n",
    "\n",
    "print('0 to 19: {:1.2f}%'.format(prob_0_to_19 * 100))\n",
    "print('20 to 39: {:1.2f}%'.format(prob_20_to_39 * 100))\n",
    "print('40 to 59: {:1.2f}%'.format(prob_40_to_59 * 100))\n",
    "print('60 to 79: {:1.2f}%'.format(prob_60_to_79 * 100))\n",
    "print('80+: {:1.2f}%'.format(prob_80_plus * 100))"
   ]
  },
  {
   "cell_type": "markdown",
   "metadata": {},
   "source": [
    "## Base transmission risk calibration"
   ]
  },
  {
   "cell_type": "markdown",
   "metadata": {},
   "source": [
    "To calibrate the base transmission risk $\\beta$, we implement the following steps:\n",
    "1. We create two agents with epidemiological parameters (exposure time, time until symptoms, infection duration) drawn from the random distributions used for the simulation study, and an age drawn from the adjusted population age distribution. The probability to have a symptomatic course depends on the agent's age.\n",
    "2. We define one of the two individuals as the index case and simulate a number of days equal to the infection duration of the index case. The transmissibility of the index case is adjusted by whether or not the agent has a symptomatic course. On every day, the other agent has a chance of $\\beta \\cdot m(\\text{day})$ of becoming infected. We ignore a possible dependence of susceptibility on age, as evidence for this effect is still inconclusive.\n",
    "3. We repeat this simulation a number of times and calculate the secondary attack rate $\\text{SAR}_\\text{simulation}$ as the average of the number of times the second agent has become infected.\n",
    "\n",
    "We vary $\\beta$ for a range of realistic values and repeat steps 1-3. We then chose the value for $\\beta$ that minimizes $|\\text{SAR}_\\text{literature} - \\text{SAR}_\\text{simulation}|$. "
   ]
  },
  {
   "cell_type": "code",
   "execution_count": 20,
   "metadata": {},
   "outputs": [],
   "source": [
    "### helper functions\n",
    "def weibull_two_param(shape, scale):\n",
    "    '''\n",
    "    Scales a Weibull distribution that is defined soely by its shape.\n",
    "    '''\n",
    "    return scale * np.random.weibull(shape)\n",
    "\n",
    "def get_epi_params():\n",
    "    '''\n",
    "    Gets a combination of exposure duration, time until symptom onset and\n",
    "    infection duration that satisfies all conditions.\n",
    "    '''\n",
    "    # scale and shape of Weibull distributions defined by the following means\n",
    "    # and variances\n",
    "    # exposure_duration = [5.0, 1.9] / days\n",
    "    # time_until_symptoms = [6.4, 0.8] / days\n",
    "    # infection_duration = [10.91, 3.95] / days\n",
    "    epi_params = {\n",
    "        'exposure_duration': [2.8545336526034513, 5.610922825244271],\n",
    "        'time_until_symptoms': [9.602732979535194, 6.738998146675984],\n",
    "        'infection_duration': [3.012881111335679, 12.215213280459125]}  \n",
    "\n",
    "    tmp_epi_params = {}\n",
    "    # iterate until a combination that fulfills all conditions is found\n",
    "    while True:\n",
    "        for param_name, param in epi_params.items():\n",
    "            tmp_epi_params[param_name] = \\\n",
    "                round(weibull_two_param(param[0], param[1]))\n",
    "\n",
    "        # conditions\n",
    "        if tmp_epi_params['exposure_duration'] > 0 and \\\n",
    "           tmp_epi_params['time_until_symptoms'] >= \\\n",
    "           tmp_epi_params['exposure_duration'] and\\\n",
    "           tmp_epi_params['infection_duration'] > \\\n",
    "           tmp_epi_params['exposure_duration']:\n",
    "           \n",
    "            return tmp_epi_params\n",
    "\n",
    "\n",
    "def check_symptomatic_course(age_group_distribution):\n",
    "    '''\n",
    "    Determines, wheter an agent will have a symptomatic course\n",
    "    '''\n",
    "    # draw the agent's age group from the adjusted \n",
    "    age_group = np.random.choice(['0_to_19','20_to_39', '40_to_59', '60_to_79',\n",
    "                                  '80+'], p=age_group_distribution)\n",
    "    symptom_probabilities = {\n",
    "        '0_to_19':0.1809,\n",
    "        '20_to_39':0.2241,\n",
    "        '40_to_59':0.3051,\n",
    "        '60_to_79':0.3546,\n",
    "        '80+':0.6456\n",
    "    }  \n",
    "    # get the probability for a symptomatic course from the age group\n",
    "    symptom_probability = symptom_probabilities[age_group]\n",
    "    \n",
    "    # determine wheter the disease course is symptomatic, based on the symptom\n",
    "    # probability\n",
    "    symptomatic_course = False\n",
    "    if np.random.random() < symptom_probability:\n",
    "        symptomatic_course = True\n",
    "        \n",
    "    return symptomatic_course"
   ]
  },
  {
   "cell_type": "code",
   "execution_count": 25,
   "metadata": {
    "tags": []
   },
   "outputs": [
    {
     "name": "stderr",
     "output_type": "stream",
     "text": [
      "<ipython-input-25-c8185636e767>:15: TqdmDeprecationWarning: This function will be removed in tqdm==5.0.0\n",
      "Please use `tqdm.notebook.tqdm` instead of `tqdm.tqdm_notebook`\n",
      "  with tqdm(total=len(base_transmission_risks) * len(runs)) as pbar:\n"
     ]
    },
    {
     "data": {
      "application/vnd.jupyter.widget-view+json": {
       "model_id": "5c2a7df945594fd0a0f6bc1ef2e218d3",
       "version_major": 2,
       "version_minor": 0
      },
      "text/plain": [
       "  0%|          | 0/210000 [00:00<?, ?it/s]"
      ]
     },
     "metadata": {},
     "output_type": "display_data"
    }
   ],
   "source": [
    "### household transmission simulation\n",
    "data_dst = '../data/calibration_results'\n",
    "runs = range(0, 10000)\n",
    "fname = 'household_transmission_base_risk_scan_{}.csv'.format(len(runs))\n",
    "\n",
    "# grid from which base transmission risks are sampled\n",
    "base_transmission_risks = np.arange(0.06, 0.08, 0.001)\n",
    "results = pd.DataFrame()\n",
    "results['transmission'] = [np.nan] * len(runs) * len(base_transmission_risks)\n",
    "iterables = [base_transmission_risks, runs]\n",
    "index = pd.MultiIndex.from_product(iterables, \\\n",
    "                    names=['base_transmission_risk', 'run'])\n",
    "results.index = index\n",
    "\n",
    "with tqdm(total=len(base_transmission_risks) * len(runs)) as pbar:\n",
    "    for base_trans_risk in base_transmission_risks:\n",
    "        for run in runs:\n",
    "            infected = get_epi_params()\n",
    "            transmission_occured = 0\n",
    "\n",
    "            # Note: starts at day 1, to reflect the simulation implementation\n",
    "            for day in range(1, infected['infection_duration'] + 1):\n",
    "                time_modifier = get_transmission_risk_time_modifier(\\\n",
    "                    infected['exposure_duration'], infected['time_until_symptoms'],\n",
    "                    infected['infection_duration'], day)\n",
    "                \n",
    "                sympt_modifier = 1\n",
    "                if not check_symptomatic_course(age_group_distribution):\n",
    "                    sympt_modifier = 0.6\n",
    "                    \n",
    "                mod_trans_risk = 1 - base_trans_risk * time_modifier * sympt_modifier\n",
    "                transmission = np.random.random()\n",
    "                if transmission > mod_trans_risk:\n",
    "                    transmission_occured = 1\n",
    "                    break\n",
    "\n",
    "            results.loc[base_trans_risk, run]['transmission'] = \\\n",
    "            transmission_occured\n",
    "            pbar.update(1)\n",
    "\n",
    "# save simulation results\n",
    "results = results.reset_index()\n",
    "results.to_csv(join(data_dst, fname), index=False)"
   ]
  },
  {
   "cell_type": "code",
   "execution_count": 26,
   "metadata": {},
   "outputs": [
    {
     "data": {
      "text/html": [
       "<div>\n",
       "<style scoped>\n",
       "    .dataframe tbody tr th:only-of-type {\n",
       "        vertical-align: middle;\n",
       "    }\n",
       "\n",
       "    .dataframe tbody tr th {\n",
       "        vertical-align: top;\n",
       "    }\n",
       "\n",
       "    .dataframe thead tr th {\n",
       "        text-align: left;\n",
       "    }\n",
       "\n",
       "    .dataframe thead tr:last-of-type th {\n",
       "        text-align: right;\n",
       "    }\n",
       "</style>\n",
       "<table border=\"1\" class=\"dataframe\">\n",
       "  <thead>\n",
       "    <tr>\n",
       "      <th></th>\n",
       "      <th colspan=\"2\" halign=\"left\">transmission</th>\n",
       "    </tr>\n",
       "    <tr>\n",
       "      <th></th>\n",
       "      <th>mean</th>\n",
       "      <th>std</th>\n",
       "    </tr>\n",
       "    <tr>\n",
       "      <th>base_transmission_risk</th>\n",
       "      <th></th>\n",
       "      <th></th>\n",
       "    </tr>\n",
       "  </thead>\n",
       "  <tbody>\n",
       "    <tr>\n",
       "      <th>0.060</th>\n",
       "      <td>0.2415</td>\n",
       "      <td>0.428014</td>\n",
       "    </tr>\n",
       "    <tr>\n",
       "      <th>0.061</th>\n",
       "      <td>0.2399</td>\n",
       "      <td>0.427044</td>\n",
       "    </tr>\n",
       "    <tr>\n",
       "      <th>0.062</th>\n",
       "      <td>0.2506</td>\n",
       "      <td>0.433380</td>\n",
       "    </tr>\n",
       "  </tbody>\n",
       "</table>\n",
       "</div>"
      ],
      "text/plain": [
       "                       transmission          \n",
       "                               mean       std\n",
       "base_transmission_risk                       \n",
       "0.060                        0.2415  0.428014\n",
       "0.061                        0.2399  0.427044\n",
       "0.062                        0.2506  0.433380"
      ]
     },
     "execution_count": 26,
     "metadata": {},
     "output_type": "execute_result"
    }
   ],
   "source": [
    "# load and aggregate simulation results\n",
    "results = pd.read_csv(join(data_dst, fname))\n",
    "results_mean = results[['base_transmission_risk', 'transmission']]\\\n",
    "    .groupby('base_transmission_risk')\\\n",
    "    .agg({'transmission':['mean', 'std']})\n",
    "results_mean.head(3)"
   ]
  },
  {
   "cell_type": "code",
   "execution_count": 37,
   "metadata": {},
   "outputs": [
    {
     "data": {
      "image/png": "[encoded data removed]",
      "text/plain": [
       "<Figure size 720x360 with 1 Axes>"
      ]
     },
     "metadata": {
      "needs_background": "light"
     },
     "output_type": "display_data"
    }
   ],
   "source": [
    "fig, ax = plt.subplots(figsize=(10, 5))\n",
    "ax.plot(results_mean.index, results_mean['transmission']['mean'], 'o-', color='b')\n",
    "\n",
    "# regression with zero intercept\n",
    "x = results_mean.index.values\n",
    "x = x[:, np.newaxis]\n",
    "y = results_mean['transmission']['mean'].values\n",
    "slope, _, _, _ = np.linalg.lstsq(x, y, rcond=None)\n",
    "slope = slope[0]\n",
    "\n",
    "ax.plot(results_mean.index, slope * results_mean.index, '--', color='k')\n",
    "ax.set_xlabel('base transmission risk $\\\\beta$', fontsize=16)\n",
    "ax.set_ylabel('secondary attack rate (SAR)', fontsize=16)\n",
    "ax.text(base_transmission_risks.min() + 0.005, target_attack_rate - 0.04,\n",
    "        'slope: $a = {:1.4f}$'.format(slope), fontsize=16)\n",
    "ax.set_title('household transmission calibration', fontsize=20)\n",
    "\n",
    "target_base_transmission_risk = float(target_attack_rate / slope)\n",
    "ax.plot([base_transmission_risks.min(), base_transmission_risks.max()],\n",
    "        [target_attack_rate, target_attack_rate], '--', color='grey', alpha=0.5)\n",
    "ax.text(base_transmission_risks.min() + 0.006, target_attack_rate + 0.04,\n",
    "        '$\\\\beta(\\\\mathrm{{SAR}}_\\\\mathrm{{target}}) = \\\\frac{{\\\\mathrm{{SAR}}_\\\\mathrm{{target}}}}{{a}} = {:1.6f}$'\\\n",
    "        .format(target_base_transmission_risk), color='grey', fontsize=16)\n",
    "ax.plot([target_base_transmission_risk, target_base_transmission_risk],\n",
    "        [target_attack_rate - 0.045, target_attack_rate + 0.03], '--',\n",
    "        color='grey', alpha=0.5)\n",
    "\n",
    "ax.text(base_transmission_risks.min() + 0.003, target_attack_rate + 0.005,\n",
    "        '$\\\\mathrm{{SAR}}_\\\\mathrm{{target}} = {}$'.format(target_attack_rate), color='grey', fontsize=16)\n",
    "\n",
    "ax.set_ylim(target_attack_rate - 0.05, target_attack_rate + 0.05)\n",
    "plt.savefig('../plots/household_transmission_calibration.pdf')\n",
    "plt.savefig('../plots/household_transmission_calibration.png', dpi=300)\n",
    "plt.savefig('../plots/household_transmission_calibration.svg')"
   ]
  },
  {
   "cell_type": "code",
   "execution_count": 28,
   "metadata": {},
   "outputs": [
    {
     "name": "stdout",
     "output_type": "stream",
     "text": [
      "optimal base transmission risk for household transmissions is: 0.073033\n"
     ]
    }
   ],
   "source": [
    "print('optimal base transmission risk for household transmissions is: {:1.6f}'\\\n",
    "      .format(target_base_transmission_risk))"
   ]
  },
  {
   "cell_type": "code",
   "execution_count": 29,
   "metadata": {},
   "outputs": [
    {
     "name": "stdout",
     "output_type": "stream",
     "text": [
      "base transmission risk for household transmissions (UK variant): 0.109549\n"
     ]
    }
   ],
   "source": [
    "print('base transmission risk for household transmissions (UK variant): {:1.6f}'\\\n",
    "      .format(target_base_transmission_risk * 1.5))"
   ]
  },
  {
   "cell_type": "markdown",
   "metadata": {},
   "source": [
    "## Calculate the age-symptom modification"
   ]
  },
  {
   "cell_type": "markdown",
   "metadata": {},
   "source": [
    "The parameter ```age_symptom_modification``` is formulated as linear function with a specified slope and intercept that modifies the symptom probability for a given age.  \n",
    "\n",
    "For nursing homes, we assume that the age distribution of employees is uniform over the age brackets 20 to 39 and 40 to 59 (retirement age in Austria currently is 62 for women and 65 for men, but many tend to retire earlier, especially in care professions). We therefore average the symptom probabilities for these two age groups reported by the Madwell et al. meta-study (22.41% for 20 to 39 year olds and 30.51% for 40 to 59 year olds) and arrive at a symptom probability of 26.46% for nursing home employees. For residents, we take the symptom probability reported for people aged 80 and above. 64.52%.  \n",
    "\n",
    "To get the slope and intercept of the linear age-symptom modification function, we assume the average age of employees to be 40 years and the average age of residents to be 80 years (that is also the age we give the employee and resident agents in the simulation) and perform a linear regression:"
   ]
  },
  {
   "cell_type": "code",
   "execution_count": 30,
   "metadata": {},
   "outputs": [],
   "source": [
    "e_symptom_probability = (0.2241 + 0.3051) / 2\n",
    "r_symptom_probability = 0.6452"
   ]
  },
  {
   "cell_type": "code",
   "execution_count": 31,
   "metadata": {},
   "outputs": [],
   "source": [
    "slope, intercept, rval, pval, stderr = linregress([40, 80],\n",
    "                                [e_symptom_probability, r_symptom_probability])"
   ]
  },
  {
   "cell_type": "code",
   "execution_count": 32,
   "metadata": {},
   "outputs": [
    {
     "name": "stdout",
     "output_type": "stream",
     "text": [
      "age_symptom_modification = age * 0.009515 + -0.116000\n"
     ]
    }
   ],
   "source": [
    "print('age_symptom_modification = age * {:1.6f} + {:1.6f}'\\\n",
    "      .format(slope, intercept))"
   ]
  },
  {
   "cell_type": "markdown",
   "metadata": {},
   "source": [
    "As a result, employees (all aged 40 in the simulation) have a 26.46% chance to develop a symptomatic course, and residents (all aged 80 in the simulation) have a 64.52% chance to develop a symptomatic course."
   ]
  }
 ],
 "metadata": {
  "kernelspec": {
   "display_name": "Python 3",
   "language": "python",
   "name": "python3"
  },
  "language_info": {
   "codemirror_mode": {
    "name": "ipython",
    "version": 3
   },
   "file_extension": ".py",
   "mimetype": "text/x-python",
   "name": "python",
   "nbconvert_exporter": "python",
   "pygments_lexer": "ipython3",
   "version": "3.8.8"
  }
 },
 "nbformat": 4,
 "nbformat_minor": 4
}
