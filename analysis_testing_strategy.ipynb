{
 "cells": [
  {
   "cell_type": "markdown",
   "metadata": {},
   "source": [
    "# Analysis of SEIRX model runs for test technology and screening frequency"
   ]
  },
  {
   "cell_type": "code",
   "execution_count": 1,
   "metadata": {},
   "outputs": [],
   "source": [
    "import pandas as pd\n",
    "import matplotlib.pyplot as plt\n",
    "import numpy as np\n",
    "from os.path import join\n",
    "import matplotlib.gridspec as gridspec\n",
    "import matplotlib as mpl\n",
    "import analysis_functions as af"
   ]
  },
  {
   "cell_type": "code",
   "execution_count": 2,
   "metadata": {},
   "outputs": [],
   "source": [
    "language = 'english'"
   ]
  },
  {
   "cell_type": "markdown",
   "metadata": {},
   "source": [
    "## Mappings of variables to plot labels"
   ]
  },
  {
   "cell_type": "markdown",
   "metadata": {},
   "source": [
    "Since these plots were also used to advise Austrian decision makers, we provide plot label mappings to German for easier communication of results."
   ]
  },
  {
   "cell_type": "code",
   "execution_count": 3,
   "metadata": {},
   "outputs": [],
   "source": [
    "# English\n",
    "if language == 'english':\n",
    "    frequency_name_map = {np.nan:'never',\n",
    "              2:'3 times\\na week',\n",
    "              3:'twice\\na week',\n",
    "              7:'once\\na week'}\n",
    "\n",
    "    test_name_map = {\n",
    "        'same_day_antigen':'same-day antigen',\n",
    "        'one_day_PCR':'one day PCR',\n",
    "        'two_day_PCR':'two days PCR',\n",
    "        'same_day_PCR':'same-day PCR',\n",
    "        'same_day_LAMP':'same-day RT-LAMP'}\n",
    "\n",
    "    metric_name_map = {\n",
    "        'infected_residents_mean':'follow-up cases residents (mean)',\n",
    "        'infected_residents_median':'follow-up cases residends (median)',\n",
    "        'infected_residents_0.90':'follow-up cases residents (90th percentile)',\n",
    "        'R0_mean':'$R_0$',\n",
    "        'R0_mean':'$R_0$',\n",
    "        'infected_residents':'follow-up cases residents'}\n",
    "\n",
    "    index_case_map = {'employee':'index case employee',\n",
    "                      'resident':'index case resident'}\n",
    "    \n",
    "    xlabel = 'screening frequency employees'\n",
    "    ylabel = 'screening freuqency residents'\n",
    "    \n",
    "    screening_intervals = ['never', 'once\\na week', 'twice\\na week', \n",
    "                           '3 times\\na week']\n",
    "\n",
    "# German\n",
    "if language == 'german':\n",
    "    frequency_name_map = {np.nan:'nie',\n",
    "                  2:'3 mal\\npro Woche',\n",
    "                  3:'2 mal\\npro Woche',\n",
    "                  7:'ein mal\\npro Woche'}\n",
    "\n",
    "    test_name_map = {\n",
    "        'same_day_antigen':'Antigen (selber Tag)',\n",
    "        'one_day_PCR':'PCR (1 Tag)',\n",
    "        'two_day_PCR':'PCR (2 Tage)',\n",
    "        'same_day_PCR':'PCR (selber Tag)', \n",
    "        'same_day_LAMP':'RT-LAMP (selber Tag)'}\n",
    "\n",
    "    metric_name_map = {\n",
    "        'infected_residents_mean':'Folgefälle BewohnerInnen (Mittelwert)',\n",
    "        'infected_residents_median':'Folgefälle BewohnerInnen (Median)',\n",
    "        'infected_residents_0.90':'Folgefälle BewohnerInnen (90. Percentile)',\n",
    "        'R0_mean':'$R_0$',\n",
    "        'R0_mean':'$R_0$',\n",
    "        'infected_residents':'Folgefälle BewohnerInnen'}\n",
    "\n",
    "    index_case_map = {'employee':'Indexfall MitarbeiterIn',\n",
    "                      'resident':'Indexfall BewohnerIn'}\n",
    "    \n",
    "    xlabel = 'Testfrequenz MitarbeiterInnen'\n",
    "    ylabel = 'Testfrequenz BewohnerInnen'\n",
    "    \n",
    "    screening_intervals = ['nie', 'ein mal\\npro Woche', '2 mal\\npro Woche',\n",
    "                           '3 mal\\npro Woche']"
   ]
  },
  {
   "cell_type": "markdown",
   "metadata": {},
   "source": [
    "## Analysis B.1.1.7"
   ]
  },
  {
   "cell_type": "markdown",
   "metadata": {},
   "source": [
    "### Data loading and wrangling"
   ]
  },
  {
   "cell_type": "code",
   "execution_count": 4,
   "metadata": {},
   "outputs": [],
   "source": [
    "res_path = '../data/simulation_results'\n",
    "dst_path = '../plots/'\n",
    "sim_name = 'simulations_testing_strategy'\n",
    "N_runs = 5000\n",
    "data = pd.read_csv(join(res_path,'{}_UK_variant_{}.csv'.format(sim_name, N_runs)))"
   ]
  },
  {
   "cell_type": "code",
   "execution_count": 5,
   "metadata": {},
   "outputs": [],
   "source": [
    "# replace strings with strings that are nicer for plotting\n",
    "data['resident_screen_interval'] = data['resident_screen_interval']\\\n",
    "    .replace(frequency_name_map)\n",
    "data['employee_screen_interval'] = data['employee_screen_interval']\\\n",
    "    .replace(frequency_name_map)\n",
    "\n",
    "# set screen intervals, test types and index case as categorical variables with\n",
    "# explicit order, to facilitate sorting in a nicer way\n",
    "data['resident_screen_interval'] = pd.Categorical(data['resident_screen_interval'], \n",
    "    categories=['3 times\\na week', 'twice\\na week', 'once\\na week', 'never'],\n",
    "                      ordered=True)\n",
    "\n",
    "data['employee_screen_interval'] = pd.Categorical(data['employee_screen_interval'], \n",
    "    categories=['3 times\\na week', 'twice\\na week', 'once\\na week', 'never'],\n",
    "                      ordered=True)\n",
    "\n",
    "data['test_type'] = pd.Categorical(data['test_type'], \n",
    "    categories=['same_day_antigen', 'same_day_LAMP', 'same_day_PCR', 'one_day_PCR',  \n",
    "                'two_day_PCR',], ordered=True)\n",
    "\n",
    "data['index_case'] = pd.Categorical(data['index_case'], \n",
    "    categories=['employee', 'resident'], ordered=True)\n",
    "\n",
    "data = data.sort_values(by=['test_type', 'employee_screen_interval', \n",
    "                            'resident_screen_interval', 'index_case'],\n",
    "                       ascending=True)\n",
    "\n",
    "data = data.set_index(['test_type', 'employee_screen_interval', \n",
    "                       'resident_screen_interval', 'index_case'])"
   ]
  },
  {
   "cell_type": "markdown",
   "metadata": {},
   "source": [
    "### Different test technologies"
   ]
  },
  {
   "cell_type": "code",
   "execution_count": 6,
   "metadata": {},
   "outputs": [
    {
     "data": {
      "image/png": "[encoded data removed]",
      "text/plain": [
       "<Figure size 1080x864 with 9 Axes>"
      ]
     },
     "metadata": {
      "needs_background": "light"
     },
     "output_type": "display_data"
    }
   ],
   "source": [
    "metric = 'infected_residents_mean'\n",
    "sim_name = 'simulation_results'\n",
    "screening_params = screening_intervals\n",
    "\n",
    "# figure layout & axis setup\n",
    "fig = plt.figure(figsize=(15, 12))\n",
    "gs = fig.add_gridspec(nrows=4, ncols=4, width_ratios=[1,1,1, 0.05],\\\n",
    "                       height_ratios=[0.1,1,0.1,1], wspace=0.05, hspace=0)\n",
    "\n",
    "title_ax_1 = fig.add_subplot(gs[0, 0:])\n",
    "hmap_ax_1 = fig.add_subplot(gs[1, 0])\n",
    "hmap_ax_2 = fig.add_subplot(gs[1, 1])\n",
    "hmap_ax_3 = fig.add_subplot(gs[1, 2])\n",
    "\n",
    "title_ax_2 = fig.add_subplot(gs[2, 0:])\n",
    "hmap_ax_4 = fig.add_subplot(gs[3, 0])\n",
    "hmap_ax_5 = fig.add_subplot(gs[3, 1])\n",
    "hmap_ax_6 = fig.add_subplot(gs[3, 2])\n",
    "\n",
    "cbar_ax = fig.add_subplot(gs[1:, 3])\n",
    "\n",
    "hmap_axes = [[hmap_ax_1, hmap_ax_2, hmap_ax_3], [hmap_ax_4, hmap_ax_5, hmap_ax_6]]\n",
    "title_axes = [title_ax_1, title_ax_2]\n",
    "\n",
    "# possible range of median outbreak sizes to fix the dynamic range of the\n",
    "# colormaps\n",
    "vmin=0\n",
    "vmax=10\n",
    "vstep=2\n",
    "\n",
    "# compare scenarios in which either employees or residents are the index case\n",
    "for i, index_case_mode in enumerate(['employee', 'resident']):\n",
    "    df = data.loc[:,:,:, index_case_mode]\n",
    "    \n",
    "    # remove all axis labels and ticks for the heatmaps\n",
    "    t_ax = title_axes[i]\n",
    "    t_ax.set_xticks([])\n",
    "    t_ax.set_yticks([])\n",
    "    t_ax.set_frame_on(False)\n",
    "    t_ax.set_xlim(0, 1)\n",
    "    t_ax.set_ylim(0, 3)\n",
    "    t_ax.text(0.38, 1, index_case_map[index_case_mode], fontsize=20)\n",
    "        \n",
    "    j = 0\n",
    "    # compare same-day turnover testing for different testing technologies\n",
    "    for j, ax, test_type in zip(range(3), hmap_axes[i],\\\n",
    "                       ['same_day_antigen', 'same_day_LAMP', 'same_day_PCR']):\n",
    "        \n",
    "        # set flag to set axis ticks only for heatmaps at the boundaries of \n",
    "        # the figure\n",
    "        xticks = False\n",
    "        yticks = False\n",
    "        if i > 0:\n",
    "            xticks = True\n",
    "        if j in [0, 3]:\n",
    "            yticks = True\n",
    "            \n",
    "        # put the testing technology in the heatmap title\n",
    "        ax.set_title('Test: {}'\\\n",
    "                .format(test_name_map[test_type]), fontsize=14)\n",
    "        \n",
    "        # plot heatmap of the scenario\n",
    "        img = af.get_image(df, test_type, screening_params, metric)\n",
    "        if index_case_mode == 'resident':\n",
    "            # if a resident is the index case, we need to subtract 1 from the\n",
    "            # number of infected residents, to calculate the \"outbreak size\",\n",
    "            # which is defined as the number of FOLLOW-UP cases, given an index\n",
    "            # case\n",
    "            img = img - 1\n",
    "        img_plot = af.plot_heatmap(ax, img, screening_params, vmin, vmax,\n",
    "                                   xticks, yticks, xlabel, ylabel)\n",
    "        \n",
    "        # annotate heatmap with tests / days / agent\n",
    "        test_rate = af.get_image(df, test_type, screening_params, \n",
    "                                    'test_rate_mean')\n",
    "        af.annotate_heatmap(ax, test_rate)\n",
    "        \n",
    "# colorbar\n",
    "norm = mpl.colors.Normalize(vmin=vmin,vmax=vmax)\n",
    "sm = plt.cm.ScalarMappable(cmap= plt.get_cmap('coolwarm'), norm=norm)\n",
    "cbar = fig.colorbar(sm, cax=cbar_ax, orientation='vertical',\\\n",
    "                        ticks=np.arange(vmin, vmax + 1, vstep))\n",
    "yticklabels = list(range(vmin, vmax, vstep)) + ['$\\geq {}$'.format(vmax)]\n",
    "cbar.ax.set_yticklabels(yticklabels)\n",
    "cbar.set_label('{}'.format(metric_name_map[metric]), fontsize=12)      \n",
    "\n",
    "plt.savefig(join(dst_path,\n",
    "            'screening_frequency_test_technology_UK_variant_{}.png'\\\n",
    "            .format(language[0:3])), dpi=300, transparent=True)\n",
    "plt.savefig(join(dst_path, \n",
    "            'screening_frequency_test_technology_UK_variant_{}.pdf'\\\n",
    "            .format(language[0:3])), transparent=True)"
   ]
  },
  {
   "cell_type": "markdown",
   "metadata": {},
   "source": [
    "### PCR: different turnover times"
   ]
  },
  {
   "cell_type": "code",
   "execution_count": 7,
   "metadata": {},
   "outputs": [
    {
     "data": {
      "image/png": "[encoded data removed]",
      "text/plain": [
       "<Figure size 1080x864 with 9 Axes>"
      ]
     },
     "metadata": {
      "needs_background": "light"
     },
     "output_type": "display_data"
    }
   ],
   "source": [
    "metric = 'infected_residents_mean'\n",
    "sim_name = 'simulation_results'\n",
    "screening_params = screening_intervals\n",
    "\n",
    "# figure layout & axis setup\n",
    "fig = plt.figure(figsize=(15, 12))\n",
    "gs = fig.add_gridspec(nrows=4, ncols=4, width_ratios=[1,1,1, 0.05],\\\n",
    "                       height_ratios=[0.1,1,0.1,1], wspace=0.05, hspace=0)\n",
    "\n",
    "title_ax_1 = fig.add_subplot(gs[0, 0:])\n",
    "hmap_ax_1 = fig.add_subplot(gs[1, 0])\n",
    "hmap_ax_2 = fig.add_subplot(gs[1, 1])\n",
    "hmap_ax_3 = fig.add_subplot(gs[1, 2])\n",
    "\n",
    "title_ax_2 = fig.add_subplot(gs[2, 0:])\n",
    "hmap_ax_4 = fig.add_subplot(gs[3, 0])\n",
    "hmap_ax_5 = fig.add_subplot(gs[3, 1])\n",
    "hmap_ax_6 = fig.add_subplot(gs[3, 2])\n",
    "\n",
    "cbar_ax = fig.add_subplot(gs[1:, 3])\n",
    "\n",
    "hmap_axes = [[hmap_ax_1, hmap_ax_2, hmap_ax_3], [hmap_ax_4, hmap_ax_5, hmap_ax_6]]\n",
    "title_axes = [title_ax_1, title_ax_2]\n",
    "\n",
    "# possible range of median outbreak sizes to fix the dynamic range of the\n",
    "# colormaps\n",
    "vmin = 0\n",
    "vmax = 10\n",
    "vstep = 2\n",
    "\n",
    "# compare scenarios in which either employees or residents are the index case\n",
    "for i, index_case_mode in enumerate(['employee', 'resident']):\n",
    "    df = data.loc[:,:,:, index_case_mode]\n",
    "    \n",
    "    # set flag to set axis ticks only for heatmaps at the boundaries of \n",
    "    # the figure\n",
    "    t_ax = title_axes[i]\n",
    "    t_ax.set_xticks([])\n",
    "    t_ax.set_yticks([])\n",
    "    t_ax.set_frame_on(False)\n",
    "    t_ax.set_xlim(0, 1)\n",
    "    t_ax.set_ylim(0, 3)\n",
    "    t_ax.text(0.38, 1, index_case_map[index_case_mode], fontsize=20)\n",
    "    \n",
    "    # compare different test result turnover times for PCR tests\n",
    "    for j, ax, test_type in zip(range(3), hmap_axes[i], \\\n",
    "                        ['same_day_PCR', 'one_day_PCR', 'two_day_PCR']):\n",
    "        xticks = False\n",
    "        yticks = False\n",
    "        if i > 0:\n",
    "            xticks = True\n",
    "        if j in [0, 3]:\n",
    "            yticks = True\n",
    "            \n",
    "        # put the turnover time in the heatmap title\n",
    "        ax.set_title('Test: {}'\\\n",
    "                .format(test_name_map[test_type]), fontsize=14)\n",
    "        \n",
    "        # plot heatmap of the scenario\n",
    "        img = af.get_image(df, test_type, screening_params, metric)\n",
    "        if index_case_mode == 'resident':\n",
    "            img = img - 1\n",
    "        img_plot = af.plot_heatmap(ax, img, screening_params, vmin, vmax,\n",
    "                                   xticks, yticks, xlabel, ylabel)\n",
    "        \n",
    "        # annotate heatmap with tests / days / agent\n",
    "        test_rate = af.get_image(df, test_type, screening_params, \n",
    "                                    'test_rate_mean')\n",
    "        af.annotate_heatmap(ax, test_rate)\n",
    "\n",
    "# colorbar\n",
    "norm = mpl.colors.Normalize(vmin=vmin,vmax=vmax)\n",
    "sm = plt.cm.ScalarMappable(cmap= plt.get_cmap('coolwarm'), norm=norm)\n",
    "cbar = fig.colorbar(sm, cax=cbar_ax, orientation='vertical',\\\n",
    "                ticks=np.arange(vmin, vmax+1, vstep))\n",
    "yticklabels = list(range(vmin, vmax, vstep)) + ['$\\geq {}$'.format(vmax)]\n",
    "cbar.ax.set_yticklabels(yticklabels)\n",
    "cbar.set_label('{}'.format(metric_name_map[metric]), fontsize=12)      \n",
    "\n",
    "plt.savefig(join(dst_path, \n",
    "            'screening_frequency_PCR_turnover_time_UK_variant_{}.png'\\\n",
    "            .format(language[0:3])), dpi=300, transparent=True)\n",
    "plt.savefig(join(dst_path,\n",
    "            'screening_frequency_PCR_turnover_time_{}.pdf'\\\n",
    "            .format(language[0:3])))"
   ]
  },
  {
   "cell_type": "markdown",
   "metadata": {},
   "source": [
    "### Outbreak sizes"
   ]
  },
  {
   "cell_type": "markdown",
   "metadata": {},
   "source": [
    "**Note**: for resident index cases, the index case needs to be subtracted from the outbreak size"
   ]
  },
  {
   "cell_type": "markdown",
   "metadata": {},
   "source": [
    "#### Minimum and maximum"
   ]
  },
  {
   "cell_type": "code",
   "execution_count": 8,
   "metadata": {},
   "outputs": [
    {
     "data": {
      "text/plain": [
       "('same_day_PCR', '3 times\\na week', '3 times\\na week', 'employee')"
      ]
     },
     "execution_count": 8,
     "metadata": {},
     "output_type": "execute_result"
    }
   ],
   "source": [
    "data['infected_residents_mean'].idxmin()"
   ]
  },
  {
   "cell_type": "code",
   "execution_count": 9,
   "metadata": {},
   "outputs": [
    {
     "data": {
      "text/plain": [
       "0.0"
      ]
     },
     "execution_count": 9,
     "metadata": {},
     "output_type": "execute_result"
    }
   ],
   "source": [
    "data.loc[data['infected_residents_mean'].idxmin()]['infected_residents_mean']"
   ]
  },
  {
   "cell_type": "code",
   "execution_count": 10,
   "metadata": {},
   "outputs": [
    {
     "data": {
      "text/plain": [
       "0.0"
      ]
     },
     "execution_count": 10,
     "metadata": {},
     "output_type": "execute_result"
    }
   ],
   "source": [
    "data.loc[data['infected_residents_mean'].idxmin()]['infected_residents_std']"
   ]
  },
  {
   "cell_type": "markdown",
   "metadata": {},
   "source": [
    "Note: for every test type, there is a scenario where neither employees nor residents are screened. These scenarios are, naturally, the ones with the largest outbreaks. To calculate the outbreak sizes of the largest outbreaks, we therefore average outbreak sizes of all these scenarios:"
   ]
  },
  {
   "cell_type": "code",
   "execution_count": 11,
   "metadata": {},
   "outputs": [
    {
     "name": "stdout",
     "output_type": "stream",
     "text": [
      "11.896959999999998 +- 11.396771936040153\n"
     ]
    }
   ],
   "source": [
    "mean = (data.loc[:, 'never', 'never', 'resident']['infected_residents_mean'] - 1).mean()\n",
    "std = np.sqrt((data.loc[:, 'never', 'never', 'resident']['infected_residents_std']**2).mean())\n",
    "print('{} +- {}'.format(mean, std))"
   ]
  },
  {
   "cell_type": "code",
   "execution_count": 12,
   "metadata": {},
   "outputs": [
    {
     "name": "stdout",
     "output_type": "stream",
     "text": [
      "12.361600000000001 +- 11.78959266213332\n"
     ]
    }
   ],
   "source": [
    "mean = (data.loc[:, 'never', 'never', 'employee']['infected_residents_mean']).mean()\n",
    "std = np.sqrt((data.loc[:, 'never', 'never', 'employee']['infected_residents_std']**2).mean())\n",
    "print('{} +- {}'.format(mean, std))"
   ]
  },
  {
   "cell_type": "markdown",
   "metadata": {},
   "source": [
    "#### Realistic scenario I: employees screened 2x / week"
   ]
  },
  {
   "cell_type": "markdown",
   "metadata": {},
   "source": [
    "##### Same-day LAMP"
   ]
  },
  {
   "cell_type": "code",
   "execution_count": 13,
   "metadata": {},
   "outputs": [
    {
     "name": "stdout",
     "output_type": "stream",
     "text": [
      "1.8742 +- 5.242544345472229\n"
     ]
    }
   ],
   "source": [
    "# employee index case\n",
    "mean = data.loc['same_day_LAMP', 'twice\\na week', 'never', 'employee']\\\n",
    "        ['infected_residents_mean']\n",
    "std = data.loc['same_day_LAMP', 'twice\\na week', 'never', 'employee']\\\n",
    "        ['infected_residents_std']\n",
    "print('{} +- {}'.format(mean, std))"
   ]
  },
  {
   "cell_type": "code",
   "execution_count": 14,
   "metadata": {},
   "outputs": [
    {
     "name": "stdout",
     "output_type": "stream",
     "text": [
      "6.483 +- 7.817668078579274\n"
     ]
    }
   ],
   "source": [
    "# resident index case\n",
    "mean = data.loc['same_day_LAMP', 'twice\\na week', 'never', 'resident']\\\n",
    "        ['infected_residents_mean'] - 1\n",
    "std = data.loc['same_day_LAMP', 'twice\\na week', 'never', 'resident']\\\n",
    "        ['infected_residents_std']\n",
    "print('{} +- {}'.format(mean, std))"
   ]
  },
  {
   "cell_type": "markdown",
   "metadata": {},
   "source": [
    "##### One-day PCR"
   ]
  },
  {
   "cell_type": "code",
   "execution_count": 15,
   "metadata": {},
   "outputs": [
    {
     "name": "stdout",
     "output_type": "stream",
     "text": [
      "1.9932 +- 5.270930686516415\n"
     ]
    }
   ],
   "source": [
    "# employee index case\n",
    "mean = data.loc['one_day_PCR', 'twice\\na week', 'never', 'employee']\\\n",
    "        ['infected_residents_mean']\n",
    "std = data.loc['one_day_PCR', 'twice\\na week', 'never', 'employee']\\\n",
    "        ['infected_residents_std']\n",
    "print('{} +- {}'.format(mean, std))"
   ]
  },
  {
   "cell_type": "code",
   "execution_count": 16,
   "metadata": {},
   "outputs": [
    {
     "name": "stdout",
     "output_type": "stream",
     "text": [
      "6.3346 +- 7.742521047206349\n"
     ]
    }
   ],
   "source": [
    "# resident index case\n",
    "mean = data.loc['one_day_PCR', 'twice\\na week', 'never', 'resident']\\\n",
    "        ['infected_residents_mean'] - 1\n",
    "std = data.loc['one_day_PCR', 'twice\\na week', 'never', 'resident']\\\n",
    "        ['infected_residents_std']\n",
    "print('{} +- {}'.format(mean, std))"
   ]
  },
  {
   "cell_type": "markdown",
   "metadata": {},
   "source": [
    "##### Same-day Antigen"
   ]
  },
  {
   "cell_type": "code",
   "execution_count": 17,
   "metadata": {},
   "outputs": [
    {
     "name": "stdout",
     "output_type": "stream",
     "text": [
      "4.5276 +- 7.952451605467805\n"
     ]
    }
   ],
   "source": [
    "# employee index case\n",
    "mean = data.loc['same_day_antigen', 'twice\\na week', 'never', 'employee']\\\n",
    "        ['infected_residents_mean']\n",
    "std = data.loc['same_day_antigen', 'twice\\na week', 'never', 'employee']\\\n",
    "        ['infected_residents_std']\n",
    "print('{} +- {}'.format(mean, std))"
   ]
  },
  {
   "cell_type": "code",
   "execution_count": 18,
   "metadata": {},
   "outputs": [
    {
     "name": "stdout",
     "output_type": "stream",
     "text": [
      "8.0038 +- 8.925318919991863\n"
     ]
    }
   ],
   "source": [
    "# resident index case\n",
    "mean = data.loc['same_day_antigen', 'twice\\na week', 'never', 'resident']\\\n",
    "        ['infected_residents_mean'] - 1\n",
    "std = data.loc['same_day_antigen', 'twice\\na week', 'never', 'resident']\\\n",
    "        ['infected_residents_std']\n",
    "print('{} +- {}'.format(mean, std))"
   ]
  },
  {
   "cell_type": "markdown",
   "metadata": {},
   "source": [
    "##### Same-day PCR"
   ]
  },
  {
   "cell_type": "code",
   "execution_count": 19,
   "metadata": {},
   "outputs": [
    {
     "name": "stdout",
     "output_type": "stream",
     "text": [
      "0.5202 +- 2.7129069156140537\n"
     ]
    }
   ],
   "source": [
    "# employee index case\n",
    "mean = data.loc['same_day_PCR', 'twice\\na week', 'never', 'employee']\\\n",
    "        ['infected_residents_mean']\n",
    "std = data.loc['same_day_PCR', 'twice\\na week', 'never', 'employee']\\\n",
    "        ['infected_residents_std']\n",
    "print('{} +- {}'.format(mean, std))"
   ]
  },
  {
   "cell_type": "code",
   "execution_count": 20,
   "metadata": {},
   "outputs": [
    {
     "name": "stdout",
     "output_type": "stream",
     "text": [
      "5.2848 +- 6.868094575981094\n"
     ]
    }
   ],
   "source": [
    "# resident index case\n",
    "mean = data.loc['same_day_PCR', 'twice\\na week', 'never', 'resident']\\\n",
    "        ['infected_residents_mean'] - 1\n",
    "std = data.loc['same_day_PCR', 'twice\\na week', 'never', 'resident']\\\n",
    "        ['infected_residents_std']\n",
    "print('{} +- {}'.format(mean, std))"
   ]
  },
  {
   "cell_type": "markdown",
   "metadata": {},
   "source": [
    "##### Two-day PCR"
   ]
  },
  {
   "cell_type": "code",
   "execution_count": 21,
   "metadata": {},
   "outputs": [
    {
     "name": "stdout",
     "output_type": "stream",
     "text": [
      "4.5382 +- 7.83295677266002\n"
     ]
    }
   ],
   "source": [
    "# employee index case\n",
    "mean = data.loc['two_day_PCR', 'twice\\na week', 'never', 'employee']\\\n",
    "        ['infected_residents_mean']\n",
    "std = data.loc['two_day_PCR', 'twice\\na week', 'never', 'employee']\\\n",
    "        ['infected_residents_std']\n",
    "print('{} +- {}'.format(mean, std))"
   ]
  },
  {
   "cell_type": "code",
   "execution_count": 22,
   "metadata": {},
   "outputs": [
    {
     "name": "stdout",
     "output_type": "stream",
     "text": [
      "7.816000000000001 +- 8.840326593223521\n"
     ]
    }
   ],
   "source": [
    "# resident index case\n",
    "mean = data.loc['two_day_PCR', 'twice\\na week', 'never', 'resident']\\\n",
    "        ['infected_residents_mean'] - 1\n",
    "std = data.loc['two_day_PCR', 'twice\\na week', 'never', 'resident']\\\n",
    "        ['infected_residents_std']\n",
    "print('{} +- {}'.format(mean, std))"
   ]
  },
  {
   "cell_type": "markdown",
   "metadata": {},
   "source": [
    "#### Realistic scenario II: employees screened 1x / week"
   ]
  },
  {
   "cell_type": "markdown",
   "metadata": {},
   "source": [
    "##### Same-day PCR"
   ]
  },
  {
   "cell_type": "code",
   "execution_count": 23,
   "metadata": {},
   "outputs": [
    {
     "name": "stdout",
     "output_type": "stream",
     "text": [
      "3.893 +- 7.464093618029435\n"
     ]
    }
   ],
   "source": [
    "# employee index case\n",
    "mean = data.loc['same_day_PCR', 'once\\na week', 'never', 'employee']\\\n",
    "        ['infected_residents_mean']\n",
    "std = data.loc['same_day_PCR', 'once\\na week', 'never', 'employee']\\\n",
    "        ['infected_residents_std']\n",
    "print('{} +- {}'.format(mean, std))"
   ]
  },
  {
   "cell_type": "code",
   "execution_count": 24,
   "metadata": {},
   "outputs": [
    {
     "name": "stdout",
     "output_type": "stream",
     "text": [
      "7.585800000000001 +- 8.699504275240457\n"
     ]
    }
   ],
   "source": [
    "# resident index case\n",
    "mean = data.loc['same_day_PCR', 'once\\na week', 'never', 'resident']\\\n",
    "        ['infected_residents_mean'] - 1\n",
    "std = data.loc['same_day_PCR', 'once\\na week', 'never', 'resident']\\\n",
    "        ['infected_residents_std']\n",
    "print('{} +- {}'.format(mean, std))"
   ]
  },
  {
   "cell_type": "markdown",
   "metadata": {},
   "source": [
    "##### Same-day LAMP"
   ]
  },
  {
   "cell_type": "code",
   "execution_count": 25,
   "metadata": {},
   "outputs": [
    {
     "name": "stdout",
     "output_type": "stream",
     "text": [
      "5.6156 +- 8.840535484546775\n"
     ]
    }
   ],
   "source": [
    "# employee index case\n",
    "mean = data.loc['same_day_LAMP', 'once\\na week', 'never', 'employee']\\\n",
    "        ['infected_residents_mean']\n",
    "std = data.loc['same_day_LAMP', 'once\\na week', 'never', 'employee']\\\n",
    "        ['infected_residents_std']\n",
    "print('{} +- {}'.format(mean, std))"
   ]
  },
  {
   "cell_type": "code",
   "execution_count": 26,
   "metadata": {},
   "outputs": [
    {
     "name": "stdout",
     "output_type": "stream",
     "text": [
      "8.667 +- 9.438428247624554\n"
     ]
    }
   ],
   "source": [
    "# resident index case\n",
    "mean = data.loc['same_day_LAMP', 'once\\na week', 'never', 'resident']\\\n",
    "        ['infected_residents_mean'] - 1\n",
    "std = data.loc['same_day_LAMP', 'once\\na week', 'never', 'resident']\\\n",
    "        ['infected_residents_std']\n",
    "print('{} +- {}'.format(mean, std))"
   ]
  },
  {
   "cell_type": "markdown",
   "metadata": {},
   "source": [
    "##### Same-day Antigen"
   ]
  },
  {
   "cell_type": "code",
   "execution_count": 27,
   "metadata": {},
   "outputs": [
    {
     "name": "stdout",
     "output_type": "stream",
     "text": [
      "7.674 +- 10.059859052334213\n"
     ]
    }
   ],
   "source": [
    "# employee index case\n",
    "mean = data.loc['same_day_antigen', 'once\\na week', 'never', 'employee']\\\n",
    "        ['infected_residents_mean']\n",
    "std = data.loc['same_day_antigen', 'once\\na week', 'never', 'employee']\\\n",
    "        ['infected_residents_std']\n",
    "print('{} +- {}'.format(mean, std))"
   ]
  },
  {
   "cell_type": "code",
   "execution_count": 28,
   "metadata": {},
   "outputs": [
    {
     "name": "stdout",
     "output_type": "stream",
     "text": [
      "9.7012 +- 10.187260407730973\n"
     ]
    }
   ],
   "source": [
    "# resident index case\n",
    "mean = data.loc['same_day_antigen', 'once\\na week', 'never', 'resident']\\\n",
    "        ['infected_residents_mean'] - 1\n",
    "std = data.loc['same_day_antigen', 'once\\na week', 'never', 'resident']\\\n",
    "        ['infected_residents_std']\n",
    "print('{} +- {}'.format(mean, std))"
   ]
  },
  {
   "cell_type": "markdown",
   "metadata": {},
   "source": [
    "#### Two-day PCR"
   ]
  },
  {
   "cell_type": "markdown",
   "metadata": {},
   "source": [
    "##### Employees 3x / week, residents never "
   ]
  },
  {
   "cell_type": "code",
   "execution_count": 29,
   "metadata": {},
   "outputs": [
    {
     "name": "stdout",
     "output_type": "stream",
     "text": [
      "2.4948 +- 5.823603337381954\n"
     ]
    }
   ],
   "source": [
    "# employee index case\n",
    "mean = data.loc['two_day_PCR', '3 times\\na week', 'never', 'employee']\\\n",
    "        ['infected_residents_mean']\n",
    "std = data.loc['two_day_PCR', '3 times\\na week', 'never', 'employee']\\\n",
    "        ['infected_residents_std']\n",
    "print('{} +- {}'.format(mean, std))"
   ]
  },
  {
   "cell_type": "code",
   "execution_count": 30,
   "metadata": {},
   "outputs": [
    {
     "name": "stdout",
     "output_type": "stream",
     "text": [
      "6.67 +- 8.039802714341759\n"
     ]
    }
   ],
   "source": [
    "# resident index case\n",
    "mean = data.loc['two_day_PCR', '3 times\\na week', 'never', 'resident']\\\n",
    "        ['infected_residents_mean'] - 1\n",
    "std = data.loc['two_day_PCR', '3 times\\na week', 'never', 'resident']\\\n",
    "        ['infected_residents_std']\n",
    "print('{} +- {}'.format(mean, std))"
   ]
  },
  {
   "cell_type": "markdown",
   "metadata": {},
   "source": [
    "##### Employees 3x / week, residents 1x / week "
   ]
  },
  {
   "cell_type": "code",
   "execution_count": 31,
   "metadata": {},
   "outputs": [
    {
     "name": "stdout",
     "output_type": "stream",
     "text": [
      "1.7168 +- 4.228590067007082\n"
     ]
    }
   ],
   "source": [
    "# employee index case\n",
    "mean = data.loc['two_day_PCR', '3 times\\na week', 'once\\na week', 'employee']\\\n",
    "        ['infected_residents_mean']\n",
    "std = data.loc['two_day_PCR', '3 times\\na week', 'once\\na week', 'employee']\\\n",
    "        ['infected_residents_std']\n",
    "print('{} +- {}'.format(mean, std))"
   ]
  },
  {
   "cell_type": "code",
   "execution_count": 32,
   "metadata": {},
   "outputs": [
    {
     "name": "stdout",
     "output_type": "stream",
     "text": [
      "3.3926 +- 5.184963067216746\n"
     ]
    }
   ],
   "source": [
    "# resident index case\n",
    "mean = data.loc['two_day_PCR', '3 times\\na week', 'once\\na week', 'resident']\\\n",
    "        ['infected_residents_mean'] - 1\n",
    "std = data.loc['two_day_PCR', '3 times\\na week', 'once\\na week', 'resident']\\\n",
    "        ['infected_residents_std']\n",
    "print('{} +- {}'.format(mean, std))"
   ]
  },
  {
   "cell_type": "markdown",
   "metadata": {},
   "source": [
    "##### Employees 3x / week, residents 2x / week "
   ]
  },
  {
   "cell_type": "code",
   "execution_count": 33,
   "metadata": {},
   "outputs": [
    {
     "name": "stdout",
     "output_type": "stream",
     "text": [
      "0.9764 +- 2.4122617688319554\n"
     ]
    }
   ],
   "source": [
    "# employee index case\n",
    "mean = data.loc['two_day_PCR', '3 times\\na week', 'twice\\na week', 'employee']\\\n",
    "        ['infected_residents_mean']\n",
    "std = data.loc['two_day_PCR', '3 times\\na week', 'twice\\na week', 'employee']\\\n",
    "        ['infected_residents_std']\n",
    "print('{} +- {}'.format(mean, std))"
   ]
  },
  {
   "cell_type": "code",
   "execution_count": 34,
   "metadata": {},
   "outputs": [
    {
     "name": "stdout",
     "output_type": "stream",
     "text": [
      "1.4104 +- 2.6920292056827413\n"
     ]
    }
   ],
   "source": [
    "# resident index case\n",
    "mean = data.loc['two_day_PCR', '3 times\\na week', 'twice\\na week', 'resident']\\\n",
    "        ['infected_residents_mean'] - 1\n",
    "std = data.loc['two_day_PCR', '3 times\\na week', 'twice\\na week', 'resident']\\\n",
    "        ['infected_residents_std']\n",
    "print('{} +- {}'.format(mean, std))"
   ]
  },
  {
   "cell_type": "markdown",
   "metadata": {},
   "source": [
    "##### Employees 3x / week, residents 3x / week "
   ]
  },
  {
   "cell_type": "code",
   "execution_count": 35,
   "metadata": {},
   "outputs": [
    {
     "name": "stdout",
     "output_type": "stream",
     "text": [
      "0.6922 +- 1.556516530185834\n"
     ]
    }
   ],
   "source": [
    "# employee index case\n",
    "mean = data.loc['two_day_PCR', '3 times\\na week', '3 times\\na week', 'employee']\\\n",
    "        ['infected_residents_mean']\n",
    "std = data.loc['two_day_PCR', '3 times\\na week', '3 times\\na week', 'employee']\\\n",
    "        ['infected_residents_std']\n",
    "print('{} +- {}'.format(mean, std))"
   ]
  },
  {
   "cell_type": "code",
   "execution_count": 36,
   "metadata": {},
   "outputs": [
    {
     "name": "stdout",
     "output_type": "stream",
     "text": [
      "0.6544000000000001 +- 1.4354695240759765\n"
     ]
    }
   ],
   "source": [
    "# resident index case\n",
    "mean = data.loc['two_day_PCR', '3 times\\na week', '3 times\\na week', 'resident']\\\n",
    "        ['infected_residents_mean'] - 1\n",
    "std = data.loc['two_day_PCR', '3 times\\na week', '3 times\\na week', 'resident']\\\n",
    "        ['infected_residents_std']\n",
    "print('{} +- {}'.format(mean, std))"
   ]
  },
  {
   "cell_type": "markdown",
   "metadata": {},
   "source": [
    "#### Same-day PCR"
   ]
  },
  {
   "cell_type": "code",
   "execution_count": 37,
   "metadata": {},
   "outputs": [
    {
     "name": "stdout",
     "output_type": "stream",
     "text": [
      "1.4212 +- 2.962084628951343\n"
     ]
    }
   ],
   "source": [
    "# employee index case\n",
    "mean = data.loc['same_day_PCR', 'once\\na week', 'once\\na week', 'employee']\\\n",
    "        ['infected_residents_mean']\n",
    "std = data.loc['same_day_PCR', 'once\\na week', 'once\\na week', 'employee']\\\n",
    "        ['infected_residents_std']\n",
    "print('{} +- {}'.format(mean, std))"
   ]
  },
  {
   "cell_type": "code",
   "execution_count": 38,
   "metadata": {},
   "outputs": [
    {
     "name": "stdout",
     "output_type": "stream",
     "text": [
      "1.4152 +- 2.901188090846178\n"
     ]
    }
   ],
   "source": [
    "# resident index case\n",
    "mean = data.loc['same_day_PCR', 'once\\na week', 'once\\na week', 'resident']\\\n",
    "        ['infected_residents_mean'] - 1\n",
    "std = data.loc['same_day_PCR', 'once\\na week', 'once\\na week', 'resident']\\\n",
    "        ['infected_residents_std']\n",
    "print('{} +- {}'.format(mean, std))"
   ]
  },
  {
   "cell_type": "markdown",
   "metadata": {},
   "source": [
    "### Test rates"
   ]
  },
  {
   "cell_type": "markdown",
   "metadata": {},
   "source": [
    "#### Diagnostic testing base rate"
   ]
  },
  {
   "cell_type": "code",
   "execution_count": 39,
   "metadata": {},
   "outputs": [
    {
     "name": "stdout",
     "output_type": "stream",
     "text": [
      "0.006939065813048799 +- 0.0052578742713192145\n"
     ]
    }
   ],
   "source": [
    "mean = data.loc[:, 'never', 'never', 'employee']['test_rate_mean'].mean()\n",
    "std = np.sqrt((data.loc[:, 'never', 'never', 'employee']['test_rate_std']**2).mean())\n",
    "print('{} +- {}'.format(mean, std))"
   ]
  },
  {
   "cell_type": "code",
   "execution_count": 40,
   "metadata": {},
   "outputs": [
    {
     "name": "stdout",
     "output_type": "stream",
     "text": [
      "0.006855398855333759 +- 0.005237219992395677\n"
     ]
    }
   ],
   "source": [
    "mean = data.loc[:, 'never', 'never', 'resident']['test_rate_mean'].mean()\n",
    "std = np.sqrt((data.loc[:, 'never', 'never', 'resident']['test_rate_std']**2).mean())\n",
    "print('{} +- {}'.format(mean, std))"
   ]
  },
  {
   "cell_type": "markdown",
   "metadata": {},
   "source": [
    "#### Test rates employeed screened 2x / week"
   ]
  },
  {
   "cell_type": "code",
   "execution_count": 41,
   "metadata": {},
   "outputs": [
    {
     "name": "stdout",
     "output_type": "stream",
     "text": [
      "0.09226878115597573 +- 0.01170942322284395\n"
     ]
    }
   ],
   "source": [
    "mean = data.loc[:, 'twice\\na week', 'never', 'employee']['test_rate_mean'].mean()\n",
    "std = np.sqrt((data.loc[:, 'twice\\na week', 'never', 'employee']['test_rate_std']**2).mean())\n",
    "print('{} +- {}'.format(mean, std))"
   ]
  },
  {
   "cell_type": "code",
   "execution_count": 42,
   "metadata": {},
   "outputs": [
    {
     "name": "stdout",
     "output_type": "stream",
     "text": [
      "0.09256821321115057 +- 0.010800683670373389\n"
     ]
    }
   ],
   "source": [
    "mean = data.loc[:, 'twice\\na week', 'never', 'resident']['test_rate_mean'].mean()\n",
    "std = np.sqrt((data.loc[:, 'twice\\na week', 'never', 'resident']['test_rate_std']**2).mean())\n",
    "print('{} +- {}'.format(mean, std))"
   ]
  },
  {
   "cell_type": "markdown",
   "metadata": {},
   "source": [
    "#### Test rates residents screened 2x / week"
   ]
  },
  {
   "cell_type": "code",
   "execution_count": 43,
   "metadata": {},
   "outputs": [
    {
     "name": "stdout",
     "output_type": "stream",
     "text": [
      "0.17990885743168564 +- 0.01982936384649848\n"
     ]
    }
   ],
   "source": [
    "mean = data.loc[:, 'never', 'twice\\na week', 'employee']['test_rate_mean'].mean()\n",
    "std = np.sqrt((data.loc[:, 'never', 'twice\\na week', 'employee']['test_rate_std']**2).mean())\n",
    "print('{} +- {}'.format(mean, std))"
   ]
  },
  {
   "cell_type": "code",
   "execution_count": 44,
   "metadata": {},
   "outputs": [
    {
     "name": "stdout",
     "output_type": "stream",
     "text": [
      "0.18192611796656316 +- 0.022439251104291284\n"
     ]
    }
   ],
   "source": [
    "mean = data.loc[:, 'never', 'twice\\na week', 'resident']['test_rate_mean'].mean()\n",
    "std = np.sqrt((data.loc[:, 'never', 'twice\\na week', 'resident']['test_rate_std']**2).mean())\n",
    "print('{} +- {}'.format(mean, std))"
   ]
  },
  {
   "cell_type": "code",
   "execution_count": 45,
   "metadata": {},
   "outputs": [
    {
     "name": "stdout",
     "output_type": "stream",
     "text": [
      "0.18091748769912439 +- 0.02117455620170419\n"
     ]
    }
   ],
   "source": [
    "mean = data.loc[:, 'never', 'twice\\na week', :]['test_rate_mean'].mean()\n",
    "std = np.sqrt((data.loc[:, 'never', 'twice\\na week', :]['test_rate_std']**2).mean())\n",
    "print('{} +- {}'.format(mean, std))"
   ]
  },
  {
   "cell_type": "markdown",
   "metadata": {},
   "source": [
    "#### Test rates residents screened 3x / week"
   ]
  },
  {
   "cell_type": "code",
   "execution_count": 46,
   "metadata": {},
   "outputs": [
    {
     "name": "stdout",
     "output_type": "stream",
     "text": [
      "0.27225189597933047 +- 0.022225708234275037\n"
     ]
    }
   ],
   "source": [
    "mean = data.loc[:, 'never', '3 times\\na week', 'employee']['test_rate_mean'].mean()\n",
    "std = np.sqrt((data.loc[:, 'never', '3 times\\na week', 'employee']['test_rate_std']**2).mean())\n",
    "print('{} +- {}'.format(mean, std))"
   ]
  },
  {
   "cell_type": "code",
   "execution_count": 47,
   "metadata": {},
   "outputs": [
    {
     "name": "stdout",
     "output_type": "stream",
     "text": [
      "0.27634463374337553 +- 0.02346177866051484\n"
     ]
    }
   ],
   "source": [
    "mean = data.loc[:, 'never', '3 times\\na week', 'resident']['test_rate_mean'].mean()\n",
    "std = np.sqrt((data.loc[:, 'never', '3 times\\na week', 'resident']['test_rate_std']**2).mean())\n",
    "print('{} +- {}'.format(mean, std))"
   ]
  },
  {
   "cell_type": "code",
   "execution_count": 48,
   "metadata": {},
   "outputs": [
    {
     "name": "stdout",
     "output_type": "stream",
     "text": [
      "0.27429826486135295 +- 0.02285210235875586\n"
     ]
    }
   ],
   "source": [
    "mean = data.loc[:, 'never', '3 times\\na week', :]['test_rate_mean'].mean()\n",
    "std = np.sqrt((data.loc[:, 'never', '3 times\\na week', :]['test_rate_std']**2).mean())\n",
    "print('{} +- {}'.format(mean, std))"
   ]
  },
  {
   "cell_type": "markdown",
   "metadata": {},
   "source": [
    "### False negatives"
   ]
  },
  {
   "cell_type": "code",
   "execution_count": 49,
   "metadata": {},
   "outputs": [
    {
     "data": {
      "text/html": [
       "<div>\n",
       "<style scoped>\n",
       "    .dataframe tbody tr th:only-of-type {\n",
       "        vertical-align: middle;\n",
       "    }\n",
       "\n",
       "    .dataframe tbody tr th {\n",
       "        vertical-align: top;\n",
       "    }\n",
       "\n",
       "    .dataframe thead th {\n",
       "        text-align: right;\n",
       "    }\n",
       "</style>\n",
       "<table border=\"1\" class=\"dataframe\">\n",
       "  <thead>\n",
       "    <tr style=\"text-align: right;\">\n",
       "      <th></th>\n",
       "      <th></th>\n",
       "      <th></th>\n",
       "      <th>undetected_infections_mean</th>\n",
       "      <th>undetected_infections_std</th>\n",
       "    </tr>\n",
       "    <tr>\n",
       "      <th>employee_screen_interval</th>\n",
       "      <th>resident_screen_interval</th>\n",
       "      <th>index_case</th>\n",
       "      <th></th>\n",
       "      <th></th>\n",
       "    </tr>\n",
       "  </thead>\n",
       "  <tbody>\n",
       "    <tr>\n",
       "      <th rowspan=\"8\" valign=\"top\">3 times\\na week</th>\n",
       "      <th rowspan=\"2\" valign=\"top\">3 times\\na week</th>\n",
       "      <th>employee</th>\n",
       "      <td>0.0892</td>\n",
       "      <td>0.318219</td>\n",
       "    </tr>\n",
       "    <tr>\n",
       "      <th>resident</th>\n",
       "      <td>0.0926</td>\n",
       "      <td>0.316931</td>\n",
       "    </tr>\n",
       "    <tr>\n",
       "      <th rowspan=\"2\" valign=\"top\">twice\\na week</th>\n",
       "      <th>employee</th>\n",
       "      <td>0.1070</td>\n",
       "      <td>0.387274</td>\n",
       "    </tr>\n",
       "    <tr>\n",
       "      <th>resident</th>\n",
       "      <td>0.1384</td>\n",
       "      <td>0.411436</td>\n",
       "    </tr>\n",
       "    <tr>\n",
       "      <th rowspan=\"2\" valign=\"top\">once\\na week</th>\n",
       "      <th>employee</th>\n",
       "      <td>0.1436</td>\n",
       "      <td>0.454115</td>\n",
       "    </tr>\n",
       "    <tr>\n",
       "      <th>resident</th>\n",
       "      <td>0.2088</td>\n",
       "      <td>0.558270</td>\n",
       "    </tr>\n",
       "    <tr>\n",
       "      <th rowspan=\"2\" valign=\"top\">never</th>\n",
       "      <th>employee</th>\n",
       "      <td>0.0974</td>\n",
       "      <td>0.338136</td>\n",
       "    </tr>\n",
       "    <tr>\n",
       "      <th>resident</th>\n",
       "      <td>0.1474</td>\n",
       "      <td>0.416303</td>\n",
       "    </tr>\n",
       "    <tr>\n",
       "      <th rowspan=\"8\" valign=\"top\">twice\\na week</th>\n",
       "      <th rowspan=\"2\" valign=\"top\">3 times\\na week</th>\n",
       "      <th>employee</th>\n",
       "      <td>0.1120</td>\n",
       "      <td>0.350828</td>\n",
       "    </tr>\n",
       "    <tr>\n",
       "      <th>resident</th>\n",
       "      <td>0.1006</td>\n",
       "      <td>0.345982</td>\n",
       "    </tr>\n",
       "    <tr>\n",
       "      <th rowspan=\"2\" valign=\"top\">twice\\na week</th>\n",
       "      <th>employee</th>\n",
       "      <td>0.1422</td>\n",
       "      <td>0.447682</td>\n",
       "    </tr>\n",
       "    <tr>\n",
       "      <th>resident</th>\n",
       "      <td>0.1482</td>\n",
       "      <td>0.441221</td>\n",
       "    </tr>\n",
       "    <tr>\n",
       "      <th rowspan=\"2\" valign=\"top\">once\\na week</th>\n",
       "      <th>employee</th>\n",
       "      <td>0.2086</td>\n",
       "      <td>0.558523</td>\n",
       "    </tr>\n",
       "    <tr>\n",
       "      <th>resident</th>\n",
       "      <td>0.2606</td>\n",
       "      <td>0.626711</td>\n",
       "    </tr>\n",
       "    <tr>\n",
       "      <th rowspan=\"2\" valign=\"top\">never</th>\n",
       "      <th>employee</th>\n",
       "      <td>0.1290</td>\n",
       "      <td>0.387800</td>\n",
       "    </tr>\n",
       "    <tr>\n",
       "      <th>resident</th>\n",
       "      <td>0.1538</td>\n",
       "      <td>0.433339</td>\n",
       "    </tr>\n",
       "    <tr>\n",
       "      <th rowspan=\"8\" valign=\"top\">once\\na week</th>\n",
       "      <th rowspan=\"2\" valign=\"top\">3 times\\na week</th>\n",
       "      <th>employee</th>\n",
       "      <td>0.1682</td>\n",
       "      <td>0.484516</td>\n",
       "    </tr>\n",
       "    <tr>\n",
       "      <th>resident</th>\n",
       "      <td>0.1014</td>\n",
       "      <td>0.361032</td>\n",
       "    </tr>\n",
       "    <tr>\n",
       "      <th rowspan=\"2\" valign=\"top\">twice\\na week</th>\n",
       "      <th>employee</th>\n",
       "      <td>0.2010</td>\n",
       "      <td>0.534281</td>\n",
       "    </tr>\n",
       "    <tr>\n",
       "      <th>resident</th>\n",
       "      <td>0.1882</td>\n",
       "      <td>0.526532</td>\n",
       "    </tr>\n",
       "    <tr>\n",
       "      <th rowspan=\"2\" valign=\"top\">once\\na week</th>\n",
       "      <th>employee</th>\n",
       "      <td>0.2762</td>\n",
       "      <td>0.655744</td>\n",
       "    </tr>\n",
       "    <tr>\n",
       "      <th>resident</th>\n",
       "      <td>0.2936</td>\n",
       "      <td>0.671930</td>\n",
       "    </tr>\n",
       "    <tr>\n",
       "      <th rowspan=\"2\" valign=\"top\">never</th>\n",
       "      <th>employee</th>\n",
       "      <td>0.1354</td>\n",
       "      <td>0.392298</td>\n",
       "    </tr>\n",
       "    <tr>\n",
       "      <th>resident</th>\n",
       "      <td>0.1324</td>\n",
       "      <td>0.387944</td>\n",
       "    </tr>\n",
       "    <tr>\n",
       "      <th rowspan=\"8\" valign=\"top\">never</th>\n",
       "      <th rowspan=\"2\" valign=\"top\">3 times\\na week</th>\n",
       "      <th>employee</th>\n",
       "      <td>0.1972</td>\n",
       "      <td>0.518040</td>\n",
       "    </tr>\n",
       "    <tr>\n",
       "      <th>resident</th>\n",
       "      <td>0.1132</td>\n",
       "      <td>0.386802</td>\n",
       "    </tr>\n",
       "    <tr>\n",
       "      <th rowspan=\"2\" valign=\"top\">twice\\na week</th>\n",
       "      <th>employee</th>\n",
       "      <td>0.2596</td>\n",
       "      <td>0.605542</td>\n",
       "    </tr>\n",
       "    <tr>\n",
       "      <th>resident</th>\n",
       "      <td>0.1984</td>\n",
       "      <td>0.548359</td>\n",
       "    </tr>\n",
       "    <tr>\n",
       "      <th rowspan=\"2\" valign=\"top\">once\\na week</th>\n",
       "      <th>employee</th>\n",
       "      <td>0.3656</td>\n",
       "      <td>0.725287</td>\n",
       "    </tr>\n",
       "    <tr>\n",
       "      <th>resident</th>\n",
       "      <td>0.2894</td>\n",
       "      <td>0.640414</td>\n",
       "    </tr>\n",
       "    <tr>\n",
       "      <th rowspan=\"2\" valign=\"top\">never</th>\n",
       "      <th>employee</th>\n",
       "      <td>0.0000</td>\n",
       "      <td>0.000000</td>\n",
       "    </tr>\n",
       "    <tr>\n",
       "      <th>resident</th>\n",
       "      <td>0.0000</td>\n",
       "      <td>0.000000</td>\n",
       "    </tr>\n",
       "  </tbody>\n",
       "</table>\n",
       "</div>"
      ],
      "text/plain": [
       "                                                              undetected_infections_mean  \\\n",
       "employee_screen_interval resident_screen_interval index_case                               \n",
       "3 times\\na week          3 times\\na week          employee                        0.0892   \n",
       "                                                  resident                        0.0926   \n",
       "                         twice\\na week            employee                        0.1070   \n",
       "                                                  resident                        0.1384   \n",
       "                         once\\na week             employee                        0.1436   \n",
       "                                                  resident                        0.2088   \n",
       "                         never                    employee                        0.0974   \n",
       "                                                  resident                        0.1474   \n",
       "twice\\na week            3 times\\na week          employee                        0.1120   \n",
       "                                                  resident                        0.1006   \n",
       "                         twice\\na week            employee                        0.1422   \n",
       "                                                  resident                        0.1482   \n",
       "                         once\\na week             employee                        0.2086   \n",
       "                                                  resident                        0.2606   \n",
       "                         never                    employee                        0.1290   \n",
       "                                                  resident                        0.1538   \n",
       "once\\na week             3 times\\na week          employee                        0.1682   \n",
       "                                                  resident                        0.1014   \n",
       "                         twice\\na week            employee                        0.2010   \n",
       "                                                  resident                        0.1882   \n",
       "                         once\\na week             employee                        0.2762   \n",
       "                                                  resident                        0.2936   \n",
       "                         never                    employee                        0.1354   \n",
       "                                                  resident                        0.1324   \n",
       "never                    3 times\\na week          employee                        0.1972   \n",
       "                                                  resident                        0.1132   \n",
       "                         twice\\na week            employee                        0.2596   \n",
       "                                                  resident                        0.1984   \n",
       "                         once\\na week             employee                        0.3656   \n",
       "                                                  resident                        0.2894   \n",
       "                         never                    employee                        0.0000   \n",
       "                                                  resident                        0.0000   \n",
       "\n",
       "                                                              undetected_infections_std  \n",
       "employee_screen_interval resident_screen_interval index_case                             \n",
       "3 times\\na week          3 times\\na week          employee                     0.318219  \n",
       "                                                  resident                     0.316931  \n",
       "                         twice\\na week            employee                     0.387274  \n",
       "                                                  resident                     0.411436  \n",
       "                         once\\na week             employee                     0.454115  \n",
       "                                                  resident                     0.558270  \n",
       "                         never                    employee                     0.338136  \n",
       "                                                  resident                     0.416303  \n",
       "twice\\na week            3 times\\na week          employee                     0.350828  \n",
       "                                                  resident                     0.345982  \n",
       "                         twice\\na week            employee                     0.447682  \n",
       "                                                  resident                     0.441221  \n",
       "                         once\\na week             employee                     0.558523  \n",
       "                                                  resident                     0.626711  \n",
       "                         never                    employee                     0.387800  \n",
       "                                                  resident                     0.433339  \n",
       "once\\na week             3 times\\na week          employee                     0.484516  \n",
       "                                                  resident                     0.361032  \n",
       "                         twice\\na week            employee                     0.534281  \n",
       "                                                  resident                     0.526532  \n",
       "                         once\\na week             employee                     0.655744  \n",
       "                                                  resident                     0.671930  \n",
       "                         never                    employee                     0.392298  \n",
       "                                                  resident                     0.387944  \n",
       "never                    3 times\\na week          employee                     0.518040  \n",
       "                                                  resident                     0.386802  \n",
       "                         twice\\na week            employee                     0.605542  \n",
       "                                                  resident                     0.548359  \n",
       "                         once\\na week             employee                     0.725287  \n",
       "                                                  resident                     0.640414  \n",
       "                         never                    employee                     0.000000  \n",
       "                                                  resident                     0.000000  "
      ]
     },
     "execution_count": 49,
     "metadata": {},
     "output_type": "execute_result"
    }
   ],
   "source": [
    "data.loc['same_day_antigen'][['undetected_infections_mean', 'undetected_infections_std']]"
   ]
  },
  {
   "cell_type": "markdown",
   "metadata": {},
   "source": [
    "### Results table"
   ]
  },
  {
   "cell_type": "code",
   "execution_count": 50,
   "metadata": {},
   "outputs": [],
   "source": [
    "def round_decimals_up(number:float, decimals:int=2):\n",
    "    \"\"\"\n",
    "    Returns a value rounded up to a specific number of decimal places.\n",
    "    \"\"\"\n",
    "    import math\n",
    "    if not isinstance(decimals, int):\n",
    "        raise TypeError(\"decimal places must be an integer\")\n",
    "    elif decimals < 0:\n",
    "        raise ValueError(\"decimal places has to be 0 or more\")\n",
    "    elif decimals == 0:\n",
    "        return math.ceil(number)\n",
    "\n",
    "    factor = 10 ** decimals\n",
    "    return math.ceil(number * factor) / factor"
   ]
  },
  {
   "cell_type": "markdown",
   "metadata": {},
   "source": [
    "#### Employee index case"
   ]
  },
  {
   "cell_type": "code",
   "execution_count": 51,
   "metadata": {},
   "outputs": [],
   "source": [
    "table_data = data.loc[:,:,:,'employee'].copy()\n",
    "table_data = table_data.loc[:, :, ['never', 'once\\na week']]\\\n",
    "    .sort_values(by=['test_type', 'employee_screen_interval', 'resident_screen_interval'])\n",
    "\n",
    "\n",
    "table_data = table_data.reset_index()\n",
    "\n",
    "table_data['employee_screen_interval'] =  \\\n",
    "    table_data['employee_screen_interval'].replace({\\\n",
    "                        'once\\na week':1,\n",
    "                        'twice\\na week':2,\n",
    "                        '3 times\\na week':3})\n",
    "\n",
    "table_data['resident_screen_interval'] =  \\\n",
    "    table_data['resident_screen_interval'].replace({\\\n",
    "                        'once\\na week':1,\n",
    "                        'twice\\na week':2,\n",
    "                        '3 times\\na week':3})\n",
    "\n",
    "table_data['infected_residents_median_10_90'] = \\\n",
    "    ['{} [{}; {}]'.format(median, ten, ninety) for \\\n",
    "    median, ten, ninety in zip(\\\n",
    "                round(table_data['infected_residents_median']),\n",
    "                round(table_data['infected_residents_0.10']),\n",
    "                round(table_data['infected_residents_0.90']))]\n",
    "\n",
    "table_data['infected_residents_mean_std'] = \\\n",
    "    ['{:1.1f} ± {:1.1f}'.format(mean, round_decimals_up(std, 1)) for \\\n",
    "    mean, std in zip(\\\n",
    "    round(table_data['infected_residents_mean'], 1),\n",
    "    table_data['infected_residents_std'])]\n",
    "\n",
    "table_data['R0_mean_std'] = \\\n",
    "    ['{:1.2f} ± {:1.2f}'.format(mean, round_decimals_up(std, 2)) for \\\n",
    "    mean, std in zip(\\\n",
    "    round(table_data['R0_mean'], 2),\n",
    "    table_data['R0_std'])]\n",
    "\n",
    "table_data['test_rate_mean_std'] = \\\n",
    "    ['{:1.2f} ± {:1.2f}'.format(mean, round_decimals_up(std, 2)) for \\\n",
    "    mean, std in zip(\\\n",
    "    round(table_data['test_rate_mean'], 2),\n",
    "    table_data['test_rate_std'])]\n",
    "\n",
    "table_cols = ['test_type','employee_screen_interval', 'resident_screen_interval',\n",
    "              'infected_residents_mean_std', 'infected_residents_median_10_90',\n",
    "              'R0_mean_std', 'test_rate_mean_std']"
   ]
  },
  {
   "cell_type": "code",
   "execution_count": 52,
   "metadata": {},
   "outputs": [],
   "source": [
    "table_data = table_data[table_cols]\n",
    "table_data.to_csv(join(res_path, 'table_testing_strategy_UK_variant_employee.csv'))"
   ]
  },
  {
   "cell_type": "markdown",
   "metadata": {},
   "source": [
    "#### Resident index case"
   ]
  },
  {
   "cell_type": "code",
   "execution_count": 53,
   "metadata": {},
   "outputs": [],
   "source": [
    "table_data = data.loc[:,:,:,'resident'].copy()\n",
    "table_data = table_data.loc[:, :, ['never', 'once\\na week']]\\\n",
    "    .sort_values(by=['test_type', 'employee_screen_interval', 'resident_screen_interval'])\n",
    "\n",
    "\n",
    "table_data = table_data.reset_index()\n",
    "\n",
    "table_data['employee_screen_interval'] =  \\\n",
    "    table_data['employee_screen_interval'].replace({\\\n",
    "                        'once\\na week':1,\n",
    "                        'twice\\na week':2,\n",
    "                        '3 times\\na week':3})\n",
    "\n",
    "table_data['resident_screen_interval'] =  \\\n",
    "    table_data['resident_screen_interval'].replace({\\\n",
    "                        'once\\na week':1,\n",
    "                        'twice\\na week':2,\n",
    "                        '3 times\\na week':3})\n",
    "\n",
    "table_data['infected_residents_median_10_90'] = \\\n",
    "    ['{} [{}; {}]'.format(median, ten, ninety) for \\\n",
    "    median, ten, ninety in zip(\\\n",
    "                round(table_data['infected_residents_median']),\n",
    "                round(table_data['infected_residents_0.10']),\n",
    "                round(table_data['infected_residents_0.90']))]\n",
    "\n",
    "table_data['infected_residents_mean_std'] = \\\n",
    "    ['{:1.1f} ± {:1.1f}'.format(mean, round_decimals_up(std, 1)) for \\\n",
    "    mean, std in zip(\\\n",
    "    round(table_data['infected_residents_mean'], 1),\n",
    "    table_data['infected_residents_std'])]\n",
    "\n",
    "table_data['R0_mean_std'] = \\\n",
    "    ['{:1.2f} ± {:1.2f}'.format(mean, round_decimals_up(std, 2)) for \\\n",
    "    mean, std in zip(\\\n",
    "    round(table_data['R0_mean'], 2),\n",
    "    table_data['R0_std'])]\n",
    "\n",
    "table_data['test_rate_mean_std'] = \\\n",
    "    ['{:1.2f} ± {:1.2f}'.format(mean, round_decimals_up(std, 2)) for \\\n",
    "    mean, std in zip(\\\n",
    "    round(table_data['test_rate_mean'], 2),\n",
    "    table_data['test_rate_std'])]\n",
    "\n",
    "table_cols = ['test_type','employee_screen_interval', 'resident_screen_interval',\n",
    "              'infected_residents_mean_std', 'infected_residents_median_10_90',\n",
    "              'R0_mean_std', 'test_rate_mean_std']"
   ]
  },
  {
   "cell_type": "code",
   "execution_count": 54,
   "metadata": {},
   "outputs": [],
   "source": [
    "table_data = table_data[table_cols]\n",
    "table_data.to_csv(join(res_path, 'table_testing_strategy_UK_variant_resident.csv'))"
   ]
  },
  {
   "cell_type": "markdown",
   "metadata": {},
   "source": [
    "### Preventive testing rates"
   ]
  },
  {
   "cell_type": "code",
   "execution_count": 55,
   "metadata": {},
   "outputs": [
    {
     "data": {
      "text/html": [
       "<div>\n",
       "<style scoped>\n",
       "    .dataframe tbody tr th:only-of-type {\n",
       "        vertical-align: middle;\n",
       "    }\n",
       "\n",
       "    .dataframe tbody tr th {\n",
       "        vertical-align: top;\n",
       "    }\n",
       "\n",
       "    .dataframe thead th {\n",
       "        text-align: right;\n",
       "    }\n",
       "</style>\n",
       "<table border=\"1\" class=\"dataframe\">\n",
       "  <thead>\n",
       "    <tr style=\"text-align: right;\">\n",
       "      <th></th>\n",
       "      <th></th>\n",
       "      <th>test_rate_mean</th>\n",
       "      <th>test_rate_std</th>\n",
       "    </tr>\n",
       "    <tr>\n",
       "      <th>test_type</th>\n",
       "      <th>index_case</th>\n",
       "      <th></th>\n",
       "      <th></th>\n",
       "    </tr>\n",
       "  </thead>\n",
       "  <tbody>\n",
       "    <tr>\n",
       "      <th rowspan=\"2\" valign=\"top\">same_day_antigen</th>\n",
       "      <th>employee</th>\n",
       "      <td>0.138848</td>\n",
       "      <td>0.013075</td>\n",
       "    </tr>\n",
       "    <tr>\n",
       "      <th>resident</th>\n",
       "      <td>0.137883</td>\n",
       "      <td>0.013794</td>\n",
       "    </tr>\n",
       "    <tr>\n",
       "      <th rowspan=\"2\" valign=\"top\">same_day_LAMP</th>\n",
       "      <th>employee</th>\n",
       "      <td>0.140944</td>\n",
       "      <td>0.012078</td>\n",
       "    </tr>\n",
       "    <tr>\n",
       "      <th>resident</th>\n",
       "      <td>0.138661</td>\n",
       "      <td>0.013466</td>\n",
       "    </tr>\n",
       "    <tr>\n",
       "      <th rowspan=\"2\" valign=\"top\">same_day_PCR</th>\n",
       "      <th>employee</th>\n",
       "      <td>0.140891</td>\n",
       "      <td>0.011833</td>\n",
       "    </tr>\n",
       "    <tr>\n",
       "      <th>resident</th>\n",
       "      <td>0.138971</td>\n",
       "      <td>0.012811</td>\n",
       "    </tr>\n",
       "    <tr>\n",
       "      <th rowspan=\"2\" valign=\"top\">one_day_PCR</th>\n",
       "      <th>employee</th>\n",
       "      <td>0.140483</td>\n",
       "      <td>0.012018</td>\n",
       "    </tr>\n",
       "    <tr>\n",
       "      <th>resident</th>\n",
       "      <td>0.138552</td>\n",
       "      <td>0.013591</td>\n",
       "    </tr>\n",
       "    <tr>\n",
       "      <th rowspan=\"2\" valign=\"top\">two_day_PCR</th>\n",
       "      <th>employee</th>\n",
       "      <td>0.137808</td>\n",
       "      <td>0.013624</td>\n",
       "    </tr>\n",
       "    <tr>\n",
       "      <th>resident</th>\n",
       "      <td>0.135964</td>\n",
       "      <td>0.015397</td>\n",
       "    </tr>\n",
       "  </tbody>\n",
       "</table>\n",
       "</div>"
      ],
      "text/plain": [
       "                             test_rate_mean  test_rate_std\n",
       "test_type        index_case                               \n",
       "same_day_antigen employee          0.138848       0.013075\n",
       "                 resident          0.137883       0.013794\n",
       "same_day_LAMP    employee          0.140944       0.012078\n",
       "                 resident          0.138661       0.013466\n",
       "same_day_PCR     employee          0.140891       0.011833\n",
       "                 resident          0.138971       0.012811\n",
       "one_day_PCR      employee          0.140483       0.012018\n",
       "                 resident          0.138552       0.013591\n",
       "two_day_PCR      employee          0.137808       0.013624\n",
       "                 resident          0.135964       0.015397"
      ]
     },
     "execution_count": 55,
     "metadata": {},
     "output_type": "execute_result"
    }
   ],
   "source": [
    "data.loc[:,'3 times\\na week', 'never', :][['test_rate_mean', 'test_rate_std']]"
   ]
  },
  {
   "cell_type": "code",
   "execution_count": 56,
   "metadata": {},
   "outputs": [
    {
     "data": {
      "text/html": [
       "<div>\n",
       "<style scoped>\n",
       "    .dataframe tbody tr th:only-of-type {\n",
       "        vertical-align: middle;\n",
       "    }\n",
       "\n",
       "    .dataframe tbody tr th {\n",
       "        vertical-align: top;\n",
       "    }\n",
       "\n",
       "    .dataframe thead th {\n",
       "        text-align: right;\n",
       "    }\n",
       "</style>\n",
       "<table border=\"1\" class=\"dataframe\">\n",
       "  <thead>\n",
       "    <tr style=\"text-align: right;\">\n",
       "      <th></th>\n",
       "      <th></th>\n",
       "      <th>test_rate_mean</th>\n",
       "      <th>test_rate_std</th>\n",
       "    </tr>\n",
       "    <tr>\n",
       "      <th>test_type</th>\n",
       "      <th>index_case</th>\n",
       "      <th></th>\n",
       "      <th></th>\n",
       "    </tr>\n",
       "  </thead>\n",
       "  <tbody>\n",
       "    <tr>\n",
       "      <th rowspan=\"2\" valign=\"top\">same_day_antigen</th>\n",
       "      <th>employee</th>\n",
       "      <td>0.271507</td>\n",
       "      <td>0.023331</td>\n",
       "    </tr>\n",
       "    <tr>\n",
       "      <th>resident</th>\n",
       "      <td>0.274296</td>\n",
       "      <td>0.022507</td>\n",
       "    </tr>\n",
       "    <tr>\n",
       "      <th rowspan=\"2\" valign=\"top\">same_day_LAMP</th>\n",
       "      <th>employee</th>\n",
       "      <td>0.273480</td>\n",
       "      <td>0.020531</td>\n",
       "    </tr>\n",
       "    <tr>\n",
       "      <th>resident</th>\n",
       "      <td>0.278252</td>\n",
       "      <td>0.023498</td>\n",
       "    </tr>\n",
       "    <tr>\n",
       "      <th rowspan=\"2\" valign=\"top\">same_day_PCR</th>\n",
       "      <th>employee</th>\n",
       "      <td>0.274693</td>\n",
       "      <td>0.020621</td>\n",
       "    </tr>\n",
       "    <tr>\n",
       "      <th>resident</th>\n",
       "      <td>0.278323</td>\n",
       "      <td>0.024087</td>\n",
       "    </tr>\n",
       "    <tr>\n",
       "      <th rowspan=\"2\" valign=\"top\">one_day_PCR</th>\n",
       "      <th>employee</th>\n",
       "      <td>0.273539</td>\n",
       "      <td>0.021024</td>\n",
       "    </tr>\n",
       "    <tr>\n",
       "      <th>resident</th>\n",
       "      <td>0.277627</td>\n",
       "      <td>0.023549</td>\n",
       "    </tr>\n",
       "    <tr>\n",
       "      <th rowspan=\"2\" valign=\"top\">two_day_PCR</th>\n",
       "      <th>employee</th>\n",
       "      <td>0.268041</td>\n",
       "      <td>0.025236</td>\n",
       "    </tr>\n",
       "    <tr>\n",
       "      <th>resident</th>\n",
       "      <td>0.273225</td>\n",
       "      <td>0.023638</td>\n",
       "    </tr>\n",
       "  </tbody>\n",
       "</table>\n",
       "</div>"
      ],
      "text/plain": [
       "                             test_rate_mean  test_rate_std\n",
       "test_type        index_case                               \n",
       "same_day_antigen employee          0.271507       0.023331\n",
       "                 resident          0.274296       0.022507\n",
       "same_day_LAMP    employee          0.273480       0.020531\n",
       "                 resident          0.278252       0.023498\n",
       "same_day_PCR     employee          0.274693       0.020621\n",
       "                 resident          0.278323       0.024087\n",
       "one_day_PCR      employee          0.273539       0.021024\n",
       "                 resident          0.277627       0.023549\n",
       "two_day_PCR      employee          0.268041       0.025236\n",
       "                 resident          0.273225       0.023638"
      ]
     },
     "execution_count": 56,
     "metadata": {},
     "output_type": "execute_result"
    }
   ],
   "source": [
    "data.loc[:,'never', '3 times\\na week', :][['test_rate_mean', 'test_rate_std']]"
   ]
  },
  {
   "cell_type": "code",
   "execution_count": 57,
   "metadata": {},
   "outputs": [
    {
     "data": {
      "text/html": [
       "<div>\n",
       "<style scoped>\n",
       "    .dataframe tbody tr th:only-of-type {\n",
       "        vertical-align: middle;\n",
       "    }\n",
       "\n",
       "    .dataframe tbody tr th {\n",
       "        vertical-align: top;\n",
       "    }\n",
       "\n",
       "    .dataframe thead th {\n",
       "        text-align: right;\n",
       "    }\n",
       "</style>\n",
       "<table border=\"1\" class=\"dataframe\">\n",
       "  <thead>\n",
       "    <tr style=\"text-align: right;\">\n",
       "      <th></th>\n",
       "      <th></th>\n",
       "      <th>test_rate_mean</th>\n",
       "      <th>test_rate_std</th>\n",
       "    </tr>\n",
       "    <tr>\n",
       "      <th>test_type</th>\n",
       "      <th>index_case</th>\n",
       "      <th></th>\n",
       "      <th></th>\n",
       "    </tr>\n",
       "  </thead>\n",
       "  <tbody>\n",
       "    <tr>\n",
       "      <th rowspan=\"2\" valign=\"top\">same_day_antigen</th>\n",
       "      <th>employee</th>\n",
       "      <td>0.420970</td>\n",
       "      <td>0.031422</td>\n",
       "    </tr>\n",
       "    <tr>\n",
       "      <th>resident</th>\n",
       "      <td>0.421056</td>\n",
       "      <td>0.031474</td>\n",
       "    </tr>\n",
       "    <tr>\n",
       "      <th rowspan=\"2\" valign=\"top\">same_day_LAMP</th>\n",
       "      <th>employee</th>\n",
       "      <td>0.423438</td>\n",
       "      <td>0.035948</td>\n",
       "    </tr>\n",
       "    <tr>\n",
       "      <th>resident</th>\n",
       "      <td>0.422764</td>\n",
       "      <td>0.035709</td>\n",
       "    </tr>\n",
       "    <tr>\n",
       "      <th rowspan=\"2\" valign=\"top\">same_day_PCR</th>\n",
       "      <th>employee</th>\n",
       "      <td>0.422953</td>\n",
       "      <td>0.036349</td>\n",
       "    </tr>\n",
       "    <tr>\n",
       "      <th>resident</th>\n",
       "      <td>0.422463</td>\n",
       "      <td>0.035692</td>\n",
       "    </tr>\n",
       "    <tr>\n",
       "      <th rowspan=\"2\" valign=\"top\">one_day_PCR</th>\n",
       "      <th>employee</th>\n",
       "      <td>0.421938</td>\n",
       "      <td>0.035682</td>\n",
       "    </tr>\n",
       "    <tr>\n",
       "      <th>resident</th>\n",
       "      <td>0.422409</td>\n",
       "      <td>0.034934</td>\n",
       "    </tr>\n",
       "    <tr>\n",
       "      <th rowspan=\"2\" valign=\"top\">two_day_PCR</th>\n",
       "      <th>employee</th>\n",
       "      <td>0.419571</td>\n",
       "      <td>0.033314</td>\n",
       "    </tr>\n",
       "    <tr>\n",
       "      <th>resident</th>\n",
       "      <td>0.420003</td>\n",
       "      <td>0.032297</td>\n",
       "    </tr>\n",
       "  </tbody>\n",
       "</table>\n",
       "</div>"
      ],
      "text/plain": [
       "                             test_rate_mean  test_rate_std\n",
       "test_type        index_case                               \n",
       "same_day_antigen employee          0.420970       0.031422\n",
       "                 resident          0.421056       0.031474\n",
       "same_day_LAMP    employee          0.423438       0.035948\n",
       "                 resident          0.422764       0.035709\n",
       "same_day_PCR     employee          0.422953       0.036349\n",
       "                 resident          0.422463       0.035692\n",
       "one_day_PCR      employee          0.421938       0.035682\n",
       "                 resident          0.422409       0.034934\n",
       "two_day_PCR      employee          0.419571       0.033314\n",
       "                 resident          0.420003       0.032297"
      ]
     },
     "execution_count": 57,
     "metadata": {},
     "output_type": "execute_result"
    }
   ],
   "source": [
    "data.loc[:,'3 times\\na week', '3 times\\na week', :][['test_rate_mean', 'test_rate_std']]"
   ]
  },
  {
   "cell_type": "markdown",
   "metadata": {},
   "source": [
    "## Analysis wild type"
   ]
  },
  {
   "cell_type": "markdown",
   "metadata": {},
   "source": [
    "### Data loading and wrangling"
   ]
  },
  {
   "cell_type": "code",
   "execution_count": 58,
   "metadata": {},
   "outputs": [],
   "source": [
    "res_path = '../data/simulation_results'\n",
    "dst_path = '../plots/'\n",
    "sim_name = 'simulations_testing_strategy'\n",
    "N_runs = 5000\n",
    "data = pd.read_csv(join(res_path,'{}_{}.csv'.format(sim_name, N_runs)))"
   ]
  },
  {
   "cell_type": "code",
   "execution_count": 59,
   "metadata": {},
   "outputs": [],
   "source": [
    "# replace strings with strings that are nicer for plotting\n",
    "data['resident_screen_interval'] = data['resident_screen_interval']\\\n",
    "    .replace(frequency_name_map)\n",
    "data['employee_screen_interval'] = data['employee_screen_interval']\\\n",
    "    .replace(frequency_name_map)\n",
    "\n",
    "# set screen intervals, test types and index case as categorical variables with\n",
    "# explicit order, to facilitate sorting in a nicer way\n",
    "data['resident_screen_interval'] = pd.Categorical(data['resident_screen_interval'], \n",
    "    categories=['3 times\\na week', 'twice\\na week', 'once\\na week', 'never'],\n",
    "                      ordered=True)\n",
    "\n",
    "data['employee_screen_interval'] = pd.Categorical(data['employee_screen_interval'], \n",
    "    categories=['3 times\\na week', 'twice\\na week', 'once\\na week', 'never'],\n",
    "                      ordered=True)\n",
    "\n",
    "data['test_type'] = pd.Categorical(data['test_type'], \n",
    "    categories=['same_day_antigen', 'same_day_LAMP', 'same_day_PCR', 'one_day_PCR',  \n",
    "                'two_day_PCR',], ordered=True)\n",
    "\n",
    "data['index_case'] = pd.Categorical(data['index_case'], \n",
    "    categories=['employee', 'resident'], ordered=True)\n",
    "\n",
    "data = data.sort_values(by=['test_type', 'employee_screen_interval', \n",
    "                            'resident_screen_interval', 'index_case'],\n",
    "                       ascending=True)\n",
    "\n",
    "data = data.set_index(['test_type', 'employee_screen_interval', \n",
    "                       'resident_screen_interval', 'index_case'])"
   ]
  },
  {
   "cell_type": "markdown",
   "metadata": {},
   "source": [
    "### Different test technologies"
   ]
  },
  {
   "cell_type": "code",
   "execution_count": 60,
   "metadata": {},
   "outputs": [
    {
     "data": {
      "image/png": "[encoded data removed]",
      "text/plain": [
       "<Figure size 1080x864 with 9 Axes>"
      ]
     },
     "metadata": {
      "needs_background": "light"
     },
     "output_type": "display_data"
    }
   ],
   "source": [
    "metric = 'infected_residents_mean'\n",
    "sim_name = 'simulation_results'\n",
    "screening_params = screening_intervals\n",
    "\n",
    "# figure layout & axis setup\n",
    "fig = plt.figure(figsize=(15, 12))\n",
    "gs = fig.add_gridspec(nrows=4, ncols=4, width_ratios=[1,1,1, 0.05],\\\n",
    "                       height_ratios=[0.1,1,0.1,1], wspace=0.05, hspace=0)\n",
    "\n",
    "title_ax_1 = fig.add_subplot(gs[0, 0:])\n",
    "hmap_ax_1 = fig.add_subplot(gs[1, 0])\n",
    "hmap_ax_2 = fig.add_subplot(gs[1, 1])\n",
    "hmap_ax_3 = fig.add_subplot(gs[1, 2])\n",
    "\n",
    "title_ax_2 = fig.add_subplot(gs[2, 0:])\n",
    "hmap_ax_4 = fig.add_subplot(gs[3, 0])\n",
    "hmap_ax_5 = fig.add_subplot(gs[3, 1])\n",
    "hmap_ax_6 = fig.add_subplot(gs[3, 2])\n",
    "\n",
    "cbar_ax = fig.add_subplot(gs[1:, 3])\n",
    "\n",
    "hmap_axes = [[hmap_ax_1, hmap_ax_2, hmap_ax_3], [hmap_ax_4, hmap_ax_5, hmap_ax_6]]\n",
    "title_axes = [title_ax_1, title_ax_2]\n",
    "\n",
    "# possible range of median outbreak sizes to fix the dynamic range of the\n",
    "# colormaps\n",
    "vmin=0\n",
    "vmax=5\n",
    "vstep=1\n",
    "\n",
    "# compare scenarios in which either employees or residents are the index case\n",
    "for i, index_case_mode in enumerate(['employee', 'resident']):\n",
    "    df = data.loc[:,:,:, index_case_mode]\n",
    "    \n",
    "    # remove all axis labels and ticks for the heatmaps\n",
    "    t_ax = title_axes[i]\n",
    "    t_ax.set_xticks([])\n",
    "    t_ax.set_yticks([])\n",
    "    t_ax.set_frame_on(False)\n",
    "    t_ax.set_xlim(0, 1)\n",
    "    t_ax.set_ylim(0, 3)\n",
    "    t_ax.text(0.38, 1, index_case_map[index_case_mode], fontsize=20)\n",
    "        \n",
    "    j = 0\n",
    "    # compare same-day turnover testing for different testing technologies\n",
    "    for j, ax, test_type in zip(range(3), hmap_axes[i],\\\n",
    "                       ['same_day_antigen', 'same_day_LAMP', 'same_day_PCR']):\n",
    "        \n",
    "        # set flag to set axis ticks only for heatmaps at the boundaries of \n",
    "        # the figure\n",
    "        xticks = False\n",
    "        yticks = False\n",
    "        if i > 0:\n",
    "            xticks = True\n",
    "        if j in [0, 3]:\n",
    "            yticks = True\n",
    "            \n",
    "        # put the testing technology in the heatmap title\n",
    "        ax.set_title('Test: {}'\\\n",
    "                .format(test_name_map[test_type]), fontsize=14)\n",
    "        \n",
    "        # plot heatmap of the scenario\n",
    "        img = af.get_image(df, test_type, screening_params, metric)\n",
    "        if index_case_mode == 'resident':\n",
    "            # if a resident is the index case, we need to subtract 1 from the\n",
    "            # number of infected residents, to calculate the \"outbreak size\",\n",
    "            # which is defined as the number of FOLLOW-UP cases, given an index\n",
    "            # case\n",
    "            img = img - 1\n",
    "        img_plot = af.plot_heatmap(ax, img, screening_params, vmin, vmax,\n",
    "                                   xticks, yticks, xlabel, ylabel)\n",
    "        \n",
    "        # annotate heatmap with tests / days / agent\n",
    "        test_rate = af.get_image(df, test_type, screening_params, \n",
    "                                    'test_rate_mean')\n",
    "        af.annotate_heatmap(ax, test_rate)\n",
    "        \n",
    "# colorbar\n",
    "norm = mpl.colors.Normalize(vmin=vmin,vmax=vmax)\n",
    "sm = plt.cm.ScalarMappable(cmap= plt.get_cmap('coolwarm'), norm=norm)\n",
    "cbar = fig.colorbar(sm, cax=cbar_ax, orientation='vertical',\\\n",
    "                        ticks=np.arange(vmin, vmax + 1, vstep))\n",
    "yticklabels = list(range(vmin, vmax, vstep)) + ['$\\geq {}$'.format(vmax)]\n",
    "cbar.ax.set_yticklabels(yticklabels)\n",
    "cbar.set_label('{}'.format(metric_name_map[metric]), fontsize=12)      \n",
    "\n",
    "plt.savefig(join(dst_path, 'screening_frequency_test_technology_{}.png'\\\n",
    "                .format(language[0:3])), dpi=300, transparent=True)\n",
    "plt.savefig(join(dst_path, 'screening_frequency_test_technology_{}.pdf'\\\n",
    "                .format(language[0:3])), transparent=True)"
   ]
  },
  {
   "cell_type": "markdown",
   "metadata": {},
   "source": [
    "### PCR: different turnover times"
   ]
  },
  {
   "cell_type": "code",
   "execution_count": 61,
   "metadata": {},
   "outputs": [
    {
     "data": {
      "image/png": "[encoded data removed]",
      "text/plain": [
       "<Figure size 1080x864 with 9 Axes>"
      ]
     },
     "metadata": {
      "needs_background": "light"
     },
     "output_type": "display_data"
    }
   ],
   "source": [
    "metric = 'infected_residents_mean'\n",
    "sim_name = 'simulation_results'\n",
    "screening_params = screening_intervals\n",
    "\n",
    "# figure layout & axis setup\n",
    "fig = plt.figure(figsize=(15, 12))\n",
    "gs = fig.add_gridspec(nrows=4, ncols=4, width_ratios=[1,1,1, 0.05],\\\n",
    "                       height_ratios=[0.1,1,0.1,1], wspace=0.05, hspace=0)\n",
    "\n",
    "title_ax_1 = fig.add_subplot(gs[0, 0:])\n",
    "hmap_ax_1 = fig.add_subplot(gs[1, 0])\n",
    "hmap_ax_2 = fig.add_subplot(gs[1, 1])\n",
    "hmap_ax_3 = fig.add_subplot(gs[1, 2])\n",
    "\n",
    "title_ax_2 = fig.add_subplot(gs[2, 0:])\n",
    "hmap_ax_4 = fig.add_subplot(gs[3, 0])\n",
    "hmap_ax_5 = fig.add_subplot(gs[3, 1])\n",
    "hmap_ax_6 = fig.add_subplot(gs[3, 2])\n",
    "\n",
    "cbar_ax = fig.add_subplot(gs[1:, 3])\n",
    "\n",
    "hmap_axes = [[hmap_ax_1, hmap_ax_2, hmap_ax_3], [hmap_ax_4, hmap_ax_5, hmap_ax_6]]\n",
    "title_axes = [title_ax_1, title_ax_2]\n",
    "\n",
    "# possible range of median outbreak sizes to fix the dynamic range of the\n",
    "# colormaps\n",
    "vmin = 0\n",
    "vmax = 5\n",
    "vstep = 1\n",
    "\n",
    "# compare scenarios in which either employees or residents are the index case\n",
    "for i, index_case_mode in enumerate(['employee', 'resident']):\n",
    "    df = data.loc[:,:,:, index_case_mode]\n",
    "    \n",
    "    # set flag to set axis ticks only for heatmaps at the boundaries of \n",
    "    # the figure\n",
    "    t_ax = title_axes[i]\n",
    "    t_ax.set_xticks([])\n",
    "    t_ax.set_yticks([])\n",
    "    t_ax.set_frame_on(False)\n",
    "    t_ax.set_xlim(0, 1)\n",
    "    t_ax.set_ylim(0, 3)\n",
    "    t_ax.text(0.38, 1, index_case_map[index_case_mode], fontsize=20)\n",
    "    \n",
    "    # compare different test result turnover times for PCR tests\n",
    "    for j, ax, test_type in zip(range(3), hmap_axes[i], \\\n",
    "                        ['same_day_PCR', 'one_day_PCR', 'two_day_PCR']):\n",
    "        xticks = False\n",
    "        yticks = False\n",
    "        if i > 0:\n",
    "            xticks = True\n",
    "        if j in [0, 3]:\n",
    "            yticks = True\n",
    "            \n",
    "        # put the turnover time in the heatmap title\n",
    "        ax.set_title('Test: {}'\\\n",
    "                .format(test_name_map[test_type]), fontsize=14)\n",
    "        \n",
    "        # plot heatmap of the scenario\n",
    "        img = af.get_image(df, test_type, screening_params, metric)\n",
    "        if index_case_mode == 'resident':\n",
    "            img = img - 1\n",
    "        img_plot = af.plot_heatmap(ax, img, screening_params, vmin, vmax,\n",
    "                                   xticks, yticks, xlabel, ylabel)\n",
    "        \n",
    "        # annotate heatmap with tests / days / agent\n",
    "        test_rate = af.get_image(df, test_type, screening_params, \n",
    "                                    'test_rate_mean')\n",
    "        af.annotate_heatmap(ax, test_rate)\n",
    "\n",
    "# colorbar\n",
    "norm = mpl.colors.Normalize(vmin=vmin,vmax=vmax)\n",
    "sm = plt.cm.ScalarMappable(cmap= plt.get_cmap('coolwarm'), norm=norm)\n",
    "cbar = fig.colorbar(sm, cax=cbar_ax, orientation='vertical',\\\n",
    "                ticks=np.arange(vmin, vmax+1, vstep))\n",
    "yticklabels = list(range(vmin, vmax, vstep)) + ['$\\geq {}$'.format(vmax)]\n",
    "cbar.ax.set_yticklabels(yticklabels)\n",
    "cbar.set_label('{}'.format(metric_name_map[metric]), fontsize=12)      \n",
    "\n",
    "plt.savefig(join(dst_path, 'screening_frequency_PCR_turnover_time_{}.png'\\\n",
    "                .format(language[0:3])), dpi=300, transparent=True)\n",
    "plt.savefig(join(dst_path, 'screening_frequency_PCR_turnover_time_{}.pdf'\\\n",
    "                .format(language[0:3])))"
   ]
  },
  {
   "cell_type": "markdown",
   "metadata": {},
   "source": [
    "### Outbreak sizes"
   ]
  },
  {
   "cell_type": "markdown",
   "metadata": {},
   "source": [
    "**Note**: for resident index cases, the index case needs to be subtracted from the outbreak size"
   ]
  },
  {
   "cell_type": "markdown",
   "metadata": {},
   "source": [
    "#### Minimum and maximum"
   ]
  },
  {
   "cell_type": "code",
   "execution_count": 62,
   "metadata": {},
   "outputs": [
    {
     "data": {
      "text/plain": [
       "('same_day_PCR', '3 times\\na week', '3 times\\na week', 'employee')"
      ]
     },
     "execution_count": 62,
     "metadata": {},
     "output_type": "execute_result"
    }
   ],
   "source": [
    "data['infected_residents_mean'].idxmin()"
   ]
  },
  {
   "cell_type": "code",
   "execution_count": 63,
   "metadata": {},
   "outputs": [
    {
     "data": {
      "text/plain": [
       "0.0"
      ]
     },
     "execution_count": 63,
     "metadata": {},
     "output_type": "execute_result"
    }
   ],
   "source": [
    "data.loc[data['infected_residents_mean'].idxmin()]['infected_residents_mean']"
   ]
  },
  {
   "cell_type": "code",
   "execution_count": 64,
   "metadata": {},
   "outputs": [
    {
     "data": {
      "text/plain": [
       "0.0"
      ]
     },
     "execution_count": 64,
     "metadata": {},
     "output_type": "execute_result"
    }
   ],
   "source": [
    "data.loc[data['infected_residents_mean'].idxmin()]['infected_residents_std']"
   ]
  },
  {
   "cell_type": "markdown",
   "metadata": {},
   "source": [
    "#### Realistic scenario I: employees screened 2x / week"
   ]
  },
  {
   "cell_type": "markdown",
   "metadata": {},
   "source": [
    "##### Same-day Antigen"
   ]
  },
  {
   "cell_type": "code",
   "execution_count": 65,
   "metadata": {},
   "outputs": [
    {
     "name": "stdout",
     "output_type": "stream",
     "text": [
      "1.7722 +- 3.969465769054866\n"
     ]
    }
   ],
   "source": [
    "# employee index case\n",
    "mean = data.loc['same_day_antigen', 'twice\\na week', 'never', 'employee']\\\n",
    "        ['infected_residents_mean']\n",
    "std = data.loc['same_day_antigen', 'twice\\na week', 'never', 'employee']\\\n",
    "        ['infected_residents_std']\n",
    "print('{} +- {}'.format(mean, std))"
   ]
  },
  {
   "cell_type": "code",
   "execution_count": 66,
   "metadata": {},
   "outputs": [
    {
     "name": "stdout",
     "output_type": "stream",
     "text": [
      "3.1654 +- 4.789470810656353\n"
     ]
    }
   ],
   "source": [
    "# resident index case\n",
    "mean = data.loc['same_day_antigen', 'twice\\na week', 'never', 'resident']\\\n",
    "        ['infected_residents_mean'] - 1\n",
    "std = data.loc['same_day_antigen', 'twice\\na week', 'never', 'resident']\\\n",
    "        ['infected_residents_std']\n",
    "print('{} +- {}'.format(mean, std))"
   ]
  },
  {
   "cell_type": "markdown",
   "metadata": {},
   "source": [
    "##### Same-day LAMP"
   ]
  },
  {
   "cell_type": "code",
   "execution_count": 67,
   "metadata": {},
   "outputs": [
    {
     "name": "stdout",
     "output_type": "stream",
     "text": [
      "0.6674 +- 2.323931447240709\n"
     ]
    }
   ],
   "source": [
    "# employee index case\n",
    "mean = data.loc['same_day_LAMP', 'twice\\na week', 'never', 'employee']\\\n",
    "        ['infected_residents_mean']\n",
    "std = data.loc['same_day_LAMP', 'twice\\na week', 'never', 'employee']\\\n",
    "        ['infected_residents_std']\n",
    "print('{} +- {}'.format(mean, std))"
   ]
  },
  {
   "cell_type": "code",
   "execution_count": 68,
   "metadata": {},
   "outputs": [
    {
     "name": "stdout",
     "output_type": "stream",
     "text": [
      "2.6388 +- 4.112434435148684\n"
     ]
    }
   ],
   "source": [
    "# resident index case\n",
    "mean = data.loc['same_day_LAMP', 'twice\\na week', 'never', 'resident']\\\n",
    "        ['infected_residents_mean'] - 1\n",
    "std = data.loc['same_day_LAMP', 'twice\\na week', 'never', 'resident']\\\n",
    "        ['infected_residents_std']\n",
    "print('{} +- {}'.format(mean, std))"
   ]
  },
  {
   "cell_type": "markdown",
   "metadata": {},
   "source": [
    "##### One-day PCR"
   ]
  },
  {
   "cell_type": "code",
   "execution_count": 69,
   "metadata": {},
   "outputs": [
    {
     "name": "stdout",
     "output_type": "stream",
     "text": [
      "0.7964 +- 2.6202137592243893\n"
     ]
    }
   ],
   "source": [
    "# employee index case\n",
    "mean = data.loc['one_day_PCR', 'twice\\na week', 'never', 'employee']\\\n",
    "        ['infected_residents_mean']\n",
    "std = data.loc['one_day_PCR', 'twice\\na week', 'never', 'employee']\\\n",
    "        ['infected_residents_std']\n",
    "print('{} +- {}'.format(mean, std))"
   ]
  },
  {
   "cell_type": "code",
   "execution_count": 70,
   "metadata": {},
   "outputs": [
    {
     "name": "stdout",
     "output_type": "stream",
     "text": [
      "2.6718 +- 4.219673670934499\n"
     ]
    }
   ],
   "source": [
    "# resident index case\n",
    "mean = data.loc['one_day_PCR', 'twice\\na week', 'never', 'resident']\\\n",
    "        ['infected_residents_mean'] - 1\n",
    "std = data.loc['one_day_PCR', 'twice\\na week', 'never', 'resident']\\\n",
    "        ['infected_residents_std']\n",
    "print('{} +- {}'.format(mean, std))"
   ]
  },
  {
   "cell_type": "markdown",
   "metadata": {},
   "source": [
    "##### Same-day PCR"
   ]
  },
  {
   "cell_type": "code",
   "execution_count": 71,
   "metadata": {},
   "outputs": [
    {
     "name": "stdout",
     "output_type": "stream",
     "text": [
      "0.1782 +- 1.2336730319780709\n"
     ]
    }
   ],
   "source": [
    "# employee index case\n",
    "mean = data.loc['same_day_PCR', 'twice\\na week', 'never', 'employee']\\\n",
    "        ['infected_residents_mean']\n",
    "std = data.loc['same_day_PCR', 'twice\\na week', 'never', 'employee']\\\n",
    "        ['infected_residents_std']\n",
    "print('{} +- {}'.format(mean, std))"
   ]
  },
  {
   "cell_type": "code",
   "execution_count": 72,
   "metadata": {},
   "outputs": [
    {
     "name": "stdout",
     "output_type": "stream",
     "text": [
      "2.3536 +- 3.781828590179241\n"
     ]
    }
   ],
   "source": [
    "# resident index case\n",
    "mean = data.loc['same_day_PCR', 'twice\\na week', 'never', 'resident']\\\n",
    "        ['infected_residents_mean'] - 1\n",
    "std = data.loc['same_day_PCR', 'twice\\na week', 'never', 'resident']\\\n",
    "        ['infected_residents_std']\n",
    "print('{} +- {}'.format(mean, std))"
   ]
  },
  {
   "cell_type": "markdown",
   "metadata": {},
   "source": [
    "##### Two-day PCR"
   ]
  },
  {
   "cell_type": "code",
   "execution_count": 73,
   "metadata": {},
   "outputs": [
    {
     "name": "stdout",
     "output_type": "stream",
     "text": [
      "1.63 +- 3.813555905153135\n"
     ]
    }
   ],
   "source": [
    "# employee index case\n",
    "mean = data.loc['two_day_PCR', 'twice\\na week', 'never', 'employee']\\\n",
    "        ['infected_residents_mean']\n",
    "std = data.loc['two_day_PCR', 'twice\\na week', 'never', 'employee']\\\n",
    "        ['infected_residents_std']\n",
    "print('{} +- {}'.format(mean, std))"
   ]
  },
  {
   "cell_type": "code",
   "execution_count": 74,
   "metadata": {},
   "outputs": [
    {
     "name": "stdout",
     "output_type": "stream",
     "text": [
      "3.2748 +- 4.907474057019972\n"
     ]
    }
   ],
   "source": [
    "# resident index case\n",
    "mean = data.loc['two_day_PCR', 'twice\\na week', 'never', 'resident']\\\n",
    "        ['infected_residents_mean'] - 1\n",
    "std = data.loc['two_day_PCR', 'twice\\na week', 'never', 'resident']\\\n",
    "        ['infected_residents_std']\n",
    "print('{} +- {}'.format(mean, std))"
   ]
  },
  {
   "cell_type": "markdown",
   "metadata": {},
   "source": [
    "#### Realistic scenario II: employees screened 1x / week"
   ]
  },
  {
   "cell_type": "markdown",
   "metadata": {},
   "source": [
    "##### Same-day PCR"
   ]
  },
  {
   "cell_type": "code",
   "execution_count": 75,
   "metadata": {},
   "outputs": [
    {
     "name": "stdout",
     "output_type": "stream",
     "text": [
      "1.4098 +- 3.5648850810549595\n"
     ]
    }
   ],
   "source": [
    "# employee index case\n",
    "mean = data.loc['same_day_PCR', 'once\\na week', 'never', 'employee']\\\n",
    "        ['infected_residents_mean']\n",
    "std = data.loc['same_day_PCR', 'once\\na week', 'never', 'employee']\\\n",
    "        ['infected_residents_std']\n",
    "print('{} +- {}'.format(mean, std))"
   ]
  },
  {
   "cell_type": "code",
   "execution_count": 76,
   "metadata": {},
   "outputs": [
    {
     "name": "stdout",
     "output_type": "stream",
     "text": [
      "3.0271999999999997 +- 4.606550143094522\n"
     ]
    }
   ],
   "source": [
    "# resident index case\n",
    "mean = data.loc['same_day_PCR', 'once\\na week', 'never', 'resident']\\\n",
    "        ['infected_residents_mean'] - 1\n",
    "std = data.loc['same_day_PCR', 'once\\na week', 'never', 'resident']\\\n",
    "        ['infected_residents_std']\n",
    "print('{} +- {}'.format(mean, std))"
   ]
  },
  {
   "cell_type": "markdown",
   "metadata": {},
   "source": [
    "##### Same-day LAMP"
   ]
  },
  {
   "cell_type": "code",
   "execution_count": 77,
   "metadata": {},
   "outputs": [
    {
     "name": "stdout",
     "output_type": "stream",
     "text": [
      "2.1286 +- 4.516120138816244\n"
     ]
    }
   ],
   "source": [
    "# employee index case\n",
    "mean = data.loc['same_day_LAMP', 'once\\na week', 'never', 'employee']\\\n",
    "        ['infected_residents_mean']\n",
    "std = data.loc['same_day_LAMP', 'once\\na week', 'never', 'employee']\\\n",
    "        ['infected_residents_std']\n",
    "print('{} +- {}'.format(mean, std))"
   ]
  },
  {
   "cell_type": "code",
   "execution_count": 78,
   "metadata": {},
   "outputs": [
    {
     "name": "stdout",
     "output_type": "stream",
     "text": [
      "3.6026 +- 5.305836750289642\n"
     ]
    }
   ],
   "source": [
    "# resident index case\n",
    "mean = data.loc['same_day_LAMP', 'once\\na week', 'never', 'resident']\\\n",
    "        ['infected_residents_mean'] - 1\n",
    "std = data.loc['same_day_LAMP', 'once\\na week', 'never', 'resident']\\\n",
    "        ['infected_residents_std']\n",
    "print('{} +- {}'.format(mean, std))"
   ]
  },
  {
   "cell_type": "markdown",
   "metadata": {},
   "source": [
    "##### Same-day Antigen"
   ]
  },
  {
   "cell_type": "code",
   "execution_count": 79,
   "metadata": {},
   "outputs": [
    {
     "name": "stdout",
     "output_type": "stream",
     "text": [
      "3.042 +- 5.435121351802714\n"
     ]
    }
   ],
   "source": [
    "# employee index case\n",
    "mean = data.loc['same_day_antigen', 'once\\na week', 'never', 'employee']\\\n",
    "        ['infected_residents_mean']\n",
    "std = data.loc['same_day_antigen', 'once\\na week', 'never', 'employee']\\\n",
    "        ['infected_residents_std']\n",
    "print('{} +- {}'.format(mean, std))"
   ]
  },
  {
   "cell_type": "code",
   "execution_count": 80,
   "metadata": {},
   "outputs": [
    {
     "name": "stdout",
     "output_type": "stream",
     "text": [
      "4.0696 +- 5.786454220892972\n"
     ]
    }
   ],
   "source": [
    "# resident index case\n",
    "mean = data.loc['same_day_antigen', 'once\\na week', 'never', 'resident']\\\n",
    "        ['infected_residents_mean'] - 1\n",
    "std = data.loc['same_day_antigen', 'once\\na week', 'never', 'resident']\\\n",
    "        ['infected_residents_std']\n",
    "print('{} +- {}'.format(mean, std))"
   ]
  },
  {
   "cell_type": "markdown",
   "metadata": {},
   "source": [
    "#### Two-day PCR"
   ]
  },
  {
   "cell_type": "markdown",
   "metadata": {},
   "source": [
    "##### Employees 3x / week, residents never "
   ]
  },
  {
   "cell_type": "code",
   "execution_count": 81,
   "metadata": {},
   "outputs": [
    {
     "name": "stdout",
     "output_type": "stream",
     "text": [
      "1.0166 +- 2.949790618491181\n"
     ]
    }
   ],
   "source": [
    "# employee index case\n",
    "mean = data.loc['two_day_PCR', '3 times\\na week', 'never', 'employee']\\\n",
    "        ['infected_residents_mean']\n",
    "std = data.loc['two_day_PCR', '3 times\\na week', 'never', 'employee']\\\n",
    "        ['infected_residents_std']\n",
    "print('{} +- {}'.format(mean, std))"
   ]
  },
  {
   "cell_type": "code",
   "execution_count": 82,
   "metadata": {},
   "outputs": [
    {
     "name": "stdout",
     "output_type": "stream",
     "text": [
      "2.824 +- 4.36605502568365\n"
     ]
    }
   ],
   "source": [
    "# resident index case\n",
    "mean = data.loc['two_day_PCR', '3 times\\na week', 'never', 'resident']\\\n",
    "        ['infected_residents_mean'] - 1\n",
    "std = data.loc['two_day_PCR', '3 times\\na week', 'never', 'resident']\\\n",
    "        ['infected_residents_std']\n",
    "print('{} +- {}'.format(mean, std))"
   ]
  },
  {
   "cell_type": "markdown",
   "metadata": {},
   "source": [
    "##### Employees 3x / week, residents 1x / week "
   ]
  },
  {
   "cell_type": "code",
   "execution_count": 83,
   "metadata": {},
   "outputs": [
    {
     "name": "stdout",
     "output_type": "stream",
     "text": [
      "0.6734 +- 2.011552064536652\n"
     ]
    }
   ],
   "source": [
    "# employee index case\n",
    "mean = data.loc['two_day_PCR', '3 times\\na week', 'once\\na week', 'employee']\\\n",
    "        ['infected_residents_mean']\n",
    "std = data.loc['two_day_PCR', '3 times\\na week', 'once\\na week', 'employee']\\\n",
    "        ['infected_residents_std']\n",
    "print('{} +- {}'.format(mean, std))"
   ]
  },
  {
   "cell_type": "code",
   "execution_count": 84,
   "metadata": {},
   "outputs": [
    {
     "name": "stdout",
     "output_type": "stream",
     "text": [
      "1.5779999999999998 +- 2.72884688486991\n"
     ]
    }
   ],
   "source": [
    "# resident index case\n",
    "mean = data.loc['two_day_PCR', '3 times\\na week', 'once\\na week', 'resident']\\\n",
    "        ['infected_residents_mean'] - 1\n",
    "std = data.loc['two_day_PCR', '3 times\\na week', 'once\\na week', 'resident']\\\n",
    "        ['infected_residents_std']\n",
    "print('{} +- {}'.format(mean, std))"
   ]
  },
  {
   "cell_type": "markdown",
   "metadata": {},
   "source": [
    "##### Employees 3x / week, residents 2x / week "
   ]
  },
  {
   "cell_type": "code",
   "execution_count": 85,
   "metadata": {},
   "outputs": [
    {
     "name": "stdout",
     "output_type": "stream",
     "text": [
      "0.4414 +- 1.2504714214068031\n"
     ]
    }
   ],
   "source": [
    "# employee index case\n",
    "mean = data.loc['two_day_PCR', '3 times\\na week', 'twice\\na week', 'employee']\\\n",
    "        ['infected_residents_mean']\n",
    "std = data.loc['two_day_PCR', '3 times\\na week', 'twice\\na week', 'employee']\\\n",
    "        ['infected_residents_std']\n",
    "print('{} +- {}'.format(mean, std))"
   ]
  },
  {
   "cell_type": "code",
   "execution_count": 86,
   "metadata": {},
   "outputs": [
    {
     "name": "stdout",
     "output_type": "stream",
     "text": [
      "0.6946000000000001 +- 1.5008602054392854\n"
     ]
    }
   ],
   "source": [
    "# resident index case\n",
    "mean = data.loc['two_day_PCR', '3 times\\na week', 'twice\\na week', 'resident']\\\n",
    "        ['infected_residents_mean'] - 1\n",
    "std = data.loc['two_day_PCR', '3 times\\na week', 'twice\\na week', 'resident']\\\n",
    "        ['infected_residents_std']\n",
    "print('{} +- {}'.format(mean, std))"
   ]
  },
  {
   "cell_type": "markdown",
   "metadata": {},
   "source": [
    "##### Employees 3x / week, residents 3x / week "
   ]
  },
  {
   "cell_type": "code",
   "execution_count": 87,
   "metadata": {},
   "outputs": [
    {
     "name": "stdout",
     "output_type": "stream",
     "text": [
      "0.358 +- 0.9037695280722704\n"
     ]
    }
   ],
   "source": [
    "# employee index case\n",
    "mean = data.loc['two_day_PCR', '3 times\\na week', '3 times\\na week', 'employee']\\\n",
    "        ['infected_residents_mean']\n",
    "std = data.loc['two_day_PCR', '3 times\\na week', '3 times\\na week', 'employee']\\\n",
    "        ['infected_residents_std']\n",
    "print('{} +- {}'.format(mean, std))"
   ]
  },
  {
   "cell_type": "code",
   "execution_count": 88,
   "metadata": {},
   "outputs": [
    {
     "name": "stdout",
     "output_type": "stream",
     "text": [
      "0.3675999999999999 +- 0.8992396601536649\n"
     ]
    }
   ],
   "source": [
    "# resident index case\n",
    "mean = data.loc['two_day_PCR', '3 times\\na week', '3 times\\na week', 'resident']\\\n",
    "        ['infected_residents_mean'] - 1\n",
    "std = data.loc['two_day_PCR', '3 times\\na week', '3 times\\na week', 'resident']\\\n",
    "        ['infected_residents_std']\n",
    "print('{} +- {}'.format(mean, std))"
   ]
  },
  {
   "cell_type": "markdown",
   "metadata": {},
   "source": [
    "#### Same-day PCR"
   ]
  },
  {
   "cell_type": "code",
   "execution_count": 89,
   "metadata": {},
   "outputs": [
    {
     "name": "stdout",
     "output_type": "stream",
     "text": [
      "0.6576 +- 1.5662863373528213\n"
     ]
    }
   ],
   "source": [
    "# employee index case\n",
    "mean = data.loc['same_day_PCR', 'once\\na week', 'once\\na week', 'employee']\\\n",
    "        ['infected_residents_mean']\n",
    "std = data.loc['same_day_PCR', 'once\\na week', 'once\\na week', 'employee']\\\n",
    "        ['infected_residents_std']\n",
    "print('{} +- {}'.format(mean, std))"
   ]
  },
  {
   "cell_type": "code",
   "execution_count": 90,
   "metadata": {},
   "outputs": [
    {
     "name": "stdout",
     "output_type": "stream",
     "text": [
      "0.6659999999999999 +- 1.5419855848576474\n"
     ]
    }
   ],
   "source": [
    "# resident index case\n",
    "mean = data.loc['same_day_PCR', 'once\\na week', 'once\\na week', 'resident']\\\n",
    "        ['infected_residents_mean'] - 1\n",
    "std = data.loc['same_day_PCR', 'once\\na week', 'once\\na week', 'resident']\\\n",
    "        ['infected_residents_std']\n",
    "print('{} +- {}'.format(mean, std))"
   ]
  },
  {
   "cell_type": "markdown",
   "metadata": {},
   "source": [
    "### Test rates"
   ]
  },
  {
   "cell_type": "markdown",
   "metadata": {},
   "source": [
    "#### Diagnostic testing base rate"
   ]
  },
  {
   "cell_type": "code",
   "execution_count": 91,
   "metadata": {},
   "outputs": [
    {
     "data": {
      "text/plain": [
       "0.00384403918343115"
      ]
     },
     "execution_count": 91,
     "metadata": {},
     "output_type": "execute_result"
    }
   ],
   "source": [
    "data.loc[:, 'never', 'never', :]['test_rate_mean'].mean()"
   ]
  },
  {
   "cell_type": "code",
   "execution_count": 92,
   "metadata": {},
   "outputs": [
    {
     "data": {
      "text/plain": [
       "test_type         index_case\n",
       "same_day_antigen  employee      0.003238\n",
       "                  resident      0.003095\n",
       "same_day_LAMP     employee      0.003183\n",
       "                  resident      0.003138\n",
       "same_day_PCR      employee      0.003110\n",
       "                  resident      0.003107\n",
       "one_day_PCR       employee      0.003168\n",
       "                  resident      0.003209\n",
       "two_day_PCR       employee      0.003153\n",
       "                  resident      0.003115\n",
       "Name: test_rate_std, dtype: float64"
      ]
     },
     "execution_count": 92,
     "metadata": {},
     "output_type": "execute_result"
    }
   ],
   "source": [
    "data.loc[:, 'never', 'never', :]['test_rate_std']"
   ]
  },
  {
   "cell_type": "markdown",
   "metadata": {},
   "source": [
    "#### Test rates employeed screened 2x / week"
   ]
  },
  {
   "cell_type": "code",
   "execution_count": 93,
   "metadata": {},
   "outputs": [
    {
     "data": {
      "text/plain": [
       "test_type         index_case\n",
       "same_day_antigen  employee      0.093707\n",
       "                  resident      0.096077\n",
       "same_day_LAMP     employee      0.094168\n",
       "                  resident      0.096021\n",
       "same_day_PCR      employee      0.093965\n",
       "                  resident      0.096239\n",
       "one_day_PCR       employee      0.093652\n",
       "                  resident      0.095733\n",
       "two_day_PCR       employee      0.093265\n",
       "                  resident      0.095109\n",
       "Name: test_rate_mean, dtype: float64"
      ]
     },
     "execution_count": 93,
     "metadata": {},
     "output_type": "execute_result"
    }
   ],
   "source": [
    "data.loc[:, 'twice\\na week', 'never', :]['test_rate_mean']"
   ]
  },
  {
   "cell_type": "code",
   "execution_count": 94,
   "metadata": {},
   "outputs": [
    {
     "data": {
      "text/plain": [
       "test_type         index_case\n",
       "same_day_antigen  employee      0.010428\n",
       "                  resident      0.009697\n",
       "same_day_LAMP     employee      0.011639\n",
       "                  resident      0.009671\n",
       "same_day_PCR      employee      0.012264\n",
       "                  resident      0.009419\n",
       "one_day_PCR       employee      0.011442\n",
       "                  resident      0.009896\n",
       "two_day_PCR       employee      0.010906\n",
       "                  resident      0.009994\n",
       "Name: test_rate_std, dtype: float64"
      ]
     },
     "execution_count": 94,
     "metadata": {},
     "output_type": "execute_result"
    }
   ],
   "source": [
    "data.loc[:, 'twice\\na week', 'never', :]['test_rate_std']"
   ]
  },
  {
   "cell_type": "markdown",
   "metadata": {},
   "source": [
    "#### Test rates residents screened 2x / week"
   ]
  },
  {
   "cell_type": "code",
   "execution_count": 95,
   "metadata": {},
   "outputs": [
    {
     "data": {
      "text/plain": [
       "test_type         index_case\n",
       "same_day_antigen  employee      0.185081\n",
       "                  resident      0.183678\n",
       "same_day_LAMP     employee      0.185649\n",
       "                  resident      0.185242\n",
       "same_day_PCR      employee      0.186095\n",
       "                  resident      0.184218\n",
       "one_day_PCR       employee      0.184735\n",
       "                  resident      0.183843\n",
       "two_day_PCR       employee      0.183925\n",
       "                  resident      0.183038\n",
       "Name: test_rate_mean, dtype: float64"
      ]
     },
     "execution_count": 95,
     "metadata": {},
     "output_type": "execute_result"
    }
   ],
   "source": [
    "data.loc[:, 'never', 'twice\\na week', :]['test_rate_mean']"
   ]
  },
  {
   "cell_type": "code",
   "execution_count": 96,
   "metadata": {},
   "outputs": [
    {
     "data": {
      "text/plain": [
       "test_type         index_case\n",
       "same_day_antigen  employee      0.018572\n",
       "                  resident      0.020855\n",
       "same_day_LAMP     employee      0.018772\n",
       "                  resident      0.022342\n",
       "same_day_PCR      employee      0.018268\n",
       "                  resident      0.023927\n",
       "one_day_PCR       employee      0.018202\n",
       "                  resident      0.022332\n",
       "two_day_PCR       employee      0.018911\n",
       "                  resident      0.021317\n",
       "Name: test_rate_std, dtype: float64"
      ]
     },
     "execution_count": 96,
     "metadata": {},
     "output_type": "execute_result"
    }
   ],
   "source": [
    "data.loc[:, 'never', 'twice\\na week', :]['test_rate_std']"
   ]
  },
  {
   "cell_type": "markdown",
   "metadata": {},
   "source": [
    "#### Test rates residents screened 3x / week"
   ]
  },
  {
   "cell_type": "code",
   "execution_count": 97,
   "metadata": {},
   "outputs": [
    {
     "data": {
      "text/plain": [
       "test_type         index_case\n",
       "same_day_antigen  employee      0.278607\n",
       "                  resident      0.277456\n",
       "same_day_LAMP     employee      0.279042\n",
       "                  resident      0.278762\n",
       "same_day_PCR      employee      0.278889\n",
       "                  resident      0.278074\n",
       "one_day_PCR       employee      0.278737\n",
       "                  resident      0.277923\n",
       "two_day_PCR       employee      0.277242\n",
       "                  resident      0.275976\n",
       "Name: test_rate_mean, dtype: float64"
      ]
     },
     "execution_count": 97,
     "metadata": {},
     "output_type": "execute_result"
    }
   ],
   "source": [
    "data.loc[:, 'never', '3 times\\na week', :]['test_rate_mean']"
   ]
  },
  {
   "cell_type": "code",
   "execution_count": 98,
   "metadata": {},
   "outputs": [
    {
     "data": {
      "text/plain": [
       "test_type         index_case\n",
       "same_day_antigen  employee      0.019798\n",
       "                  resident      0.021322\n",
       "same_day_LAMP     employee      0.018826\n",
       "                  resident      0.023012\n",
       "same_day_PCR      employee      0.019188\n",
       "                  resident      0.023890\n",
       "one_day_PCR       employee      0.019365\n",
       "                  resident      0.023577\n",
       "two_day_PCR       employee      0.019812\n",
       "                  resident      0.022298\n",
       "Name: test_rate_std, dtype: float64"
      ]
     },
     "execution_count": 98,
     "metadata": {},
     "output_type": "execute_result"
    }
   ],
   "source": [
    "data.loc[:, 'never', '3 times\\na week', :]['test_rate_std']"
   ]
  },
  {
   "cell_type": "markdown",
   "metadata": {},
   "source": [
    "### Results table"
   ]
  },
  {
   "cell_type": "markdown",
   "metadata": {},
   "source": [
    "#### Employee index case"
   ]
  },
  {
   "cell_type": "code",
   "execution_count": 99,
   "metadata": {},
   "outputs": [],
   "source": [
    "table_data = data.loc[:,:,:,'employee'].copy()\n",
    "table_data = table_data.loc[:, :, ['never', 'once\\na week']]\\\n",
    "    .sort_values(by=['test_type', 'employee_screen_interval', 'resident_screen_interval'])\n",
    "\n",
    "\n",
    "table_data = table_data.reset_index()\n",
    "\n",
    "table_data['employee_screen_interval'] =  \\\n",
    "    table_data['employee_screen_interval'].replace({\\\n",
    "                        'once\\na week':1,\n",
    "                        'twice\\na week':2,\n",
    "                        '3 times\\na week':3})\n",
    "\n",
    "table_data['resident_screen_interval'] =  \\\n",
    "    table_data['resident_screen_interval'].replace({\\\n",
    "                        'once\\na week':1,\n",
    "                        'twice\\na week':2,\n",
    "                        '3 times\\na week':3})\n",
    "\n",
    "table_data['infected_residents_median_10_90'] = \\\n",
    "    ['{} [{}; {}]'.format(median, ten, ninety) for \\\n",
    "    median, ten, ninety in zip(\\\n",
    "                round(table_data['infected_residents_median']),\n",
    "                round(table_data['infected_residents_0.10']),\n",
    "                round(table_data['infected_residents_0.90']))]\n",
    "\n",
    "table_data['infected_residents_mean_std'] = \\\n",
    "    ['{:1.1f} ± {:1.1f}'.format(mean, round_decimals_up(std, 1)) for \\\n",
    "    mean, std in zip(\\\n",
    "    round(table_data['infected_residents_mean'], 1),\n",
    "    table_data['infected_residents_std'])]\n",
    "\n",
    "table_data['R0_mean_std'] = \\\n",
    "    ['{:1.2f} ± {:1.2f}'.format(mean, round_decimals_up(std, 2)) for \\\n",
    "    mean, std in zip(\\\n",
    "    round(table_data['R0_mean'], 2),\n",
    "    table_data['R0_std'])]\n",
    "\n",
    "table_data['test_rate_mean_std'] = \\\n",
    "    ['{:1.2f} ± {:1.2f}'.format(mean, round_decimals_up(std, 2)) for \\\n",
    "    mean, std in zip(\\\n",
    "    round(table_data['test_rate_mean'], 2),\n",
    "    table_data['test_rate_std'])]\n",
    "\n",
    "table_cols = ['test_type','employee_screen_interval', 'resident_screen_interval',\n",
    "              'infected_residents_mean_std', 'infected_residents_median_10_90',\n",
    "              'R0_mean_std', 'test_rate_mean_std']"
   ]
  },
  {
   "cell_type": "code",
   "execution_count": 100,
   "metadata": {},
   "outputs": [],
   "source": [
    "table_data = table_data[table_cols]\n",
    "table_data.to_csv(join(res_path, 'table_testing_strategy_employee.csv'))"
   ]
  },
  {
   "cell_type": "markdown",
   "metadata": {},
   "source": [
    "#### Resident index case"
   ]
  },
  {
   "cell_type": "code",
   "execution_count": 101,
   "metadata": {},
   "outputs": [],
   "source": [
    "table_data = data.loc[:,:,:,'resident'].copy()\n",
    "table_data = table_data.loc[:, :, ['never', 'once\\na week']]\\\n",
    "    .sort_values(by=['test_type', 'employee_screen_interval', 'resident_screen_interval'])\n",
    "\n",
    "\n",
    "table_data = table_data.reset_index()\n",
    "\n",
    "table_data['employee_screen_interval'] =  \\\n",
    "    table_data['employee_screen_interval'].replace({\\\n",
    "                        'once\\na week':1,\n",
    "                        'twice\\na week':2,\n",
    "                        '3 times\\na week':3})\n",
    "\n",
    "table_data['resident_screen_interval'] =  \\\n",
    "    table_data['resident_screen_interval'].replace({\\\n",
    "                        'once\\na week':1,\n",
    "                        'twice\\na week':2,\n",
    "                        '3 times\\na week':3})\n",
    "\n",
    "table_data['infected_residents_median_10_90'] = \\\n",
    "    ['{} [{}; {}]'.format(median, ten, ninety) for \\\n",
    "    median, ten, ninety in zip(\\\n",
    "                round(table_data['infected_residents_median']),\n",
    "                round(table_data['infected_residents_0.10']),\n",
    "                round(table_data['infected_residents_0.90']))]\n",
    "\n",
    "table_data['infected_residents_mean_std'] = \\\n",
    "    ['{:1.1f} ± {:1.1f}'.format(mean, round_decimals_up(std, 1)) for \\\n",
    "    mean, std in zip(\\\n",
    "    round(table_data['infected_residents_mean'], 1),\n",
    "    table_data['infected_residents_std'])]\n",
    "\n",
    "table_data['R0_mean_std'] = \\\n",
    "    ['{:1.2f} ± {:1.2f}'.format(mean, round_decimals_up(std, 2)) for \\\n",
    "    mean, std in zip(\\\n",
    "    round(table_data['R0_mean'], 2),\n",
    "    table_data['R0_std'])]\n",
    "\n",
    "table_data['test_rate_mean_std'] = \\\n",
    "    ['{:1.2f} ± {:1.2f}'.format(mean, round_decimals_up(std, 2)) for \\\n",
    "    mean, std in zip(\\\n",
    "    round(table_data['test_rate_mean'], 2),\n",
    "    table_data['test_rate_std'])]\n",
    "\n",
    "table_cols = ['test_type','employee_screen_interval', 'resident_screen_interval',\n",
    "              'infected_residents_mean_std', 'infected_residents_median_10_90',\n",
    "              'R0_mean_std', 'test_rate_mean_std']"
   ]
  },
  {
   "cell_type": "code",
   "execution_count": 102,
   "metadata": {},
   "outputs": [],
   "source": [
    "table_data = table_data[table_cols]\n",
    "table_data.to_csv(join(res_path, 'table_testing_strategy_resident.csv'))"
   ]
  },
  {
   "cell_type": "markdown",
   "metadata": {},
   "source": [
    "### Preventive testing rates"
   ]
  },
  {
   "cell_type": "code",
   "execution_count": 103,
   "metadata": {},
   "outputs": [
    {
     "data": {
      "text/html": [
       "<div>\n",
       "<style scoped>\n",
       "    .dataframe tbody tr th:only-of-type {\n",
       "        vertical-align: middle;\n",
       "    }\n",
       "\n",
       "    .dataframe tbody tr th {\n",
       "        vertical-align: top;\n",
       "    }\n",
       "\n",
       "    .dataframe thead th {\n",
       "        text-align: right;\n",
       "    }\n",
       "</style>\n",
       "<table border=\"1\" class=\"dataframe\">\n",
       "  <thead>\n",
       "    <tr style=\"text-align: right;\">\n",
       "      <th></th>\n",
       "      <th></th>\n",
       "      <th>test_rate_mean</th>\n",
       "      <th>test_rate_std</th>\n",
       "    </tr>\n",
       "    <tr>\n",
       "      <th>test_type</th>\n",
       "      <th>index_case</th>\n",
       "      <th></th>\n",
       "      <th></th>\n",
       "    </tr>\n",
       "  </thead>\n",
       "  <tbody>\n",
       "    <tr>\n",
       "      <th rowspan=\"2\" valign=\"top\">same_day_antigen</th>\n",
       "      <th>employee</th>\n",
       "      <td>0.141155</td>\n",
       "      <td>0.011407</td>\n",
       "    </tr>\n",
       "    <tr>\n",
       "      <th>resident</th>\n",
       "      <td>0.143425</td>\n",
       "      <td>0.010600</td>\n",
       "    </tr>\n",
       "    <tr>\n",
       "      <th rowspan=\"2\" valign=\"top\">same_day_LAMP</th>\n",
       "      <th>employee</th>\n",
       "      <td>0.141584</td>\n",
       "      <td>0.012203</td>\n",
       "    </tr>\n",
       "    <tr>\n",
       "      <th>resident</th>\n",
       "      <td>0.143605</td>\n",
       "      <td>0.010401</td>\n",
       "    </tr>\n",
       "    <tr>\n",
       "      <th rowspan=\"2\" valign=\"top\">same_day_PCR</th>\n",
       "      <th>employee</th>\n",
       "      <td>0.141158</td>\n",
       "      <td>0.012130</td>\n",
       "    </tr>\n",
       "    <tr>\n",
       "      <th>resident</th>\n",
       "      <td>0.143378</td>\n",
       "      <td>0.010307</td>\n",
       "    </tr>\n",
       "    <tr>\n",
       "      <th rowspan=\"2\" valign=\"top\">one_day_PCR</th>\n",
       "      <th>employee</th>\n",
       "      <td>0.140800</td>\n",
       "      <td>0.011991</td>\n",
       "    </tr>\n",
       "    <tr>\n",
       "      <th>resident</th>\n",
       "      <td>0.143477</td>\n",
       "      <td>0.010729</td>\n",
       "    </tr>\n",
       "    <tr>\n",
       "      <th rowspan=\"2\" valign=\"top\">two_day_PCR</th>\n",
       "      <th>employee</th>\n",
       "      <td>0.139678</td>\n",
       "      <td>0.011647</td>\n",
       "    </tr>\n",
       "    <tr>\n",
       "      <th>resident</th>\n",
       "      <td>0.142416</td>\n",
       "      <td>0.011136</td>\n",
       "    </tr>\n",
       "  </tbody>\n",
       "</table>\n",
       "</div>"
      ],
      "text/plain": [
       "                             test_rate_mean  test_rate_std\n",
       "test_type        index_case                               \n",
       "same_day_antigen employee          0.141155       0.011407\n",
       "                 resident          0.143425       0.010600\n",
       "same_day_LAMP    employee          0.141584       0.012203\n",
       "                 resident          0.143605       0.010401\n",
       "same_day_PCR     employee          0.141158       0.012130\n",
       "                 resident          0.143378       0.010307\n",
       "one_day_PCR      employee          0.140800       0.011991\n",
       "                 resident          0.143477       0.010729\n",
       "two_day_PCR      employee          0.139678       0.011647\n",
       "                 resident          0.142416       0.011136"
      ]
     },
     "execution_count": 103,
     "metadata": {},
     "output_type": "execute_result"
    }
   ],
   "source": [
    "data.loc[:,'3 times\\na week', 'never', :][['test_rate_mean', 'test_rate_std']]"
   ]
  },
  {
   "cell_type": "code",
   "execution_count": 104,
   "metadata": {},
   "outputs": [
    {
     "data": {
      "text/html": [
       "<div>\n",
       "<style scoped>\n",
       "    .dataframe tbody tr th:only-of-type {\n",
       "        vertical-align: middle;\n",
       "    }\n",
       "\n",
       "    .dataframe tbody tr th {\n",
       "        vertical-align: top;\n",
       "    }\n",
       "\n",
       "    .dataframe thead th {\n",
       "        text-align: right;\n",
       "    }\n",
       "</style>\n",
       "<table border=\"1\" class=\"dataframe\">\n",
       "  <thead>\n",
       "    <tr style=\"text-align: right;\">\n",
       "      <th></th>\n",
       "      <th></th>\n",
       "      <th>test_rate_mean</th>\n",
       "      <th>test_rate_std</th>\n",
       "    </tr>\n",
       "    <tr>\n",
       "      <th>test_type</th>\n",
       "      <th>index_case</th>\n",
       "      <th></th>\n",
       "      <th></th>\n",
       "    </tr>\n",
       "  </thead>\n",
       "  <tbody>\n",
       "    <tr>\n",
       "      <th rowspan=\"2\" valign=\"top\">same_day_antigen</th>\n",
       "      <th>employee</th>\n",
       "      <td>0.278607</td>\n",
       "      <td>0.019798</td>\n",
       "    </tr>\n",
       "    <tr>\n",
       "      <th>resident</th>\n",
       "      <td>0.277456</td>\n",
       "      <td>0.021322</td>\n",
       "    </tr>\n",
       "    <tr>\n",
       "      <th rowspan=\"2\" valign=\"top\">same_day_LAMP</th>\n",
       "      <th>employee</th>\n",
       "      <td>0.279042</td>\n",
       "      <td>0.018826</td>\n",
       "    </tr>\n",
       "    <tr>\n",
       "      <th>resident</th>\n",
       "      <td>0.278762</td>\n",
       "      <td>0.023012</td>\n",
       "    </tr>\n",
       "    <tr>\n",
       "      <th rowspan=\"2\" valign=\"top\">same_day_PCR</th>\n",
       "      <th>employee</th>\n",
       "      <td>0.278889</td>\n",
       "      <td>0.019188</td>\n",
       "    </tr>\n",
       "    <tr>\n",
       "      <th>resident</th>\n",
       "      <td>0.278074</td>\n",
       "      <td>0.023890</td>\n",
       "    </tr>\n",
       "    <tr>\n",
       "      <th rowspan=\"2\" valign=\"top\">one_day_PCR</th>\n",
       "      <th>employee</th>\n",
       "      <td>0.278737</td>\n",
       "      <td>0.019365</td>\n",
       "    </tr>\n",
       "    <tr>\n",
       "      <th>resident</th>\n",
       "      <td>0.277923</td>\n",
       "      <td>0.023577</td>\n",
       "    </tr>\n",
       "    <tr>\n",
       "      <th rowspan=\"2\" valign=\"top\">two_day_PCR</th>\n",
       "      <th>employee</th>\n",
       "      <td>0.277242</td>\n",
       "      <td>0.019812</td>\n",
       "    </tr>\n",
       "    <tr>\n",
       "      <th>resident</th>\n",
       "      <td>0.275976</td>\n",
       "      <td>0.022298</td>\n",
       "    </tr>\n",
       "  </tbody>\n",
       "</table>\n",
       "</div>"
      ],
      "text/plain": [
       "                             test_rate_mean  test_rate_std\n",
       "test_type        index_case                               \n",
       "same_day_antigen employee          0.278607       0.019798\n",
       "                 resident          0.277456       0.021322\n",
       "same_day_LAMP    employee          0.279042       0.018826\n",
       "                 resident          0.278762       0.023012\n",
       "same_day_PCR     employee          0.278889       0.019188\n",
       "                 resident          0.278074       0.023890\n",
       "one_day_PCR      employee          0.278737       0.019365\n",
       "                 resident          0.277923       0.023577\n",
       "two_day_PCR      employee          0.277242       0.019812\n",
       "                 resident          0.275976       0.022298"
      ]
     },
     "execution_count": 104,
     "metadata": {},
     "output_type": "execute_result"
    }
   ],
   "source": [
    "data.loc[:,'never', '3 times\\na week', :][['test_rate_mean', 'test_rate_std']]"
   ]
  },
  {
   "cell_type": "code",
   "execution_count": 105,
   "metadata": {},
   "outputs": [
    {
     "data": {
      "text/html": [
       "<div>\n",
       "<style scoped>\n",
       "    .dataframe tbody tr th:only-of-type {\n",
       "        vertical-align: middle;\n",
       "    }\n",
       "\n",
       "    .dataframe tbody tr th {\n",
       "        vertical-align: top;\n",
       "    }\n",
       "\n",
       "    .dataframe thead th {\n",
       "        text-align: right;\n",
       "    }\n",
       "</style>\n",
       "<table border=\"1\" class=\"dataframe\">\n",
       "  <thead>\n",
       "    <tr style=\"text-align: right;\">\n",
       "      <th></th>\n",
       "      <th></th>\n",
       "      <th>test_rate_mean</th>\n",
       "      <th>test_rate_std</th>\n",
       "    </tr>\n",
       "    <tr>\n",
       "      <th>test_type</th>\n",
       "      <th>index_case</th>\n",
       "      <th></th>\n",
       "      <th></th>\n",
       "    </tr>\n",
       "  </thead>\n",
       "  <tbody>\n",
       "    <tr>\n",
       "      <th rowspan=\"2\" valign=\"top\">same_day_antigen</th>\n",
       "      <th>employee</th>\n",
       "      <td>0.421883</td>\n",
       "      <td>0.032013</td>\n",
       "    </tr>\n",
       "    <tr>\n",
       "      <th>resident</th>\n",
       "      <td>0.422001</td>\n",
       "      <td>0.032464</td>\n",
       "    </tr>\n",
       "    <tr>\n",
       "      <th rowspan=\"2\" valign=\"top\">same_day_LAMP</th>\n",
       "      <th>employee</th>\n",
       "      <td>0.423431</td>\n",
       "      <td>0.035060</td>\n",
       "    </tr>\n",
       "    <tr>\n",
       "      <th>resident</th>\n",
       "      <td>0.423250</td>\n",
       "      <td>0.035601</td>\n",
       "    </tr>\n",
       "    <tr>\n",
       "      <th rowspan=\"2\" valign=\"top\">same_day_PCR</th>\n",
       "      <th>employee</th>\n",
       "      <td>0.422934</td>\n",
       "      <td>0.036567</td>\n",
       "    </tr>\n",
       "    <tr>\n",
       "      <th>resident</th>\n",
       "      <td>0.423312</td>\n",
       "      <td>0.035929</td>\n",
       "    </tr>\n",
       "    <tr>\n",
       "      <th rowspan=\"2\" valign=\"top\">one_day_PCR</th>\n",
       "      <th>employee</th>\n",
       "      <td>0.422947</td>\n",
       "      <td>0.035773</td>\n",
       "    </tr>\n",
       "    <tr>\n",
       "      <th>resident</th>\n",
       "      <td>0.422924</td>\n",
       "      <td>0.035489</td>\n",
       "    </tr>\n",
       "    <tr>\n",
       "      <th rowspan=\"2\" valign=\"top\">two_day_PCR</th>\n",
       "      <th>employee</th>\n",
       "      <td>0.420640</td>\n",
       "      <td>0.032849</td>\n",
       "    </tr>\n",
       "    <tr>\n",
       "      <th>resident</th>\n",
       "      <td>0.421338</td>\n",
       "      <td>0.033812</td>\n",
       "    </tr>\n",
       "  </tbody>\n",
       "</table>\n",
       "</div>"
      ],
      "text/plain": [
       "                             test_rate_mean  test_rate_std\n",
       "test_type        index_case                               \n",
       "same_day_antigen employee          0.421883       0.032013\n",
       "                 resident          0.422001       0.032464\n",
       "same_day_LAMP    employee          0.423431       0.035060\n",
       "                 resident          0.423250       0.035601\n",
       "same_day_PCR     employee          0.422934       0.036567\n",
       "                 resident          0.423312       0.035929\n",
       "one_day_PCR      employee          0.422947       0.035773\n",
       "                 resident          0.422924       0.035489\n",
       "two_day_PCR      employee          0.420640       0.032849\n",
       "                 resident          0.421338       0.033812"
      ]
     },
     "execution_count": 105,
     "metadata": {},
     "output_type": "execute_result"
    }
   ],
   "source": [
    "data.loc[:,'3 times\\na week', '3 times\\na week', :][['test_rate_mean', 'test_rate_std']]"
   ]
  }
 ],
 "metadata": {
  "kernelspec": {
   "display_name": "Python 3",
   "language": "python",
   "name": "python3"
  },
  "language_info": {
   "codemirror_mode": {
    "name": "ipython",
    "version": 3
   },
   "file_extension": ".py",
   "mimetype": "text/x-python",
   "name": "python",
   "nbconvert_exporter": "python",
   "pygments_lexer": "ipython3",
   "version": "3.8.8"
  }
 },
 "nbformat": 4,
 "nbformat_minor": 4
}
