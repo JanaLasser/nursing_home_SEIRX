{
 "cells": [
  {
   "cell_type": "markdown",
   "metadata": {},
   "source": [
    "# Analysis of SEIRX model runs for test technology and screening frequency"
   ]
  },
  {
   "cell_type": "code",
   "execution_count": 2,
   "metadata": {},
   "outputs": [],
   "source": [
    "import pandas as pd\n",
    "import matplotlib.pyplot as plt\n",
    "import numpy as np\n",
    "from os.path import join\n",
    "import matplotlib.gridspec as gridspec\n",
    "import matplotlib as mpl\n",
    "import analysis_functions as af"
   ]
  },
  {
   "cell_type": "code",
   "execution_count": 214,
   "metadata": {},
   "outputs": [],
   "source": [
    "language = 'english'"
   ]
  },
  {
   "cell_type": "markdown",
   "metadata": {},
   "source": [
    "## Mappings of variables to plot labels"
   ]
  },
  {
   "cell_type": "code",
   "execution_count": 215,
   "metadata": {},
   "outputs": [],
   "source": [
    "# English\n",
    "if language == 'english':\n",
    "    frequency_name_map = {np.nan:'never',\n",
    "              2:'3 times\\na week',\n",
    "              3:'twice\\na week',\n",
    "              7:'once\\na week'}\n",
    "\n",
    "    test_name_map = {\n",
    "        'same_day_antigen':'same-day antigen',\n",
    "        'one_day_PCR':'one day PCR',\n",
    "        'two_day_PCR':'two days PCR',\n",
    "        'same_day_PCR':'same-day PCR',\n",
    "        'same_day_LAMP':'same-day RT-LAMP'}\n",
    "\n",
    "    metric_name_map = {\n",
    "        'infected_residents_mean':'follow-up cases residents (mean)',\n",
    "        'infected_residents_median':'follow-up cases residends (median)',\n",
    "        'infected_residents_0.90':'follow-up cases residents (90th percentile)',\n",
    "        'R0_mean':'$R_0$',\n",
    "        'R0_mean':'$R_0$',\n",
    "        'infected_residents':'follow-up cases residents'}\n",
    "\n",
    "    index_case_map = {'employee':'index case employee',\n",
    "                      'resident':'index case resident'}\n",
    "    \n",
    "    xlabel = 'screening frequency employees'\n",
    "    ylabel = 'screening freuqency residents'\n",
    "    \n",
    "    screening_intervals = ['never', 'once\\na week', 'twice\\na week', \n",
    "                           '3 times\\na week']\n",
    "\n",
    "# German\n",
    "if language == 'german':\n",
    "    frequency_name_map = {np.nan:'nie',\n",
    "                  2:'3 mal\\npro Woche',\n",
    "                  3:'2 mal\\npro Woche',\n",
    "                  7:'ein mal\\npro Woche'}\n",
    "\n",
    "    test_name_map = {\n",
    "        'same_day_antigen':'Antigen (selber Tag)',\n",
    "        'one_day_PCR':'PCR (1 Tag)',\n",
    "        'two_day_PCR':'PCR (2 Tage)',\n",
    "        'same_day_PCR':'PCR (selber Tag)', \n",
    "        'same_day_LAMP':'RT-LAMP (selber Tag)'}\n",
    "\n",
    "    metric_name_map = {\n",
    "        'infected_residents_mean':'Folgefälle BewohnerInnen (Mittelwert)',\n",
    "        'infected_residents_median':'Folgefälle BewohnerInnen (Median)',\n",
    "        'infected_residents_0.90':'Folgefälle BewohnerInnen (90. Percentile)',\n",
    "        'R0_mean':'$R_0$',\n",
    "        'R0_mean':'$R_0$',\n",
    "        'infected_residents':'Folgefälle BewohnerInnen'}\n",
    "\n",
    "    index_case_map = {'employee':'Indexfall MitarbeiterIn',\n",
    "                      'resident':'Indexfall BewohnerIn'}\n",
    "    \n",
    "    xlabel = 'Testfrequenz MitarbeiterInnen'\n",
    "    ylabel = 'Testfrequenz BewohnerInnen'\n",
    "    \n",
    "    screening_intervals = ['nie', 'ein mal\\npro Woche', '2 mal\\npro Woche',\n",
    "                           '3 mal\\npro Woche']"
   ]
  },
  {
   "cell_type": "markdown",
   "metadata": {},
   "source": [
    "## Helper functions"
   ]
  },
  {
   "cell_type": "code",
   "execution_count": null,
   "metadata": {},
   "outputs": [],
   "source": []
  },
  {
   "cell_type": "markdown",
   "metadata": {},
   "source": [
    "## Analysis wild type"
   ]
  },
  {
   "cell_type": "markdown",
   "metadata": {},
   "source": [
    "### Data loading and wrangling"
   ]
  },
  {
   "cell_type": "code",
   "execution_count": 217,
   "metadata": {},
   "outputs": [],
   "source": [
    "res_path = '../data/simulation_results'\n",
    "dst_path = '../plots/'\n",
    "sim_name = 'simulations_testing_strategy'\n",
    "N_runs = 5000\n",
    "data = pd.read_csv(join(res_path,'{}_{}.csv'.format(sim_name, N_runs)))"
   ]
  },
  {
   "cell_type": "code",
   "execution_count": 218,
   "metadata": {},
   "outputs": [],
   "source": [
    "# replace strings with strings that are nicer for plotting\n",
    "data['resident_screen_interval'] = data['resident_screen_interval']\\\n",
    "    .replace(frequency_name_map)\n",
    "data['employee_screen_interval'] = data['employee_screen_interval']\\\n",
    "    .replace(frequency_name_map)\n",
    "\n",
    "# set screen intervals, test types and index case as categorical variables with\n",
    "# explicit order, to facilitate sorting in a nicer way\n",
    "data['resident_screen_interval'] = pd.Categorical(data['resident_screen_interval'], \n",
    "    categories=['3 times\\na week', 'twice\\na week', 'once\\na week', 'never'],\n",
    "                      ordered=True)\n",
    "\n",
    "data['employee_screen_interval'] = pd.Categorical(data['employee_screen_interval'], \n",
    "    categories=['3 times\\na week', 'twice\\na week', 'once\\na week', 'never'],\n",
    "                      ordered=True)\n",
    "\n",
    "data['test_type'] = pd.Categorical(data['test_type'], \n",
    "    categories=['same_day_antigen', 'same_day_LAMP', 'same_day_PCR', 'one_day_PCR',  \n",
    "                'two_day_PCR',], ordered=True)\n",
    "\n",
    "data['index_case'] = pd.Categorical(data['index_case'], \n",
    "    categories=['employee', 'resident'], ordered=True)\n",
    "\n",
    "data = data.sort_values(by=['test_type', 'employee_screen_interval', \n",
    "                            'resident_screen_interval', 'index_case'],\n",
    "                       ascending=True)\n",
    "\n",
    "data = data.set_index(['test_type', 'employee_screen_interval', \n",
    "                       'resident_screen_interval', 'index_case'])"
   ]
  },
  {
   "cell_type": "markdown",
   "metadata": {},
   "source": [
    "### Different test technologies"
   ]
  },
  {
   "cell_type": "code",
   "execution_count": 219,
   "metadata": {},
   "outputs": [
    {
     "data": {
      "image/png": "[encoded data removed]",
      "text/plain": [
       "<Figure size 1080x864 with 9 Axes>"
      ]
     },
     "metadata": {
      "needs_background": "light"
     },
     "output_type": "display_data"
    }
   ],
   "source": [
    "metric = 'infected_residents_mean'\n",
    "sim_name = 'simulation_results'\n",
    "screening_params = screening_intervals\n",
    "\n",
    "# figure layout & axis setup\n",
    "fig = plt.figure(figsize=(15, 12))\n",
    "gs = fig.add_gridspec(nrows=4, ncols=4, width_ratios=[1,1,1, 0.05],\\\n",
    "                       height_ratios=[0.1,1,0.1,1], wspace=0.05, hspace=0)\n",
    "\n",
    "title_ax_1 = fig.add_subplot(gs[0, 0:])\n",
    "hmap_ax_1 = fig.add_subplot(gs[1, 0])\n",
    "hmap_ax_2 = fig.add_subplot(gs[1, 1])\n",
    "hmap_ax_3 = fig.add_subplot(gs[1, 2])\n",
    "\n",
    "title_ax_2 = fig.add_subplot(gs[2, 0:])\n",
    "hmap_ax_4 = fig.add_subplot(gs[3, 0])\n",
    "hmap_ax_5 = fig.add_subplot(gs[3, 1])\n",
    "hmap_ax_6 = fig.add_subplot(gs[3, 2])\n",
    "\n",
    "cbar_ax = fig.add_subplot(gs[1:, 3])\n",
    "\n",
    "hmap_axes = [[hmap_ax_1, hmap_ax_2, hmap_ax_3], [hmap_ax_4, hmap_ax_5, hmap_ax_6]]\n",
    "title_axes = [title_ax_1, title_ax_2]\n",
    "\n",
    "# possible range of median outbreak sizes to fix the dynamic range of the\n",
    "# colormaps\n",
    "vmin=0\n",
    "vmax=5\n",
    "vstep=1\n",
    "\n",
    "# compare scenarios in which either employees or residents are the index case\n",
    "for i, index_case_mode in enumerate(['employee', 'resident']):\n",
    "    df = data.loc[:,:,:, index_case_mode]\n",
    "    \n",
    "    # remove all axis labels and ticks for the heatmaps\n",
    "    t_ax = title_axes[i]\n",
    "    t_ax.set_xticks([])\n",
    "    t_ax.set_yticks([])\n",
    "    t_ax.set_frame_on(False)\n",
    "    t_ax.set_xlim(0, 1)\n",
    "    t_ax.set_ylim(0, 3)\n",
    "    t_ax.text(0.38, 1, index_case_map[index_case_mode], fontsize=20)\n",
    "        \n",
    "    j = 0\n",
    "    # compare same-day turnover testing for different testing technologies\n",
    "    for j, ax, test_type in zip(range(3), hmap_axes[i],\\\n",
    "                       ['same_day_antigen', 'same_day_LAMP', 'same_day_PCR']):\n",
    "        \n",
    "        # set flag to set axis ticks only for heatmaps at the boundaries of \n",
    "        # the figure\n",
    "        xticks = False\n",
    "        yticks = False\n",
    "        if i > 0:\n",
    "            xticks = True\n",
    "        if j in [0, 3]:\n",
    "            yticks = True\n",
    "            \n",
    "        # put the testing technology in the heatmap title\n",
    "        ax.set_title('Test: {}'\\\n",
    "                .format(test_name_map[test_type]), fontsize=14)\n",
    "        \n",
    "        # plot heatmap of the scenario\n",
    "        img = af.get_image(df, test_type, screening_params, metric)\n",
    "        if index_case_mode == 'resident':\n",
    "            # if a resident is the index case, we need to subtract 1 from the\n",
    "            # number of infected residents, to calculate the \"outbreak size\",\n",
    "            # which is defined as the number of FOLLOW-UP cases, given an index\n",
    "            # case\n",
    "            img = img - 1\n",
    "        img_plot = af.plot_heatmap(ax, img, screening_params, vmin, vmax,\n",
    "                                   xticks, yticks, xlabel, ylabel)\n",
    "        \n",
    "        # annotate heatmap with tests / days / agent\n",
    "        test_rate = af.get_image(df, test_type, screening_params, \n",
    "                                    'test_rate_mean')\n",
    "        af.annotate_heatmap(ax, test_rate)\n",
    "        \n",
    "# colorbar\n",
    "norm = mpl.colors.Normalize(vmin=vmin,vmax=vmax)\n",
    "sm = plt.cm.ScalarMappable(cmap= plt.get_cmap('coolwarm'), norm=norm)\n",
    "cbar = fig.colorbar(sm, cax=cbar_ax, orientation='vertical',\\\n",
    "                        ticks=np.arange(vmin, vmax + 1, vstep))\n",
    "yticklabels = list(range(vmin, vmax, vstep)) + ['$\\geq {}$'.format(vmax)]\n",
    "cbar.ax.set_yticklabels(yticklabels)\n",
    "cbar.set_label('{}'.format(metric_name_map[metric]), fontsize=12)      \n",
    "\n",
    "plt.savefig(join(dst_path, 'screening_frequency_test_technology_{}.png'\\\n",
    "                .format(language[0:3])), dpi=300, transparent=True)\n",
    "plt.savefig(join(dst_path, 'screening_frequency_test_technology_{}.pdf'\\\n",
    "                .format(language[0:3])), transparent=True)"
   ]
  },
  {
   "cell_type": "markdown",
   "metadata": {},
   "source": [
    "### PCR: different turnover times"
   ]
  },
  {
   "cell_type": "code",
   "execution_count": 220,
   "metadata": {},
   "outputs": [
    {
     "data": {
      "image/png": "[encoded data removed]",
      "text/plain": [
       "<Figure size 1080x864 with 9 Axes>"
      ]
     },
     "metadata": {
      "needs_background": "light"
     },
     "output_type": "display_data"
    }
   ],
   "source": [
    "metric = 'infected_residents_mean'\n",
    "sim_name = 'simulation_results'\n",
    "screening_params = screening_intervals\n",
    "\n",
    "# figure layout & axis setup\n",
    "fig = plt.figure(figsize=(15, 12))\n",
    "gs = fig.add_gridspec(nrows=4, ncols=4, width_ratios=[1,1,1, 0.05],\\\n",
    "                       height_ratios=[0.1,1,0.1,1], wspace=0.05, hspace=0)\n",
    "\n",
    "title_ax_1 = fig.add_subplot(gs[0, 0:])\n",
    "hmap_ax_1 = fig.add_subplot(gs[1, 0])\n",
    "hmap_ax_2 = fig.add_subplot(gs[1, 1])\n",
    "hmap_ax_3 = fig.add_subplot(gs[1, 2])\n",
    "\n",
    "title_ax_2 = fig.add_subplot(gs[2, 0:])\n",
    "hmap_ax_4 = fig.add_subplot(gs[3, 0])\n",
    "hmap_ax_5 = fig.add_subplot(gs[3, 1])\n",
    "hmap_ax_6 = fig.add_subplot(gs[3, 2])\n",
    "\n",
    "cbar_ax = fig.add_subplot(gs[1:, 3])\n",
    "\n",
    "hmap_axes = [[hmap_ax_1, hmap_ax_2, hmap_ax_3], [hmap_ax_4, hmap_ax_5, hmap_ax_6]]\n",
    "title_axes = [title_ax_1, title_ax_2]\n",
    "\n",
    "# possible range of median outbreak sizes to fix the dynamic range of the\n",
    "# colormaps\n",
    "vmin = 0\n",
    "vmax = 5\n",
    "vstep = 1\n",
    "\n",
    "# compare scenarios in which either employees or residents are the index case\n",
    "for i, index_case_mode in enumerate(['employee', 'resident']):\n",
    "    df = data.loc[:,:,:, index_case_mode]\n",
    "    \n",
    "    # set flag to set axis ticks only for heatmaps at the boundaries of \n",
    "    # the figure\n",
    "    t_ax = title_axes[i]\n",
    "    t_ax.set_xticks([])\n",
    "    t_ax.set_yticks([])\n",
    "    t_ax.set_frame_on(False)\n",
    "    t_ax.set_xlim(0, 1)\n",
    "    t_ax.set_ylim(0, 3)\n",
    "    t_ax.text(0.38, 1, index_case_map[index_case_mode], fontsize=20)\n",
    "    \n",
    "    # compare different test result turnover times for PCR tests\n",
    "    for j, ax, test_type in zip(range(3), hmap_axes[i], \\\n",
    "                        ['same_day_PCR', 'one_day_PCR', 'two_day_PCR']):\n",
    "        xticks = False\n",
    "        yticks = False\n",
    "        if i > 0:\n",
    "            xticks = True\n",
    "        if j in [0, 3]:\n",
    "            yticks = True\n",
    "            \n",
    "        # put the turnover time in the heatmap title\n",
    "        ax.set_title('Test: {}'\\\n",
    "                .format(test_name_map[test_type]), fontsize=14)\n",
    "        \n",
    "        # plot heatmap of the scenario\n",
    "        img = af.get_image(df, test_type, screening_params, metric)\n",
    "        if index_case_mode == 'resident':\n",
    "            img = img - 1\n",
    "        img_plot = af.plot_heatmap(ax, img, screening_params, vmin, vmax,\n",
    "                                   xticks, yticks, xlabel, ylabel)\n",
    "        \n",
    "        # annotate heatmap with tests / days / agent\n",
    "        test_rate = af.get_image(df, test_type, screening_params, \n",
    "                                    'test_rate_mean')\n",
    "        af.annotate_heatmap(ax, test_rate)\n",
    "\n",
    "# colorbar\n",
    "norm = mpl.colors.Normalize(vmin=vmin,vmax=vmax)\n",
    "sm = plt.cm.ScalarMappable(cmap= plt.get_cmap('coolwarm'), norm=norm)\n",
    "cbar = fig.colorbar(sm, cax=cbar_ax, orientation='vertical',\\\n",
    "                ticks=np.arange(vmin, vmax+1, vstep))\n",
    "yticklabels = list(range(vmin, vmax, vstep)) + ['$\\geq {}$'.format(vmax)]\n",
    "cbar.ax.set_yticklabels(yticklabels)\n",
    "cbar.set_label('{}'.format(metric_name_map[metric]), fontsize=12)      \n",
    "\n",
    "plt.savefig(join(dst_path, 'screening_frequency_PCR_turnover_time_{}.png'\\\n",
    "                .format(language[0:3])), dpi=300, transparent=True)\n",
    "plt.savefig(join(dst_path, 'screening_frequency_PCR_turnover_time_{}.pdf'\\\n",
    "                .format(language[0:3])))"
   ]
  },
  {
   "cell_type": "markdown",
   "metadata": {},
   "source": [
    "### Number of agents infected by the index case"
   ]
  },
  {
   "cell_type": "code",
   "execution_count": 221,
   "metadata": {},
   "outputs": [],
   "source": [
    "# all ensembles that had no preventive testing in place (the test technology\n",
    "# does not make a difference, because it is only used for potential preventive\n",
    "# tests anyways)\n",
    "no_measures = data.loc[:,'never', 'never'].copy().reset_index()\n",
    "nm_residents = no_measures[no_measures['index_case'] == 'resident']\n",
    "nm_employees = no_measures[no_measures['index_case'] == 'employee']"
   ]
  },
  {
   "cell_type": "code",
   "execution_count": 222,
   "metadata": {},
   "outputs": [
    {
     "name": "stdout",
     "output_type": "stream",
     "text": [
      "index case resident: R = 1.3539 +- 1.5030\n",
      "index case employee: R = 1.2921 +- 1.4382\n"
     ]
    }
   ],
   "source": [
    "print('index case resident: R = {:1.4f} +- {:1.4f}'\\\n",
    "      .format(nm_residents['R0_mean'].mean(), nm_residents['R0_std'].mean()))\n",
    "print('index case employee: R = {:1.4f} +- {:1.4f}'\\\n",
    "      .format(nm_employees['R0_mean'].mean(), nm_employees['R0_std'].mean()))"
   ]
  },
  {
   "cell_type": "markdown",
   "metadata": {},
   "source": [
    "### Outbreak sizes"
   ]
  },
  {
   "cell_type": "markdown",
   "metadata": {},
   "source": [
    "**Note**: for resident index cases, the index case needs to be subtracted from the outbreak size"
   ]
  },
  {
   "cell_type": "markdown",
   "metadata": {},
   "source": [
    "#### Only TTI"
   ]
  },
  {
   "cell_type": "code",
   "execution_count": 223,
   "metadata": {},
   "outputs": [
    {
     "data": {
      "text/plain": [
       "1    4.7478\n",
       "3    4.7438\n",
       "5    4.6290\n",
       "7    4.9614\n",
       "9    4.8004\n",
       "Name: infected_residents_mean, dtype: float64"
      ]
     },
     "execution_count": 223,
     "metadata": {},
     "output_type": "execute_result"
    }
   ],
   "source": [
    "nm_residents['infected_residents_mean'] - 1"
   ]
  },
  {
   "cell_type": "code",
   "execution_count": 224,
   "metadata": {},
   "outputs": [
    {
     "data": {
      "text/plain": [
       "1    5.716012\n",
       "3    5.725058\n",
       "5    5.584590\n",
       "7    5.854087\n",
       "9    5.631422\n",
       "Name: infected_residents_std, dtype: float64"
      ]
     },
     "execution_count": 224,
     "metadata": {},
     "output_type": "execute_result"
    }
   ],
   "source": [
    "nm_residents['infected_residents_std'] - 1"
   ]
  },
  {
   "cell_type": "code",
   "execution_count": 225,
   "metadata": {},
   "outputs": [
    {
     "data": {
      "text/plain": [
       "0    5.2882\n",
       "2    5.1344\n",
       "4    5.0508\n",
       "6    5.1332\n",
       "8    5.0852\n",
       "Name: infected_residents_mean, dtype: float64"
      ]
     },
     "execution_count": 225,
     "metadata": {},
     "output_type": "execute_result"
    }
   ],
   "source": [
    "nm_employees['infected_residents_mean']"
   ]
  },
  {
   "cell_type": "code",
   "execution_count": 226,
   "metadata": {},
   "outputs": [
    {
     "data": {
      "text/plain": [
       "0    7.123461\n",
       "2    7.062260\n",
       "4    6.870579\n",
       "6    7.032307\n",
       "8    7.011489\n",
       "Name: infected_residents_std, dtype: float64"
      ]
     },
     "execution_count": 226,
     "metadata": {},
     "output_type": "execute_result"
    }
   ],
   "source": [
    "nm_employees['infected_residents_std']"
   ]
  },
  {
   "cell_type": "markdown",
   "metadata": {},
   "source": [
    "#### Minimum and maximum"
   ]
  },
  {
   "cell_type": "code",
   "execution_count": 227,
   "metadata": {},
   "outputs": [
    {
     "data": {
      "text/plain": [
       "('same_day_PCR', '3 times\\na week', '3 times\\na week', 'employee')"
      ]
     },
     "execution_count": 227,
     "metadata": {},
     "output_type": "execute_result"
    }
   ],
   "source": [
    "data['infected_residents_mean'].idxmin()"
   ]
  },
  {
   "cell_type": "code",
   "execution_count": 228,
   "metadata": {},
   "outputs": [
    {
     "data": {
      "text/plain": [
       "0.0"
      ]
     },
     "execution_count": 228,
     "metadata": {},
     "output_type": "execute_result"
    }
   ],
   "source": [
    "data.loc[data['infected_residents_mean'].idxmin()]['infected_residents_mean']"
   ]
  },
  {
   "cell_type": "code",
   "execution_count": 229,
   "metadata": {},
   "outputs": [
    {
     "data": {
      "text/plain": [
       "0.0"
      ]
     },
     "execution_count": 229,
     "metadata": {},
     "output_type": "execute_result"
    }
   ],
   "source": [
    "data.loc[data['infected_residents_mean'].idxmin()]['infected_residents_std']"
   ]
  },
  {
   "cell_type": "markdown",
   "metadata": {},
   "source": [
    "#### Realistic scenario I: employees screened 2x / week"
   ]
  },
  {
   "cell_type": "markdown",
   "metadata": {},
   "source": [
    "##### Same-day Antigen"
   ]
  },
  {
   "cell_type": "code",
   "execution_count": 230,
   "metadata": {},
   "outputs": [
    {
     "name": "stdout",
     "output_type": "stream",
     "text": [
      "1.7722 +- 3.969465769054866\n"
     ]
    }
   ],
   "source": [
    "# employee index case\n",
    "mean = data.loc['same_day_antigen', 'twice\\na week', 'never', 'employee']\\\n",
    "        ['infected_residents_mean']\n",
    "std = data.loc['same_day_antigen', 'twice\\na week', 'never', 'employee']\\\n",
    "        ['infected_residents_std']\n",
    "print('{} +- {}'.format(mean, std))"
   ]
  },
  {
   "cell_type": "code",
   "execution_count": 231,
   "metadata": {},
   "outputs": [
    {
     "name": "stdout",
     "output_type": "stream",
     "text": [
      "3.1654 +- 4.789470810656353\n"
     ]
    }
   ],
   "source": [
    "# resident index case\n",
    "mean = data.loc['same_day_antigen', 'twice\\na week', 'never', 'resident']\\\n",
    "        ['infected_residents_mean'] - 1\n",
    "std = data.loc['same_day_antigen', 'twice\\na week', 'never', 'resident']\\\n",
    "        ['infected_residents_std']\n",
    "print('{} +- {}'.format(mean, std))"
   ]
  },
  {
   "cell_type": "markdown",
   "metadata": {},
   "source": [
    "##### Same-day LAMP"
   ]
  },
  {
   "cell_type": "code",
   "execution_count": 232,
   "metadata": {},
   "outputs": [
    {
     "name": "stdout",
     "output_type": "stream",
     "text": [
      "0.6674 +- 2.323931447240709\n"
     ]
    }
   ],
   "source": [
    "# employee index case\n",
    "mean = data.loc['same_day_LAMP', 'twice\\na week', 'never', 'employee']\\\n",
    "        ['infected_residents_mean']\n",
    "std = data.loc['same_day_LAMP', 'twice\\na week', 'never', 'employee']\\\n",
    "        ['infected_residents_std']\n",
    "print('{} +- {}'.format(mean, std))"
   ]
  },
  {
   "cell_type": "code",
   "execution_count": 233,
   "metadata": {},
   "outputs": [
    {
     "name": "stdout",
     "output_type": "stream",
     "text": [
      "2.6388 +- 4.112434435148684\n"
     ]
    }
   ],
   "source": [
    "# resident index case\n",
    "mean = data.loc['same_day_LAMP', 'twice\\na week', 'never', 'resident']\\\n",
    "        ['infected_residents_mean'] - 1\n",
    "std = data.loc['same_day_LAMP', 'twice\\na week', 'never', 'resident']\\\n",
    "        ['infected_residents_std']\n",
    "print('{} +- {}'.format(mean, std))"
   ]
  },
  {
   "cell_type": "markdown",
   "metadata": {},
   "source": [
    "##### One-day PCR"
   ]
  },
  {
   "cell_type": "code",
   "execution_count": 234,
   "metadata": {},
   "outputs": [
    {
     "name": "stdout",
     "output_type": "stream",
     "text": [
      "0.7964 +- 2.6202137592243893\n"
     ]
    }
   ],
   "source": [
    "# employee index case\n",
    "mean = data.loc['one_day_PCR', 'twice\\na week', 'never', 'employee']\\\n",
    "        ['infected_residents_mean']\n",
    "std = data.loc['one_day_PCR', 'twice\\na week', 'never', 'employee']\\\n",
    "        ['infected_residents_std']\n",
    "print('{} +- {}'.format(mean, std))"
   ]
  },
  {
   "cell_type": "code",
   "execution_count": 235,
   "metadata": {},
   "outputs": [
    {
     "name": "stdout",
     "output_type": "stream",
     "text": [
      "2.6718 +- 4.219673670934499\n"
     ]
    }
   ],
   "source": [
    "# resident index case\n",
    "mean = data.loc['one_day_PCR', 'twice\\na week', 'never', 'resident']\\\n",
    "        ['infected_residents_mean'] - 1\n",
    "std = data.loc['one_day_PCR', 'twice\\na week', 'never', 'resident']\\\n",
    "        ['infected_residents_std']\n",
    "print('{} +- {}'.format(mean, std))"
   ]
  },
  {
   "cell_type": "markdown",
   "metadata": {},
   "source": [
    "##### Same-day PCR"
   ]
  },
  {
   "cell_type": "code",
   "execution_count": 236,
   "metadata": {},
   "outputs": [
    {
     "name": "stdout",
     "output_type": "stream",
     "text": [
      "0.1782 +- 1.2336730319780709\n"
     ]
    }
   ],
   "source": [
    "# employee index case\n",
    "mean = data.loc['same_day_PCR', 'twice\\na week', 'never', 'employee']\\\n",
    "        ['infected_residents_mean']\n",
    "std = data.loc['same_day_PCR', 'twice\\na week', 'never', 'employee']\\\n",
    "        ['infected_residents_std']\n",
    "print('{} +- {}'.format(mean, std))"
   ]
  },
  {
   "cell_type": "code",
   "execution_count": 237,
   "metadata": {},
   "outputs": [
    {
     "name": "stdout",
     "output_type": "stream",
     "text": [
      "2.3536 +- 3.781828590179241\n"
     ]
    }
   ],
   "source": [
    "# resident index case\n",
    "mean = data.loc['same_day_PCR', 'twice\\na week', 'never', 'resident']\\\n",
    "        ['infected_residents_mean'] - 1\n",
    "std = data.loc['same_day_PCR', 'twice\\na week', 'never', 'resident']\\\n",
    "        ['infected_residents_std']\n",
    "print('{} +- {}'.format(mean, std))"
   ]
  },
  {
   "cell_type": "markdown",
   "metadata": {},
   "source": [
    "##### Two-day PCR"
   ]
  },
  {
   "cell_type": "code",
   "execution_count": 238,
   "metadata": {},
   "outputs": [
    {
     "name": "stdout",
     "output_type": "stream",
     "text": [
      "1.63 +- 3.813555905153135\n"
     ]
    }
   ],
   "source": [
    "# employee index case\n",
    "mean = data.loc['two_day_PCR', 'twice\\na week', 'never', 'employee']\\\n",
    "        ['infected_residents_mean']\n",
    "std = data.loc['two_day_PCR', 'twice\\na week', 'never', 'employee']\\\n",
    "        ['infected_residents_std']\n",
    "print('{} +- {}'.format(mean, std))"
   ]
  },
  {
   "cell_type": "code",
   "execution_count": 239,
   "metadata": {},
   "outputs": [
    {
     "name": "stdout",
     "output_type": "stream",
     "text": [
      "3.2748 +- 4.907474057019972\n"
     ]
    }
   ],
   "source": [
    "# resident index case\n",
    "mean = data.loc['two_day_PCR', 'twice\\na week', 'never', 'resident']\\\n",
    "        ['infected_residents_mean'] - 1\n",
    "std = data.loc['two_day_PCR', 'twice\\na week', 'never', 'resident']\\\n",
    "        ['infected_residents_std']\n",
    "print('{} +- {}'.format(mean, std))"
   ]
  },
  {
   "cell_type": "markdown",
   "metadata": {},
   "source": [
    "#### Realistic scenario II: employees screened 1x / week"
   ]
  },
  {
   "cell_type": "markdown",
   "metadata": {},
   "source": [
    "##### Same-day PCR"
   ]
  },
  {
   "cell_type": "code",
   "execution_count": 240,
   "metadata": {},
   "outputs": [
    {
     "name": "stdout",
     "output_type": "stream",
     "text": [
      "1.4098 +- 3.5648850810549595\n"
     ]
    }
   ],
   "source": [
    "# employee index case\n",
    "mean = data.loc['same_day_PCR', 'once\\na week', 'never', 'employee']\\\n",
    "        ['infected_residents_mean']\n",
    "std = data.loc['same_day_PCR', 'once\\na week', 'never', 'employee']\\\n",
    "        ['infected_residents_std']\n",
    "print('{} +- {}'.format(mean, std))"
   ]
  },
  {
   "cell_type": "code",
   "execution_count": 241,
   "metadata": {},
   "outputs": [
    {
     "name": "stdout",
     "output_type": "stream",
     "text": [
      "3.0271999999999997 +- 4.606550143094522\n"
     ]
    }
   ],
   "source": [
    "# resident index case\n",
    "mean = data.loc['same_day_PCR', 'once\\na week', 'never', 'resident']\\\n",
    "        ['infected_residents_mean'] - 1\n",
    "std = data.loc['same_day_PCR', 'once\\na week', 'never', 'resident']\\\n",
    "        ['infected_residents_std']\n",
    "print('{} +- {}'.format(mean, std))"
   ]
  },
  {
   "cell_type": "markdown",
   "metadata": {},
   "source": [
    "##### Same-day LAMP"
   ]
  },
  {
   "cell_type": "code",
   "execution_count": 242,
   "metadata": {},
   "outputs": [
    {
     "name": "stdout",
     "output_type": "stream",
     "text": [
      "2.1286 +- 4.516120138816244\n"
     ]
    }
   ],
   "source": [
    "# employee index case\n",
    "mean = data.loc['same_day_LAMP', 'once\\na week', 'never', 'employee']\\\n",
    "        ['infected_residents_mean']\n",
    "std = data.loc['same_day_LAMP', 'once\\na week', 'never', 'employee']\\\n",
    "        ['infected_residents_std']\n",
    "print('{} +- {}'.format(mean, std))"
   ]
  },
  {
   "cell_type": "code",
   "execution_count": 243,
   "metadata": {},
   "outputs": [
    {
     "name": "stdout",
     "output_type": "stream",
     "text": [
      "3.6026 +- 5.305836750289642\n"
     ]
    }
   ],
   "source": [
    "# resident index case\n",
    "mean = data.loc['same_day_LAMP', 'once\\na week', 'never', 'resident']\\\n",
    "        ['infected_residents_mean'] - 1\n",
    "std = data.loc['same_day_LAMP', 'once\\na week', 'never', 'resident']\\\n",
    "        ['infected_residents_std']\n",
    "print('{} +- {}'.format(mean, std))"
   ]
  },
  {
   "cell_type": "markdown",
   "metadata": {},
   "source": [
    "##### Same-day Antigen"
   ]
  },
  {
   "cell_type": "code",
   "execution_count": 244,
   "metadata": {},
   "outputs": [
    {
     "name": "stdout",
     "output_type": "stream",
     "text": [
      "3.042 +- 5.435121351802714\n"
     ]
    }
   ],
   "source": [
    "# employee index case\n",
    "mean = data.loc['same_day_antigen', 'once\\na week', 'never', 'employee']\\\n",
    "        ['infected_residents_mean']\n",
    "std = data.loc['same_day_antigen', 'once\\na week', 'never', 'employee']\\\n",
    "        ['infected_residents_std']\n",
    "print('{} +- {}'.format(mean, std))"
   ]
  },
  {
   "cell_type": "code",
   "execution_count": 245,
   "metadata": {},
   "outputs": [
    {
     "name": "stdout",
     "output_type": "stream",
     "text": [
      "4.0696 +- 5.786454220892972\n"
     ]
    }
   ],
   "source": [
    "# resident index case\n",
    "mean = data.loc['same_day_antigen', 'once\\na week', 'never', 'resident']\\\n",
    "        ['infected_residents_mean'] - 1\n",
    "std = data.loc['same_day_antigen', 'once\\na week', 'never', 'resident']\\\n",
    "        ['infected_residents_std']\n",
    "print('{} +- {}'.format(mean, std))"
   ]
  },
  {
   "cell_type": "markdown",
   "metadata": {},
   "source": [
    "#### Two-day PCR"
   ]
  },
  {
   "cell_type": "markdown",
   "metadata": {},
   "source": [
    "##### Employees 3x / week, residents never "
   ]
  },
  {
   "cell_type": "code",
   "execution_count": 246,
   "metadata": {},
   "outputs": [
    {
     "name": "stdout",
     "output_type": "stream",
     "text": [
      "1.0166 +- 2.949790618491181\n"
     ]
    }
   ],
   "source": [
    "# employee index case\n",
    "mean = data.loc['two_day_PCR', '3 times\\na week', 'never', 'employee']\\\n",
    "        ['infected_residents_mean']\n",
    "std = data.loc['two_day_PCR', '3 times\\na week', 'never', 'employee']\\\n",
    "        ['infected_residents_std']\n",
    "print('{} +- {}'.format(mean, std))"
   ]
  },
  {
   "cell_type": "code",
   "execution_count": 247,
   "metadata": {},
   "outputs": [
    {
     "name": "stdout",
     "output_type": "stream",
     "text": [
      "2.824 +- 4.36605502568365\n"
     ]
    }
   ],
   "source": [
    "# resident index case\n",
    "mean = data.loc['two_day_PCR', '3 times\\na week', 'never', 'resident']\\\n",
    "        ['infected_residents_mean'] - 1\n",
    "std = data.loc['two_day_PCR', '3 times\\na week', 'never', 'resident']\\\n",
    "        ['infected_residents_std']\n",
    "print('{} +- {}'.format(mean, std))"
   ]
  },
  {
   "cell_type": "markdown",
   "metadata": {},
   "source": [
    "##### Employees 3x / week, residents 1x / week "
   ]
  },
  {
   "cell_type": "code",
   "execution_count": 248,
   "metadata": {},
   "outputs": [
    {
     "name": "stdout",
     "output_type": "stream",
     "text": [
      "0.6734 +- 2.011552064536652\n"
     ]
    }
   ],
   "source": [
    "# employee index case\n",
    "mean = data.loc['two_day_PCR', '3 times\\na week', 'once\\na week', 'employee']\\\n",
    "        ['infected_residents_mean']\n",
    "std = data.loc['two_day_PCR', '3 times\\na week', 'once\\na week', 'employee']\\\n",
    "        ['infected_residents_std']\n",
    "print('{} +- {}'.format(mean, std))"
   ]
  },
  {
   "cell_type": "code",
   "execution_count": 249,
   "metadata": {},
   "outputs": [
    {
     "name": "stdout",
     "output_type": "stream",
     "text": [
      "1.5779999999999998 +- 2.72884688486991\n"
     ]
    }
   ],
   "source": [
    "# resident index case\n",
    "mean = data.loc['two_day_PCR', '3 times\\na week', 'once\\na week', 'resident']\\\n",
    "        ['infected_residents_mean'] - 1\n",
    "std = data.loc['two_day_PCR', '3 times\\na week', 'once\\na week', 'resident']\\\n",
    "        ['infected_residents_std']\n",
    "print('{} +- {}'.format(mean, std))"
   ]
  },
  {
   "cell_type": "markdown",
   "metadata": {},
   "source": [
    "##### Employees 3x / week, residents 2x / week "
   ]
  },
  {
   "cell_type": "code",
   "execution_count": 250,
   "metadata": {},
   "outputs": [
    {
     "name": "stdout",
     "output_type": "stream",
     "text": [
      "0.4414 +- 1.2504714214068031\n"
     ]
    }
   ],
   "source": [
    "# employee index case\n",
    "mean = data.loc['two_day_PCR', '3 times\\na week', 'twice\\na week', 'employee']\\\n",
    "        ['infected_residents_mean']\n",
    "std = data.loc['two_day_PCR', '3 times\\na week', 'twice\\na week', 'employee']\\\n",
    "        ['infected_residents_std']\n",
    "print('{} +- {}'.format(mean, std))"
   ]
  },
  {
   "cell_type": "code",
   "execution_count": 251,
   "metadata": {},
   "outputs": [
    {
     "name": "stdout",
     "output_type": "stream",
     "text": [
      "0.6946000000000001 +- 1.5008602054392854\n"
     ]
    }
   ],
   "source": [
    "# resident index case\n",
    "mean = data.loc['two_day_PCR', '3 times\\na week', 'twice\\na week', 'resident']\\\n",
    "        ['infected_residents_mean'] - 1\n",
    "std = data.loc['two_day_PCR', '3 times\\na week', 'twice\\na week', 'resident']\\\n",
    "        ['infected_residents_std']\n",
    "print('{} +- {}'.format(mean, std))"
   ]
  },
  {
   "cell_type": "markdown",
   "metadata": {},
   "source": [
    "##### Employees 3x / week, residents 3x / week "
   ]
  },
  {
   "cell_type": "code",
   "execution_count": 252,
   "metadata": {},
   "outputs": [
    {
     "name": "stdout",
     "output_type": "stream",
     "text": [
      "0.358 +- 0.9037695280722704\n"
     ]
    }
   ],
   "source": [
    "# employee index case\n",
    "mean = data.loc['two_day_PCR', '3 times\\na week', '3 times\\na week', 'employee']\\\n",
    "        ['infected_residents_mean']\n",
    "std = data.loc['two_day_PCR', '3 times\\na week', '3 times\\na week', 'employee']\\\n",
    "        ['infected_residents_std']\n",
    "print('{} +- {}'.format(mean, std))"
   ]
  },
  {
   "cell_type": "code",
   "execution_count": 253,
   "metadata": {},
   "outputs": [
    {
     "name": "stdout",
     "output_type": "stream",
     "text": [
      "0.3675999999999999 +- 0.8992396601536649\n"
     ]
    }
   ],
   "source": [
    "# resident index case\n",
    "mean = data.loc['two_day_PCR', '3 times\\na week', '3 times\\na week', 'resident']\\\n",
    "        ['infected_residents_mean'] - 1\n",
    "std = data.loc['two_day_PCR', '3 times\\na week', '3 times\\na week', 'resident']\\\n",
    "        ['infected_residents_std']\n",
    "print('{} +- {}'.format(mean, std))"
   ]
  },
  {
   "cell_type": "markdown",
   "metadata": {},
   "source": [
    "#### Same-day PCR"
   ]
  },
  {
   "cell_type": "code",
   "execution_count": 254,
   "metadata": {},
   "outputs": [
    {
     "name": "stdout",
     "output_type": "stream",
     "text": [
      "0.6576 +- 1.5662863373528213\n"
     ]
    }
   ],
   "source": [
    "# employee index case\n",
    "mean = data.loc['same_day_PCR', 'once\\na week', 'once\\na week', 'employee']\\\n",
    "        ['infected_residents_mean']\n",
    "std = data.loc['same_day_PCR', 'once\\na week', 'once\\na week', 'employee']\\\n",
    "        ['infected_residents_std']\n",
    "print('{} +- {}'.format(mean, std))"
   ]
  },
  {
   "cell_type": "code",
   "execution_count": 255,
   "metadata": {},
   "outputs": [
    {
     "name": "stdout",
     "output_type": "stream",
     "text": [
      "0.6659999999999999 +- 1.5419855848576474\n"
     ]
    }
   ],
   "source": [
    "# resident index case\n",
    "mean = data.loc['same_day_PCR', 'once\\na week', 'once\\na week', 'resident']\\\n",
    "        ['infected_residents_mean'] - 1\n",
    "std = data.loc['same_day_PCR', 'once\\na week', 'once\\na week', 'resident']\\\n",
    "        ['infected_residents_std']\n",
    "print('{} +- {}'.format(mean, std))"
   ]
  },
  {
   "cell_type": "markdown",
   "metadata": {},
   "source": [
    "### Test rates"
   ]
  },
  {
   "cell_type": "markdown",
   "metadata": {},
   "source": [
    "#### Diagnostic testing base rate"
   ]
  },
  {
   "cell_type": "code",
   "execution_count": 256,
   "metadata": {},
   "outputs": [
    {
     "data": {
      "text/plain": [
       "0.00384403918343115"
      ]
     },
     "execution_count": 256,
     "metadata": {},
     "output_type": "execute_result"
    }
   ],
   "source": [
    "data.loc[:, 'never', 'never', :]['test_rate_mean'].mean()"
   ]
  },
  {
   "cell_type": "code",
   "execution_count": 257,
   "metadata": {},
   "outputs": [
    {
     "data": {
      "text/plain": [
       "test_type         index_case\n",
       "same_day_antigen  employee      0.003238\n",
       "                  resident      0.003095\n",
       "same_day_LAMP     employee      0.003183\n",
       "                  resident      0.003138\n",
       "same_day_PCR      employee      0.003110\n",
       "                  resident      0.003107\n",
       "one_day_PCR       employee      0.003168\n",
       "                  resident      0.003209\n",
       "two_day_PCR       employee      0.003153\n",
       "                  resident      0.003115\n",
       "Name: test_rate_std, dtype: float64"
      ]
     },
     "execution_count": 257,
     "metadata": {},
     "output_type": "execute_result"
    }
   ],
   "source": [
    "data.loc[:, 'never', 'never', :]['test_rate_std']"
   ]
  },
  {
   "cell_type": "markdown",
   "metadata": {},
   "source": [
    "#### Test rates employeed screened 2x / week"
   ]
  },
  {
   "cell_type": "code",
   "execution_count": 258,
   "metadata": {},
   "outputs": [
    {
     "data": {
      "text/plain": [
       "test_type         index_case\n",
       "same_day_antigen  employee      0.093707\n",
       "                  resident      0.096077\n",
       "same_day_LAMP     employee      0.094168\n",
       "                  resident      0.096021\n",
       "same_day_PCR      employee      0.093965\n",
       "                  resident      0.096239\n",
       "one_day_PCR       employee      0.093652\n",
       "                  resident      0.095733\n",
       "two_day_PCR       employee      0.093265\n",
       "                  resident      0.095109\n",
       "Name: test_rate_mean, dtype: float64"
      ]
     },
     "execution_count": 258,
     "metadata": {},
     "output_type": "execute_result"
    }
   ],
   "source": [
    "data.loc[:, 'twice\\na week', 'never', :]['test_rate_mean']"
   ]
  },
  {
   "cell_type": "code",
   "execution_count": 259,
   "metadata": {},
   "outputs": [
    {
     "data": {
      "text/plain": [
       "test_type         index_case\n",
       "same_day_antigen  employee      0.010428\n",
       "                  resident      0.009697\n",
       "same_day_LAMP     employee      0.011639\n",
       "                  resident      0.009671\n",
       "same_day_PCR      employee      0.012264\n",
       "                  resident      0.009419\n",
       "one_day_PCR       employee      0.011442\n",
       "                  resident      0.009896\n",
       "two_day_PCR       employee      0.010906\n",
       "                  resident      0.009994\n",
       "Name: test_rate_std, dtype: float64"
      ]
     },
     "execution_count": 259,
     "metadata": {},
     "output_type": "execute_result"
    }
   ],
   "source": [
    "data.loc[:, 'twice\\na week', 'never', :]['test_rate_std']"
   ]
  },
  {
   "cell_type": "markdown",
   "metadata": {},
   "source": [
    "#### Test rates residents screened 2x / week"
   ]
  },
  {
   "cell_type": "code",
   "execution_count": 260,
   "metadata": {},
   "outputs": [
    {
     "data": {
      "text/plain": [
       "test_type         index_case\n",
       "same_day_antigen  employee      0.185081\n",
       "                  resident      0.183678\n",
       "same_day_LAMP     employee      0.185649\n",
       "                  resident      0.185242\n",
       "same_day_PCR      employee      0.186095\n",
       "                  resident      0.184218\n",
       "one_day_PCR       employee      0.184735\n",
       "                  resident      0.183843\n",
       "two_day_PCR       employee      0.183925\n",
       "                  resident      0.183038\n",
       "Name: test_rate_mean, dtype: float64"
      ]
     },
     "execution_count": 260,
     "metadata": {},
     "output_type": "execute_result"
    }
   ],
   "source": [
    "data.loc[:, 'never', 'twice\\na week', :]['test_rate_mean']"
   ]
  },
  {
   "cell_type": "code",
   "execution_count": 261,
   "metadata": {},
   "outputs": [
    {
     "data": {
      "text/plain": [
       "test_type         index_case\n",
       "same_day_antigen  employee      0.018572\n",
       "                  resident      0.020855\n",
       "same_day_LAMP     employee      0.018772\n",
       "                  resident      0.022342\n",
       "same_day_PCR      employee      0.018268\n",
       "                  resident      0.023927\n",
       "one_day_PCR       employee      0.018202\n",
       "                  resident      0.022332\n",
       "two_day_PCR       employee      0.018911\n",
       "                  resident      0.021317\n",
       "Name: test_rate_std, dtype: float64"
      ]
     },
     "execution_count": 261,
     "metadata": {},
     "output_type": "execute_result"
    }
   ],
   "source": [
    "data.loc[:, 'never', 'twice\\na week', :]['test_rate_std']"
   ]
  },
  {
   "cell_type": "markdown",
   "metadata": {},
   "source": [
    "#### Test rates residents screened 3x / week"
   ]
  },
  {
   "cell_type": "code",
   "execution_count": 262,
   "metadata": {},
   "outputs": [
    {
     "data": {
      "text/plain": [
       "test_type         index_case\n",
       "same_day_antigen  employee      0.278607\n",
       "                  resident      0.277456\n",
       "same_day_LAMP     employee      0.279042\n",
       "                  resident      0.278762\n",
       "same_day_PCR      employee      0.278889\n",
       "                  resident      0.278074\n",
       "one_day_PCR       employee      0.278737\n",
       "                  resident      0.277923\n",
       "two_day_PCR       employee      0.277242\n",
       "                  resident      0.275976\n",
       "Name: test_rate_mean, dtype: float64"
      ]
     },
     "execution_count": 262,
     "metadata": {},
     "output_type": "execute_result"
    }
   ],
   "source": [
    "data.loc[:, 'never', '3 times\\na week', :]['test_rate_mean']"
   ]
  },
  {
   "cell_type": "code",
   "execution_count": 263,
   "metadata": {},
   "outputs": [
    {
     "data": {
      "text/plain": [
       "test_type         index_case\n",
       "same_day_antigen  employee      0.019798\n",
       "                  resident      0.021322\n",
       "same_day_LAMP     employee      0.018826\n",
       "                  resident      0.023012\n",
       "same_day_PCR      employee      0.019188\n",
       "                  resident      0.023890\n",
       "one_day_PCR       employee      0.019365\n",
       "                  resident      0.023577\n",
       "two_day_PCR       employee      0.019812\n",
       "                  resident      0.022298\n",
       "Name: test_rate_std, dtype: float64"
      ]
     },
     "execution_count": 263,
     "metadata": {},
     "output_type": "execute_result"
    }
   ],
   "source": [
    "data.loc[:, 'never', '3 times\\na week', :]['test_rate_std']"
   ]
  },
  {
   "cell_type": "markdown",
   "metadata": {},
   "source": [
    "### Results table"
   ]
  },
  {
   "cell_type": "code",
   "execution_count": 264,
   "metadata": {},
   "outputs": [],
   "source": [
    "table_data = data.loc[:,:,:,'employee']"
   ]
  },
  {
   "cell_type": "code",
   "execution_count": 265,
   "metadata": {},
   "outputs": [],
   "source": [
    "table_cols = ['infected_residents_mean', 'infected_residents_std',\n",
    "              'infected_residents_median', 'infected_residents_0.10',\n",
    "              'infected_residents_0.90', 'R0_mean', 'R0_std', 'test_rate_mean', 'test_rate_std']\n",
    "table_data = table_data.loc[:, :, ['never', 'once\\na week']][table_cols]\\\n",
    "    .sort_values(by=['test_type', 'employee_screen_interval', 'resident_screen_interval'])\n",
    "table_data.to_csv(join(res_path, 'table_testing_strategy.csv'))"
   ]
  },
  {
   "cell_type": "markdown",
   "metadata": {},
   "source": [
    "### Preventive testing rates"
   ]
  },
  {
   "cell_type": "code",
   "execution_count": 266,
   "metadata": {},
   "outputs": [
    {
     "data": {
      "text/html": [
       "<div>\n",
       "<style scoped>\n",
       "    .dataframe tbody tr th:only-of-type {\n",
       "        vertical-align: middle;\n",
       "    }\n",
       "\n",
       "    .dataframe tbody tr th {\n",
       "        vertical-align: top;\n",
       "    }\n",
       "\n",
       "    .dataframe thead th {\n",
       "        text-align: right;\n",
       "    }\n",
       "</style>\n",
       "<table border=\"1\" class=\"dataframe\">\n",
       "  <thead>\n",
       "    <tr style=\"text-align: right;\">\n",
       "      <th></th>\n",
       "      <th></th>\n",
       "      <th>test_rate_mean</th>\n",
       "      <th>test_rate_std</th>\n",
       "    </tr>\n",
       "    <tr>\n",
       "      <th>test_type</th>\n",
       "      <th>index_case</th>\n",
       "      <th></th>\n",
       "      <th></th>\n",
       "    </tr>\n",
       "  </thead>\n",
       "  <tbody>\n",
       "    <tr>\n",
       "      <th rowspan=\"2\" valign=\"top\">same_day_antigen</th>\n",
       "      <th>employee</th>\n",
       "      <td>0.141155</td>\n",
       "      <td>0.011407</td>\n",
       "    </tr>\n",
       "    <tr>\n",
       "      <th>resident</th>\n",
       "      <td>0.143425</td>\n",
       "      <td>0.010600</td>\n",
       "    </tr>\n",
       "    <tr>\n",
       "      <th rowspan=\"2\" valign=\"top\">same_day_LAMP</th>\n",
       "      <th>employee</th>\n",
       "      <td>0.141584</td>\n",
       "      <td>0.012203</td>\n",
       "    </tr>\n",
       "    <tr>\n",
       "      <th>resident</th>\n",
       "      <td>0.143605</td>\n",
       "      <td>0.010401</td>\n",
       "    </tr>\n",
       "    <tr>\n",
       "      <th rowspan=\"2\" valign=\"top\">same_day_PCR</th>\n",
       "      <th>employee</th>\n",
       "      <td>0.141158</td>\n",
       "      <td>0.012130</td>\n",
       "    </tr>\n",
       "    <tr>\n",
       "      <th>resident</th>\n",
       "      <td>0.143378</td>\n",
       "      <td>0.010307</td>\n",
       "    </tr>\n",
       "    <tr>\n",
       "      <th rowspan=\"2\" valign=\"top\">one_day_PCR</th>\n",
       "      <th>employee</th>\n",
       "      <td>0.140800</td>\n",
       "      <td>0.011991</td>\n",
       "    </tr>\n",
       "    <tr>\n",
       "      <th>resident</th>\n",
       "      <td>0.143477</td>\n",
       "      <td>0.010729</td>\n",
       "    </tr>\n",
       "    <tr>\n",
       "      <th rowspan=\"2\" valign=\"top\">two_day_PCR</th>\n",
       "      <th>employee</th>\n",
       "      <td>0.139678</td>\n",
       "      <td>0.011647</td>\n",
       "    </tr>\n",
       "    <tr>\n",
       "      <th>resident</th>\n",
       "      <td>0.142416</td>\n",
       "      <td>0.011136</td>\n",
       "    </tr>\n",
       "  </tbody>\n",
       "</table>\n",
       "</div>"
      ],
      "text/plain": [
       "                             test_rate_mean  test_rate_std\n",
       "test_type        index_case                               \n",
       "same_day_antigen employee          0.141155       0.011407\n",
       "                 resident          0.143425       0.010600\n",
       "same_day_LAMP    employee          0.141584       0.012203\n",
       "                 resident          0.143605       0.010401\n",
       "same_day_PCR     employee          0.141158       0.012130\n",
       "                 resident          0.143378       0.010307\n",
       "one_day_PCR      employee          0.140800       0.011991\n",
       "                 resident          0.143477       0.010729\n",
       "two_day_PCR      employee          0.139678       0.011647\n",
       "                 resident          0.142416       0.011136"
      ]
     },
     "execution_count": 266,
     "metadata": {},
     "output_type": "execute_result"
    }
   ],
   "source": [
    "data.loc[:,'3 times\\na week', 'never', :][['test_rate_mean', 'test_rate_std']]"
   ]
  },
  {
   "cell_type": "code",
   "execution_count": 267,
   "metadata": {},
   "outputs": [
    {
     "data": {
      "text/html": [
       "<div>\n",
       "<style scoped>\n",
       "    .dataframe tbody tr th:only-of-type {\n",
       "        vertical-align: middle;\n",
       "    }\n",
       "\n",
       "    .dataframe tbody tr th {\n",
       "        vertical-align: top;\n",
       "    }\n",
       "\n",
       "    .dataframe thead th {\n",
       "        text-align: right;\n",
       "    }\n",
       "</style>\n",
       "<table border=\"1\" class=\"dataframe\">\n",
       "  <thead>\n",
       "    <tr style=\"text-align: right;\">\n",
       "      <th></th>\n",
       "      <th></th>\n",
       "      <th>test_rate_mean</th>\n",
       "      <th>test_rate_std</th>\n",
       "    </tr>\n",
       "    <tr>\n",
       "      <th>test_type</th>\n",
       "      <th>index_case</th>\n",
       "      <th></th>\n",
       "      <th></th>\n",
       "    </tr>\n",
       "  </thead>\n",
       "  <tbody>\n",
       "    <tr>\n",
       "      <th rowspan=\"2\" valign=\"top\">same_day_antigen</th>\n",
       "      <th>employee</th>\n",
       "      <td>0.278607</td>\n",
       "      <td>0.019798</td>\n",
       "    </tr>\n",
       "    <tr>\n",
       "      <th>resident</th>\n",
       "      <td>0.277456</td>\n",
       "      <td>0.021322</td>\n",
       "    </tr>\n",
       "    <tr>\n",
       "      <th rowspan=\"2\" valign=\"top\">same_day_LAMP</th>\n",
       "      <th>employee</th>\n",
       "      <td>0.279042</td>\n",
       "      <td>0.018826</td>\n",
       "    </tr>\n",
       "    <tr>\n",
       "      <th>resident</th>\n",
       "      <td>0.278762</td>\n",
       "      <td>0.023012</td>\n",
       "    </tr>\n",
       "    <tr>\n",
       "      <th rowspan=\"2\" valign=\"top\">same_day_PCR</th>\n",
       "      <th>employee</th>\n",
       "      <td>0.278889</td>\n",
       "      <td>0.019188</td>\n",
       "    </tr>\n",
       "    <tr>\n",
       "      <th>resident</th>\n",
       "      <td>0.278074</td>\n",
       "      <td>0.023890</td>\n",
       "    </tr>\n",
       "    <tr>\n",
       "      <th rowspan=\"2\" valign=\"top\">one_day_PCR</th>\n",
       "      <th>employee</th>\n",
       "      <td>0.278737</td>\n",
       "      <td>0.019365</td>\n",
       "    </tr>\n",
       "    <tr>\n",
       "      <th>resident</th>\n",
       "      <td>0.277923</td>\n",
       "      <td>0.023577</td>\n",
       "    </tr>\n",
       "    <tr>\n",
       "      <th rowspan=\"2\" valign=\"top\">two_day_PCR</th>\n",
       "      <th>employee</th>\n",
       "      <td>0.277242</td>\n",
       "      <td>0.019812</td>\n",
       "    </tr>\n",
       "    <tr>\n",
       "      <th>resident</th>\n",
       "      <td>0.275976</td>\n",
       "      <td>0.022298</td>\n",
       "    </tr>\n",
       "  </tbody>\n",
       "</table>\n",
       "</div>"
      ],
      "text/plain": [
       "                             test_rate_mean  test_rate_std\n",
       "test_type        index_case                               \n",
       "same_day_antigen employee          0.278607       0.019798\n",
       "                 resident          0.277456       0.021322\n",
       "same_day_LAMP    employee          0.279042       0.018826\n",
       "                 resident          0.278762       0.023012\n",
       "same_day_PCR     employee          0.278889       0.019188\n",
       "                 resident          0.278074       0.023890\n",
       "one_day_PCR      employee          0.278737       0.019365\n",
       "                 resident          0.277923       0.023577\n",
       "two_day_PCR      employee          0.277242       0.019812\n",
       "                 resident          0.275976       0.022298"
      ]
     },
     "execution_count": 267,
     "metadata": {},
     "output_type": "execute_result"
    }
   ],
   "source": [
    "data.loc[:,'never', '3 times\\na week', :][['test_rate_mean', 'test_rate_std']]"
   ]
  },
  {
   "cell_type": "code",
   "execution_count": 268,
   "metadata": {},
   "outputs": [
    {
     "data": {
      "text/html": [
       "<div>\n",
       "<style scoped>\n",
       "    .dataframe tbody tr th:only-of-type {\n",
       "        vertical-align: middle;\n",
       "    }\n",
       "\n",
       "    .dataframe tbody tr th {\n",
       "        vertical-align: top;\n",
       "    }\n",
       "\n",
       "    .dataframe thead th {\n",
       "        text-align: right;\n",
       "    }\n",
       "</style>\n",
       "<table border=\"1\" class=\"dataframe\">\n",
       "  <thead>\n",
       "    <tr style=\"text-align: right;\">\n",
       "      <th></th>\n",
       "      <th></th>\n",
       "      <th>test_rate_mean</th>\n",
       "      <th>test_rate_std</th>\n",
       "    </tr>\n",
       "    <tr>\n",
       "      <th>test_type</th>\n",
       "      <th>index_case</th>\n",
       "      <th></th>\n",
       "      <th></th>\n",
       "    </tr>\n",
       "  </thead>\n",
       "  <tbody>\n",
       "    <tr>\n",
       "      <th rowspan=\"2\" valign=\"top\">same_day_antigen</th>\n",
       "      <th>employee</th>\n",
       "      <td>0.421883</td>\n",
       "      <td>0.032013</td>\n",
       "    </tr>\n",
       "    <tr>\n",
       "      <th>resident</th>\n",
       "      <td>0.422001</td>\n",
       "      <td>0.032464</td>\n",
       "    </tr>\n",
       "    <tr>\n",
       "      <th rowspan=\"2\" valign=\"top\">same_day_LAMP</th>\n",
       "      <th>employee</th>\n",
       "      <td>0.423431</td>\n",
       "      <td>0.035060</td>\n",
       "    </tr>\n",
       "    <tr>\n",
       "      <th>resident</th>\n",
       "      <td>0.423250</td>\n",
       "      <td>0.035601</td>\n",
       "    </tr>\n",
       "    <tr>\n",
       "      <th rowspan=\"2\" valign=\"top\">same_day_PCR</th>\n",
       "      <th>employee</th>\n",
       "      <td>0.422934</td>\n",
       "      <td>0.036567</td>\n",
       "    </tr>\n",
       "    <tr>\n",
       "      <th>resident</th>\n",
       "      <td>0.423312</td>\n",
       "      <td>0.035929</td>\n",
       "    </tr>\n",
       "    <tr>\n",
       "      <th rowspan=\"2\" valign=\"top\">one_day_PCR</th>\n",
       "      <th>employee</th>\n",
       "      <td>0.422947</td>\n",
       "      <td>0.035773</td>\n",
       "    </tr>\n",
       "    <tr>\n",
       "      <th>resident</th>\n",
       "      <td>0.422924</td>\n",
       "      <td>0.035489</td>\n",
       "    </tr>\n",
       "    <tr>\n",
       "      <th rowspan=\"2\" valign=\"top\">two_day_PCR</th>\n",
       "      <th>employee</th>\n",
       "      <td>0.420640</td>\n",
       "      <td>0.032849</td>\n",
       "    </tr>\n",
       "    <tr>\n",
       "      <th>resident</th>\n",
       "      <td>0.421338</td>\n",
       "      <td>0.033812</td>\n",
       "    </tr>\n",
       "  </tbody>\n",
       "</table>\n",
       "</div>"
      ],
      "text/plain": [
       "                             test_rate_mean  test_rate_std\n",
       "test_type        index_case                               \n",
       "same_day_antigen employee          0.421883       0.032013\n",
       "                 resident          0.422001       0.032464\n",
       "same_day_LAMP    employee          0.423431       0.035060\n",
       "                 resident          0.423250       0.035601\n",
       "same_day_PCR     employee          0.422934       0.036567\n",
       "                 resident          0.423312       0.035929\n",
       "one_day_PCR      employee          0.422947       0.035773\n",
       "                 resident          0.422924       0.035489\n",
       "two_day_PCR      employee          0.420640       0.032849\n",
       "                 resident          0.421338       0.033812"
      ]
     },
     "execution_count": 268,
     "metadata": {},
     "output_type": "execute_result"
    }
   ],
   "source": [
    "data.loc[:,'3 times\\na week', '3 times\\na week', :][['test_rate_mean', 'test_rate_std']]"
   ]
  },
  {
   "cell_type": "markdown",
   "metadata": {},
   "source": [
    "## Analysis B.1.1.7"
   ]
  },
  {
   "cell_type": "markdown",
   "metadata": {},
   "source": [
    "### Data loading and wrangling"
   ]
  },
  {
   "cell_type": "code",
   "execution_count": 269,
   "metadata": {},
   "outputs": [],
   "source": [
    "res_path = '../data/simulation_results'\n",
    "dst_path = '../plots/'\n",
    "sim_name = 'simulations_testing_strategy'\n",
    "N_runs = 1000\n",
    "data = pd.read_csv(join(res_path,'{}_UK_variant_{}.csv'.format(sim_name, N_runs)))"
   ]
  },
  {
   "cell_type": "code",
   "execution_count": 270,
   "metadata": {},
   "outputs": [],
   "source": [
    "# replace strings with strings that are nicer for plotting\n",
    "data['resident_screen_interval'] = data['resident_screen_interval']\\\n",
    "    .replace(frequency_name_map)\n",
    "data['employee_screen_interval'] = data['employee_screen_interval']\\\n",
    "    .replace(frequency_name_map)\n",
    "\n",
    "# set screen intervals, test types and index case as categorical variables with\n",
    "# explicit order, to facilitate sorting in a nicer way\n",
    "data['resident_screen_interval'] = pd.Categorical(data['resident_screen_interval'], \n",
    "    categories=['3 times\\na week', 'twice\\na week', 'once\\na week', 'never'],\n",
    "                      ordered=True)\n",
    "\n",
    "data['employee_screen_interval'] = pd.Categorical(data['employee_screen_interval'], \n",
    "    categories=['3 times\\na week', 'twice\\na week', 'once\\na week', 'never'],\n",
    "                      ordered=True)\n",
    "\n",
    "data['test_type'] = pd.Categorical(data['test_type'], \n",
    "    categories=['same_day_antigen', 'same_day_LAMP', 'same_day_PCR', 'one_day_PCR',  \n",
    "                'two_day_PCR',], ordered=True)\n",
    "\n",
    "data['index_case'] = pd.Categorical(data['index_case'], \n",
    "    categories=['employee', 'resident'], ordered=True)\n",
    "\n",
    "data = data.sort_values(by=['test_type', 'employee_screen_interval', \n",
    "                            'resident_screen_interval', 'index_case'],\n",
    "                       ascending=True)\n",
    "\n",
    "data = data.set_index(['test_type', 'employee_screen_interval', \n",
    "                       'resident_screen_interval', 'index_case'])"
   ]
  },
  {
   "cell_type": "markdown",
   "metadata": {},
   "source": [
    "### Different test technologies"
   ]
  },
  {
   "cell_type": "code",
   "execution_count": 273,
   "metadata": {},
   "outputs": [
    {
     "data": {
      "image/png": "[encoded data removed]",
      "text/plain": [
       "<Figure size 1080x864 with 9 Axes>"
      ]
     },
     "metadata": {
      "needs_background": "light"
     },
     "output_type": "display_data"
    }
   ],
   "source": [
    "metric = 'infected_residents_mean'\n",
    "sim_name = 'simulation_results'\n",
    "screening_params = screening_intervals\n",
    "\n",
    "# figure layout & axis setup\n",
    "fig = plt.figure(figsize=(15, 12))\n",
    "gs = fig.add_gridspec(nrows=4, ncols=4, width_ratios=[1,1,1, 0.05],\\\n",
    "                       height_ratios=[0.1,1,0.1,1], wspace=0.05, hspace=0)\n",
    "\n",
    "title_ax_1 = fig.add_subplot(gs[0, 0:])\n",
    "hmap_ax_1 = fig.add_subplot(gs[1, 0])\n",
    "hmap_ax_2 = fig.add_subplot(gs[1, 1])\n",
    "hmap_ax_3 = fig.add_subplot(gs[1, 2])\n",
    "\n",
    "title_ax_2 = fig.add_subplot(gs[2, 0:])\n",
    "hmap_ax_4 = fig.add_subplot(gs[3, 0])\n",
    "hmap_ax_5 = fig.add_subplot(gs[3, 1])\n",
    "hmap_ax_6 = fig.add_subplot(gs[3, 2])\n",
    "\n",
    "cbar_ax = fig.add_subplot(gs[1:, 3])\n",
    "\n",
    "hmap_axes = [[hmap_ax_1, hmap_ax_2, hmap_ax_3], [hmap_ax_4, hmap_ax_5, hmap_ax_6]]\n",
    "title_axes = [title_ax_1, title_ax_2]\n",
    "\n",
    "# possible range of median outbreak sizes to fix the dynamic range of the\n",
    "# colormaps\n",
    "vmin=0\n",
    "vmax=10\n",
    "vstep=2\n",
    "\n",
    "# compare scenarios in which either employees or residents are the index case\n",
    "for i, index_case_mode in enumerate(['employee', 'resident']):\n",
    "    df = data.loc[:,:,:, index_case_mode]\n",
    "    \n",
    "    # remove all axis labels and ticks for the heatmaps\n",
    "    t_ax = title_axes[i]\n",
    "    t_ax.set_xticks([])\n",
    "    t_ax.set_yticks([])\n",
    "    t_ax.set_frame_on(False)\n",
    "    t_ax.set_xlim(0, 1)\n",
    "    t_ax.set_ylim(0, 3)\n",
    "    t_ax.text(0.38, 1, index_case_map[index_case_mode], fontsize=20)\n",
    "        \n",
    "    j = 0\n",
    "    # compare same-day turnover testing for different testing technologies\n",
    "    for j, ax, test_type in zip(range(3), hmap_axes[i],\\\n",
    "                       ['same_day_antigen', 'same_day_LAMP', 'same_day_PCR']):\n",
    "        \n",
    "        # set flag to set axis ticks only for heatmaps at the boundaries of \n",
    "        # the figure\n",
    "        xticks = False\n",
    "        yticks = False\n",
    "        if i > 0:\n",
    "            xticks = True\n",
    "        if j in [0, 3]:\n",
    "            yticks = True\n",
    "            \n",
    "        # put the testing technology in the heatmap title\n",
    "        ax.set_title('Test: {}'\\\n",
    "                .format(test_name_map[test_type]), fontsize=14)\n",
    "        \n",
    "        # plot heatmap of the scenario\n",
    "        img = af.get_image(df, test_type, screening_params, metric)\n",
    "        if index_case_mode == 'resident':\n",
    "            # if a resident is the index case, we need to subtract 1 from the\n",
    "            # number of infected residents, to calculate the \"outbreak size\",\n",
    "            # which is defined as the number of FOLLOW-UP cases, given an index\n",
    "            # case\n",
    "            img = img - 1\n",
    "        img_plot = af.plot_heatmap(ax, img, screening_params, vmin, vmax,\n",
    "                                   xticks, yticks, xlabel, ylabel)\n",
    "        \n",
    "        # annotate heatmap with tests / days / agent\n",
    "        test_rate = af.get_image(df, test_type, screening_params, \n",
    "                                    'test_rate_mean')\n",
    "        af.annotate_heatmap(ax, test_rate)\n",
    "        \n",
    "# colorbar\n",
    "norm = mpl.colors.Normalize(vmin=vmin,vmax=vmax)\n",
    "sm = plt.cm.ScalarMappable(cmap= plt.get_cmap('coolwarm'), norm=norm)\n",
    "cbar = fig.colorbar(sm, cax=cbar_ax, orientation='vertical',\\\n",
    "                        ticks=np.arange(vmin, vmax + 1, vstep))\n",
    "yticklabels = list(range(vmin, vmax, vstep)) + ['$\\geq {}$'.format(vmax)]\n",
    "cbar.ax.set_yticklabels(yticklabels)\n",
    "cbar.set_label('{}'.format(metric_name_map[metric]), fontsize=12)      \n",
    "\n",
    "plt.savefig(join(dst_path,\n",
    "            'screening_frequency_test_technology_UK_variang_{}.png'\\\n",
    "            .format(language[0:3])), dpi=300, transparent=True)\n",
    "plt.savefig(join(dst_path, \n",
    "            'screening_frequency_test_technology_UK_variant_{}.pdf'\\\n",
    "            .format(language[0:3])), transparent=True)"
   ]
  },
  {
   "cell_type": "markdown",
   "metadata": {},
   "source": [
    "### PCR: different turnover times"
   ]
  },
  {
   "cell_type": "code",
   "execution_count": 275,
   "metadata": {},
   "outputs": [
    {
     "data": {
      "image/png": "[encoded data removed]",
      "text/plain": [
       "<Figure size 1080x864 with 9 Axes>"
      ]
     },
     "metadata": {
      "needs_background": "light"
     },
     "output_type": "display_data"
    }
   ],
   "source": [
    "metric = 'infected_residents_mean'\n",
    "sim_name = 'simulation_results'\n",
    "screening_params = screening_intervals\n",
    "\n",
    "# figure layout & axis setup\n",
    "fig = plt.figure(figsize=(15, 12))\n",
    "gs = fig.add_gridspec(nrows=4, ncols=4, width_ratios=[1,1,1, 0.05],\\\n",
    "                       height_ratios=[0.1,1,0.1,1], wspace=0.05, hspace=0)\n",
    "\n",
    "title_ax_1 = fig.add_subplot(gs[0, 0:])\n",
    "hmap_ax_1 = fig.add_subplot(gs[1, 0])\n",
    "hmap_ax_2 = fig.add_subplot(gs[1, 1])\n",
    "hmap_ax_3 = fig.add_subplot(gs[1, 2])\n",
    "\n",
    "title_ax_2 = fig.add_subplot(gs[2, 0:])\n",
    "hmap_ax_4 = fig.add_subplot(gs[3, 0])\n",
    "hmap_ax_5 = fig.add_subplot(gs[3, 1])\n",
    "hmap_ax_6 = fig.add_subplot(gs[3, 2])\n",
    "\n",
    "cbar_ax = fig.add_subplot(gs[1:, 3])\n",
    "\n",
    "hmap_axes = [[hmap_ax_1, hmap_ax_2, hmap_ax_3], [hmap_ax_4, hmap_ax_5, hmap_ax_6]]\n",
    "title_axes = [title_ax_1, title_ax_2]\n",
    "\n",
    "# possible range of median outbreak sizes to fix the dynamic range of the\n",
    "# colormaps\n",
    "vmin = 0\n",
    "vmax = 10\n",
    "vstep = 2\n",
    "\n",
    "# compare scenarios in which either employees or residents are the index case\n",
    "for i, index_case_mode in enumerate(['employee', 'resident']):\n",
    "    df = data.loc[:,:,:, index_case_mode]\n",
    "    \n",
    "    # set flag to set axis ticks only for heatmaps at the boundaries of \n",
    "    # the figure\n",
    "    t_ax = title_axes[i]\n",
    "    t_ax.set_xticks([])\n",
    "    t_ax.set_yticks([])\n",
    "    t_ax.set_frame_on(False)\n",
    "    t_ax.set_xlim(0, 1)\n",
    "    t_ax.set_ylim(0, 3)\n",
    "    t_ax.text(0.38, 1, index_case_map[index_case_mode], fontsize=20)\n",
    "    \n",
    "    # compare different test result turnover times for PCR tests\n",
    "    for j, ax, test_type in zip(range(3), hmap_axes[i], \\\n",
    "                        ['same_day_PCR', 'one_day_PCR', 'two_day_PCR']):\n",
    "        xticks = False\n",
    "        yticks = False\n",
    "        if i > 0:\n",
    "            xticks = True\n",
    "        if j in [0, 3]:\n",
    "            yticks = True\n",
    "            \n",
    "        # put the turnover time in the heatmap title\n",
    "        ax.set_title('Test: {}'\\\n",
    "                .format(test_name_map[test_type]), fontsize=14)\n",
    "        \n",
    "        # plot heatmap of the scenario\n",
    "        img = af.get_image(df, test_type, screening_params, metric)\n",
    "        if index_case_mode == 'resident':\n",
    "            img = img - 1\n",
    "        img_plot = af.plot_heatmap(ax, img, screening_params, vmin, vmax,\n",
    "                                   xticks, yticks, xlabel, ylabel)\n",
    "        \n",
    "        # annotate heatmap with tests / days / agent\n",
    "        test_rate = af.get_image(df, test_type, screening_params, \n",
    "                                    'test_rate_mean')\n",
    "        af.annotate_heatmap(ax, test_rate)\n",
    "\n",
    "# colorbar\n",
    "norm = mpl.colors.Normalize(vmin=vmin,vmax=vmax)\n",
    "sm = plt.cm.ScalarMappable(cmap= plt.get_cmap('coolwarm'), norm=norm)\n",
    "cbar = fig.colorbar(sm, cax=cbar_ax, orientation='vertical',\\\n",
    "                ticks=np.arange(vmin, vmax+1, vstep))\n",
    "yticklabels = list(range(vmin, vmax, vstep)) + ['$\\geq {}$'.format(vmax)]\n",
    "cbar.ax.set_yticklabels(yticklabels)\n",
    "cbar.set_label('{}'.format(metric_name_map[metric]), fontsize=12)      \n",
    "\n",
    "plt.savefig(join(dst_path, \n",
    "            'screening_frequency_PCR_turnover_time_UK_variant_{}.png'\\\n",
    "            .format(language[0:3])), dpi=300, transparent=True)\n",
    "plt.savefig(join(dst_path,\n",
    "            'screening_frequency_PCR_turnover_time_{}.pdf'\\\n",
    "            .format(language[0:3])))"
   ]
  },
  {
   "cell_type": "markdown",
   "metadata": {},
   "source": [
    "### Number of agents infected by the index case"
   ]
  },
  {
   "cell_type": "code",
   "execution_count": 276,
   "metadata": {},
   "outputs": [],
   "source": [
    "# all ensembles that had no preventive testing in place (the test technology\n",
    "# does not make a difference, because it is only used for potential preventive\n",
    "# tests anyways)\n",
    "no_measures = data.loc[:,'never', 'never'].copy().reset_index()\n",
    "nm_residents = no_measures[no_measures['index_case'] == 'resident']\n",
    "nm_employees = no_measures[no_measures['index_case'] == 'employee']"
   ]
  },
  {
   "cell_type": "code",
   "execution_count": 277,
   "metadata": {},
   "outputs": [
    {
     "name": "stdout",
     "output_type": "stream",
     "text": [
      "index case resident: R = 1.9920 +- 1.9858\n",
      "index case employee: R = 1.8664 +- 1.8716\n"
     ]
    }
   ],
   "source": [
    "print('index case resident: R = {:1.4f} +- {:1.4f}'\\\n",
    "      .format(nm_residents['R0_mean'].mean(), nm_residents['R0_std'].mean()))\n",
    "print('index case employee: R = {:1.4f} +- {:1.4f}'\\\n",
    "      .format(nm_employees['R0_mean'].mean(), nm_employees['R0_std'].mean()))"
   ]
  },
  {
   "cell_type": "markdown",
   "metadata": {},
   "source": [
    "### Outbreak sizes"
   ]
  },
  {
   "cell_type": "markdown",
   "metadata": {},
   "source": [
    "**Note**: for resident index cases, the index case needs to be subtracted from the outbreak size"
   ]
  },
  {
   "cell_type": "markdown",
   "metadata": {},
   "source": [
    "#### Only TTI"
   ]
  },
  {
   "cell_type": "code",
   "execution_count": 278,
   "metadata": {},
   "outputs": [
    {
     "data": {
      "text/plain": [
       "1    11.313\n",
       "3    11.842\n",
       "5    12.236\n",
       "7    12.056\n",
       "9    11.567\n",
       "Name: infected_residents_mean, dtype: float64"
      ]
     },
     "execution_count": 278,
     "metadata": {},
     "output_type": "execute_result"
    }
   ],
   "source": [
    "nm_residents['infected_residents_mean'] - 1"
   ]
  },
  {
   "cell_type": "code",
   "execution_count": 279,
   "metadata": {},
   "outputs": [
    {
     "data": {
      "text/plain": [
       "1    10.479757\n",
       "3    10.457238\n",
       "5    10.409491\n",
       "7    10.393273\n",
       "9    10.482132\n",
       "Name: infected_residents_std, dtype: float64"
      ]
     },
     "execution_count": 279,
     "metadata": {},
     "output_type": "execute_result"
    }
   ],
   "source": [
    "nm_residents['infected_residents_std'] - 1"
   ]
  },
  {
   "cell_type": "code",
   "execution_count": 280,
   "metadata": {},
   "outputs": [
    {
     "data": {
      "text/plain": [
       "0    12.547\n",
       "2    11.805\n",
       "4    12.400\n",
       "6    12.823\n",
       "8    12.411\n",
       "Name: infected_residents_mean, dtype: float64"
      ]
     },
     "execution_count": 280,
     "metadata": {},
     "output_type": "execute_result"
    }
   ],
   "source": [
    "nm_employees['infected_residents_mean']"
   ]
  },
  {
   "cell_type": "code",
   "execution_count": 281,
   "metadata": {},
   "outputs": [
    {
     "data": {
      "text/plain": [
       "0    11.938187\n",
       "2    11.820182\n",
       "4    11.724823\n",
       "6    11.724467\n",
       "8    11.894434\n",
       "Name: infected_residents_std, dtype: float64"
      ]
     },
     "execution_count": 281,
     "metadata": {},
     "output_type": "execute_result"
    }
   ],
   "source": [
    "nm_employees['infected_residents_std']"
   ]
  },
  {
   "cell_type": "markdown",
   "metadata": {},
   "source": [
    "#### Minimum and maximum"
   ]
  },
  {
   "cell_type": "code",
   "execution_count": 282,
   "metadata": {},
   "outputs": [
    {
     "data": {
      "text/plain": [
       "('same_day_PCR', '3 times\\na week', '3 times\\na week', 'employee')"
      ]
     },
     "execution_count": 282,
     "metadata": {},
     "output_type": "execute_result"
    }
   ],
   "source": [
    "data['infected_residents_mean'].idxmin()"
   ]
  },
  {
   "cell_type": "code",
   "execution_count": 283,
   "metadata": {},
   "outputs": [
    {
     "data": {
      "text/plain": [
       "0.0"
      ]
     },
     "execution_count": 283,
     "metadata": {},
     "output_type": "execute_result"
    }
   ],
   "source": [
    "data.loc[data['infected_residents_mean'].idxmin()]['infected_residents_mean']"
   ]
  },
  {
   "cell_type": "code",
   "execution_count": 284,
   "metadata": {},
   "outputs": [
    {
     "data": {
      "text/plain": [
       "0.0"
      ]
     },
     "execution_count": 284,
     "metadata": {},
     "output_type": "execute_result"
    }
   ],
   "source": [
    "data.loc[data['infected_residents_mean'].idxmin()]['infected_residents_std']"
   ]
  },
  {
   "cell_type": "markdown",
   "metadata": {},
   "source": [
    "#### Realistic scenario I: employees screened 2x / week"
   ]
  },
  {
   "cell_type": "markdown",
   "metadata": {},
   "source": [
    "##### Same-day Antigen"
   ]
  },
  {
   "cell_type": "code",
   "execution_count": 285,
   "metadata": {},
   "outputs": [
    {
     "name": "stdout",
     "output_type": "stream",
     "text": [
      "4.795 +- 8.205260587044224\n"
     ]
    }
   ],
   "source": [
    "# employee index case\n",
    "mean = data.loc['same_day_antigen', 'twice\\na week', 'never', 'employee']\\\n",
    "        ['infected_residents_mean']\n",
    "std = data.loc['same_day_antigen', 'twice\\na week', 'never', 'employee']\\\n",
    "        ['infected_residents_std']\n",
    "print('{} +- {}'.format(mean, std))"
   ]
  },
  {
   "cell_type": "code",
   "execution_count": 286,
   "metadata": {},
   "outputs": [
    {
     "name": "stdout",
     "output_type": "stream",
     "text": [
      "8.095 +- 8.98647493357277\n"
     ]
    }
   ],
   "source": [
    "# resident index case\n",
    "mean = data.loc['same_day_antigen', 'twice\\na week', 'never', 'resident']\\\n",
    "        ['infected_residents_mean'] - 1\n",
    "std = data.loc['same_day_antigen', 'twice\\na week', 'never', 'resident']\\\n",
    "        ['infected_residents_std']\n",
    "print('{} +- {}'.format(mean, std))"
   ]
  },
  {
   "cell_type": "markdown",
   "metadata": {},
   "source": [
    "##### Same-day LAMP"
   ]
  },
  {
   "cell_type": "code",
   "execution_count": 287,
   "metadata": {},
   "outputs": [
    {
     "name": "stdout",
     "output_type": "stream",
     "text": [
      "1.738 +- 4.7841659925471065\n"
     ]
    }
   ],
   "source": [
    "# employee index case\n",
    "mean = data.loc['same_day_LAMP', 'twice\\na week', 'never', 'employee']\\\n",
    "        ['infected_residents_mean']\n",
    "std = data.loc['same_day_LAMP', 'twice\\na week', 'never', 'employee']\\\n",
    "        ['infected_residents_std']\n",
    "print('{} +- {}'.format(mean, std))"
   ]
  },
  {
   "cell_type": "code",
   "execution_count": 288,
   "metadata": {},
   "outputs": [
    {
     "name": "stdout",
     "output_type": "stream",
     "text": [
      "6.307 +- 7.777611602686408\n"
     ]
    }
   ],
   "source": [
    "# resident index case\n",
    "mean = data.loc['same_day_LAMP', 'twice\\na week', 'never', 'resident']\\\n",
    "        ['infected_residents_mean'] - 1\n",
    "std = data.loc['same_day_LAMP', 'twice\\na week', 'never', 'resident']\\\n",
    "        ['infected_residents_std']\n",
    "print('{} +- {}'.format(mean, std))"
   ]
  },
  {
   "cell_type": "markdown",
   "metadata": {},
   "source": [
    "##### One-day PCR"
   ]
  },
  {
   "cell_type": "code",
   "execution_count": 289,
   "metadata": {},
   "outputs": [
    {
     "name": "stdout",
     "output_type": "stream",
     "text": [
      "2.23 +- 5.706984288542388\n"
     ]
    }
   ],
   "source": [
    "# employee index case\n",
    "mean = data.loc['one_day_PCR', 'twice\\na week', 'never', 'employee']\\\n",
    "        ['infected_residents_mean']\n",
    "std = data.loc['one_day_PCR', 'twice\\na week', 'never', 'employee']\\\n",
    "        ['infected_residents_std']\n",
    "print('{} +- {}'.format(mean, std))"
   ]
  },
  {
   "cell_type": "code",
   "execution_count": 290,
   "metadata": {},
   "outputs": [
    {
     "name": "stdout",
     "output_type": "stream",
     "text": [
      "5.819 +- 7.497496345544388\n"
     ]
    }
   ],
   "source": [
    "# resident index case\n",
    "mean = data.loc['one_day_PCR', 'twice\\na week', 'never', 'resident']\\\n",
    "        ['infected_residents_mean'] - 1\n",
    "std = data.loc['one_day_PCR', 'twice\\na week', 'never', 'resident']\\\n",
    "        ['infected_residents_std']\n",
    "print('{} +- {}'.format(mean, std))"
   ]
  },
  {
   "cell_type": "markdown",
   "metadata": {},
   "source": [
    "##### Same-day PCR"
   ]
  },
  {
   "cell_type": "code",
   "execution_count": 291,
   "metadata": {},
   "outputs": [
    {
     "name": "stdout",
     "output_type": "stream",
     "text": [
      "0.333 +- 2.0582388946250503\n"
     ]
    }
   ],
   "source": [
    "# employee index case\n",
    "mean = data.loc['same_day_PCR', 'twice\\na week', 'never', 'employee']\\\n",
    "        ['infected_residents_mean']\n",
    "std = data.loc['same_day_PCR', 'twice\\na week', 'never', 'employee']\\\n",
    "        ['infected_residents_std']\n",
    "print('{} +- {}'.format(mean, std))"
   ]
  },
  {
   "cell_type": "code",
   "execution_count": 292,
   "metadata": {},
   "outputs": [
    {
     "name": "stdout",
     "output_type": "stream",
     "text": [
      "5.836 +- 7.172904192484001\n"
     ]
    }
   ],
   "source": [
    "# resident index case\n",
    "mean = data.loc['same_day_PCR', 'twice\\na week', 'never', 'resident']\\\n",
    "        ['infected_residents_mean'] - 1\n",
    "std = data.loc['same_day_PCR', 'twice\\na week', 'never', 'resident']\\\n",
    "        ['infected_residents_std']\n",
    "print('{} +- {}'.format(mean, std))"
   ]
  },
  {
   "cell_type": "markdown",
   "metadata": {},
   "source": [
    "##### Two-day PCR"
   ]
  },
  {
   "cell_type": "code",
   "execution_count": 293,
   "metadata": {},
   "outputs": [
    {
     "name": "stdout",
     "output_type": "stream",
     "text": [
      "4.315 +- 7.885299801082578\n"
     ]
    }
   ],
   "source": [
    "# employee index case\n",
    "mean = data.loc['two_day_PCR', 'twice\\na week', 'never', 'employee']\\\n",
    "        ['infected_residents_mean']\n",
    "std = data.loc['two_day_PCR', 'twice\\na week', 'never', 'employee']\\\n",
    "        ['infected_residents_std']\n",
    "print('{} +- {}'.format(mean, std))"
   ]
  },
  {
   "cell_type": "code",
   "execution_count": 294,
   "metadata": {},
   "outputs": [
    {
     "name": "stdout",
     "output_type": "stream",
     "text": [
      "8.142 +- 8.988360619524933\n"
     ]
    }
   ],
   "source": [
    "# resident index case\n",
    "mean = data.loc['two_day_PCR', 'twice\\na week', 'never', 'resident']\\\n",
    "        ['infected_residents_mean'] - 1\n",
    "std = data.loc['two_day_PCR', 'twice\\na week', 'never', 'resident']\\\n",
    "        ['infected_residents_std']\n",
    "print('{} +- {}'.format(mean, std))"
   ]
  },
  {
   "cell_type": "markdown",
   "metadata": {},
   "source": [
    "#### Realistic scenario II: employees screened 1x / week"
   ]
  },
  {
   "cell_type": "markdown",
   "metadata": {},
   "source": [
    "##### Same-day PCR"
   ]
  },
  {
   "cell_type": "code",
   "execution_count": 295,
   "metadata": {},
   "outputs": [
    {
     "name": "stdout",
     "output_type": "stream",
     "text": [
      "3.202 +- 6.706875440783001\n"
     ]
    }
   ],
   "source": [
    "# employee index case\n",
    "mean = data.loc['same_day_PCR', 'once\\na week', 'never', 'employee']\\\n",
    "        ['infected_residents_mean']\n",
    "std = data.loc['same_day_PCR', 'once\\na week', 'never', 'employee']\\\n",
    "        ['infected_residents_std']\n",
    "print('{} +- {}'.format(mean, std))"
   ]
  },
  {
   "cell_type": "code",
   "execution_count": 296,
   "metadata": {},
   "outputs": [
    {
     "name": "stdout",
     "output_type": "stream",
     "text": [
      "7.289 +- 8.621125379137156\n"
     ]
    }
   ],
   "source": [
    "# resident index case\n",
    "mean = data.loc['same_day_PCR', 'once\\na week', 'never', 'resident']\\\n",
    "        ['infected_residents_mean'] - 1\n",
    "std = data.loc['same_day_PCR', 'once\\na week', 'never', 'resident']\\\n",
    "        ['infected_residents_std']\n",
    "print('{} +- {}'.format(mean, std))"
   ]
  },
  {
   "cell_type": "markdown",
   "metadata": {},
   "source": [
    "##### Same-day LAMP"
   ]
  },
  {
   "cell_type": "code",
   "execution_count": 297,
   "metadata": {},
   "outputs": [
    {
     "name": "stdout",
     "output_type": "stream",
     "text": [
      "6.201 +- 8.908757767779129\n"
     ]
    }
   ],
   "source": [
    "# employee index case\n",
    "mean = data.loc['same_day_LAMP', 'once\\na week', 'never', 'employee']\\\n",
    "        ['infected_residents_mean']\n",
    "std = data.loc['same_day_LAMP', 'once\\na week', 'never', 'employee']\\\n",
    "        ['infected_residents_std']\n",
    "print('{} +- {}'.format(mean, std))"
   ]
  },
  {
   "cell_type": "code",
   "execution_count": 298,
   "metadata": {},
   "outputs": [
    {
     "name": "stdout",
     "output_type": "stream",
     "text": [
      "8.927 +- 9.565310562975265\n"
     ]
    }
   ],
   "source": [
    "# resident index case\n",
    "mean = data.loc['same_day_LAMP', 'once\\na week', 'never', 'resident']\\\n",
    "        ['infected_residents_mean'] - 1\n",
    "std = data.loc['same_day_LAMP', 'once\\na week', 'never', 'resident']\\\n",
    "        ['infected_residents_std']\n",
    "print('{} +- {}'.format(mean, std))"
   ]
  },
  {
   "cell_type": "markdown",
   "metadata": {},
   "source": [
    "##### Same-day Antigen"
   ]
  },
  {
   "cell_type": "code",
   "execution_count": 299,
   "metadata": {},
   "outputs": [
    {
     "name": "stdout",
     "output_type": "stream",
     "text": [
      "8.244 +- 10.343764182223872\n"
     ]
    }
   ],
   "source": [
    "# employee index case\n",
    "mean = data.loc['same_day_antigen', 'once\\na week', 'never', 'employee']\\\n",
    "        ['infected_residents_mean']\n",
    "std = data.loc['same_day_antigen', 'once\\na week', 'never', 'employee']\\\n",
    "        ['infected_residents_std']\n",
    "print('{} +- {}'.format(mean, std))"
   ]
  },
  {
   "cell_type": "code",
   "execution_count": 300,
   "metadata": {},
   "outputs": [
    {
     "name": "stdout",
     "output_type": "stream",
     "text": [
      "9.919 +- 10.307797518853857\n"
     ]
    }
   ],
   "source": [
    "# resident index case\n",
    "mean = data.loc['same_day_antigen', 'once\\na week', 'never', 'resident']\\\n",
    "        ['infected_residents_mean'] - 1\n",
    "std = data.loc['same_day_antigen', 'once\\na week', 'never', 'resident']\\\n",
    "        ['infected_residents_std']\n",
    "print('{} +- {}'.format(mean, std))"
   ]
  },
  {
   "cell_type": "markdown",
   "metadata": {},
   "source": [
    "#### Two-day PCR"
   ]
  },
  {
   "cell_type": "markdown",
   "metadata": {},
   "source": [
    "##### Employees 3x / week, residents never "
   ]
  },
  {
   "cell_type": "code",
   "execution_count": 301,
   "metadata": {},
   "outputs": [
    {
     "name": "stdout",
     "output_type": "stream",
     "text": [
      "2.639 +- 6.024697168819025\n"
     ]
    }
   ],
   "source": [
    "# employee index case\n",
    "mean = data.loc['two_day_PCR', '3 times\\na week', 'never', 'employee']\\\n",
    "        ['infected_residents_mean']\n",
    "std = data.loc['two_day_PCR', '3 times\\na week', 'never', 'employee']\\\n",
    "        ['infected_residents_std']\n",
    "print('{} +- {}'.format(mean, std))"
   ]
  },
  {
   "cell_type": "code",
   "execution_count": 302,
   "metadata": {},
   "outputs": [
    {
     "name": "stdout",
     "output_type": "stream",
     "text": [
      "6.931 +- 8.239789629179445\n"
     ]
    }
   ],
   "source": [
    "# resident index case\n",
    "mean = data.loc['two_day_PCR', '3 times\\na week', 'never', 'resident']\\\n",
    "        ['infected_residents_mean'] - 1\n",
    "std = data.loc['two_day_PCR', '3 times\\na week', 'never', 'resident']\\\n",
    "        ['infected_residents_std']\n",
    "print('{} +- {}'.format(mean, std))"
   ]
  },
  {
   "cell_type": "markdown",
   "metadata": {},
   "source": [
    "##### Employees 3x / week, residents 1x / week "
   ]
  },
  {
   "cell_type": "code",
   "execution_count": 303,
   "metadata": {},
   "outputs": [
    {
     "name": "stdout",
     "output_type": "stream",
     "text": [
      "1.557 +- 3.8750182924428582\n"
     ]
    }
   ],
   "source": [
    "# employee index case\n",
    "mean = data.loc['two_day_PCR', '3 times\\na week', 'once\\na week', 'employee']\\\n",
    "        ['infected_residents_mean']\n",
    "std = data.loc['two_day_PCR', '3 times\\na week', 'once\\na week', 'employee']\\\n",
    "        ['infected_residents_std']\n",
    "print('{} +- {}'.format(mean, std))"
   ]
  },
  {
   "cell_type": "code",
   "execution_count": 304,
   "metadata": {},
   "outputs": [
    {
     "name": "stdout",
     "output_type": "stream",
     "text": [
      "3.2060000000000004 +- 4.960258881164185\n"
     ]
    }
   ],
   "source": [
    "# resident index case\n",
    "mean = data.loc['two_day_PCR', '3 times\\na week', 'once\\na week', 'resident']\\\n",
    "        ['infected_residents_mean'] - 1\n",
    "std = data.loc['two_day_PCR', '3 times\\na week', 'once\\na week', 'resident']\\\n",
    "        ['infected_residents_std']\n",
    "print('{} +- {}'.format(mean, std))"
   ]
  },
  {
   "cell_type": "markdown",
   "metadata": {},
   "source": [
    "##### Employees 3x / week, residents 2x / week "
   ]
  },
  {
   "cell_type": "code",
   "execution_count": 305,
   "metadata": {},
   "outputs": [
    {
     "name": "stdout",
     "output_type": "stream",
     "text": [
      "0.964 +- 2.364803648571334\n"
     ]
    }
   ],
   "source": [
    "# employee index case\n",
    "mean = data.loc['two_day_PCR', '3 times\\na week', 'twice\\na week', 'employee']\\\n",
    "        ['infected_residents_mean']\n",
    "std = data.loc['two_day_PCR', '3 times\\na week', 'twice\\na week', 'employee']\\\n",
    "        ['infected_residents_std']\n",
    "print('{} +- {}'.format(mean, std))"
   ]
  },
  {
   "cell_type": "code",
   "execution_count": 306,
   "metadata": {},
   "outputs": [
    {
     "name": "stdout",
     "output_type": "stream",
     "text": [
      "1.44 +- 2.757172827735324\n"
     ]
    }
   ],
   "source": [
    "# resident index case\n",
    "mean = data.loc['two_day_PCR', '3 times\\na week', 'twice\\na week', 'resident']\\\n",
    "        ['infected_residents_mean'] - 1\n",
    "std = data.loc['two_day_PCR', '3 times\\na week', 'twice\\na week', 'resident']\\\n",
    "        ['infected_residents_std']\n",
    "print('{} +- {}'.format(mean, std))"
   ]
  },
  {
   "cell_type": "markdown",
   "metadata": {},
   "source": [
    "##### Employees 3x / week, residents 3x / week "
   ]
  },
  {
   "cell_type": "code",
   "execution_count": 307,
   "metadata": {},
   "outputs": [
    {
     "name": "stdout",
     "output_type": "stream",
     "text": [
      "0.713 +- 1.526748820848394\n"
     ]
    }
   ],
   "source": [
    "# employee index case\n",
    "mean = data.loc['two_day_PCR', '3 times\\na week', '3 times\\na week', 'employee']\\\n",
    "        ['infected_residents_mean']\n",
    "std = data.loc['two_day_PCR', '3 times\\na week', '3 times\\na week', 'employee']\\\n",
    "        ['infected_residents_std']\n",
    "print('{} +- {}'.format(mean, std))"
   ]
  },
  {
   "cell_type": "code",
   "execution_count": 308,
   "metadata": {},
   "outputs": [
    {
     "name": "stdout",
     "output_type": "stream",
     "text": [
      "0.5409999999999999 +- 1.1847880497045549\n"
     ]
    }
   ],
   "source": [
    "# resident index case\n",
    "mean = data.loc['two_day_PCR', '3 times\\na week', '3 times\\na week', 'resident']\\\n",
    "        ['infected_residents_mean'] - 1\n",
    "std = data.loc['two_day_PCR', '3 times\\na week', '3 times\\na week', 'resident']\\\n",
    "        ['infected_residents_std']\n",
    "print('{} +- {}'.format(mean, std))"
   ]
  },
  {
   "cell_type": "markdown",
   "metadata": {},
   "source": [
    "#### Same-day PCR"
   ]
  },
  {
   "cell_type": "code",
   "execution_count": 309,
   "metadata": {},
   "outputs": [
    {
     "name": "stdout",
     "output_type": "stream",
     "text": [
      "1.405 +- 2.842719834253115\n"
     ]
    }
   ],
   "source": [
    "# employee index case\n",
    "mean = data.loc['same_day_PCR', 'once\\na week', 'once\\na week', 'employee']\\\n",
    "        ['infected_residents_mean']\n",
    "std = data.loc['same_day_PCR', 'once\\na week', 'once\\na week', 'employee']\\\n",
    "        ['infected_residents_std']\n",
    "print('{} +- {}'.format(mean, std))"
   ]
  },
  {
   "cell_type": "code",
   "execution_count": 310,
   "metadata": {},
   "outputs": [
    {
     "name": "stdout",
     "output_type": "stream",
     "text": [
      "1.4089999999999998 +- 2.89795050287563\n"
     ]
    }
   ],
   "source": [
    "# resident index case\n",
    "mean = data.loc['same_day_PCR', 'once\\na week', 'once\\na week', 'resident']\\\n",
    "        ['infected_residents_mean'] - 1\n",
    "std = data.loc['same_day_PCR', 'once\\na week', 'once\\na week', 'resident']\\\n",
    "        ['infected_residents_std']\n",
    "print('{} +- {}'.format(mean, std))"
   ]
  },
  {
   "cell_type": "markdown",
   "metadata": {},
   "source": [
    "### Test rates"
   ]
  },
  {
   "cell_type": "markdown",
   "metadata": {},
   "source": [
    "#### Diagnostic testing base rate"
   ]
  },
  {
   "cell_type": "code",
   "execution_count": 311,
   "metadata": {},
   "outputs": [
    {
     "data": {
      "text/plain": [
       "0.00681938628093241"
      ]
     },
     "execution_count": 311,
     "metadata": {},
     "output_type": "execute_result"
    }
   ],
   "source": [
    "data.loc[:, 'never', 'never', :]['test_rate_mean'].mean()"
   ]
  },
  {
   "cell_type": "code",
   "execution_count": 312,
   "metadata": {},
   "outputs": [
    {
     "data": {
      "text/plain": [
       "test_type         index_case\n",
       "same_day_antigen  employee      0.005255\n",
       "                  resident      0.005198\n",
       "same_day_LAMP     employee      0.005291\n",
       "                  resident      0.005304\n",
       "same_day_PCR      employee      0.005204\n",
       "                  resident      0.005204\n",
       "one_day_PCR       employee      0.005188\n",
       "                  resident      0.005161\n",
       "two_day_PCR       employee      0.005182\n",
       "                  resident      0.005237\n",
       "Name: test_rate_std, dtype: float64"
      ]
     },
     "execution_count": 312,
     "metadata": {},
     "output_type": "execute_result"
    }
   ],
   "source": [
    "data.loc[:, 'never', 'never', :]['test_rate_std']"
   ]
  },
  {
   "cell_type": "markdown",
   "metadata": {},
   "source": [
    "#### Test rates employeed screened 2x / week"
   ]
  },
  {
   "cell_type": "code",
   "execution_count": 313,
   "metadata": {},
   "outputs": [
    {
     "data": {
      "text/plain": [
       "test_type         index_case\n",
       "same_day_antigen  employee      0.091785\n",
       "                  resident      0.091811\n",
       "same_day_LAMP     employee      0.093727\n",
       "                  resident      0.093460\n",
       "same_day_PCR      employee      0.093513\n",
       "                  resident      0.093234\n",
       "one_day_PCR       employee      0.092439\n",
       "                  resident      0.093020\n",
       "two_day_PCR       employee      0.090705\n",
       "                  resident      0.090934\n",
       "Name: test_rate_mean, dtype: float64"
      ]
     },
     "execution_count": 313,
     "metadata": {},
     "output_type": "execute_result"
    }
   ],
   "source": [
    "data.loc[:, 'twice\\na week', 'never', :]['test_rate_mean']"
   ]
  },
  {
   "cell_type": "code",
   "execution_count": 314,
   "metadata": {},
   "outputs": [
    {
     "data": {
      "text/plain": [
       "test_type         index_case\n",
       "same_day_antigen  employee      0.011581\n",
       "                  resident      0.011049\n",
       "same_day_LAMP     employee      0.011693\n",
       "                  resident      0.010289\n",
       "same_day_PCR      employee      0.012592\n",
       "                  resident      0.009873\n",
       "one_day_PCR       employee      0.012545\n",
       "                  resident      0.010771\n",
       "two_day_PCR       employee      0.012624\n",
       "                  resident      0.011980\n",
       "Name: test_rate_std, dtype: float64"
      ]
     },
     "execution_count": 314,
     "metadata": {},
     "output_type": "execute_result"
    }
   ],
   "source": [
    "data.loc[:, 'twice\\na week', 'never', :]['test_rate_std']"
   ]
  },
  {
   "cell_type": "markdown",
   "metadata": {},
   "source": [
    "#### Test rates residents screened 2x / week"
   ]
  },
  {
   "cell_type": "code",
   "execution_count": 315,
   "metadata": {},
   "outputs": [
    {
     "data": {
      "text/plain": [
       "test_type         index_case\n",
       "same_day_antigen  employee      0.177670\n",
       "                  resident      0.180796\n",
       "same_day_LAMP     employee      0.182090\n",
       "                  resident      0.182438\n",
       "same_day_PCR      employee      0.182958\n",
       "                  resident      0.184510\n",
       "one_day_PCR       employee      0.181408\n",
       "                  resident      0.183426\n",
       "two_day_PCR       employee      0.177381\n",
       "                  resident      0.178655\n",
       "Name: test_rate_mean, dtype: float64"
      ]
     },
     "execution_count": 315,
     "metadata": {},
     "output_type": "execute_result"
    }
   ],
   "source": [
    "data.loc[:, 'never', 'twice\\na week', :]['test_rate_mean']"
   ]
  },
  {
   "cell_type": "code",
   "execution_count": 316,
   "metadata": {},
   "outputs": [
    {
     "data": {
      "text/plain": [
       "test_type         index_case\n",
       "same_day_antigen  employee      0.019689\n",
       "                  resident      0.021660\n",
       "same_day_LAMP     employee      0.018907\n",
       "                  resident      0.022495\n",
       "same_day_PCR      employee      0.018012\n",
       "                  resident      0.023159\n",
       "one_day_PCR       employee      0.019337\n",
       "                  resident      0.022082\n",
       "two_day_PCR       employee      0.021412\n",
       "                  resident      0.023177\n",
       "Name: test_rate_std, dtype: float64"
      ]
     },
     "execution_count": 316,
     "metadata": {},
     "output_type": "execute_result"
    }
   ],
   "source": [
    "data.loc[:, 'never', 'twice\\na week', :]['test_rate_std']"
   ]
  },
  {
   "cell_type": "markdown",
   "metadata": {},
   "source": [
    "#### Test rates residents screened 3x / week"
   ]
  },
  {
   "cell_type": "code",
   "execution_count": 317,
   "metadata": {},
   "outputs": [
    {
     "data": {
      "text/plain": [
       "test_type         index_case\n",
       "same_day_antigen  employee      0.271648\n",
       "                  resident      0.274960\n",
       "same_day_LAMP     employee      0.273525\n",
       "                  resident      0.278739\n",
       "same_day_PCR      employee      0.274196\n",
       "                  resident      0.277561\n",
       "one_day_PCR       employee      0.272739\n",
       "                  resident      0.277940\n",
       "two_day_PCR       employee      0.267498\n",
       "                  resident      0.274642\n",
       "Name: test_rate_mean, dtype: float64"
      ]
     },
     "execution_count": 317,
     "metadata": {},
     "output_type": "execute_result"
    }
   ],
   "source": [
    "data.loc[:, 'never', '3 times\\na week', :]['test_rate_mean']"
   ]
  },
  {
   "cell_type": "code",
   "execution_count": 318,
   "metadata": {},
   "outputs": [
    {
     "data": {
      "text/plain": [
       "test_type         index_case\n",
       "same_day_antigen  employee      0.022156\n",
       "                  resident      0.023649\n",
       "same_day_LAMP     employee      0.020896\n",
       "                  resident      0.022865\n",
       "same_day_PCR      employee      0.018087\n",
       "                  resident      0.024085\n",
       "one_day_PCR       employee      0.020734\n",
       "                  resident      0.021940\n",
       "two_day_PCR       employee      0.025442\n",
       "                  resident      0.023489\n",
       "Name: test_rate_std, dtype: float64"
      ]
     },
     "execution_count": 318,
     "metadata": {},
     "output_type": "execute_result"
    }
   ],
   "source": [
    "data.loc[:, 'never', '3 times\\na week', :]['test_rate_std']"
   ]
  },
  {
   "cell_type": "markdown",
   "metadata": {},
   "source": [
    "### Results table"
   ]
  },
  {
   "cell_type": "code",
   "execution_count": 319,
   "metadata": {},
   "outputs": [],
   "source": [
    "table_data = data.loc[:,:,:,'employee']"
   ]
  },
  {
   "cell_type": "code",
   "execution_count": 320,
   "metadata": {},
   "outputs": [],
   "source": [
    "table_cols = ['infected_residents_mean', 'infected_residents_std',\n",
    "              'infected_residents_median', 'infected_residents_0.10',\n",
    "              'infected_residents_0.90', 'R0_mean', 'R0_std', 'test_rate_mean', 'test_rate_std']\n",
    "table_data = table_data.loc[:, :, ['never', 'once\\na week']][table_cols]\\\n",
    "    .sort_values(by=['test_type', 'employee_screen_interval', 'resident_screen_interval'])\n",
    "table_data.to_csv(join(res_path, 'table_testing_strategy_UK_variant.csv'))"
   ]
  },
  {
   "cell_type": "markdown",
   "metadata": {},
   "source": [
    "### Preventive testing rates"
   ]
  },
  {
   "cell_type": "code",
   "execution_count": 321,
   "metadata": {},
   "outputs": [
    {
     "data": {
      "text/html": [
       "<div>\n",
       "<style scoped>\n",
       "    .dataframe tbody tr th:only-of-type {\n",
       "        vertical-align: middle;\n",
       "    }\n",
       "\n",
       "    .dataframe tbody tr th {\n",
       "        vertical-align: top;\n",
       "    }\n",
       "\n",
       "    .dataframe thead th {\n",
       "        text-align: right;\n",
       "    }\n",
       "</style>\n",
       "<table border=\"1\" class=\"dataframe\">\n",
       "  <thead>\n",
       "    <tr style=\"text-align: right;\">\n",
       "      <th></th>\n",
       "      <th></th>\n",
       "      <th>test_rate_mean</th>\n",
       "      <th>test_rate_std</th>\n",
       "    </tr>\n",
       "    <tr>\n",
       "      <th>test_type</th>\n",
       "      <th>index_case</th>\n",
       "      <th></th>\n",
       "      <th></th>\n",
       "    </tr>\n",
       "  </thead>\n",
       "  <tbody>\n",
       "    <tr>\n",
       "      <th rowspan=\"2\" valign=\"top\">same_day_antigen</th>\n",
       "      <th>employee</th>\n",
       "      <td>0.139183</td>\n",
       "      <td>0.012900</td>\n",
       "    </tr>\n",
       "    <tr>\n",
       "      <th>resident</th>\n",
       "      <td>0.137113</td>\n",
       "      <td>0.014048</td>\n",
       "    </tr>\n",
       "    <tr>\n",
       "      <th rowspan=\"2\" valign=\"top\">same_day_LAMP</th>\n",
       "      <th>employee</th>\n",
       "      <td>0.140958</td>\n",
       "      <td>0.011863</td>\n",
       "    </tr>\n",
       "    <tr>\n",
       "      <th>resident</th>\n",
       "      <td>0.138468</td>\n",
       "      <td>0.013405</td>\n",
       "    </tr>\n",
       "    <tr>\n",
       "      <th rowspan=\"2\" valign=\"top\">same_day_PCR</th>\n",
       "      <th>employee</th>\n",
       "      <td>0.141106</td>\n",
       "      <td>0.012381</td>\n",
       "    </tr>\n",
       "    <tr>\n",
       "      <th>resident</th>\n",
       "      <td>0.139139</td>\n",
       "      <td>0.012817</td>\n",
       "    </tr>\n",
       "    <tr>\n",
       "      <th rowspan=\"2\" valign=\"top\">one_day_PCR</th>\n",
       "      <th>employee</th>\n",
       "      <td>0.140078</td>\n",
       "      <td>0.011841</td>\n",
       "    </tr>\n",
       "    <tr>\n",
       "      <th>resident</th>\n",
       "      <td>0.138149</td>\n",
       "      <td>0.014023</td>\n",
       "    </tr>\n",
       "    <tr>\n",
       "      <th rowspan=\"2\" valign=\"top\">two_day_PCR</th>\n",
       "      <th>employee</th>\n",
       "      <td>0.137532</td>\n",
       "      <td>0.014461</td>\n",
       "    </tr>\n",
       "    <tr>\n",
       "      <th>resident</th>\n",
       "      <td>0.135887</td>\n",
       "      <td>0.015895</td>\n",
       "    </tr>\n",
       "  </tbody>\n",
       "</table>\n",
       "</div>"
      ],
      "text/plain": [
       "                             test_rate_mean  test_rate_std\n",
       "test_type        index_case                               \n",
       "same_day_antigen employee          0.139183       0.012900\n",
       "                 resident          0.137113       0.014048\n",
       "same_day_LAMP    employee          0.140958       0.011863\n",
       "                 resident          0.138468       0.013405\n",
       "same_day_PCR     employee          0.141106       0.012381\n",
       "                 resident          0.139139       0.012817\n",
       "one_day_PCR      employee          0.140078       0.011841\n",
       "                 resident          0.138149       0.014023\n",
       "two_day_PCR      employee          0.137532       0.014461\n",
       "                 resident          0.135887       0.015895"
      ]
     },
     "execution_count": 321,
     "metadata": {},
     "output_type": "execute_result"
    }
   ],
   "source": [
    "data.loc[:,'3 times\\na week', 'never', :][['test_rate_mean', 'test_rate_std']]"
   ]
  },
  {
   "cell_type": "code",
   "execution_count": 322,
   "metadata": {},
   "outputs": [
    {
     "data": {
      "text/html": [
       "<div>\n",
       "<style scoped>\n",
       "    .dataframe tbody tr th:only-of-type {\n",
       "        vertical-align: middle;\n",
       "    }\n",
       "\n",
       "    .dataframe tbody tr th {\n",
       "        vertical-align: top;\n",
       "    }\n",
       "\n",
       "    .dataframe thead th {\n",
       "        text-align: right;\n",
       "    }\n",
       "</style>\n",
       "<table border=\"1\" class=\"dataframe\">\n",
       "  <thead>\n",
       "    <tr style=\"text-align: right;\">\n",
       "      <th></th>\n",
       "      <th></th>\n",
       "      <th>test_rate_mean</th>\n",
       "      <th>test_rate_std</th>\n",
       "    </tr>\n",
       "    <tr>\n",
       "      <th>test_type</th>\n",
       "      <th>index_case</th>\n",
       "      <th></th>\n",
       "      <th></th>\n",
       "    </tr>\n",
       "  </thead>\n",
       "  <tbody>\n",
       "    <tr>\n",
       "      <th rowspan=\"2\" valign=\"top\">same_day_antigen</th>\n",
       "      <th>employee</th>\n",
       "      <td>0.271648</td>\n",
       "      <td>0.022156</td>\n",
       "    </tr>\n",
       "    <tr>\n",
       "      <th>resident</th>\n",
       "      <td>0.274960</td>\n",
       "      <td>0.023649</td>\n",
       "    </tr>\n",
       "    <tr>\n",
       "      <th rowspan=\"2\" valign=\"top\">same_day_LAMP</th>\n",
       "      <th>employee</th>\n",
       "      <td>0.273525</td>\n",
       "      <td>0.020896</td>\n",
       "    </tr>\n",
       "    <tr>\n",
       "      <th>resident</th>\n",
       "      <td>0.278739</td>\n",
       "      <td>0.022865</td>\n",
       "    </tr>\n",
       "    <tr>\n",
       "      <th rowspan=\"2\" valign=\"top\">same_day_PCR</th>\n",
       "      <th>employee</th>\n",
       "      <td>0.274196</td>\n",
       "      <td>0.018087</td>\n",
       "    </tr>\n",
       "    <tr>\n",
       "      <th>resident</th>\n",
       "      <td>0.277561</td>\n",
       "      <td>0.024085</td>\n",
       "    </tr>\n",
       "    <tr>\n",
       "      <th rowspan=\"2\" valign=\"top\">one_day_PCR</th>\n",
       "      <th>employee</th>\n",
       "      <td>0.272739</td>\n",
       "      <td>0.020734</td>\n",
       "    </tr>\n",
       "    <tr>\n",
       "      <th>resident</th>\n",
       "      <td>0.277940</td>\n",
       "      <td>0.021940</td>\n",
       "    </tr>\n",
       "    <tr>\n",
       "      <th rowspan=\"2\" valign=\"top\">two_day_PCR</th>\n",
       "      <th>employee</th>\n",
       "      <td>0.267498</td>\n",
       "      <td>0.025442</td>\n",
       "    </tr>\n",
       "    <tr>\n",
       "      <th>resident</th>\n",
       "      <td>0.274642</td>\n",
       "      <td>0.023489</td>\n",
       "    </tr>\n",
       "  </tbody>\n",
       "</table>\n",
       "</div>"
      ],
      "text/plain": [
       "                             test_rate_mean  test_rate_std\n",
       "test_type        index_case                               \n",
       "same_day_antigen employee          0.271648       0.022156\n",
       "                 resident          0.274960       0.023649\n",
       "same_day_LAMP    employee          0.273525       0.020896\n",
       "                 resident          0.278739       0.022865\n",
       "same_day_PCR     employee          0.274196       0.018087\n",
       "                 resident          0.277561       0.024085\n",
       "one_day_PCR      employee          0.272739       0.020734\n",
       "                 resident          0.277940       0.021940\n",
       "two_day_PCR      employee          0.267498       0.025442\n",
       "                 resident          0.274642       0.023489"
      ]
     },
     "execution_count": 322,
     "metadata": {},
     "output_type": "execute_result"
    }
   ],
   "source": [
    "data.loc[:,'never', '3 times\\na week', :][['test_rate_mean', 'test_rate_std']]"
   ]
  },
  {
   "cell_type": "code",
   "execution_count": 323,
   "metadata": {},
   "outputs": [
    {
     "data": {
      "text/html": [
       "<div>\n",
       "<style scoped>\n",
       "    .dataframe tbody tr th:only-of-type {\n",
       "        vertical-align: middle;\n",
       "    }\n",
       "\n",
       "    .dataframe tbody tr th {\n",
       "        vertical-align: top;\n",
       "    }\n",
       "\n",
       "    .dataframe thead th {\n",
       "        text-align: right;\n",
       "    }\n",
       "</style>\n",
       "<table border=\"1\" class=\"dataframe\">\n",
       "  <thead>\n",
       "    <tr style=\"text-align: right;\">\n",
       "      <th></th>\n",
       "      <th></th>\n",
       "      <th>test_rate_mean</th>\n",
       "      <th>test_rate_std</th>\n",
       "    </tr>\n",
       "    <tr>\n",
       "      <th>test_type</th>\n",
       "      <th>index_case</th>\n",
       "      <th></th>\n",
       "      <th></th>\n",
       "    </tr>\n",
       "  </thead>\n",
       "  <tbody>\n",
       "    <tr>\n",
       "      <th rowspan=\"2\" valign=\"top\">same_day_antigen</th>\n",
       "      <th>employee</th>\n",
       "      <td>0.418748</td>\n",
       "      <td>0.031099</td>\n",
       "    </tr>\n",
       "    <tr>\n",
       "      <th>resident</th>\n",
       "      <td>0.421391</td>\n",
       "      <td>0.032299</td>\n",
       "    </tr>\n",
       "    <tr>\n",
       "      <th rowspan=\"2\" valign=\"top\">same_day_LAMP</th>\n",
       "      <th>employee</th>\n",
       "      <td>0.422980</td>\n",
       "      <td>0.034473</td>\n",
       "    </tr>\n",
       "    <tr>\n",
       "      <th>resident</th>\n",
       "      <td>0.422304</td>\n",
       "      <td>0.035686</td>\n",
       "    </tr>\n",
       "    <tr>\n",
       "      <th rowspan=\"2\" valign=\"top\">same_day_PCR</th>\n",
       "      <th>employee</th>\n",
       "      <td>0.422649</td>\n",
       "      <td>0.036234</td>\n",
       "    </tr>\n",
       "    <tr>\n",
       "      <th>resident</th>\n",
       "      <td>0.422929</td>\n",
       "      <td>0.035606</td>\n",
       "    </tr>\n",
       "    <tr>\n",
       "      <th rowspan=\"2\" valign=\"top\">one_day_PCR</th>\n",
       "      <th>employee</th>\n",
       "      <td>0.421072</td>\n",
       "      <td>0.034888</td>\n",
       "    </tr>\n",
       "    <tr>\n",
       "      <th>resident</th>\n",
       "      <td>0.423439</td>\n",
       "      <td>0.036183</td>\n",
       "    </tr>\n",
       "    <tr>\n",
       "      <th rowspan=\"2\" valign=\"top\">two_day_PCR</th>\n",
       "      <th>employee</th>\n",
       "      <td>0.419228</td>\n",
       "      <td>0.033087</td>\n",
       "    </tr>\n",
       "    <tr>\n",
       "      <th>resident</th>\n",
       "      <td>0.420092</td>\n",
       "      <td>0.032418</td>\n",
       "    </tr>\n",
       "  </tbody>\n",
       "</table>\n",
       "</div>"
      ],
      "text/plain": [
       "                             test_rate_mean  test_rate_std\n",
       "test_type        index_case                               \n",
       "same_day_antigen employee          0.418748       0.031099\n",
       "                 resident          0.421391       0.032299\n",
       "same_day_LAMP    employee          0.422980       0.034473\n",
       "                 resident          0.422304       0.035686\n",
       "same_day_PCR     employee          0.422649       0.036234\n",
       "                 resident          0.422929       0.035606\n",
       "one_day_PCR      employee          0.421072       0.034888\n",
       "                 resident          0.423439       0.036183\n",
       "two_day_PCR      employee          0.419228       0.033087\n",
       "                 resident          0.420092       0.032418"
      ]
     },
     "execution_count": 323,
     "metadata": {},
     "output_type": "execute_result"
    }
   ],
   "source": [
    "data.loc[:,'3 times\\na week', '3 times\\na week', :][['test_rate_mean', 'test_rate_std']]"
   ]
  },
  {
   "cell_type": "code",
   "execution_count": null,
   "metadata": {},
   "outputs": [],
   "source": []
  },
  {
   "cell_type": "code",
   "execution_count": null,
   "metadata": {},
   "outputs": [],
   "source": []
  }
 ],
 "metadata": {
  "kernelspec": {
   "display_name": "Python 3",
   "language": "python",
   "name": "python3"
  },
  "language_info": {
   "codemirror_mode": {
    "name": "ipython",
    "version": 3
   },
   "file_extension": ".py",
   "mimetype": "text/x-python",
   "name": "python",
   "nbconvert_exporter": "python",
   "pygments_lexer": "ipython3",
   "version": "3.8.8"
  }
 },
 "nbformat": 4,
 "nbformat_minor": 4
}
