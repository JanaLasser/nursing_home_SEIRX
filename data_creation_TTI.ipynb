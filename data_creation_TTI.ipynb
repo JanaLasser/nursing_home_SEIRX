{
 "cells": [
  {
   "cell_type": "markdown",
   "id": "possible-failure",
   "metadata": {},
   "source": [
    "# SEIRX model runs for only TTI"
   ]
  },
  {
   "cell_type": "code",
   "execution_count": 1,
   "id": "played-magnitude",
   "metadata": {},
   "outputs": [],
   "source": [
    "import pandas as pd\n",
    "from os.path import join\n",
    "import json\n",
    "\n",
    "# parallelisation functionality\n",
    "from multiprocess import Pool\n",
    "import psutil\n",
    "from tqdm import tqdm\n",
    "\n",
    "# custom functionality\n",
    "from scseirx.model_nursing_home import SEIRX_nursing_home # agent-based simulation\n",
    "import data_creation_functions as dcf"
   ]
  },
  {
   "cell_type": "code",
   "execution_count": 2,
   "id": "previous-nothing",
   "metadata": {},
   "outputs": [],
   "source": [
    "# paths for I/O\n",
    "contact_network_src = '../data/contact_networks'"
   ]
  },
  {
   "cell_type": "markdown",
   "id": "nutritional-carrier",
   "metadata": {},
   "source": [
    "## Simulation function"
   ]
  },
  {
   "cell_type": "code",
   "execution_count": 3,
   "id": "ordinary-witch",
   "metadata": {},
   "outputs": [],
   "source": [
    "def run(param_list):\n",
    "    '''\n",
    "    Runs an ensemble of simulations and collects observable statistics. To be \n",
    "    run in parallel on many workers. Note: I/O paths and the number of runs per \n",
    "    ensemble hare hard coded here, because I only want to pass the parameter \n",
    "    values that are being screened in the simulation run to the function via the\n",
    "    parallel processing interface.\n",
    "    \n",
    "    Parameters:\n",
    "    -----------\n",
    "    param_list : iterable\n",
    "        Iterable that contains the values for the parameters test_type, \n",
    "        index_case, e_screen_range and r_screen_range that are passed to the\n",
    "        simulation.\n",
    "    N_runs : integer\n",
    "        Number of runs per ensemble.\n",
    "        \n",
    "    Returns:\n",
    "    --------\n",
    "    row : dictionary\n",
    "        Dictionary of the ensemble statistics of the observables.\n",
    "    '''    \n",
    "\n",
    "    # extract the simulation parameters from the parameter list\n",
    "    index_case, N_runs = param_list\n",
    "\n",
    "    # run the ensemble with the given simulation parameters \n",
    "    ensemble_results = dcf.run_ensemble(N_runs, measures, simulation_params,\n",
    "                contact_network_src, ensmbl_dst, index_case=index_case)\n",
    "\n",
    "    # calculate the ensemble statistics\n",
    "    row = dcf.evaluate_ensemble(ensemble_results, index_case)\n",
    "\n",
    "    return row"
   ]
  },
  {
   "cell_type": "markdown",
   "id": "acceptable-lodging",
   "metadata": {},
   "source": [
    "## Screening parameters"
   ]
  },
  {
   "cell_type": "code",
   "execution_count": 12,
   "id": "catholic-carry",
   "metadata": {},
   "outputs": [
    {
     "name": "stdout",
     "output_type": "stream",
     "text": [
      "there are 2 parameter combinations\n"
     ]
    }
   ],
   "source": [
    "# specifies, whether the index case will be introduced via an employee or a \n",
    "# resident\n",
    "index_cases = ['employee', 'resident']\n",
    "\n",
    "# ensemble_size\n",
    "N_runs = 1000\n",
    "\n",
    "screening_params = [(i, N_runs) for i in index_cases ]\n",
    "\n",
    "print('there are {} parameter combinations'.format(len(screening_params)))"
   ]
  },
  {
   "cell_type": "markdown",
   "id": "ranging-ridge",
   "metadata": {},
   "source": [
    "## Wild type"
   ]
  },
  {
   "cell_type": "code",
   "execution_count": 13,
   "id": "light-heaven",
   "metadata": {},
   "outputs": [],
   "source": [
    "ensmbl_dst = '../data/simulation_results/ensembles/TTI/wild_type'"
   ]
  },
  {
   "cell_type": "markdown",
   "id": "revised-trading",
   "metadata": {},
   "source": [
    "### Simulation parameters and measures in place"
   ]
  },
  {
   "cell_type": "code",
   "execution_count": 14,
   "id": "atlantic-supervision",
   "metadata": {},
   "outputs": [],
   "source": [
    "with open('params/TTI_simulation_parameters.json') as json_file:\n",
    "    simulation_params = json.load(json_file)\n",
    "    \n",
    "with open('params/TTI_measures.json') as json_file:\n",
    "    measures = json.load(json_file)\n"
   ]
  },
  {
   "cell_type": "markdown",
   "id": "least-buyer",
   "metadata": {},
   "source": [
    "### Simulation runs"
   ]
  },
  {
   "cell_type": "code",
   "execution_count": null,
   "id": "limiting-alias",
   "metadata": {},
   "outputs": [
    {
     "name": "stderr",
     "output_type": "stream",
     "text": [
      "  0%|          | 0/2 [00:00<?, ?it/s]"
     ]
    }
   ],
   "source": [
    "%%time\n",
    "number_of_cores = psutil.cpu_count(logical=True) - 2\n",
    "pool = Pool(number_of_cores)\n",
    "\n",
    "rows = []\n",
    "for row in tqdm(pool.imap_unordered(func=run, iterable=screening_params),\n",
    "                total=len(screening_params)):\n",
    "        rows.append(row)\n",
    "\n",
    "# turn off your parallel workers \n",
    "pool.close()\n",
    "\n",
    "# format and dump the results to disk\n",
    "dst = '../data/simulation_results'\n",
    "results = pd.DataFrame()\n",
    "for row in rows:\n",
    "    results = results.append(row, ignore_index=True)\n",
    "    \n",
    "results.reset_index()\n",
    "index_cols = ['index_case']\n",
    "other_cols = [c for c in results.columns if c not in index_cols]\n",
    "results = results[index_cols + other_cols]\n",
    "\n",
    "results.to_csv(join(dst,'simulations_TTI_{}.csv'\\\n",
    "                   .format(N_runs)), index=False)\n",
    "results.head(3)"
   ]
  },
  {
   "cell_type": "markdown",
   "id": "stunning-proceeding",
   "metadata": {},
   "source": [
    "## B.1.1.7"
   ]
  },
  {
   "cell_type": "markdown",
   "id": "through-germany",
   "metadata": {},
   "source": [
    "### Simulation parameters and measures in place"
   ]
  },
  {
   "cell_type": "code",
   "execution_count": null,
   "id": "distinguished-camping",
   "metadata": {},
   "outputs": [],
   "source": [
    "with open('params/TTI_UK_variant_simulation_parameters.json') as json_file:\n",
    "    simulation_params = json.load(json_file)\n",
    "    \n",
    "with open('params/TTI_measures.json') as json_file:\n",
    "    measures = json.load(json_file)\n"
   ]
  },
  {
   "cell_type": "markdown",
   "id": "hybrid-chambers",
   "metadata": {},
   "source": [
    "### Simulation runs"
   ]
  },
  {
   "cell_type": "code",
   "execution_count": null,
   "id": "cardiovascular-oklahoma",
   "metadata": {},
   "outputs": [],
   "source": [
    "%%time\n",
    "ensmbl_dst = '../data/simulation_results/ensembles/TTI/UK_variant'\n",
    "\n",
    "number_of_cores = psutil.cpu_count(logical=True) - 2\n",
    "pool = Pool(number_of_cores)\n",
    "\n",
    "rows = []\n",
    "for row in tqdm(pool.imap_unordered(func=run, iterable=screening_params),\n",
    "                total=len(screening_params)):\n",
    "        rows.append(row)\n",
    "\n",
    "# turn off your parallel workers \n",
    "pool.close()\n",
    "\n",
    "# format and dump the results to disk\n",
    "dst = '../data/simulation_results'\n",
    "results = pd.DataFrame()\n",
    "for row in rows:\n",
    "    results = results.append(row, ignore_index=True)\n",
    "    \n",
    "results.reset_index()\n",
    "index_cols = ['index_case']\n",
    "other_cols = [c for c in results.columns if c not in index_cols]\n",
    "results = results[index_cols + other_cols]\n",
    "\n",
    "results.to_csv(join(dst,'simulations_TTI_UK_variant_{}.csv'\\\n",
    "                   .format(N_runs)), index=False)\n",
    "results.head(3)"
   ]
  }
 ],
 "metadata": {
  "kernelspec": {
   "display_name": "Python 3",
   "language": "python",
   "name": "python3"
  },
  "language_info": {
   "codemirror_mode": {
    "name": "ipython",
    "version": 3
   },
   "file_extension": ".py",
   "mimetype": "text/x-python",
   "name": "python",
   "nbconvert_exporter": "python",
   "pygments_lexer": "ipython3",
   "version": "3.8.8"
  }
 },
 "nbformat": 4,
 "nbformat_minor": 5
}
