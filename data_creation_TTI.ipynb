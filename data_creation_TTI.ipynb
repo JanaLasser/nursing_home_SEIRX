{
 "cells": [
  {
   "cell_type": "markdown",
   "id": "outside-comparative",
   "metadata": {},
   "source": [
    "# SEIRX model runs for only TTI"
   ]
  },
  {
   "cell_type": "code",
   "execution_count": 1,
   "id": "parental-portal",
   "metadata": {},
   "outputs": [],
   "source": [
    "import pandas as pd\n",
    "from os.path import join\n",
    "import json\n",
    "\n",
    "# parallelisation functionality\n",
    "from multiprocess import Pool\n",
    "import psutil\n",
    "from tqdm import tqdm\n",
    "\n",
    "# custom functionality\n",
    "from scseirx.model_nursing_home import SEIRX_nursing_home # agent-based simulation\n",
    "import data_creation_functions as dcf"
   ]
  },
  {
   "cell_type": "code",
   "execution_count": 2,
   "id": "czech-interference",
   "metadata": {},
   "outputs": [],
   "source": [
    "# paths for I/O\n",
    "contact_network_src = '../data/contact_networks'"
   ]
  },
  {
   "cell_type": "markdown",
   "id": "micro-thirty",
   "metadata": {},
   "source": [
    "## Simulation function"
   ]
  },
  {
   "cell_type": "code",
   "execution_count": 3,
   "id": "structured-modem",
   "metadata": {},
   "outputs": [],
   "source": [
    "def run(param_list):\n",
    "    '''\n",
    "    Runs an ensemble of simulations and collects observable statistics. To be \n",
    "    run in parallel on many workers. Note: I/O paths and the number of runs per \n",
    "    ensemble hare hard coded here, because I only want to pass the parameter \n",
    "    values that are being screened in the simulation run to the function via the\n",
    "    parallel processing interface.\n",
    "    \n",
    "    Parameters:\n",
    "    -----------\n",
    "    param_list : iterable\n",
    "        Iterable that contains the values for the parameters test_type, \n",
    "        index_case, e_screen_range and r_screen_range that are passed to the\n",
    "        simulation.\n",
    "    N_runs : integer\n",
    "        Number of runs per ensemble.\n",
    "        \n",
    "    Returns:\n",
    "    --------\n",
    "    row : dictionary\n",
    "        Dictionary of the ensemble statistics of the observables.\n",
    "    '''    \n",
    "\n",
    "    # extract the simulation parameters from the parameter list\n",
    "    index_case, N_runs = param_list\n",
    "\n",
    "    # run the ensemble with the given simulation parameters \n",
    "    ensemble_results = dcf.run_ensemble(N_runs, measures, simulation_params,\n",
    "                contact_network_src, ensmbl_dst, index_case=index_case)\n",
    "\n",
    "    # calculate the ensemble statistics\n",
    "    row = dcf.evaluate_ensemble(ensemble_results, index_case)\n",
    "\n",
    "    return row"
   ]
  },
  {
   "cell_type": "markdown",
   "id": "frank-sacramento",
   "metadata": {},
   "source": [
    "## Screening parameters"
   ]
  },
  {
   "cell_type": "code",
   "execution_count": 4,
   "id": "facial-reward",
   "metadata": {},
   "outputs": [
    {
     "name": "stdout",
     "output_type": "stream",
     "text": [
      "there are 2 parameter combinations\n"
     ]
    }
   ],
   "source": [
    "# specifies, whether the index case will be introduced via an employee or a \n",
    "# resident\n",
    "index_cases = ['employee', 'resident']\n",
    "\n",
    "# ensemble_size\n",
    "N_runs = 5000\n",
    "\n",
    "screening_params = [(i, N_runs) for i in index_cases ]\n",
    "\n",
    "print('there are {} parameter combinations'.format(len(screening_params)))"
   ]
  },
  {
   "cell_type": "markdown",
   "id": "smoking-speed",
   "metadata": {},
   "source": [
    "## B.1.1.7"
   ]
  },
  {
   "cell_type": "markdown",
   "id": "flying-semiconductor",
   "metadata": {},
   "source": [
    "### Simulation parameters and measures in place"
   ]
  },
  {
   "cell_type": "code",
   "execution_count": 5,
   "id": "single-master",
   "metadata": {},
   "outputs": [],
   "source": [
    "with open('params/TTI_UK_variant_simulation_parameters.json') as json_file:\n",
    "    simulation_params = json.load(json_file)\n",
    "    \n",
    "with open('params/TTI_measures.json') as json_file:\n",
    "    measures = json.load(json_file)\n"
   ]
  },
  {
   "cell_type": "markdown",
   "id": "romance-grocery",
   "metadata": {},
   "source": [
    "### Simulation runs"
   ]
  },
  {
   "cell_type": "code",
   "execution_count": 7,
   "id": "affecting-terrorism",
   "metadata": {},
   "outputs": [
    {
     "name": "stderr",
     "output_type": "stream",
     "text": [
      "100%|██████████| 2/2 [11:37<00:00, 348.58s/it]"
     ]
    },
    {
     "name": "stdout",
     "output_type": "stream",
     "text": [
      "CPU times: user 122 ms, sys: 92.9 ms, total: 215 ms\n",
      "Wall time: 11min 37s\n"
     ]
    },
    {
     "name": "stderr",
     "output_type": "stream",
     "text": [
      "\n"
     ]
    },
    {
     "data": {
      "text/html": [
       "<div>\n",
       "<style scoped>\n",
       "    .dataframe tbody tr th:only-of-type {\n",
       "        vertical-align: middle;\n",
       "    }\n",
       "\n",
       "    .dataframe tbody tr th {\n",
       "        vertical-align: top;\n",
       "    }\n",
       "\n",
       "    .dataframe thead th {\n",
       "        text-align: right;\n",
       "    }\n",
       "</style>\n",
       "<table border=\"1\" class=\"dataframe\">\n",
       "  <thead>\n",
       "    <tr style=\"text-align: right;\">\n",
       "      <th></th>\n",
       "      <th>index_case</th>\n",
       "      <th>N_agents_0.025</th>\n",
       "      <th>N_agents_0.10</th>\n",
       "      <th>N_agents_0.25</th>\n",
       "      <th>N_agents_0.75</th>\n",
       "      <th>N_agents_0.90</th>\n",
       "      <th>N_agents_0.975</th>\n",
       "      <th>N_agents_mean</th>\n",
       "      <th>N_agents_median</th>\n",
       "      <th>N_agents_std</th>\n",
       "      <th>...</th>\n",
       "      <th>transmissions_std</th>\n",
       "      <th>undetected_infections_0.025</th>\n",
       "      <th>undetected_infections_0.10</th>\n",
       "      <th>undetected_infections_0.25</th>\n",
       "      <th>undetected_infections_0.75</th>\n",
       "      <th>undetected_infections_0.90</th>\n",
       "      <th>undetected_infections_0.975</th>\n",
       "      <th>undetected_infections_mean</th>\n",
       "      <th>undetected_infections_median</th>\n",
       "      <th>undetected_infections_std</th>\n",
       "    </tr>\n",
       "  </thead>\n",
       "  <tbody>\n",
       "    <tr>\n",
       "      <th>0</th>\n",
       "      <td>resident</td>\n",
       "      <td>53.0</td>\n",
       "      <td>53.0</td>\n",
       "      <td>53.0</td>\n",
       "      <td>53.0</td>\n",
       "      <td>53.0</td>\n",
       "      <td>53.0</td>\n",
       "      <td>53.0</td>\n",
       "      <td>53.0</td>\n",
       "      <td>0.0</td>\n",
       "      <td>...</td>\n",
       "      <td>18.084148</td>\n",
       "      <td>0.0</td>\n",
       "      <td>0.0</td>\n",
       "      <td>0.0</td>\n",
       "      <td>0.0</td>\n",
       "      <td>0.0</td>\n",
       "      <td>0.0</td>\n",
       "      <td>0.0</td>\n",
       "      <td>0.0</td>\n",
       "      <td>0.0</td>\n",
       "    </tr>\n",
       "    <tr>\n",
       "      <th>1</th>\n",
       "      <td>employee</td>\n",
       "      <td>53.0</td>\n",
       "      <td>53.0</td>\n",
       "      <td>53.0</td>\n",
       "      <td>53.0</td>\n",
       "      <td>53.0</td>\n",
       "      <td>53.0</td>\n",
       "      <td>53.0</td>\n",
       "      <td>53.0</td>\n",
       "      <td>0.0</td>\n",
       "      <td>...</td>\n",
       "      <td>17.793485</td>\n",
       "      <td>0.0</td>\n",
       "      <td>0.0</td>\n",
       "      <td>0.0</td>\n",
       "      <td>0.0</td>\n",
       "      <td>0.0</td>\n",
       "      <td>0.0</td>\n",
       "      <td>0.0</td>\n",
       "      <td>0.0</td>\n",
       "      <td>0.0</td>\n",
       "    </tr>\n",
       "  </tbody>\n",
       "</table>\n",
       "<p>2 rows × 159 columns</p>\n",
       "</div>"
      ],
      "text/plain": [
       "  index_case  N_agents_0.025  N_agents_0.10  N_agents_0.25  N_agents_0.75  \\\n",
       "0   resident            53.0           53.0           53.0           53.0   \n",
       "1   employee            53.0           53.0           53.0           53.0   \n",
       "\n",
       "   N_agents_0.90  N_agents_0.975  N_agents_mean  N_agents_median  \\\n",
       "0           53.0            53.0           53.0             53.0   \n",
       "1           53.0            53.0           53.0             53.0   \n",
       "\n",
       "   N_agents_std  ...  transmissions_std  undetected_infections_0.025  \\\n",
       "0           0.0  ...          18.084148                          0.0   \n",
       "1           0.0  ...          17.793485                          0.0   \n",
       "\n",
       "   undetected_infections_0.10  undetected_infections_0.25  \\\n",
       "0                         0.0                         0.0   \n",
       "1                         0.0                         0.0   \n",
       "\n",
       "   undetected_infections_0.75  undetected_infections_0.90  \\\n",
       "0                         0.0                         0.0   \n",
       "1                         0.0                         0.0   \n",
       "\n",
       "   undetected_infections_0.975  undetected_infections_mean  \\\n",
       "0                          0.0                         0.0   \n",
       "1                          0.0                         0.0   \n",
       "\n",
       "   undetected_infections_median  undetected_infections_std  \n",
       "0                           0.0                        0.0  \n",
       "1                           0.0                        0.0  \n",
       "\n",
       "[2 rows x 159 columns]"
      ]
     },
     "execution_count": 7,
     "metadata": {},
     "output_type": "execute_result"
    }
   ],
   "source": [
    "%%time\n",
    "ensmbl_dst = '../data/simulation_results/ensembles/TTI/UK_variant'\n",
    "\n",
    "number_of_cores = psutil.cpu_count(logical=True) - 2\n",
    "pool = Pool(number_of_cores)\n",
    "\n",
    "rows = []\n",
    "for row in tqdm(pool.imap_unordered(func=run, iterable=screening_params),\n",
    "                total=len(screening_params)):\n",
    "        rows.append(row)\n",
    "\n",
    "# turn off your parallel workers \n",
    "pool.close()\n",
    "\n",
    "# format and dump the results to disk\n",
    "dst = '../data/simulation_results'\n",
    "results = pd.DataFrame()\n",
    "for row in rows:\n",
    "    results = results.append(row, ignore_index=True)\n",
    "    \n",
    "results.reset_index()\n",
    "index_cols = ['index_case']\n",
    "other_cols = [c for c in results.columns if c not in index_cols]\n",
    "results = results[index_cols + other_cols]\n",
    "\n",
    "results.to_csv(join(dst,'simulations_TTI_UK_variant_{}.csv'\\\n",
    "                   .format(N_runs)), index=False)\n",
    "results.head(3)"
   ]
  },
  {
   "cell_type": "markdown",
   "id": "hearing-courage",
   "metadata": {},
   "source": [
    "## Wild type"
   ]
  },
  {
   "cell_type": "code",
   "execution_count": 8,
   "id": "front-hydrogen",
   "metadata": {},
   "outputs": [],
   "source": [
    "ensmbl_dst = '../data/simulation_results/ensembles/TTI/wild_type'"
   ]
  },
  {
   "cell_type": "markdown",
   "id": "virtual-tissue",
   "metadata": {},
   "source": [
    "### Simulation parameters and measures in place"
   ]
  },
  {
   "cell_type": "code",
   "execution_count": 9,
   "id": "conservative-semiconductor",
   "metadata": {},
   "outputs": [],
   "source": [
    "with open('params/TTI_simulation_parameters.json') as json_file:\n",
    "    simulation_params = json.load(json_file)\n",
    "    \n",
    "with open('params/TTI_measures.json') as json_file:\n",
    "    measures = json.load(json_file)\n"
   ]
  },
  {
   "cell_type": "markdown",
   "id": "adopted-portfolio",
   "metadata": {},
   "source": [
    "### Simulation runs"
   ]
  },
  {
   "cell_type": "code",
   "execution_count": 10,
   "id": "convertible-soldier",
   "metadata": {},
   "outputs": [
    {
     "name": "stderr",
     "output_type": "stream",
     "text": [
      "100%|██████████| 2/2 [07:11<00:00, 215.96s/it]"
     ]
    },
    {
     "name": "stdout",
     "output_type": "stream",
     "text": [
      "CPU times: user 98.9 ms, sys: 109 ms, total: 208 ms\n",
      "Wall time: 7min 12s\n"
     ]
    },
    {
     "name": "stderr",
     "output_type": "stream",
     "text": [
      "\n"
     ]
    },
    {
     "data": {
      "text/html": [
       "<div>\n",
       "<style scoped>\n",
       "    .dataframe tbody tr th:only-of-type {\n",
       "        vertical-align: middle;\n",
       "    }\n",
       "\n",
       "    .dataframe tbody tr th {\n",
       "        vertical-align: top;\n",
       "    }\n",
       "\n",
       "    .dataframe thead th {\n",
       "        text-align: right;\n",
       "    }\n",
       "</style>\n",
       "<table border=\"1\" class=\"dataframe\">\n",
       "  <thead>\n",
       "    <tr style=\"text-align: right;\">\n",
       "      <th></th>\n",
       "      <th>index_case</th>\n",
       "      <th>N_agents_0.025</th>\n",
       "      <th>N_agents_0.10</th>\n",
       "      <th>N_agents_0.25</th>\n",
       "      <th>N_agents_0.75</th>\n",
       "      <th>N_agents_0.90</th>\n",
       "      <th>N_agents_0.975</th>\n",
       "      <th>N_agents_mean</th>\n",
       "      <th>N_agents_median</th>\n",
       "      <th>N_agents_std</th>\n",
       "      <th>...</th>\n",
       "      <th>transmissions_std</th>\n",
       "      <th>undetected_infections_0.025</th>\n",
       "      <th>undetected_infections_0.10</th>\n",
       "      <th>undetected_infections_0.25</th>\n",
       "      <th>undetected_infections_0.75</th>\n",
       "      <th>undetected_infections_0.90</th>\n",
       "      <th>undetected_infections_0.975</th>\n",
       "      <th>undetected_infections_mean</th>\n",
       "      <th>undetected_infections_median</th>\n",
       "      <th>undetected_infections_std</th>\n",
       "    </tr>\n",
       "  </thead>\n",
       "  <tbody>\n",
       "    <tr>\n",
       "      <th>0</th>\n",
       "      <td>resident</td>\n",
       "      <td>53.0</td>\n",
       "      <td>53.0</td>\n",
       "      <td>53.0</td>\n",
       "      <td>53.0</td>\n",
       "      <td>53.0</td>\n",
       "      <td>53.0</td>\n",
       "      <td>53.0</td>\n",
       "      <td>53.0</td>\n",
       "      <td>0.0</td>\n",
       "      <td>...</td>\n",
       "      <td>11.030236</td>\n",
       "      <td>0.0</td>\n",
       "      <td>0.0</td>\n",
       "      <td>0.0</td>\n",
       "      <td>0.0</td>\n",
       "      <td>0.0</td>\n",
       "      <td>0.0</td>\n",
       "      <td>0.0</td>\n",
       "      <td>0.0</td>\n",
       "      <td>0.0</td>\n",
       "    </tr>\n",
       "    <tr>\n",
       "      <th>1</th>\n",
       "      <td>employee</td>\n",
       "      <td>53.0</td>\n",
       "      <td>53.0</td>\n",
       "      <td>53.0</td>\n",
       "      <td>53.0</td>\n",
       "      <td>53.0</td>\n",
       "      <td>53.0</td>\n",
       "      <td>53.0</td>\n",
       "      <td>53.0</td>\n",
       "      <td>0.0</td>\n",
       "      <td>...</td>\n",
       "      <td>11.212498</td>\n",
       "      <td>0.0</td>\n",
       "      <td>0.0</td>\n",
       "      <td>0.0</td>\n",
       "      <td>0.0</td>\n",
       "      <td>0.0</td>\n",
       "      <td>0.0</td>\n",
       "      <td>0.0</td>\n",
       "      <td>0.0</td>\n",
       "      <td>0.0</td>\n",
       "    </tr>\n",
       "  </tbody>\n",
       "</table>\n",
       "<p>2 rows × 159 columns</p>\n",
       "</div>"
      ],
      "text/plain": [
       "  index_case  N_agents_0.025  N_agents_0.10  N_agents_0.25  N_agents_0.75  \\\n",
       "0   resident            53.0           53.0           53.0           53.0   \n",
       "1   employee            53.0           53.0           53.0           53.0   \n",
       "\n",
       "   N_agents_0.90  N_agents_0.975  N_agents_mean  N_agents_median  \\\n",
       "0           53.0            53.0           53.0             53.0   \n",
       "1           53.0            53.0           53.0             53.0   \n",
       "\n",
       "   N_agents_std  ...  transmissions_std  undetected_infections_0.025  \\\n",
       "0           0.0  ...          11.030236                          0.0   \n",
       "1           0.0  ...          11.212498                          0.0   \n",
       "\n",
       "   undetected_infections_0.10  undetected_infections_0.25  \\\n",
       "0                         0.0                         0.0   \n",
       "1                         0.0                         0.0   \n",
       "\n",
       "   undetected_infections_0.75  undetected_infections_0.90  \\\n",
       "0                         0.0                         0.0   \n",
       "1                         0.0                         0.0   \n",
       "\n",
       "   undetected_infections_0.975  undetected_infections_mean  \\\n",
       "0                          0.0                         0.0   \n",
       "1                          0.0                         0.0   \n",
       "\n",
       "   undetected_infections_median  undetected_infections_std  \n",
       "0                           0.0                        0.0  \n",
       "1                           0.0                        0.0  \n",
       "\n",
       "[2 rows x 159 columns]"
      ]
     },
     "execution_count": 10,
     "metadata": {},
     "output_type": "execute_result"
    }
   ],
   "source": [
    "%%time\n",
    "number_of_cores = psutil.cpu_count(logical=True) - 2\n",
    "pool = Pool(number_of_cores)\n",
    "\n",
    "rows = []\n",
    "for row in tqdm(pool.imap_unordered(func=run, iterable=screening_params),\n",
    "                total=len(screening_params)):\n",
    "        rows.append(row)\n",
    "\n",
    "# turn off your parallel workers \n",
    "pool.close()\n",
    "\n",
    "# format and dump the results to disk\n",
    "dst = '../data/simulation_results'\n",
    "results = pd.DataFrame()\n",
    "for row in rows:\n",
    "    results = results.append(row, ignore_index=True)\n",
    "    \n",
    "results.reset_index()\n",
    "index_cols = ['index_case']\n",
    "other_cols = [c for c in results.columns if c not in index_cols]\n",
    "results = results[index_cols + other_cols]\n",
    "\n",
    "results.to_csv(join(dst,'simulations_TTI_{}.csv'\\\n",
    "                   .format(N_runs)), index=False)\n",
    "results.head(3)"
   ]
  },
  {
   "cell_type": "markdown",
   "id": "comic-fields",
   "metadata": {},
   "source": [
    "## B.1.1.7 & employee masks"
   ]
  },
  {
   "cell_type": "markdown",
   "id": "solar-poster",
   "metadata": {},
   "source": [
    "### Simulation parameters and measures in place"
   ]
  },
  {
   "cell_type": "code",
   "execution_count": 11,
   "id": "certified-isaac",
   "metadata": {},
   "outputs": [],
   "source": [
    "with open('params/TTI_UK_variant_simulation_parameters.json') as json_file:\n",
    "    simulation_params = json.load(json_file)\n",
    "    \n",
    "with open('params/TTI_masks_measures.json') as json_file:\n",
    "    measures = json.load(json_file)\n"
   ]
  },
  {
   "cell_type": "markdown",
   "id": "million-convertible",
   "metadata": {},
   "source": [
    "### Simulation runs"
   ]
  },
  {
   "cell_type": "code",
   "execution_count": 12,
   "id": "latter-general",
   "metadata": {},
   "outputs": [
    {
     "name": "stderr",
     "output_type": "stream",
     "text": [
      "100%|██████████| 2/2 [07:51<00:00, 235.84s/it]"
     ]
    },
    {
     "name": "stdout",
     "output_type": "stream",
     "text": [
      "CPU times: user 85.4 ms, sys: 106 ms, total: 192 ms\n",
      "Wall time: 7min 51s\n"
     ]
    },
    {
     "name": "stderr",
     "output_type": "stream",
     "text": [
      "\n"
     ]
    },
    {
     "data": {
      "text/html": [
       "<div>\n",
       "<style scoped>\n",
       "    .dataframe tbody tr th:only-of-type {\n",
       "        vertical-align: middle;\n",
       "    }\n",
       "\n",
       "    .dataframe tbody tr th {\n",
       "        vertical-align: top;\n",
       "    }\n",
       "\n",
       "    .dataframe thead th {\n",
       "        text-align: right;\n",
       "    }\n",
       "</style>\n",
       "<table border=\"1\" class=\"dataframe\">\n",
       "  <thead>\n",
       "    <tr style=\"text-align: right;\">\n",
       "      <th></th>\n",
       "      <th>index_case</th>\n",
       "      <th>N_agents_0.025</th>\n",
       "      <th>N_agents_0.10</th>\n",
       "      <th>N_agents_0.25</th>\n",
       "      <th>N_agents_0.75</th>\n",
       "      <th>N_agents_0.90</th>\n",
       "      <th>N_agents_0.975</th>\n",
       "      <th>N_agents_mean</th>\n",
       "      <th>N_agents_median</th>\n",
       "      <th>N_agents_std</th>\n",
       "      <th>...</th>\n",
       "      <th>transmissions_std</th>\n",
       "      <th>undetected_infections_0.025</th>\n",
       "      <th>undetected_infections_0.10</th>\n",
       "      <th>undetected_infections_0.25</th>\n",
       "      <th>undetected_infections_0.75</th>\n",
       "      <th>undetected_infections_0.90</th>\n",
       "      <th>undetected_infections_0.975</th>\n",
       "      <th>undetected_infections_mean</th>\n",
       "      <th>undetected_infections_median</th>\n",
       "      <th>undetected_infections_std</th>\n",
       "    </tr>\n",
       "  </thead>\n",
       "  <tbody>\n",
       "    <tr>\n",
       "      <th>0</th>\n",
       "      <td>employee</td>\n",
       "      <td>53.0</td>\n",
       "      <td>53.0</td>\n",
       "      <td>53.0</td>\n",
       "      <td>53.0</td>\n",
       "      <td>53.0</td>\n",
       "      <td>53.0</td>\n",
       "      <td>53.0</td>\n",
       "      <td>53.0</td>\n",
       "      <td>0.0</td>\n",
       "      <td>...</td>\n",
       "      <td>11.973016</td>\n",
       "      <td>0.0</td>\n",
       "      <td>0.0</td>\n",
       "      <td>0.0</td>\n",
       "      <td>0.0</td>\n",
       "      <td>0.0</td>\n",
       "      <td>0.0</td>\n",
       "      <td>0.0</td>\n",
       "      <td>0.0</td>\n",
       "      <td>0.0</td>\n",
       "    </tr>\n",
       "    <tr>\n",
       "      <th>1</th>\n",
       "      <td>resident</td>\n",
       "      <td>53.0</td>\n",
       "      <td>53.0</td>\n",
       "      <td>53.0</td>\n",
       "      <td>53.0</td>\n",
       "      <td>53.0</td>\n",
       "      <td>53.0</td>\n",
       "      <td>53.0</td>\n",
       "      <td>53.0</td>\n",
       "      <td>0.0</td>\n",
       "      <td>...</td>\n",
       "      <td>13.043875</td>\n",
       "      <td>0.0</td>\n",
       "      <td>0.0</td>\n",
       "      <td>0.0</td>\n",
       "      <td>0.0</td>\n",
       "      <td>0.0</td>\n",
       "      <td>0.0</td>\n",
       "      <td>0.0</td>\n",
       "      <td>0.0</td>\n",
       "      <td>0.0</td>\n",
       "    </tr>\n",
       "  </tbody>\n",
       "</table>\n",
       "<p>2 rows × 159 columns</p>\n",
       "</div>"
      ],
      "text/plain": [
       "  index_case  N_agents_0.025  N_agents_0.10  N_agents_0.25  N_agents_0.75  \\\n",
       "0   employee            53.0           53.0           53.0           53.0   \n",
       "1   resident            53.0           53.0           53.0           53.0   \n",
       "\n",
       "   N_agents_0.90  N_agents_0.975  N_agents_mean  N_agents_median  \\\n",
       "0           53.0            53.0           53.0             53.0   \n",
       "1           53.0            53.0           53.0             53.0   \n",
       "\n",
       "   N_agents_std  ...  transmissions_std  undetected_infections_0.025  \\\n",
       "0           0.0  ...          11.973016                          0.0   \n",
       "1           0.0  ...          13.043875                          0.0   \n",
       "\n",
       "   undetected_infections_0.10  undetected_infections_0.25  \\\n",
       "0                         0.0                         0.0   \n",
       "1                         0.0                         0.0   \n",
       "\n",
       "   undetected_infections_0.75  undetected_infections_0.90  \\\n",
       "0                         0.0                         0.0   \n",
       "1                         0.0                         0.0   \n",
       "\n",
       "   undetected_infections_0.975  undetected_infections_mean  \\\n",
       "0                          0.0                         0.0   \n",
       "1                          0.0                         0.0   \n",
       "\n",
       "   undetected_infections_median  undetected_infections_std  \n",
       "0                           0.0                        0.0  \n",
       "1                           0.0                        0.0  \n",
       "\n",
       "[2 rows x 159 columns]"
      ]
     },
     "execution_count": 12,
     "metadata": {},
     "output_type": "execute_result"
    }
   ],
   "source": [
    "%%time\n",
    "ensmbl_dst = '../data/simulation_results/ensembles/TTI/masks'\n",
    "\n",
    "number_of_cores = psutil.cpu_count(logical=True) - 2\n",
    "pool = Pool(number_of_cores)\n",
    "\n",
    "rows = []\n",
    "for row in tqdm(pool.imap_unordered(func=run, iterable=screening_params),\n",
    "                total=len(screening_params)):\n",
    "        rows.append(row)\n",
    "\n",
    "# turn off your parallel workers \n",
    "pool.close()\n",
    "\n",
    "# format and dump the results to disk\n",
    "dst = '../data/simulation_results'\n",
    "results = pd.DataFrame()\n",
    "for row in rows:\n",
    "    results = results.append(row, ignore_index=True)\n",
    "    \n",
    "results.reset_index()\n",
    "index_cols = ['index_case']\n",
    "other_cols = [c for c in results.columns if c not in index_cols]\n",
    "results = results[index_cols + other_cols]\n",
    "\n",
    "results.to_csv(join(dst,'simulations_TTI_masks_{}.csv'\\\n",
    "                   .format(N_runs)), index=False)\n",
    "results.head(3)"
   ]
  }
 ],
 "metadata": {
  "kernelspec": {
   "display_name": "Python 3",
   "language": "python",
   "name": "python3"
  },
  "language_info": {
   "codemirror_mode": {
    "name": "ipython",
    "version": 3
   },
   "file_extension": ".py",
   "mimetype": "text/x-python",
   "name": "python",
   "nbconvert_exporter": "python",
   "pygments_lexer": "ipython3",
   "version": "3.8.8"
  }
 },
 "nbformat": 4,
 "nbformat_minor": 5
}
