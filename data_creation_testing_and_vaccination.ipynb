{
 "cells": [
  {
   "cell_type": "markdown",
   "metadata": {},
   "source": [
    "# SEIRX model runs for test technology and screening frequency investigation"
   ]
  },
  {
   "cell_type": "code",
   "execution_count": 1,
   "metadata": {},
   "outputs": [],
   "source": [
    "import pandas as pd\n",
    "from os.path import join\n",
    "import json\n",
    "\n",
    "# parallelisation functionality\n",
    "from multiprocess import Pool\n",
    "import psutil\n",
    "from tqdm import tqdm\n",
    "\n",
    "from scseirx.model_nursing_home import SEIRX_nursing_home # agent-based simulation\n",
    "import data_creation_functions as dcf"
   ]
  },
  {
   "cell_type": "code",
   "execution_count": 2,
   "metadata": {},
   "outputs": [],
   "source": [
    "# paths for data I/O\n",
    "contact_network_src = '../data/contact_networks'"
   ]
  },
  {
   "cell_type": "markdown",
   "metadata": {},
   "source": [
    "## Simulation function"
   ]
  },
  {
   "cell_type": "code",
   "execution_count": 3,
   "metadata": {},
   "outputs": [],
   "source": [
    "def run(param_list):\n",
    "    '''\n",
    "    Runs an ensemble of simulations and collects observable statistics. To be \n",
    "    run in parallel on many workers. Note: I/O paths and the number of runs per \n",
    "    ensemble hare hard coded here, because I only want to pass the parameter \n",
    "    values that are being screened in the simulation run to the function via the\n",
    "    parallel processing interface.\n",
    "    \n",
    "    Parameters:\n",
    "    -----------\n",
    "    param_list : iterable\n",
    "        Iterable that contains the values for the parameters test_type, \n",
    "        index_case, e_screen_range and r_screen_range that are passed to the\n",
    "        simulation.\n",
    "    N_runs : integer\n",
    "        Number of runs per ensemble.\n",
    "        \n",
    "    Returns:\n",
    "    --------\n",
    "    row : dictionary\n",
    "        Dictionary of the ensemble statistics of the observables.\n",
    "    '''\n",
    "\n",
    "    # extract the simulation parameters from the parameter list\n",
    "    test_type, index_case, e_screen_interval, r_screen_interval, \\\n",
    "        e_vaccination_ratio, r_vaccination_ratio, N_runs = param_list\n",
    "\n",
    "    # run the ensemble with the given simulation parameters \n",
    "    ensemble_results = dcf.run_ensemble(N_runs, measures, simulation_params, \n",
    "                contact_network_src, ensmbl_dst, test_type, index_case,\n",
    "                e_screen_interval=e_screen_interval,\n",
    "                r_screen_interval=r_screen_interval,\n",
    "                e_vaccination_ratio=e_vaccination_ratio,\n",
    "                r_vaccination_ratio=r_vaccination_ratio,\n",
    "               )\n",
    "\n",
    "    # calculate the ensemble statistics\n",
    "    row = dcf.evaluate_ensemble(ensemble_results, index_case, \n",
    "            test_type=test_type, e_screen_interval=e_screen_interval,\n",
    "            r_screen_interval=r_screen_interval,\n",
    "            e_vaccination_ratio=e_vaccination_ratio,\n",
    "            r_vaccination_ratio=r_vaccination_ratio)\n",
    "\n",
    "    return row"
   ]
  },
  {
   "cell_type": "markdown",
   "metadata": {},
   "source": [
    "## Screening parameters"
   ]
  },
  {
   "cell_type": "code",
   "execution_count": 4,
   "metadata": {},
   "outputs": [
    {
     "name": "stdout",
     "output_type": "stream",
     "text": [
      "there are 320 parameter combinations\n"
     ]
    }
   ],
   "source": [
    "#test_types = ['same_day_antigen', 'same_day_LAMP']\n",
    "test_types = ['same_day_antigen', 'same_day_PCR']\n",
    "vaccination_scenarios = [(0.0, 0.5), (0.5, 0.0), (0.0, 0.9), (0.5, 0.9), (0.9, 0.9)]\n",
    "\n",
    "# resident and employee streening intervals (in days)\n",
    "e_screen_range = [2, 3, 7, None]\n",
    "r_screen_range = [2, 3, 7, None]\n",
    "\n",
    "# specifies, whether the index case will be introduced via an\n",
    "# employee or a resident\n",
    "index_cases = ['employee', 'resident']\n",
    "\n",
    "# ensemble_size\n",
    "N_runs = 5000\n",
    "\n",
    "screening_params = [(i, j, k, l, m, n, N_runs)\\\n",
    "              for i in test_types \\\n",
    "              for j in index_cases \\\n",
    "              for k in e_screen_range \\\n",
    "              for l in r_screen_range \\\n",
    "              for m, n in vaccination_scenarios]\n",
    "\n",
    "print('there are {} parameter combinations'.format(len(screening_params)))"
   ]
  },
  {
   "cell_type": "markdown",
   "metadata": {},
   "source": [
    "## B.1.1.7"
   ]
  },
  {
   "cell_type": "markdown",
   "metadata": {},
   "source": [
    "### Simulation parameters and measures in place"
   ]
  },
  {
   "cell_type": "code",
   "execution_count": 5,
   "metadata": {},
   "outputs": [],
   "source": [
    "with open('params/testing_and_vaccination_UK_variant_simulation_parameters.json') as json_file:\n",
    "    simulation_params = json.load(json_file)\n",
    "    \n",
    "with open('params/testing_and_vaccination_measures.json') as json_file:\n",
    "    measures = json.load(json_file)\n"
   ]
  },
  {
   "cell_type": "code",
   "execution_count": 6,
   "metadata": {},
   "outputs": [
    {
     "data": {
      "text/plain": [
       "{'verbosity': 0,\n",
       " 'base_transmission_risk': 0.109549,\n",
       " 'subclinical_modifier': 0.6,\n",
       " 'exposure_duration': [5.0, 1.9],\n",
       " 'time_until_symptoms': [6.4, 0.8],\n",
       " 'infection_duration': [10.91, 3.95],\n",
       " 'infection_risk_contact_type_weights': {'very_far': 0,\n",
       "  'far': 0.13,\n",
       "  'intermediate': 0.13,\n",
       "  'close': 1},\n",
       " 'employee_index_probability': 0,\n",
       " 'resident_index_probability': 0,\n",
       " 'age_transmission_discount': {'slope': 0, 'intercept': 1},\n",
       " 'age_symptom_modification': {'slope': 0.009515, 'intercept': -0.116}}"
      ]
     },
     "execution_count": 6,
     "metadata": {},
     "output_type": "execute_result"
    }
   ],
   "source": [
    "simulation_params"
   ]
  },
  {
   "cell_type": "code",
   "execution_count": 7,
   "metadata": {},
   "outputs": [
    {
     "data": {
      "text/plain": [
       "{'testing': 'preventive',\n",
       " 'preventive_screening_test_type': None,\n",
       " 'diagnostic_test_type': 'two_day_PCR',\n",
       " 'K1_contact_types': ['close', 'intermediate'],\n",
       " 'quarantine_duration': 10,\n",
       " 'employee_mask': False,\n",
       " 'resident_mask': False,\n",
       " 'follow_up_testing_interval': None,\n",
       " 'liberating_testing': False,\n",
       " 'transmission_risk_ventilation_modifier': 1,\n",
       " 'transmission_risk_vaccination_modifier': {'reception': 0.6,\n",
       "  'transmission': 0.3},\n",
       " 'mask_filter_efficiency': {'exhale': 0.5, 'inhale': 0.7}}"
      ]
     },
     "execution_count": 7,
     "metadata": {},
     "output_type": "execute_result"
    }
   ],
   "source": [
    "measures"
   ]
  },
  {
   "cell_type": "markdown",
   "metadata": {},
   "source": [
    "### Simulation runs"
   ]
  },
  {
   "cell_type": "code",
   "execution_count": 8,
   "metadata": {},
   "outputs": [
    {
     "name": "stderr",
     "output_type": "stream",
     "text": [
      "100%|██████████| 320/320 [3:04:01<00:00, 34.51s/it]  \n"
     ]
    },
    {
     "name": "stdout",
     "output_type": "stream",
     "text": [
      "CPU times: user 6.78 s, sys: 588 ms, total: 7.37 s\n",
      "Wall time: 3h 4min 6s\n"
     ]
    },
    {
     "data": {
      "text/html": [
       "<div>\n",
       "<style scoped>\n",
       "    .dataframe tbody tr th:only-of-type {\n",
       "        vertical-align: middle;\n",
       "    }\n",
       "\n",
       "    .dataframe tbody tr th {\n",
       "        vertical-align: top;\n",
       "    }\n",
       "\n",
       "    .dataframe thead th {\n",
       "        text-align: right;\n",
       "    }\n",
       "</style>\n",
       "<table border=\"1\" class=\"dataframe\">\n",
       "  <thead>\n",
       "    <tr style=\"text-align: right;\">\n",
       "      <th></th>\n",
       "      <th>test_type</th>\n",
       "      <th>index_case</th>\n",
       "      <th>resident_screen_interval</th>\n",
       "      <th>employee_screen_interval</th>\n",
       "      <th>resident_vaccination_ratio</th>\n",
       "      <th>employee_vaccination_ratio</th>\n",
       "      <th>N_agents_0.025</th>\n",
       "      <th>N_agents_0.10</th>\n",
       "      <th>N_agents_0.25</th>\n",
       "      <th>N_agents_0.75</th>\n",
       "      <th>...</th>\n",
       "      <th>transmissions_std</th>\n",
       "      <th>undetected_infections_0.025</th>\n",
       "      <th>undetected_infections_0.10</th>\n",
       "      <th>undetected_infections_0.25</th>\n",
       "      <th>undetected_infections_0.75</th>\n",
       "      <th>undetected_infections_0.90</th>\n",
       "      <th>undetected_infections_0.975</th>\n",
       "      <th>undetected_infections_mean</th>\n",
       "      <th>undetected_infections_median</th>\n",
       "      <th>undetected_infections_std</th>\n",
       "    </tr>\n",
       "  </thead>\n",
       "  <tbody>\n",
       "    <tr>\n",
       "      <th>0</th>\n",
       "      <td>same_day_antigen</td>\n",
       "      <td>employee</td>\n",
       "      <td>2.0</td>\n",
       "      <td>2.0</td>\n",
       "      <td>0.9</td>\n",
       "      <td>0.9</td>\n",
       "      <td>53.0</td>\n",
       "      <td>53.0</td>\n",
       "      <td>53.0</td>\n",
       "      <td>53.0</td>\n",
       "      <td>...</td>\n",
       "      <td>0.187468</td>\n",
       "      <td>0.0</td>\n",
       "      <td>0.0</td>\n",
       "      <td>0.0</td>\n",
       "      <td>0.0</td>\n",
       "      <td>0.0</td>\n",
       "      <td>1.0</td>\n",
       "      <td>0.0614</td>\n",
       "      <td>0.0</td>\n",
       "      <td>0.240918</td>\n",
       "    </tr>\n",
       "    <tr>\n",
       "      <th>1</th>\n",
       "      <td>same_day_antigen</td>\n",
       "      <td>employee</td>\n",
       "      <td>3.0</td>\n",
       "      <td>2.0</td>\n",
       "      <td>0.9</td>\n",
       "      <td>0.9</td>\n",
       "      <td>53.0</td>\n",
       "      <td>53.0</td>\n",
       "      <td>53.0</td>\n",
       "      <td>53.0</td>\n",
       "      <td>...</td>\n",
       "      <td>0.203910</td>\n",
       "      <td>0.0</td>\n",
       "      <td>0.0</td>\n",
       "      <td>0.0</td>\n",
       "      <td>0.0</td>\n",
       "      <td>0.0</td>\n",
       "      <td>1.0</td>\n",
       "      <td>0.0522</td>\n",
       "      <td>0.0</td>\n",
       "      <td>0.223350</td>\n",
       "    </tr>\n",
       "    <tr>\n",
       "      <th>2</th>\n",
       "      <td>same_day_antigen</td>\n",
       "      <td>employee</td>\n",
       "      <td>3.0</td>\n",
       "      <td>2.0</td>\n",
       "      <td>0.9</td>\n",
       "      <td>0.5</td>\n",
       "      <td>53.0</td>\n",
       "      <td>53.0</td>\n",
       "      <td>53.0</td>\n",
       "      <td>53.0</td>\n",
       "      <td>...</td>\n",
       "      <td>0.338155</td>\n",
       "      <td>0.0</td>\n",
       "      <td>0.0</td>\n",
       "      <td>0.0</td>\n",
       "      <td>0.0</td>\n",
       "      <td>0.0</td>\n",
       "      <td>1.0</td>\n",
       "      <td>0.0640</td>\n",
       "      <td>0.0</td>\n",
       "      <td>0.245593</td>\n",
       "    </tr>\n",
       "  </tbody>\n",
       "</table>\n",
       "<p>3 rows × 159 columns</p>\n",
       "</div>"
      ],
      "text/plain": [
       "          test_type index_case resident_screen_interval  \\\n",
       "0  same_day_antigen   employee                      2.0   \n",
       "1  same_day_antigen   employee                      3.0   \n",
       "2  same_day_antigen   employee                      3.0   \n",
       "\n",
       "  employee_screen_interval  resident_vaccination_ratio  \\\n",
       "0                      2.0                         0.9   \n",
       "1                      2.0                         0.9   \n",
       "2                      2.0                         0.9   \n",
       "\n",
       "   employee_vaccination_ratio  N_agents_0.025  N_agents_0.10  N_agents_0.25  \\\n",
       "0                         0.9            53.0           53.0           53.0   \n",
       "1                         0.9            53.0           53.0           53.0   \n",
       "2                         0.5            53.0           53.0           53.0   \n",
       "\n",
       "   N_agents_0.75  ...  transmissions_std  undetected_infections_0.025  \\\n",
       "0           53.0  ...           0.187468                          0.0   \n",
       "1           53.0  ...           0.203910                          0.0   \n",
       "2           53.0  ...           0.338155                          0.0   \n",
       "\n",
       "   undetected_infections_0.10  undetected_infections_0.25  \\\n",
       "0                         0.0                         0.0   \n",
       "1                         0.0                         0.0   \n",
       "2                         0.0                         0.0   \n",
       "\n",
       "   undetected_infections_0.75  undetected_infections_0.90  \\\n",
       "0                         0.0                         0.0   \n",
       "1                         0.0                         0.0   \n",
       "2                         0.0                         0.0   \n",
       "\n",
       "   undetected_infections_0.975  undetected_infections_mean  \\\n",
       "0                          1.0                      0.0614   \n",
       "1                          1.0                      0.0522   \n",
       "2                          1.0                      0.0640   \n",
       "\n",
       "   undetected_infections_median  undetected_infections_std  \n",
       "0                           0.0                   0.240918  \n",
       "1                           0.0                   0.223350  \n",
       "2                           0.0                   0.245593  \n",
       "\n",
       "[3 rows x 159 columns]"
      ]
     },
     "execution_count": 8,
     "metadata": {},
     "output_type": "execute_result"
    }
   ],
   "source": [
    "%%time\n",
    "ensmbl_dst = '../data/simulation_results/ensembles/testing_and_vaccination/UK_variant'\n",
    "\n",
    "number_of_cores = psutil.cpu_count(logical=True) - 3 \n",
    "pool = Pool(number_of_cores)\n",
    "\n",
    "#rows = pool.imap_unordered(run, screening_params)\n",
    "rows = []\n",
    "for row in tqdm(pool.imap_unordered(func=run, iterable=screening_params),\n",
    "                total=len(screening_params)):\n",
    "        rows.append(row)\n",
    "\n",
    "# turn off your parallel workers \n",
    "pool.close()\n",
    "\n",
    "# format and dump the results to disk\n",
    "results = pd.DataFrame()\n",
    "for row in rows:\n",
    "    results = results.append(row, ignore_index=True)\n",
    "    \n",
    "results.reset_index()\n",
    "index_cols = ['test_type', 'index_case', 'resident_screen_interval',\n",
    "              'employee_screen_interval',\n",
    "              'resident_vaccination_ratio', 'employee_vaccination_ratio']\n",
    "\n",
    "other_cols = [c for c in results.columns if c not in index_cols]\n",
    "results = results[index_cols + other_cols]\n",
    "\n",
    "dst = '../data/simulation_results'\n",
    "results.to_csv(join(dst,'simulations_testing_and_vaccination_UK_variant_{}.csv'\\\n",
    "                   .format(N_runs)), index=False)\n",
    "\n",
    "results.head(3)"
   ]
  },
  {
   "cell_type": "markdown",
   "metadata": {},
   "source": [
    "## Wild type"
   ]
  },
  {
   "cell_type": "markdown",
   "metadata": {},
   "source": [
    "### Simulation parameters and measures in place"
   ]
  },
  {
   "cell_type": "code",
   "execution_count": 9,
   "metadata": {},
   "outputs": [],
   "source": [
    "with open('params/testing_and_vaccination_simulation_parameters.json') as json_file:\n",
    "    simulation_params = json.load(json_file)\n",
    "    \n",
    "with open('params/testing_and_vaccination_measures.json') as json_file:\n",
    "    measures = json.load(json_file)\n"
   ]
  },
  {
   "cell_type": "code",
   "execution_count": 10,
   "metadata": {},
   "outputs": [
    {
     "data": {
      "text/plain": [
       "{'verbosity': 0,\n",
       " 'base_transmission_risk': 0.073033,\n",
       " 'subclinical_modifier': 0.6,\n",
       " 'exposure_duration': [5.0, 1.9],\n",
       " 'time_until_symptoms': [6.4, 0.8],\n",
       " 'infection_duration': [10.91, 3.95],\n",
       " 'infection_risk_contact_type_weights': {'very_far': 0,\n",
       "  'far': 0.13,\n",
       "  'intermediate': 0.13,\n",
       "  'close': 1},\n",
       " 'employee_index_probability': 0,\n",
       " 'resident_index_probability': 0,\n",
       " 'age_transmission_discount': {'slope': 0, 'intercept': 1},\n",
       " 'age_symptom_modification': {'slope': 0.009515, 'intercept': -0.116}}"
      ]
     },
     "execution_count": 10,
     "metadata": {},
     "output_type": "execute_result"
    }
   ],
   "source": [
    "simulation_params"
   ]
  },
  {
   "cell_type": "code",
   "execution_count": 11,
   "metadata": {},
   "outputs": [
    {
     "data": {
      "text/plain": [
       "{'testing': 'preventive',\n",
       " 'preventive_screening_test_type': None,\n",
       " 'diagnostic_test_type': 'two_day_PCR',\n",
       " 'K1_contact_types': ['close', 'intermediate'],\n",
       " 'quarantine_duration': 10,\n",
       " 'employee_mask': False,\n",
       " 'resident_mask': False,\n",
       " 'follow_up_testing_interval': None,\n",
       " 'liberating_testing': False,\n",
       " 'transmission_risk_ventilation_modifier': 1,\n",
       " 'transmission_risk_vaccination_modifier': {'reception': 0.6,\n",
       "  'transmission': 0.3},\n",
       " 'mask_filter_efficiency': {'exhale': 0.5, 'inhale': 0.7}}"
      ]
     },
     "execution_count": 11,
     "metadata": {},
     "output_type": "execute_result"
    }
   ],
   "source": [
    "measures"
   ]
  },
  {
   "cell_type": "markdown",
   "metadata": {},
   "source": [
    "### Simulation runs"
   ]
  },
  {
   "cell_type": "code",
   "execution_count": 12,
   "metadata": {},
   "outputs": [
    {
     "name": "stderr",
     "output_type": "stream",
     "text": [
      "100%|██████████| 320/320 [2:50:05<00:00, 31.89s/it]  \n"
     ]
    },
    {
     "name": "stdout",
     "output_type": "stream",
     "text": [
      "CPU times: user 6.94 s, sys: 445 ms, total: 7.38 s\n",
      "Wall time: 2h 50min 10s\n"
     ]
    },
    {
     "data": {
      "text/html": [
       "<div>\n",
       "<style scoped>\n",
       "    .dataframe tbody tr th:only-of-type {\n",
       "        vertical-align: middle;\n",
       "    }\n",
       "\n",
       "    .dataframe tbody tr th {\n",
       "        vertical-align: top;\n",
       "    }\n",
       "\n",
       "    .dataframe thead th {\n",
       "        text-align: right;\n",
       "    }\n",
       "</style>\n",
       "<table border=\"1\" class=\"dataframe\">\n",
       "  <thead>\n",
       "    <tr style=\"text-align: right;\">\n",
       "      <th></th>\n",
       "      <th>test_type</th>\n",
       "      <th>index_case</th>\n",
       "      <th>resident_screen_interval</th>\n",
       "      <th>employee_screen_interval</th>\n",
       "      <th>resident_vaccination_ratio</th>\n",
       "      <th>employee_vaccination_ratio</th>\n",
       "      <th>N_agents_0.025</th>\n",
       "      <th>N_agents_0.10</th>\n",
       "      <th>N_agents_0.25</th>\n",
       "      <th>N_agents_0.75</th>\n",
       "      <th>...</th>\n",
       "      <th>transmissions_std</th>\n",
       "      <th>undetected_infections_0.025</th>\n",
       "      <th>undetected_infections_0.10</th>\n",
       "      <th>undetected_infections_0.25</th>\n",
       "      <th>undetected_infections_0.75</th>\n",
       "      <th>undetected_infections_0.90</th>\n",
       "      <th>undetected_infections_0.975</th>\n",
       "      <th>undetected_infections_mean</th>\n",
       "      <th>undetected_infections_median</th>\n",
       "      <th>undetected_infections_std</th>\n",
       "    </tr>\n",
       "  </thead>\n",
       "  <tbody>\n",
       "    <tr>\n",
       "      <th>0</th>\n",
       "      <td>same_day_antigen</td>\n",
       "      <td>employee</td>\n",
       "      <td>3.0</td>\n",
       "      <td>2.0</td>\n",
       "      <td>0.5</td>\n",
       "      <td>0.0</td>\n",
       "      <td>53.0</td>\n",
       "      <td>53.0</td>\n",
       "      <td>53.0</td>\n",
       "      <td>53.0</td>\n",
       "      <td>...</td>\n",
       "      <td>0.660183</td>\n",
       "      <td>0.0</td>\n",
       "      <td>0.0</td>\n",
       "      <td>0.0</td>\n",
       "      <td>0.0</td>\n",
       "      <td>0.0</td>\n",
       "      <td>1.0</td>\n",
       "      <td>0.0714</td>\n",
       "      <td>0.0</td>\n",
       "      <td>0.263659</td>\n",
       "    </tr>\n",
       "    <tr>\n",
       "      <th>1</th>\n",
       "      <td>same_day_antigen</td>\n",
       "      <td>employee</td>\n",
       "      <td>2.0</td>\n",
       "      <td>2.0</td>\n",
       "      <td>0.9</td>\n",
       "      <td>0.0</td>\n",
       "      <td>53.0</td>\n",
       "      <td>53.0</td>\n",
       "      <td>53.0</td>\n",
       "      <td>53.0</td>\n",
       "      <td>...</td>\n",
       "      <td>0.402941</td>\n",
       "      <td>0.0</td>\n",
       "      <td>0.0</td>\n",
       "      <td>0.0</td>\n",
       "      <td>0.0</td>\n",
       "      <td>0.0</td>\n",
       "      <td>1.0</td>\n",
       "      <td>0.0584</td>\n",
       "      <td>0.0</td>\n",
       "      <td>0.235373</td>\n",
       "    </tr>\n",
       "    <tr>\n",
       "      <th>2</th>\n",
       "      <td>same_day_antigen</td>\n",
       "      <td>employee</td>\n",
       "      <td>3.0</td>\n",
       "      <td>2.0</td>\n",
       "      <td>0.9</td>\n",
       "      <td>0.9</td>\n",
       "      <td>53.0</td>\n",
       "      <td>53.0</td>\n",
       "      <td>53.0</td>\n",
       "      <td>53.0</td>\n",
       "      <td>...</td>\n",
       "      <td>0.161895</td>\n",
       "      <td>0.0</td>\n",
       "      <td>0.0</td>\n",
       "      <td>0.0</td>\n",
       "      <td>0.0</td>\n",
       "      <td>0.0</td>\n",
       "      <td>1.0</td>\n",
       "      <td>0.0584</td>\n",
       "      <td>0.0</td>\n",
       "      <td>0.234522</td>\n",
       "    </tr>\n",
       "  </tbody>\n",
       "</table>\n",
       "<p>3 rows × 159 columns</p>\n",
       "</div>"
      ],
      "text/plain": [
       "          test_type index_case resident_screen_interval  \\\n",
       "0  same_day_antigen   employee                      3.0   \n",
       "1  same_day_antigen   employee                      2.0   \n",
       "2  same_day_antigen   employee                      3.0   \n",
       "\n",
       "  employee_screen_interval  resident_vaccination_ratio  \\\n",
       "0                      2.0                         0.5   \n",
       "1                      2.0                         0.9   \n",
       "2                      2.0                         0.9   \n",
       "\n",
       "   employee_vaccination_ratio  N_agents_0.025  N_agents_0.10  N_agents_0.25  \\\n",
       "0                         0.0            53.0           53.0           53.0   \n",
       "1                         0.0            53.0           53.0           53.0   \n",
       "2                         0.9            53.0           53.0           53.0   \n",
       "\n",
       "   N_agents_0.75  ...  transmissions_std  undetected_infections_0.025  \\\n",
       "0           53.0  ...           0.660183                          0.0   \n",
       "1           53.0  ...           0.402941                          0.0   \n",
       "2           53.0  ...           0.161895                          0.0   \n",
       "\n",
       "   undetected_infections_0.10  undetected_infections_0.25  \\\n",
       "0                         0.0                         0.0   \n",
       "1                         0.0                         0.0   \n",
       "2                         0.0                         0.0   \n",
       "\n",
       "   undetected_infections_0.75  undetected_infections_0.90  \\\n",
       "0                         0.0                         0.0   \n",
       "1                         0.0                         0.0   \n",
       "2                         0.0                         0.0   \n",
       "\n",
       "   undetected_infections_0.975  undetected_infections_mean  \\\n",
       "0                          1.0                      0.0714   \n",
       "1                          1.0                      0.0584   \n",
       "2                          1.0                      0.0584   \n",
       "\n",
       "   undetected_infections_median  undetected_infections_std  \n",
       "0                           0.0                   0.263659  \n",
       "1                           0.0                   0.235373  \n",
       "2                           0.0                   0.234522  \n",
       "\n",
       "[3 rows x 159 columns]"
      ]
     },
     "execution_count": 12,
     "metadata": {},
     "output_type": "execute_result"
    }
   ],
   "source": [
    "%%time\n",
    "ensmbl_dst = '../data/simulation_results/ensembles/testing_and_vaccination/wild_type'\n",
    "\n",
    "number_of_cores = psutil.cpu_count(logical=True) - 3 \n",
    "pool = Pool(number_of_cores)\n",
    "\n",
    "#rows = pool.imap_unordered(run, screening_params)\n",
    "rows = []\n",
    "for row in tqdm(pool.imap_unordered(func=run, iterable=screening_params),\n",
    "                total=len(screening_params)):\n",
    "        rows.append(row)\n",
    "\n",
    "# turn off your parallel workers \n",
    "pool.close()\n",
    "\n",
    "# format and dump the results to disk\n",
    "results = pd.DataFrame()\n",
    "for row in rows:\n",
    "    results = results.append(row, ignore_index=True)\n",
    "    \n",
    "results.reset_index()\n",
    "index_cols = ['test_type', 'index_case', 'resident_screen_interval',\n",
    "              'employee_screen_interval',\n",
    "              'resident_vaccination_ratio', 'employee_vaccination_ratio']\n",
    "\n",
    "other_cols = [c for c in results.columns if c not in index_cols]\n",
    "results = results[index_cols + other_cols]\n",
    "\n",
    "dst = '../data/simulation_results'\n",
    "results.to_csv(join(dst,'simulations_testing_and_vaccination_{}.csv'\\\n",
    "                   .format(N_runs)), index=False)\n",
    "\n",
    "results.head(3)"
   ]
  },
  {
   "cell_type": "markdown",
   "metadata": {},
   "source": [
    "## B.1.1.7 & masks for employees"
   ]
  },
  {
   "cell_type": "markdown",
   "metadata": {},
   "source": [
    "### Simulation parameters and measures in place"
   ]
  },
  {
   "cell_type": "code",
   "execution_count": 13,
   "metadata": {},
   "outputs": [],
   "source": [
    "with open('params/testing_and_vaccination_UK_variant_simulation_parameters.json') as json_file:\n",
    "    simulation_params = json.load(json_file)\n",
    "    \n",
    "with open('params/testing_and_vaccination_masks_measures.json') as json_file:\n",
    "    measures = json.load(json_file)\n"
   ]
  },
  {
   "cell_type": "code",
   "execution_count": 14,
   "metadata": {},
   "outputs": [
    {
     "data": {
      "text/plain": [
       "{'verbosity': 0,\n",
       " 'base_transmission_risk': 0.109549,\n",
       " 'subclinical_modifier': 0.6,\n",
       " 'exposure_duration': [5.0, 1.9],\n",
       " 'time_until_symptoms': [6.4, 0.8],\n",
       " 'infection_duration': [10.91, 3.95],\n",
       " 'infection_risk_contact_type_weights': {'very_far': 0,\n",
       "  'far': 0.13,\n",
       "  'intermediate': 0.13,\n",
       "  'close': 1},\n",
       " 'employee_index_probability': 0,\n",
       " 'resident_index_probability': 0,\n",
       " 'age_transmission_discount': {'slope': 0, 'intercept': 1},\n",
       " 'age_symptom_modification': {'slope': 0.009515, 'intercept': -0.116}}"
      ]
     },
     "execution_count": 14,
     "metadata": {},
     "output_type": "execute_result"
    }
   ],
   "source": [
    "simulation_params"
   ]
  },
  {
   "cell_type": "code",
   "execution_count": 15,
   "metadata": {},
   "outputs": [
    {
     "data": {
      "text/plain": [
       "{'testing': 'preventive',\n",
       " 'preventive_screening_test_type': None,\n",
       " 'diagnostic_test_type': 'two_day_PCR',\n",
       " 'K1_contact_types': ['close', 'intermediate'],\n",
       " 'quarantine_duration': 10,\n",
       " 'employee_mask': True,\n",
       " 'resident_mask': False,\n",
       " 'follow_up_testing_interval': None,\n",
       " 'liberating_testing': False,\n",
       " 'transmission_risk_ventilation_modifier': 1,\n",
       " 'transmission_risk_vaccination_modifier': {'reception': 0.6,\n",
       "  'transmission': 0.3},\n",
       " 'mask_filter_efficiency': {'exhale': 0.5, 'inhale': 0.7}}"
      ]
     },
     "execution_count": 15,
     "metadata": {},
     "output_type": "execute_result"
    }
   ],
   "source": [
    "measures"
   ]
  },
  {
   "cell_type": "markdown",
   "metadata": {},
   "source": [
    "### Simulation runs"
   ]
  },
  {
   "cell_type": "code",
   "execution_count": 16,
   "metadata": {},
   "outputs": [
    {
     "name": "stderr",
     "output_type": "stream",
     "text": [
      "100%|██████████| 320/320 [2:52:04<00:00, 32.27s/it]  \n"
     ]
    },
    {
     "name": "stdout",
     "output_type": "stream",
     "text": [
      "CPU times: user 6.92 s, sys: 476 ms, total: 7.4 s\n",
      "Wall time: 2h 52min 9s\n"
     ]
    },
    {
     "data": {
      "text/html": [
       "<div>\n",
       "<style scoped>\n",
       "    .dataframe tbody tr th:only-of-type {\n",
       "        vertical-align: middle;\n",
       "    }\n",
       "\n",
       "    .dataframe tbody tr th {\n",
       "        vertical-align: top;\n",
       "    }\n",
       "\n",
       "    .dataframe thead th {\n",
       "        text-align: right;\n",
       "    }\n",
       "</style>\n",
       "<table border=\"1\" class=\"dataframe\">\n",
       "  <thead>\n",
       "    <tr style=\"text-align: right;\">\n",
       "      <th></th>\n",
       "      <th>test_type</th>\n",
       "      <th>index_case</th>\n",
       "      <th>resident_screen_interval</th>\n",
       "      <th>employee_screen_interval</th>\n",
       "      <th>resident_vaccination_ratio</th>\n",
       "      <th>employee_vaccination_ratio</th>\n",
       "      <th>N_agents_0.025</th>\n",
       "      <th>N_agents_0.10</th>\n",
       "      <th>N_agents_0.25</th>\n",
       "      <th>N_agents_0.75</th>\n",
       "      <th>...</th>\n",
       "      <th>transmissions_std</th>\n",
       "      <th>undetected_infections_0.025</th>\n",
       "      <th>undetected_infections_0.10</th>\n",
       "      <th>undetected_infections_0.25</th>\n",
       "      <th>undetected_infections_0.75</th>\n",
       "      <th>undetected_infections_0.90</th>\n",
       "      <th>undetected_infections_0.975</th>\n",
       "      <th>undetected_infections_mean</th>\n",
       "      <th>undetected_infections_median</th>\n",
       "      <th>undetected_infections_std</th>\n",
       "    </tr>\n",
       "  </thead>\n",
       "  <tbody>\n",
       "    <tr>\n",
       "      <th>0</th>\n",
       "      <td>same_day_antigen</td>\n",
       "      <td>employee</td>\n",
       "      <td>2.0</td>\n",
       "      <td>2.0</td>\n",
       "      <td>0.9</td>\n",
       "      <td>0.5</td>\n",
       "      <td>53.0</td>\n",
       "      <td>53.0</td>\n",
       "      <td>53.0</td>\n",
       "      <td>53.0</td>\n",
       "      <td>...</td>\n",
       "      <td>0.210437</td>\n",
       "      <td>0.0</td>\n",
       "      <td>0.0</td>\n",
       "      <td>0.0</td>\n",
       "      <td>0.0</td>\n",
       "      <td>0.0</td>\n",
       "      <td>1.0</td>\n",
       "      <td>0.0590</td>\n",
       "      <td>0.0</td>\n",
       "      <td>0.236496</td>\n",
       "    </tr>\n",
       "    <tr>\n",
       "      <th>1</th>\n",
       "      <td>same_day_antigen</td>\n",
       "      <td>employee</td>\n",
       "      <td>3.0</td>\n",
       "      <td>2.0</td>\n",
       "      <td>0.5</td>\n",
       "      <td>0.0</td>\n",
       "      <td>53.0</td>\n",
       "      <td>53.0</td>\n",
       "      <td>53.0</td>\n",
       "      <td>53.0</td>\n",
       "      <td>...</td>\n",
       "      <td>0.579451</td>\n",
       "      <td>0.0</td>\n",
       "      <td>0.0</td>\n",
       "      <td>0.0</td>\n",
       "      <td>0.0</td>\n",
       "      <td>0.0</td>\n",
       "      <td>1.0</td>\n",
       "      <td>0.0570</td>\n",
       "      <td>0.0</td>\n",
       "      <td>0.233585</td>\n",
       "    </tr>\n",
       "    <tr>\n",
       "      <th>2</th>\n",
       "      <td>same_day_antigen</td>\n",
       "      <td>employee</td>\n",
       "      <td>2.0</td>\n",
       "      <td>2.0</td>\n",
       "      <td>0.5</td>\n",
       "      <td>0.0</td>\n",
       "      <td>53.0</td>\n",
       "      <td>53.0</td>\n",
       "      <td>53.0</td>\n",
       "      <td>53.0</td>\n",
       "      <td>...</td>\n",
       "      <td>0.534400</td>\n",
       "      <td>0.0</td>\n",
       "      <td>0.0</td>\n",
       "      <td>0.0</td>\n",
       "      <td>0.0</td>\n",
       "      <td>0.0</td>\n",
       "      <td>1.0</td>\n",
       "      <td>0.0566</td>\n",
       "      <td>0.0</td>\n",
       "      <td>0.234537</td>\n",
       "    </tr>\n",
       "  </tbody>\n",
       "</table>\n",
       "<p>3 rows × 159 columns</p>\n",
       "</div>"
      ],
      "text/plain": [
       "          test_type index_case resident_screen_interval  \\\n",
       "0  same_day_antigen   employee                      2.0   \n",
       "1  same_day_antigen   employee                      3.0   \n",
       "2  same_day_antigen   employee                      2.0   \n",
       "\n",
       "  employee_screen_interval  resident_vaccination_ratio  \\\n",
       "0                      2.0                         0.9   \n",
       "1                      2.0                         0.5   \n",
       "2                      2.0                         0.5   \n",
       "\n",
       "   employee_vaccination_ratio  N_agents_0.025  N_agents_0.10  N_agents_0.25  \\\n",
       "0                         0.5            53.0           53.0           53.0   \n",
       "1                         0.0            53.0           53.0           53.0   \n",
       "2                         0.0            53.0           53.0           53.0   \n",
       "\n",
       "   N_agents_0.75  ...  transmissions_std  undetected_infections_0.025  \\\n",
       "0           53.0  ...           0.210437                          0.0   \n",
       "1           53.0  ...           0.579451                          0.0   \n",
       "2           53.0  ...           0.534400                          0.0   \n",
       "\n",
       "   undetected_infections_0.10  undetected_infections_0.25  \\\n",
       "0                         0.0                         0.0   \n",
       "1                         0.0                         0.0   \n",
       "2                         0.0                         0.0   \n",
       "\n",
       "   undetected_infections_0.75  undetected_infections_0.90  \\\n",
       "0                         0.0                         0.0   \n",
       "1                         0.0                         0.0   \n",
       "2                         0.0                         0.0   \n",
       "\n",
       "   undetected_infections_0.975  undetected_infections_mean  \\\n",
       "0                          1.0                      0.0590   \n",
       "1                          1.0                      0.0570   \n",
       "2                          1.0                      0.0566   \n",
       "\n",
       "   undetected_infections_median  undetected_infections_std  \n",
       "0                           0.0                   0.236496  \n",
       "1                           0.0                   0.233585  \n",
       "2                           0.0                   0.234537  \n",
       "\n",
       "[3 rows x 159 columns]"
      ]
     },
     "execution_count": 16,
     "metadata": {},
     "output_type": "execute_result"
    }
   ],
   "source": [
    "%%time\n",
    "ensmbl_dst = '../data/simulation_results/ensembles/testing_and_vaccination/masks'\n",
    "\n",
    "number_of_cores = psutil.cpu_count(logical=True) - 3 \n",
    "pool = Pool(number_of_cores)\n",
    "\n",
    "#rows = pool.imap_unordered(run, screening_params)\n",
    "rows = []\n",
    "for row in tqdm(pool.imap_unordered(func=run, iterable=screening_params),\n",
    "                total=len(screening_params)):\n",
    "        rows.append(row)\n",
    "\n",
    "# turn off your parallel workers \n",
    "pool.close()\n",
    "\n",
    "# format and dump the results to disk\n",
    "results = pd.DataFrame()\n",
    "for row in rows:\n",
    "    results = results.append(row, ignore_index=True)\n",
    "    \n",
    "results.reset_index()\n",
    "index_cols = ['test_type', 'index_case', 'resident_screen_interval',\n",
    "              'employee_screen_interval',\n",
    "              'resident_vaccination_ratio', 'employee_vaccination_ratio']\n",
    "\n",
    "other_cols = [c for c in results.columns if c not in index_cols]\n",
    "results = results[index_cols + other_cols]\n",
    "\n",
    "dst = '../data/simulation_results'\n",
    "results.to_csv(join(dst,'simulations_testing_and_vaccination_masks_{}.csv'\\\n",
    "                   .format(N_runs)), index=False)\n",
    "\n",
    "results.head(3)"
   ]
  }
 ],
 "metadata": {
  "kernelspec": {
   "display_name": "Python 3",
   "language": "python",
   "name": "python3"
  },
  "language_info": {
   "codemirror_mode": {
    "name": "ipython",
    "version": 3
   },
   "file_extension": ".py",
   "mimetype": "text/x-python",
   "name": "python",
   "nbconvert_exporter": "python",
   "pygments_lexer": "ipython3",
   "version": "3.8.8"
  }
 },
 "nbformat": 4,
 "nbformat_minor": 4
}
