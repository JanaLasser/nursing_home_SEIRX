{
 "cells": [
  {
   "cell_type": "markdown",
   "metadata": {},
   "source": [
    "# SEIRX model runs for test technology and screening frequency investigation"
   ]
  },
  {
   "cell_type": "code",
   "execution_count": 67,
   "metadata": {},
   "outputs": [],
   "source": [
    "import networkx as nx\n",
    "import pandas as pd\n",
    "from os.path import join\n",
    "import json\n",
    "\n",
    "# parallelisation functionality\n",
    "from multiprocess import Pool\n",
    "import psutil\n",
    "from tqdm import tqdm\n",
    "\n",
    "# custom functionality\n",
    "import os\n",
    "from os.path import expanduser\n",
    "home = expanduser(\"~\")\n",
    "os.chdir(home+'/agent_based_COVID_SEIRX/src/')\n",
    "os.getcwd()\n",
    "from scseirx.model_nursing_home import SEIRX_nursing_home # agent-based simulation\n",
    "from scseirx import analysis_functions as af # custom analysis functions\n",
    "import data_creation_functions as dcf\n",
    "\n",
    "from importlib import reload"
   ]
  },
  {
   "cell_type": "markdown",
   "metadata": {},
   "source": [
    "## Parameters"
   ]
  },
  {
   "cell_type": "markdown",
   "metadata": {},
   "source": [
    "### Simulation parameters and measures in place"
   ]
  },
  {
   "cell_type": "code",
   "execution_count": 68,
   "metadata": {},
   "outputs": [
    {
     "data": {
      "text/plain": [
       "'/Users/ledebur/agent_based_COVID_SEIRX/src'"
      ]
     },
     "execution_count": 68,
     "metadata": {},
     "output_type": "execute_result"
    }
   ],
   "source": [
    "\n",
    "os.getcwd()"
   ]
  },
  {
   "cell_type": "code",
   "execution_count": 69,
   "metadata": {},
   "outputs": [],
   "source": [
    "with open(home+'/nursing_home_SEIRX/params/screening_frequency_simulation_parameters.json') as json_file:\n",
    "    simulation_params = json.load(json_file)\n",
    "    \n",
    "with open(home+'/nursing_home_SEIRX/params/screening_frequency_measures.json') as json_file:\n",
    "    measures = json.load(json_file)\n"
   ]
  },
  {
   "cell_type": "code",
   "execution_count": 70,
   "metadata": {},
   "outputs": [
    {
     "data": {
      "text/plain": [
       "{'testing': 0,\n",
       " 'preventive_screening_test_type': 'same_day_antigen',\n",
       " 'diagnostic_test_type': 'one_day_PCR',\n",
       " 'K1_contact_types': ['close', 'intermediate'],\n",
       " 'quarantine_duration': 10,\n",
       " 'employee_mask': False,\n",
       " 'resident_mask': False,\n",
       " 'employee_vaccination': 0.5,\n",
       " 'resident_vaccination': 0.8,\n",
       " 'follow_up_testing_interval': None,\n",
       " 'liberating_testing': False,\n",
       " 'transmission_risk_ventilation_modifier': 1,\n",
       " 'transmission_risk_vaccination_modifier': {'reception': 0.6,\n",
       "  'transmission': 0.3},\n",
       " 'mask_filter_efficiency': {'exhale': 0.5, 'inhale': 0.7}}"
      ]
     },
     "execution_count": 70,
     "metadata": {},
     "output_type": "execute_result"
    }
   ],
   "source": [
    "measures"
   ]
  },
  {
   "cell_type": "markdown",
   "metadata": {},
   "source": [
    "### Screening parameters"
   ]
  },
  {
   "cell_type": "code",
   "execution_count": 79,
   "metadata": {},
   "outputs": [
    {
     "name": "stdout",
     "output_type": "stream",
     "text": [
      "there are 32 parameter combinations\n"
     ]
    }
   ],
   "source": [
    "# test technologies (and test result turnover times) used in the\n",
    "# different scenarios\n",
    "test_types = ['same_day_antigen']#, 'same_day_LAMP', 'same_day_PCR',\\\n",
    "              #'one_day_PCR', 'two_day_PCR']\n",
    "\n",
    "e_vaccination_probabilities = [ 0.5, 0.6, 0.7, 0.8]\n",
    "r_vaccination_probabilities = [ 0.5, 0.6, 0.7, 0.8]\n",
    "\n",
    "# specifies, whether the index case will be introduced via an\n",
    "# employee or a resident\n",
    "index_cases = ['employee', 'resident']\n",
    "\n",
    "# resident and employee streening intervals (in days)\n",
    "#e_screen_range = [2, 3, 7, None]\n",
    "#r_screen_range = [2, 3, 7, None]\n",
    "\n",
    "screening_params = [(i, j, k, l)\\\n",
    "              for i in test_types \\\n",
    "              for j in index_cases \\\n",
    "              for k in e_vaccination_probabilities \\\n",
    "              for l in r_vaccination_probabilities]\n",
    "\n",
    "print('there are {} parameter combinations'.format(len(screening_params)))"
   ]
  },
  {
   "cell_type": "code",
   "execution_count": 80,
   "metadata": {},
   "outputs": [],
   "source": [
    "def run(param_list, N_runs=100):\n",
    "    '''\n",
    "    Runs an ensemble of simulations and collects observable statistics. To be \n",
    "    run in parallel on many workers. Note: I/O paths and the number of runs per \n",
    "    ensemble hare hard coded here, because I only want to pass the parameter \n",
    "    values that are being screened in the simulation run to the function via the\n",
    "    parallel processing interface.\n",
    "    \n",
    "    Parameters:\n",
    "    -----------\n",
    "    param_list : iterable\n",
    "        Iterable that contains the values for the parameters test_type, \n",
    "        index_case, e_screen_range and r_screen_range that are passed to the\n",
    "        simulation.\n",
    "    N_runs : integer\n",
    "        Number of runs per ensemble.\n",
    "        \n",
    "    Returns:\n",
    "    --------\n",
    "    row : dictionary\n",
    "        Dictionary of the ensemble statistics of the observables.\n",
    "    '''\n",
    "\n",
    "    # paths for data I/O\n",
    "    contact_network_src = home+'/nursing_home_SEIRX/data/contact_networks'\n",
    "\n",
    "    # extract the simulation parameters from the parameter list\n",
    "    test_type, index_case, e_vaccination_probability, r_vaccination_probability = param_list\n",
    "\n",
    "    # run the ensemble with the given simulation parameters \n",
    "    ensemble_results = dcf.run_ensemble(N_runs, test_type, index_case, e_screen_interval, r_screen_interval,\n",
    "                e_vaccination_probability, r_vaccination_probability, measures,\n",
    "                simulation_params, contact_network_src)\n",
    "\n",
    "    # calculate the ensemble statistics\n",
    "    row = dcf.evaluate_ensemble(ensemble_results, test_type, index_case, e_screen_interval, r_screen_interval,\n",
    "                                e_vaccination_probability, r_vaccination_probability)\n",
    "\n",
    "    return row"
   ]
  },
  {
   "cell_type": "code",
   "execution_count": 81,
   "metadata": {},
   "outputs": [],
   "source": [
    "contact_network_src = home+'/nursing_home_SEIRX/data/contact_networks'"
   ]
  },
  {
   "cell_type": "code",
   "execution_count": 82,
   "metadata": {},
   "outputs": [
    {
     "data": {
      "text/plain": [
       "<scseirx.model_nursing_home.SEIRX_nursing_home at 0x7fb1907d9b50>"
      ]
     },
     "execution_count": 82,
     "metadata": {},
     "output_type": "execute_result"
    }
   ],
   "source": [
    "dcf.run_model('same_day_antigen', 'employee', None, None, 0.3, 0.6, measures, simulation_params, contact_network_src)"
   ]
  },
  {
   "cell_type": "code",
   "execution_count": 83,
   "metadata": {},
   "outputs": [],
   "source": [
    "e_screen_interval = None\n",
    "r_screen_interval = None"
   ]
  },
  {
   "cell_type": "code",
   "execution_count": 84,
   "metadata": {},
   "outputs": [
    {
     "name": "stderr",
     "output_type": "stream",
     "text": [
      "100%|██████████| 32/32 [00:45<00:00,  1.41s/it]\n"
     ]
    },
    {
     "name": "stdout",
     "output_type": "stream",
     "text": [
      "CPU times: user 393 ms, sys: 83.4 ms, total: 476 ms\n",
      "Wall time: 45.6 s\n"
     ]
    },
    {
     "data": {
      "text/html": [
       "<div>\n",
       "<style scoped>\n",
       "    .dataframe tbody tr th:only-of-type {\n",
       "        vertical-align: middle;\n",
       "    }\n",
       "\n",
       "    .dataframe tbody tr th {\n",
       "        vertical-align: top;\n",
       "    }\n",
       "\n",
       "    .dataframe thead th {\n",
       "        text-align: right;\n",
       "    }\n",
       "</style>\n",
       "<table border=\"1\" class=\"dataframe\">\n",
       "  <thead>\n",
       "    <tr style=\"text-align: right;\">\n",
       "      <th></th>\n",
       "      <th>test_type</th>\n",
       "      <th>index_case</th>\n",
       "      <th>resident_vaccination_probability</th>\n",
       "      <th>employee_vaccination_probability</th>\n",
       "      <th>N_diagnostic_tests_0.025</th>\n",
       "      <th>N_diagnostic_tests_0.10</th>\n",
       "      <th>N_diagnostic_tests_0.25</th>\n",
       "      <th>N_diagnostic_tests_0.75</th>\n",
       "      <th>N_diagnostic_tests_0.90</th>\n",
       "      <th>N_diagnostic_tests_0.975</th>\n",
       "      <th>...</th>\n",
       "      <th>transmissions_std</th>\n",
       "      <th>undetected_infections_0.025</th>\n",
       "      <th>undetected_infections_0.10</th>\n",
       "      <th>undetected_infections_0.25</th>\n",
       "      <th>undetected_infections_0.75</th>\n",
       "      <th>undetected_infections_0.90</th>\n",
       "      <th>undetected_infections_0.975</th>\n",
       "      <th>undetected_infections_mean</th>\n",
       "      <th>undetected_infections_median</th>\n",
       "      <th>undetected_infections_std</th>\n",
       "    </tr>\n",
       "  </thead>\n",
       "  <tbody>\n",
       "    <tr>\n",
       "      <th>0</th>\n",
       "      <td>same_day_antigen</td>\n",
       "      <td>employee</td>\n",
       "      <td>0.8</td>\n",
       "      <td>0.5</td>\n",
       "      <td>0.0</td>\n",
       "      <td>0.0</td>\n",
       "      <td>0.0</td>\n",
       "      <td>0.0</td>\n",
       "      <td>0.0</td>\n",
       "      <td>0.0</td>\n",
       "      <td>...</td>\n",
       "      <td>12.649666</td>\n",
       "      <td>0.0</td>\n",
       "      <td>0.0</td>\n",
       "      <td>0.0</td>\n",
       "      <td>0.0</td>\n",
       "      <td>0.0</td>\n",
       "      <td>0.0</td>\n",
       "      <td>0.0</td>\n",
       "      <td>0.0</td>\n",
       "      <td>0.0</td>\n",
       "    </tr>\n",
       "    <tr>\n",
       "      <th>1</th>\n",
       "      <td>same_day_antigen</td>\n",
       "      <td>employee</td>\n",
       "      <td>0.7</td>\n",
       "      <td>0.5</td>\n",
       "      <td>0.0</td>\n",
       "      <td>0.0</td>\n",
       "      <td>0.0</td>\n",
       "      <td>0.0</td>\n",
       "      <td>0.0</td>\n",
       "      <td>0.0</td>\n",
       "      <td>...</td>\n",
       "      <td>14.576427</td>\n",
       "      <td>0.0</td>\n",
       "      <td>0.0</td>\n",
       "      <td>0.0</td>\n",
       "      <td>0.0</td>\n",
       "      <td>0.0</td>\n",
       "      <td>0.0</td>\n",
       "      <td>0.0</td>\n",
       "      <td>0.0</td>\n",
       "      <td>0.0</td>\n",
       "    </tr>\n",
       "    <tr>\n",
       "      <th>2</th>\n",
       "      <td>same_day_antigen</td>\n",
       "      <td>employee</td>\n",
       "      <td>0.6</td>\n",
       "      <td>0.5</td>\n",
       "      <td>0.0</td>\n",
       "      <td>0.0</td>\n",
       "      <td>0.0</td>\n",
       "      <td>0.0</td>\n",
       "      <td>0.0</td>\n",
       "      <td>0.0</td>\n",
       "      <td>...</td>\n",
       "      <td>15.542890</td>\n",
       "      <td>0.0</td>\n",
       "      <td>0.0</td>\n",
       "      <td>0.0</td>\n",
       "      <td>0.0</td>\n",
       "      <td>0.0</td>\n",
       "      <td>0.0</td>\n",
       "      <td>0.0</td>\n",
       "      <td>0.0</td>\n",
       "      <td>0.0</td>\n",
       "    </tr>\n",
       "  </tbody>\n",
       "</table>\n",
       "<p>3 rows × 130 columns</p>\n",
       "</div>"
      ],
      "text/plain": [
       "          test_type index_case  resident_vaccination_probability  \\\n",
       "0  same_day_antigen   employee                               0.8   \n",
       "1  same_day_antigen   employee                               0.7   \n",
       "2  same_day_antigen   employee                               0.6   \n",
       "\n",
       "   employee_vaccination_probability  N_diagnostic_tests_0.025  \\\n",
       "0                               0.5                       0.0   \n",
       "1                               0.5                       0.0   \n",
       "2                               0.5                       0.0   \n",
       "\n",
       "   N_diagnostic_tests_0.10  N_diagnostic_tests_0.25  N_diagnostic_tests_0.75  \\\n",
       "0                      0.0                      0.0                      0.0   \n",
       "1                      0.0                      0.0                      0.0   \n",
       "2                      0.0                      0.0                      0.0   \n",
       "\n",
       "   N_diagnostic_tests_0.90  N_diagnostic_tests_0.975  ...  transmissions_std  \\\n",
       "0                      0.0                       0.0  ...          12.649666   \n",
       "1                      0.0                       0.0  ...          14.576427   \n",
       "2                      0.0                       0.0  ...          15.542890   \n",
       "\n",
       "   undetected_infections_0.025  undetected_infections_0.10  \\\n",
       "0                          0.0                         0.0   \n",
       "1                          0.0                         0.0   \n",
       "2                          0.0                         0.0   \n",
       "\n",
       "   undetected_infections_0.25  undetected_infections_0.75  \\\n",
       "0                         0.0                         0.0   \n",
       "1                         0.0                         0.0   \n",
       "2                         0.0                         0.0   \n",
       "\n",
       "   undetected_infections_0.90  undetected_infections_0.975  \\\n",
       "0                         0.0                          0.0   \n",
       "1                         0.0                          0.0   \n",
       "2                         0.0                          0.0   \n",
       "\n",
       "   undetected_infections_mean  undetected_infections_median  \\\n",
       "0                         0.0                           0.0   \n",
       "1                         0.0                           0.0   \n",
       "2                         0.0                           0.0   \n",
       "\n",
       "   undetected_infections_std  \n",
       "0                        0.0  \n",
       "1                        0.0  \n",
       "2                        0.0  \n",
       "\n",
       "[3 rows x 130 columns]"
      ]
     },
     "execution_count": 84,
     "metadata": {},
     "output_type": "execute_result"
    }
   ],
   "source": [
    "%%time\n",
    "number_of_cores = psutil.cpu_count(logical=True) - 2 \n",
    "pool = Pool(number_of_cores)\n",
    "\n",
    "#rows = pool.imap_unordered(run, screening_params)\n",
    "rows = []\n",
    "for row in tqdm(pool.imap_unordered(func=run, iterable=screening_params),\n",
    "                total=len(screening_params)):\n",
    "        rows.append(row)\n",
    "\n",
    "# turn off your parallel workers \n",
    "pool.close()\n",
    "\n",
    "# format and dump the results to disk\n",
    "dst = home+'/nursing_home_SEIRX/data/simulation_results'\n",
    "results = pd.DataFrame()\n",
    "for row in rows:\n",
    "    results = results.append(row, ignore_index=True)\n",
    "    \n",
    "results.reset_index()\n",
    "index_cols = ['test_type', 'index_case',\n",
    "              'resident_vaccination_probability', 'employee_vaccination_probability']\n",
    "              #'resident_screen_interval', 'employee_screen_interval']\n",
    "other_cols = [c for c in results.columns if c not in index_cols]\n",
    "results = results[index_cols + other_cols]\n",
    "\n",
    "#results.to_csv(join(dst,'simulations_test_technology_screening_interval.csv'),\n",
    "               #index=False)\n",
    "results.head(3)"
   ]
  },
  {
   "cell_type": "code",
   "execution_count": 85,
   "metadata": {},
   "outputs": [],
   "source": [
    "dst = home+'/nursing_home_SEIRX/data/simulation_results'"
   ]
  },
  {
   "cell_type": "code",
   "execution_count": 86,
   "metadata": {
    "scrolled": true
   },
   "outputs": [],
   "source": [
    "results.to_csv(join(dst,'simulations_test_technology_screening_interval.csv'),\n",
    "               index=False)"
   ]
  },
  {
   "cell_type": "code",
   "execution_count": null,
   "metadata": {},
   "outputs": [],
   "source": []
  }
 ],
 "metadata": {
  "kernelspec": {
   "display_name": "Python 3",
   "language": "python",
   "name": "python3"
  },
  "language_info": {
   "codemirror_mode": {
    "name": "ipython",
    "version": 3
   },
   "file_extension": ".py",
   "mimetype": "text/x-python",
   "name": "python",
   "nbconvert_exporter": "python",
   "pygments_lexer": "ipython3",
   "version": "3.8.5"
  }
 },
 "nbformat": 4,
 "nbformat_minor": 4
}
