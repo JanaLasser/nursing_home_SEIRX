{
 "cells": [
  {
   "cell_type": "markdown",
   "metadata": {},
   "source": [
    "# SEIRX model runs for test technology and screening frequency investigation"
   ]
  },
  {
   "cell_type": "code",
   "execution_count": 11,
   "metadata": {},
   "outputs": [],
   "source": [
    "import networkx as nx\n",
    "import pandas as pd\n",
    "from os.path import join\n",
    "import json\n",
    "\n",
    "# parallelisation functionality\n",
    "from multiprocess import Pool\n",
    "import psutil\n",
    "from tqdm import tqdm\n",
    "\n",
    "# custom functionality\n",
    "#import os\n",
    "#from os.path import expanduser\n",
    "#home = expanduser(\"~\")\n",
    "#os.chdir(home+'/Projects/COVID_agent_based_simulation/small_community_SEIRX/src/')\n",
    "#os.getcwd()\n",
    "from scseirx.model_nursing_home import SEIRX_nursing_home # agent-based simulation\n",
    "from scseirx import analysis_functions as af # custom analysis functions\n",
    "import data_creation_functions_vaccination as dcf\n",
    "\n",
    "from importlib import reload"
   ]
  },
  {
   "cell_type": "markdown",
   "metadata": {},
   "source": [
    "## Parameters"
   ]
  },
  {
   "cell_type": "markdown",
   "metadata": {},
   "source": [
    "### Simulation parameters and measures in place"
   ]
  },
  {
   "cell_type": "code",
   "execution_count": 12,
   "metadata": {},
   "outputs": [],
   "source": [
    "with open('params/screening_frequency_simulation_parameters.json') as json_file:\n",
    "    simulation_params = json.load(json_file)\n",
    "    \n",
    "with open('params/screening_frequency_measures.json') as json_file:\n",
    "    measures = json.load(json_file)\n"
   ]
  },
  {
   "cell_type": "markdown",
   "metadata": {},
   "source": [
    "### Screening parameters"
   ]
  },
  {
   "cell_type": "code",
   "execution_count": 13,
   "metadata": {},
   "outputs": [
    {
     "name": "stdout",
     "output_type": "stream",
     "text": [
      "there are 242 parameter combinations\n"
     ]
    }
   ],
   "source": [
    "e_vaccination_probabilities = [0.0, 0.1, 0.2, 0.3, 0.4, 0.5, 0.6, 0.7, 0.8, 0.9, 1.0]\n",
    "r_vaccination_probabilities = [0.0, 0.1, 0.2, 0.3, 0.4, 0.5, 0.6, 0.7, 0.8, 0.9, 1.0]\n",
    "\n",
    "# specifies, whether the index case will be introduced via an\n",
    "# employee or a resident\n",
    "index_cases = ['employee', 'resident']\n",
    "\n",
    "screening_params = [(i, j, k)\\\n",
    "              for i in index_cases \\\n",
    "              for j in e_vaccination_probabilities \\\n",
    "              for k in r_vaccination_probabilities]\n",
    "\n",
    "print('there are {} parameter combinations'.format(len(screening_params)))"
   ]
  },
  {
   "cell_type": "code",
   "execution_count": 14,
   "metadata": {},
   "outputs": [],
   "source": [
    "def run(param_list, N_runs=10):\n",
    "    '''\n",
    "    Runs an ensemble of simulations and collects observable statistics. To be \n",
    "    run in parallel on many workers. Note: I/O paths and the number of runs per \n",
    "    ensemble hare hard coded here, because I only want to pass the parameter \n",
    "    values that are being screened in the simulation run to the function via the\n",
    "    parallel processing interface.\n",
    "    \n",
    "    Parameters:\n",
    "    -----------\n",
    "    param_list : iterable\n",
    "        Iterable that contains the values for the parameters test_type, \n",
    "        index_case, e_screen_range and r_screen_range that are passed to the\n",
    "        simulation.\n",
    "    N_runs : integer\n",
    "        Number of runs per ensemble.\n",
    "        \n",
    "    Returns:\n",
    "    --------\n",
    "    row : dictionary\n",
    "        Dictionary of the ensemble statistics of the observables.\n",
    "    '''\n",
    "\n",
    "    # paths for data I/O\n",
    "    contact_network_src = '../data/contact_networks'\n",
    "\n",
    "    # extract the simulation parameters from the parameter list\n",
    "    index_case, e_vaccination_probability, r_vaccination_probability = param_list\n",
    "\n",
    "    # run the ensemble with the given simulation parameters \n",
    "    ensemble_results = dcf.run_ensemble(N_runs, index_case, \n",
    "                e_vaccination_probability, r_vaccination_probability, measures,\n",
    "                simulation_params, contact_network_src)\n",
    "\n",
    "    # calculate the ensemble statistics\n",
    "    row = dcf.evaluate_ensemble(ensemble_results, index_case,\n",
    "                        e_vaccination_probability, r_vaccination_probability)\n",
    "\n",
    "    return row"
   ]
  },
  {
   "cell_type": "code",
   "execution_count": 15,
   "metadata": {},
   "outputs": [
    {
     "name": "stderr",
     "output_type": "stream",
     "text": [
      "100%|██████████| 242/242 [00:42<00:00,  5.76it/s]\n"
     ]
    },
    {
     "name": "stdout",
     "output_type": "stream",
     "text": [
      "CPU times: user 3.2 s, sys: 221 ms, total: 3.42 s\n",
      "Wall time: 44.8 s\n"
     ]
    },
    {
     "data": {
      "text/html": [
       "<div>\n",
       "<style scoped>\n",
       "    .dataframe tbody tr th:only-of-type {\n",
       "        vertical-align: middle;\n",
       "    }\n",
       "\n",
       "    .dataframe tbody tr th {\n",
       "        vertical-align: top;\n",
       "    }\n",
       "\n",
       "    .dataframe thead th {\n",
       "        text-align: right;\n",
       "    }\n",
       "</style>\n",
       "<table border=\"1\" class=\"dataframe\">\n",
       "  <thead>\n",
       "    <tr style=\"text-align: right;\">\n",
       "      <th></th>\n",
       "      <th>index_case</th>\n",
       "      <th>resident_vaccination_probability</th>\n",
       "      <th>employee_vaccination_probability</th>\n",
       "      <th>N_diagnostic_tests_0.025</th>\n",
       "      <th>N_diagnostic_tests_0.10</th>\n",
       "      <th>N_diagnostic_tests_0.25</th>\n",
       "      <th>N_diagnostic_tests_0.75</th>\n",
       "      <th>N_diagnostic_tests_0.90</th>\n",
       "      <th>N_diagnostic_tests_0.975</th>\n",
       "      <th>N_diagnostic_tests_mean</th>\n",
       "      <th>...</th>\n",
       "      <th>transmissions_std</th>\n",
       "      <th>undetected_infections_0.025</th>\n",
       "      <th>undetected_infections_0.10</th>\n",
       "      <th>undetected_infections_0.25</th>\n",
       "      <th>undetected_infections_0.75</th>\n",
       "      <th>undetected_infections_0.90</th>\n",
       "      <th>undetected_infections_0.975</th>\n",
       "      <th>undetected_infections_mean</th>\n",
       "      <th>undetected_infections_median</th>\n",
       "      <th>undetected_infections_std</th>\n",
       "    </tr>\n",
       "  </thead>\n",
       "  <tbody>\n",
       "    <tr>\n",
       "      <th>0</th>\n",
       "      <td>employee</td>\n",
       "      <td>1.0</td>\n",
       "      <td>0.0</td>\n",
       "      <td>0.0</td>\n",
       "      <td>0.0</td>\n",
       "      <td>0.0</td>\n",
       "      <td>0.0</td>\n",
       "      <td>0.0</td>\n",
       "      <td>0.0</td>\n",
       "      <td>0.0</td>\n",
       "      <td>...</td>\n",
       "      <td>12.392202</td>\n",
       "      <td>0.0</td>\n",
       "      <td>0.0</td>\n",
       "      <td>0.0</td>\n",
       "      <td>0.0</td>\n",
       "      <td>0.0</td>\n",
       "      <td>0.0</td>\n",
       "      <td>0.0</td>\n",
       "      <td>0.0</td>\n",
       "      <td>0.0</td>\n",
       "    </tr>\n",
       "    <tr>\n",
       "      <th>1</th>\n",
       "      <td>employee</td>\n",
       "      <td>0.9</td>\n",
       "      <td>0.0</td>\n",
       "      <td>0.0</td>\n",
       "      <td>0.0</td>\n",
       "      <td>0.0</td>\n",
       "      <td>0.0</td>\n",
       "      <td>0.0</td>\n",
       "      <td>0.0</td>\n",
       "      <td>0.0</td>\n",
       "      <td>...</td>\n",
       "      <td>14.581571</td>\n",
       "      <td>0.0</td>\n",
       "      <td>0.0</td>\n",
       "      <td>0.0</td>\n",
       "      <td>0.0</td>\n",
       "      <td>0.0</td>\n",
       "      <td>0.0</td>\n",
       "      <td>0.0</td>\n",
       "      <td>0.0</td>\n",
       "      <td>0.0</td>\n",
       "    </tr>\n",
       "    <tr>\n",
       "      <th>2</th>\n",
       "      <td>employee</td>\n",
       "      <td>0.2</td>\n",
       "      <td>0.1</td>\n",
       "      <td>0.0</td>\n",
       "      <td>0.0</td>\n",
       "      <td>0.0</td>\n",
       "      <td>0.0</td>\n",
       "      <td>0.0</td>\n",
       "      <td>0.0</td>\n",
       "      <td>0.0</td>\n",
       "      <td>...</td>\n",
       "      <td>23.103872</td>\n",
       "      <td>0.0</td>\n",
       "      <td>0.0</td>\n",
       "      <td>0.0</td>\n",
       "      <td>0.0</td>\n",
       "      <td>0.0</td>\n",
       "      <td>0.0</td>\n",
       "      <td>0.0</td>\n",
       "      <td>0.0</td>\n",
       "      <td>0.0</td>\n",
       "    </tr>\n",
       "  </tbody>\n",
       "</table>\n",
       "<p>3 rows × 129 columns</p>\n",
       "</div>"
      ],
      "text/plain": [
       "  index_case  resident_vaccination_probability  \\\n",
       "0   employee                               1.0   \n",
       "1   employee                               0.9   \n",
       "2   employee                               0.2   \n",
       "\n",
       "   employee_vaccination_probability  N_diagnostic_tests_0.025  \\\n",
       "0                               0.0                       0.0   \n",
       "1                               0.0                       0.0   \n",
       "2                               0.1                       0.0   \n",
       "\n",
       "   N_diagnostic_tests_0.10  N_diagnostic_tests_0.25  N_diagnostic_tests_0.75  \\\n",
       "0                      0.0                      0.0                      0.0   \n",
       "1                      0.0                      0.0                      0.0   \n",
       "2                      0.0                      0.0                      0.0   \n",
       "\n",
       "   N_diagnostic_tests_0.90  N_diagnostic_tests_0.975  N_diagnostic_tests_mean  \\\n",
       "0                      0.0                       0.0                      0.0   \n",
       "1                      0.0                       0.0                      0.0   \n",
       "2                      0.0                       0.0                      0.0   \n",
       "\n",
       "   ...  transmissions_std  undetected_infections_0.025  \\\n",
       "0  ...          12.392202                          0.0   \n",
       "1  ...          14.581571                          0.0   \n",
       "2  ...          23.103872                          0.0   \n",
       "\n",
       "   undetected_infections_0.10  undetected_infections_0.25  \\\n",
       "0                         0.0                         0.0   \n",
       "1                         0.0                         0.0   \n",
       "2                         0.0                         0.0   \n",
       "\n",
       "   undetected_infections_0.75  undetected_infections_0.90  \\\n",
       "0                         0.0                         0.0   \n",
       "1                         0.0                         0.0   \n",
       "2                         0.0                         0.0   \n",
       "\n",
       "   undetected_infections_0.975  undetected_infections_mean  \\\n",
       "0                          0.0                         0.0   \n",
       "1                          0.0                         0.0   \n",
       "2                          0.0                         0.0   \n",
       "\n",
       "   undetected_infections_median  undetected_infections_std  \n",
       "0                           0.0                        0.0  \n",
       "1                           0.0                        0.0  \n",
       "2                           0.0                        0.0  \n",
       "\n",
       "[3 rows x 129 columns]"
      ]
     },
     "execution_count": 15,
     "metadata": {},
     "output_type": "execute_result"
    }
   ],
   "source": [
    "%%time\n",
    "number_of_cores = psutil.cpu_count(logical=True) - 2 \n",
    "pool = Pool(number_of_cores)\n",
    "\n",
    "#rows = pool.imap_unordered(run, screening_params)\n",
    "rows = []\n",
    "for row in tqdm(pool.imap_unordered(func=run, iterable=screening_params),\n",
    "                total=len(screening_params)):\n",
    "        rows.append(row)\n",
    "\n",
    "# turn off your parallel workers \n",
    "pool.close()\n",
    "\n",
    "# format and dump the results to disk\n",
    "results = pd.DataFrame()\n",
    "for row in rows:\n",
    "    results = results.append(row, ignore_index=True)\n",
    "    \n",
    "results.reset_index()\n",
    "index_cols = ['index_case',\n",
    "              'resident_vaccination_probability', 'employee_vaccination_probability']\n",
    "              #'resident_screen_interval', 'employee_screen_interval']\n",
    "other_cols = [c for c in results.columns if c not in index_cols]\n",
    "results = results[index_cols + other_cols]\n",
    "\n",
    "#results.to_csv(join(dst,'simulations_test_technology_screening_interval.csv'),\n",
    "               #index=False)\n",
    "results.head(3)"
   ]
  },
  {
   "cell_type": "code",
   "execution_count": 16,
   "metadata": {},
   "outputs": [],
   "source": [
    "dst = '../data/simulation_results'"
   ]
  },
  {
   "cell_type": "code",
   "execution_count": 17,
   "metadata": {
    "scrolled": true
   },
   "outputs": [],
   "source": [
    "results.to_csv(join(dst,'simulations_vaccination_rate.csv'),\n",
    "               index=False)"
   ]
  }
 ],
 "metadata": {
  "kernelspec": {
   "display_name": "Python 3",
   "language": "python",
   "name": "python3"
  },
  "language_info": {
   "codemirror_mode": {
    "name": "ipython",
    "version": 3
   },
   "file_extension": ".py",
   "mimetype": "text/x-python",
   "name": "python",
   "nbconvert_exporter": "python",
   "pygments_lexer": "ipython3",
   "version": "3.8.8"
  }
 },
 "nbformat": 4,
 "nbformat_minor": 4
}
