{
 "cells": [
  {
   "cell_type": "markdown",
   "metadata": {},
   "source": [
    "# Simulation data analysis"
   ]
  },
  {
   "cell_type": "code",
   "execution_count": 45,
   "metadata": {},
   "outputs": [],
   "source": [
    "import pandas as pd\n",
    "import matplotlib.pyplot as plt\n",
    "import numpy as np\n",
    "import seaborn as sns\n",
    "from os.path import join\n",
    "from mpl_toolkits.axes_grid1 import make_axes_locatable\n",
    "import matplotlib.gridspec as gridspec"
   ]
  },
  {
   "cell_type": "code",
   "execution_count": 46,
   "metadata": {},
   "outputs": [],
   "source": [
    "res_path = '../../results/nursing_homes'"
   ]
  },
  {
   "cell_type": "code",
   "execution_count": 161,
   "metadata": {},
   "outputs": [],
   "source": [
    "def get_image_turnonver_time(df, subset, metric):\n",
    "    subset = df.loc[subset]\n",
    "    img = np.zeros((4,4))\n",
    "    screening_intervals = ['keine', 'ein mal\\npro Woche', 'alle\\n3 Tage', 'alle\\n2 Tage']\n",
    "    for i, p_index in enumerate(screening_intervals):\n",
    "        for j, e_index in enumerate(screening_intervals):\n",
    "            img[i, j] = subset.loc[p_index, e_index][metric] - 1\n",
    "    return img\n",
    "\n",
    "def plot_heatmap_turnover_time(ax, img, vmin, vmax):\n",
    "    cmap = plt.get_cmap('coolwarm')\n",
    "    #im = ax.imshow(img, origin='lower', vmin=np.floor(img.min()),\n",
    "    #               vmax=np.ceil(img.max()), cmap=cmap)\n",
    "    im = ax.imshow(img, origin='lower', vmin=vmin, vmax=vmax, cmap=cmap)\n",
    "    \n",
    "    ax.set_xticks(range(len(screening_intervals)))\n",
    "    ax.set_yticks(range(len(screening_intervals)))\n",
    "    ax.set_xticklabels(screening_intervals, fontsize=7)\n",
    "    ax.set_yticklabels(screening_intervals, fontsize=7)\n",
    "    ax.tick_params(axis='x', rotation=90)\n",
    "    ax.set_xlabel('Testfrequenz Mitarbeitende')\n",
    "    ax.set_ylabel('Testfrequenz Bewohner')\n",
    "    \n",
    "    return im\n",
    "\n",
    "frequency_name_map = {np.nan:'keine',\n",
    "              2:'alle\\n2 Tage',\n",
    "              3:'alle\\n3 Tage',\n",
    "              7:'ein mal\\npro Woche'}\n",
    "\n",
    "test_name_map = {'same_day_antigen':'same-day antigen', 'one_day_PCR':'ein Tag PCR',\n",
    "             'two_day_PCR':'zwei Tage PCR', 'same_day_PCR':'same-day PCR',\n",
    "             'same_day_LAMP':'same-day LAMP'}\n",
    "\n",
    "metric_name_map = {'infected_residents_mean':'Folgefälle Bewohner (Mittelwert)',\n",
    "                   'infected_residents_median':'Folgefälle Bewohner (Median)',\n",
    "                   'R0_mean':'$R_0$',\n",
    "                   'R0_mean':'$R_0$'}\n",
    "\n",
    "index_case_map = {'single_employee':'Indexfälle durch Mitarbeitende',\n",
    "                  'single_resident':'Indexfälle durch Bewohner*innen'}\n",
    "\n",
    "screening_intervals = ['keine', 'ein mal\\npro Woche', 'alle\\n3 Tage', 'alle\\n2 Tage']"
   ]
  },
  {
   "cell_type": "markdown",
   "metadata": {},
   "source": [
    "## Follow up interval"
   ]
  },
  {
   "cell_type": "code",
   "execution_count": 153,
   "metadata": {},
   "outputs": [],
   "source": [
    "def get_image_follow_up_interval(df, subset, metric):\n",
    "    subset = df.loc[subset]\n",
    "    img = np.zeros((3,5))\n",
    "    follow_ip_intervals = [6, 5, 4, 3, 2]\n",
    "    test_types = ['same_day_PCR', 'one_day_PCR', 'two_day_PCR']\n",
    "    for i, t_index in enumerate(test_types):\n",
    "        for j, f_index in enumerate(follow_ip_intervals):\n",
    "            img[i, j] = subset.loc[t_index, f_index][metric] - 1\n",
    "    return img\n",
    "\n",
    "def plot_heatmap_follow_up_interval(ax, img, vmin, vmax):\n",
    "    cmap = plt.get_cmap('coolwarm')\n",
    "    #im = ax.imshow(img, origin='lower', vmin=np.floor(img.min()),\n",
    "    #               vmax=np.ceil(img.max()), cmap=cmap)\n",
    "    im = ax.imshow(img, origin='lower', vmin=vmin, vmax=vmax, cmap=cmap)\n",
    "    \n",
    "    follow_up_intervals = [6, 5, 4, 3, 2]\n",
    "    test_types = ['same_day_PCR', 'one_day_PCR', 'two_day_PCR']\n",
    "    test_type_names = [test_name_map[test] for test in test_types]\n",
    "    ax.set_xticks(range(len(follow_up_intervals)))\n",
    "    ax.set_yticks(range(len(test_type_names)))\n",
    "    ax.set_xticklabels(follow_up_intervals, fontsize=7)\n",
    "    ax.set_yticklabels(test_type_names, fontsize=7)\n",
    "    ax.tick_params(axis='x', rotation=90)\n",
    "    ax.set_xlabel('Follow-up scan interval')\n",
    "    ax.set_ylabel('Test turnover time')\n",
    "    \n",
    "    return im"
   ]
  },
  {
   "cell_type": "code",
   "execution_count": 154,
   "metadata": {},
   "outputs": [],
   "source": [
    "sim_name = 'follow_up_interval'\n",
    "N = 200\n",
    "data = pd.read_csv(join(res_path,'simulation_results/{}_N{}.csv'.format(sim_name, N)))\n",
    "\n",
    "tuples = [(r['index_case_mode'], r['test_type'], r['follow_up_interval'])\\\n",
    "             for i,r in data.iterrows()]\n",
    "index = pd.MultiIndex.from_tuples(tuples,\\\n",
    "                        names=['index_case_mode', 'test_type', 'follow_up_interval'])\n",
    "data = data.set_index(index)"
   ]
  },
  {
   "cell_type": "code",
   "execution_count": 156,
   "metadata": {},
   "outputs": [
    {
     "data": {
      "image/png": "[encoded data removed]",
      "text/plain": [
       "<Figure size 1440x360 with 4 Axes>"
      ]
     },
     "metadata": {
      "needs_background": "light"
     },
     "output_type": "display_data"
    }
   ],
   "source": [
    "metric = 'infected_residents_mean'\n",
    "fig, axes = plt.subplots(1, 2, figsize=(20, 5))\n",
    "\n",
    "vmin = 1\n",
    "vmax = 21\n",
    "tickstep = 3\n",
    "\n",
    "\n",
    "for ax, index_case_mode in zip(axes, data['index_case_mode'].unique()):\n",
    "    img = get_image_follow_up_interval(data, index_case_mode, metric)\n",
    "    img_plot = plot_heatmap_follow_up_interval(ax, img, vmin, vmax)\n",
    "\n",
    "    # colorbar\n",
    "    divider = make_axes_locatable(ax)\n",
    "    cax = divider.append_axes('right', size='5%', pad=0.05)\n",
    "    #cbar = fig.colorbar(img_plot, cax=cax, orientation='vertical',\\\n",
    "    #                ticks=np.arange(np.floor(img.min()), np.ceil(img.max()) + 1))\n",
    "    cbar = fig.colorbar(img_plot, cax=cax, orientation='vertical',\\\n",
    "                    ticks=np.arange(vmin, vmax + 1, tickstep))\n",
    "    #cbar.ax.set_yticklabels(['{:d}'.format(int(i)) for \\\n",
    "    #                i in np.arange(np.floor(img.min()), np.ceil(img.max()) + 1)])\n",
    "    cbar.set_label('{}'.format(metric_name_map[metric]), fontsize=8)\n",
    "\n",
    "    ax.set_title('{}'\\\n",
    "            .format(index_case_map[index_case_mode]), fontsize=14)\n",
    "\n",
    "plt.savefig(join(res_path, 'plots/{}_{}.pdf'.format(sim_name, metric)),\n",
    "       transparent=True)"
   ]
  },
  {
   "cell_type": "code",
   "execution_count": null,
   "metadata": {},
   "outputs": [],
   "source": []
  }
 ],
 "metadata": {
  "kernelspec": {
   "display_name": "Python 3",
   "language": "python",
   "name": "python3"
  },
  "language_info": {
   "codemirror_mode": {
    "name": "ipython",
    "version": 3
   },
   "file_extension": ".py",
   "mimetype": "text/x-python",
   "name": "python",
   "nbconvert_exporter": "python",
   "pygments_lexer": "ipython3",
   "version": "3.8.2"
  }
 },
 "nbformat": 4,
 "nbformat_minor": 4
}
