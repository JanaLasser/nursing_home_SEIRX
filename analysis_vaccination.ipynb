{
 "cells": [
  {
   "cell_type": "markdown",
   "metadata": {},
   "source": [
    "# Analysis of SEIRX model runs for test technology and screening frequency"
   ]
  },
  {
   "cell_type": "code",
   "execution_count": 29,
   "metadata": {},
   "outputs": [],
   "source": [
    "import pandas as pd\n",
    "import matplotlib.pyplot as plt\n",
    "import numpy as np\n",
    "from os.path import join\n",
    "import matplotlib as mpl\n",
    "from mpl_toolkits.axes_grid1 import make_axes_locatable"
   ]
  },
  {
   "cell_type": "markdown",
   "metadata": {},
   "source": [
    "### Utility functions for plotting"
   ]
  },
  {
   "cell_type": "code",
   "execution_count": 16,
   "metadata": {},
   "outputs": [],
   "source": [
    "def get_image(df, metric):\n",
    "    vaccination_rates = ['100 %','90 %','80 %','70 %','60 %','50 %','40 %',\n",
    "                           '30 %','20 %','10 %','0 %']\n",
    "    img = np.zeros((len(vaccination_rates), len(vaccination_rates)))\n",
    "    for i, p_index in enumerate(vaccination_rates):\n",
    "        for j, e_index in enumerate(vaccination_rates):\n",
    "            img[i, j] = df.loc[p_index, e_index][metric]\n",
    "    return img\n",
    "\n",
    "def plot_heatmap_turnover_time(ax, img, vmin, vmax, xticks, yticks):\n",
    "    cmap = plt.get_cmap('coolwarm')\n",
    "    im = ax.imshow(img, origin='lower', vmin=vmin, vmax=vmax, cmap=cmap)\n",
    "    \n",
    "    if xticks:\n",
    "        ax.set_xticks(range(len(screening_intervals)))\n",
    "        ax.set_xticklabels(screening_intervals, fontsize=9)\n",
    "        ax.set_xlabel('vaccinated employees', fontsize=12)\n",
    "    else:\n",
    "        ax.set_xticks([])\n",
    "    if yticks:    \n",
    "        ax.set_yticks(range(len(screening_intervals)))\n",
    "        ax.set_yticklabels(screening_intervals, fontsize=9)\n",
    "        ax.set_ylabel('vaccinated residents', fontsize=12)\n",
    "    else:\n",
    "        ax.set_yticks([])\n",
    "    \n",
    "    return im\n",
    "\n",
    "def annotate_heatmap(ax, img):\n",
    "    for i in range(img.shape[0]):\n",
    "        for j in range(img.shape[1]):\n",
    "            y_pos = i - 0.05\n",
    "            x_pos = j - 0.15\n",
    "            ax.text(x_pos, y_pos, '{:1.2f}'.format(img[i, j]))"
   ]
  },
  {
   "cell_type": "markdown",
   "metadata": {},
   "source": [
    "### Mappings of variables to nicer labels for plots"
   ]
  },
  {
   "cell_type": "code",
   "execution_count": 4,
   "metadata": {},
   "outputs": [],
   "source": [
    "frequency_name_map = {\n",
    "              1.0:'100 %',\n",
    "              0.9:'90 %',\n",
    "              0.8:'80 %',\n",
    "              0.7:'70 %',\n",
    "              0.6:'60 %',\n",
    "              0.5:'50 %',\n",
    "              0.4:'40 %',\n",
    "              0.3:'30 %',\n",
    "              0.2:'20 %',\n",
    "              0.1:'10 %',\n",
    "              0.0:'0 %'}\n",
    "\n",
    "metric_name_map = {'infected_residents_mean':'follow-up cases residents (mean)',\n",
    "                   'infected_residents_median':'follow-up cases residends (median)',\n",
    "                   'infected_residents_0.90':'follow-up cases residents (90th percentile)',\n",
    "                   'R0_mean':'$R_0$',\n",
    "                   'R0_mean':'$R_0$'}\n",
    "\n",
    "index_case_map = {'employee':'index case employee',\n",
    "                  'resident':'index case resident'}\n",
    "\n",
    "screening_intervals = ['100 %','90 %','80 %','70 %','60 %','50 %','40 %',\n",
    "                           '30 %','20 %','10 %','0 %']"
   ]
  },
  {
   "cell_type": "markdown",
   "metadata": {},
   "source": [
    "### Data loading and wrangling"
   ]
  },
  {
   "cell_type": "code",
   "execution_count": 5,
   "metadata": {},
   "outputs": [],
   "source": [
    "res_path = '../data/simulation_results'\n",
    "dst_path = '../plots'\n",
    "sim_name = 'simulations_vaccination_rate'\n",
    "data = pd.read_csv(join(res_path,'{}.csv'.format(sim_name)))"
   ]
  },
  {
   "cell_type": "code",
   "execution_count": 6,
   "metadata": {},
   "outputs": [],
   "source": [
    "# replace strings with strings that are nicer for plotting\n",
    "data['resident_vaccination_probability'] = data['resident_vaccination_probability']\\\n",
    "    .replace(frequency_name_map)\n",
    "data['employee_vaccination_probability'] = data['employee_vaccination_probability']\\\n",
    "    .replace(frequency_name_map)\n",
    "\n",
    "# set a multi-index to facilitate access to different scenarios that were simulated\n",
    "tuples = [(r['resident_vaccination_probability'],\\\n",
    "           r['employee_vaccination_probability']) for i,r in data.iterrows()]\n",
    "index = pd.MultiIndex.from_tuples(tuples,\\\n",
    "    names=['resident_vaccination_probability', 'employee_vaccination_probability'])\n",
    "data = data.set_index(index)"
   ]
  },
  {
   "cell_type": "markdown",
   "metadata": {},
   "source": [
    "## Different test technologies"
   ]
  },
  {
   "cell_type": "code",
   "execution_count": 40,
   "metadata": {},
   "outputs": [
    {
     "data": {
      "image/png": "[encoded data removed]",
      "text/plain": [
       "<Figure size 1080x648 with 4 Axes>"
      ]
     },
     "metadata": {
      "needs_background": "light"
     },
     "output_type": "display_data"
    }
   ],
   "source": [
    "metric = 'infected_residents_0.90'\n",
    "sim_name = 'simulation_results'\n",
    "\n",
    "# figure layout & axis setup\n",
    "fig, axes = plt.subplots(1, 2, figsize=(15, 9))\n",
    "\n",
    "vmin=0\n",
    "vmax=35\n",
    "vstep=5\n",
    "\n",
    "# compare scenarios in which either employees or residents are the index case\n",
    "for i, index_case_mode, ax in zip([0, 1], ['employee', 'resident'], axes):\n",
    "    df = data[data['index_case'] == index_case_mode]\n",
    "    \n",
    "    ax.set_title(index_case_map[index_case_mode], fontsize=20)\n",
    "        \n",
    "    # set flag to set axis ticks only for heatmaps at the boundaries of \n",
    "    # the figure\n",
    "    xticks = True\n",
    "    yticks = False\n",
    "    if i == 0:\n",
    "        yticks = True\n",
    "\n",
    "    # plot heatmap of the scenario\n",
    "    img = get_image(df, metric)\n",
    "    if index_case_mode == 'resident':\n",
    "        # if a resident is the index case, we need to subtract 1 from the\n",
    "        # number of infected residents, to calculate the \"outbreak size\",\n",
    "        # which is defined as the number of FOLLOW-UP cases, given an index\n",
    "        # case\n",
    "        img = img - 1\n",
    "    img_plot = plot_heatmap_turnover_time(ax,img,vmin,vmax,xticks,yticks)\n",
    "        \n",
    "# colorbar\n",
    "divider = make_axes_locatable(axes[1])\n",
    "cbar_ax = divider.append_axes('right', size='5%', pad=0.05)\n",
    "\n",
    "norm = mpl.colors.Normalize(vmin=vmin,vmax=vmax)\n",
    "sm = plt.cm.ScalarMappable(cmap= plt.get_cmap('coolwarm'), norm=norm)\n",
    "cbar = fig.colorbar(sm, cax=cbar_ax, orientation='vertical',\\\n",
    "                        ticks=np.arange(vmin, vmax + 1, vstep))\n",
    "yticklabels = list(range(vmin, vmax, vstep)) + ['$\\geq {}$'.format(vmax)]\n",
    "cbar.ax.set_yticklabels(yticklabels)\n",
    "cbar.set_label('{}'.format(metric_name_map[metric]), fontsize=12)      \n",
    "\n",
    "# dummy axis to preserve spacing\n",
    "divider = make_axes_locatable(axes[0])\n",
    "cbar_ax = divider.append_axes('right', size='5%', pad=0.05)\n",
    "cbar_ax.set_axis_off()\n",
    "\n",
    "plt.tight_layout()"
   ]
  }
 ],
 "metadata": {
  "kernelspec": {
   "display_name": "Python 3",
   "language": "python",
   "name": "python3"
  },
  "language_info": {
   "codemirror_mode": {
    "name": "ipython",
    "version": 3
   },
   "file_extension": ".py",
   "mimetype": "text/x-python",
   "name": "python",
   "nbconvert_exporter": "python",
   "pygments_lexer": "ipython3",
   "version": "3.8.8"
  }
 },
 "nbformat": 4,
 "nbformat_minor": 4
}
